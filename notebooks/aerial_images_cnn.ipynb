{
 "cells": [
  {
   "cell_type": "code",
   "execution_count": 1,
   "metadata": {
    "collapsed": true
   },
   "outputs": [],
   "source": [
    "#package imports\n",
    "from IPython.display import display\n",
    "import warnings\n",
    "warnings.filterwarnings(\"ignore\")\n",
    "import pandas as pd\n",
    "import numpy as np\n",
    "import sys\n",
    "pd.set_option('display.max_rows', 500)\n",
    "pd.set_option('display.max_columns', 500)\n",
    "pd.set_option('display.width', 1000)\n",
    "sys.path.append('../')\n",
    "from src.models import aerial_cnn\n",
    "sys.path.append('/notebook')\n",
    "from sklearn.model_selection import train_test_split\n",
    "import matplotlib.pyplot as plt\n",
    "% matplotlib inline\n",
    "from sklearn.preprocessing import MinMaxScaler\n",
    "from tensorflow import keras\n",
    "from tensorflow.keras.preprocessing.image import ImageDataGenerator\n",
    "from tensorflow.keras.models import load_model"
   ]
  },
  {
   "cell_type": "markdown",
   "metadata": {},
   "source": [
    "### Input Data Prep"
   ]
  },
  {
   "cell_type": "code",
   "execution_count": 2,
   "metadata": {
    "collapsed": true
   },
   "outputs": [],
   "source": [
    "sam1= pd.read_csv('../labels/training_labels_updated_111219.csv')\n",
    "sam2 = pd.read_csv('../labels/additional_training_labels_120319.csv')\n",
    "sample=pd.concat([sam1, sam2], axis = 0)\n",
    "assert sample.shape[0] == sam1.shape[0] + sam2.shape[0]\n",
    "\n",
    "# option to include additional labels - trained with these on a GPU\n",
    "# sample3 = pd.read_csv('../labels/new6000_training_labels_aerial.csv', index_col='Unnamed: 0') "
   ]
  },
  {
   "cell_type": "code",
   "execution_count": 3,
   "metadata": {},
   "outputs": [
    {
     "data": {
      "text/html": [
       "<div>\n",
       "<style scoped>\n",
       "    .dataframe tbody tr th:only-of-type {\n",
       "        vertical-align: middle;\n",
       "    }\n",
       "\n",
       "    .dataframe tbody tr th {\n",
       "        vertical-align: top;\n",
       "    }\n",
       "\n",
       "    .dataframe thead th {\n",
       "        text-align: right;\n",
       "    }\n",
       "</style>\n",
       "<table border=\"1\" class=\"dataframe\">\n",
       "  <thead>\n",
       "    <tr style=\"text-align: right;\">\n",
       "      <th></th>\n",
       "      <th>ADDRESS_FOR_STREET_VIEW</th>\n",
       "      <th>ADDR_NUM</th>\n",
       "      <th>AERIAL_Driveway</th>\n",
       "      <th>FULL_STR</th>\n",
       "      <th>GSV_Driveway</th>\n",
       "      <th>MBL</th>\n",
       "      <th>aerial_addr</th>\n",
       "      <th>aerial_filename</th>\n",
       "      <th>final_label</th>\n",
       "      <th>gsv_filename</th>\n",
       "      <th>sv_addr</th>\n",
       "      <th>three_class_label</th>\n",
       "    </tr>\n",
       "  </thead>\n",
       "  <tbody>\n",
       "    <tr>\n",
       "      <th>0</th>\n",
       "      <td>5  DOUGLAS AVE, SOMERVILLE, MA</td>\n",
       "      <td>5</td>\n",
       "      <td>2.0</td>\n",
       "      <td>DOUGLAS AVE</td>\n",
       "      <td>0.0</td>\n",
       "      <td>47-G-17</td>\n",
       "      <td>NaN</td>\n",
       "      <td>5_DOUGLAS_AVE_aerial.png</td>\n",
       "      <td>0.1</td>\n",
       "      <td>5_DOUGLAS_AVE.jpg</td>\n",
       "      <td>NaN</td>\n",
       "      <td>NaN</td>\n",
       "    </tr>\n",
       "    <tr>\n",
       "      <th>1</th>\n",
       "      <td>6  HILLSIDE CIR, SOMERVILLE, MA</td>\n",
       "      <td>6</td>\n",
       "      <td>1.0</td>\n",
       "      <td>HILLSIDE CIR</td>\n",
       "      <td>2.0</td>\n",
       "      <td>38-A-47</td>\n",
       "      <td>NaN</td>\n",
       "      <td>6_HILLSIDE_CIR_aerial.png</td>\n",
       "      <td>0.9</td>\n",
       "      <td>6_HILLSIDE_CIR.jpg</td>\n",
       "      <td>NaN</td>\n",
       "      <td>NaN</td>\n",
       "    </tr>\n",
       "    <tr>\n",
       "      <th>2</th>\n",
       "      <td>8  BELMONT PL, SOMERVILLE, MA</td>\n",
       "      <td>8</td>\n",
       "      <td>2.0</td>\n",
       "      <td>BELMONT PL</td>\n",
       "      <td>2.0</td>\n",
       "      <td>44-A-48</td>\n",
       "      <td>NaN</td>\n",
       "      <td>8_BELMONT_PL_aerial.png</td>\n",
       "      <td>0.5</td>\n",
       "      <td>8_BELMONT_PL.jpg</td>\n",
       "      <td>NaN</td>\n",
       "      <td>NaN</td>\n",
       "    </tr>\n",
       "    <tr>\n",
       "      <th>3</th>\n",
       "      <td>8  DRESDEN CIR, SOMERVILLE, MA</td>\n",
       "      <td>8</td>\n",
       "      <td>2.0</td>\n",
       "      <td>DRESDEN CIR</td>\n",
       "      <td>2.0</td>\n",
       "      <td>25-A-13</td>\n",
       "      <td>NaN</td>\n",
       "      <td>8_DRESDEN_CIR_aerial.png</td>\n",
       "      <td>0.5</td>\n",
       "      <td>8_DRESDEN_CIR.jpg</td>\n",
       "      <td>NaN</td>\n",
       "      <td>NaN</td>\n",
       "    </tr>\n",
       "    <tr>\n",
       "      <th>4</th>\n",
       "      <td>8  HAWTHORNE ST, SOMERVILLE, MA</td>\n",
       "      <td>8</td>\n",
       "      <td>0.0</td>\n",
       "      <td>HAWTHORNE ST</td>\n",
       "      <td>2.0</td>\n",
       "      <td>25-D-16</td>\n",
       "      <td>NaN</td>\n",
       "      <td>8_HAWTHORNE_ST_aerial.png</td>\n",
       "      <td>0.1</td>\n",
       "      <td>8_HAWTHORNE_ST.jpg</td>\n",
       "      <td>NaN</td>\n",
       "      <td>NaN</td>\n",
       "    </tr>\n",
       "  </tbody>\n",
       "</table>\n",
       "</div>"
      ],
      "text/plain": [
       "           ADDRESS_FOR_STREET_VIEW ADDR_NUM  AERIAL_Driveway      FULL_STR  GSV_Driveway      MBL aerial_addr            aerial_filename  final_label        gsv_filename sv_addr  three_class_label\n",
       "0   5  DOUGLAS AVE, SOMERVILLE, MA        5              2.0   DOUGLAS AVE           0.0  47-G-17         NaN   5_DOUGLAS_AVE_aerial.png          0.1   5_DOUGLAS_AVE.jpg     NaN                NaN\n",
       "1  6  HILLSIDE CIR, SOMERVILLE, MA        6              1.0  HILLSIDE CIR           2.0  38-A-47         NaN  6_HILLSIDE_CIR_aerial.png          0.9  6_HILLSIDE_CIR.jpg     NaN                NaN\n",
       "2    8  BELMONT PL, SOMERVILLE, MA        8              2.0    BELMONT PL           2.0  44-A-48         NaN    8_BELMONT_PL_aerial.png          0.5    8_BELMONT_PL.jpg     NaN                NaN\n",
       "3   8  DRESDEN CIR, SOMERVILLE, MA        8              2.0   DRESDEN CIR           2.0  25-A-13         NaN   8_DRESDEN_CIR_aerial.png          0.5   8_DRESDEN_CIR.jpg     NaN                NaN\n",
       "4  8  HAWTHORNE ST, SOMERVILLE, MA        8              0.0  HAWTHORNE ST           2.0  25-D-16         NaN  8_HAWTHORNE_ST_aerial.png          0.1  8_HAWTHORNE_ST.jpg     NaN                NaN"
      ]
     },
     "execution_count": 3,
     "metadata": {},
     "output_type": "execute_result"
    }
   ],
   "source": [
    "# take a look at the top\n",
    "sample.head()"
   ]
  },
  {
   "cell_type": "code",
   "execution_count": 4,
   "metadata": {
    "collapsed": true
   },
   "outputs": [],
   "source": [
    "# This is the aerial model - train on aerial driveway labels\n",
    "sample['AERIAL_Driveway'] = sample['AERIAL_Driveway'].astype('int').astype('str')"
   ]
  },
  {
   "cell_type": "code",
   "execution_count": 5,
   "metadata": {
    "collapsed": true
   },
   "outputs": [],
   "source": [
    "sample.loc[sample['AERIAL_Driveway'] == '2', 'AERIAL_Driveway'] = '0'"
   ]
  },
  {
   "cell_type": "code",
   "execution_count": 6,
   "metadata": {
    "collapsed": true
   },
   "outputs": [],
   "source": [
    "# now split into train and validation (calling it test here)\n",
    "train_data, test_data = train_test_split(sample, test_size = 0.2, random_state = 100)\n",
    "y_column = 'AERIAL_Driveway'"
   ]
  },
  {
   "cell_type": "markdown",
   "metadata": {},
   "source": [
    "For aerial driveways, we have three labelled classes (0: no driveway; 1: driveway; 2: unsure)  \n",
    "We tried two variants of models:\n",
    "1. Learn these three classes\n",
    "2. Set 0 and 2 to be the same class - we want to be able to predict the driveways accurately\n",
    "\n",
    "This notebook shows option 2."
   ]
  },
  {
   "cell_type": "markdown",
   "metadata": {},
   "source": [
    "### Minority class oversampling"
   ]
  },
  {
   "cell_type": "code",
   "execution_count": 7,
   "metadata": {},
   "outputs": [
    {
     "data": {
      "text/html": [
       "<div>\n",
       "<style scoped>\n",
       "    .dataframe tbody tr th:only-of-type {\n",
       "        vertical-align: middle;\n",
       "    }\n",
       "\n",
       "    .dataframe tbody tr th {\n",
       "        vertical-align: top;\n",
       "    }\n",
       "\n",
       "    .dataframe thead th {\n",
       "        text-align: right;\n",
       "    }\n",
       "</style>\n",
       "<table border=\"1\" class=\"dataframe\">\n",
       "  <thead>\n",
       "    <tr style=\"text-align: right;\">\n",
       "      <th></th>\n",
       "      <th>MBL</th>\n",
       "    </tr>\n",
       "    <tr>\n",
       "      <th>AERIAL_Driveway</th>\n",
       "      <th></th>\n",
       "    </tr>\n",
       "  </thead>\n",
       "  <tbody>\n",
       "    <tr>\n",
       "      <th>0</th>\n",
       "      <td>216</td>\n",
       "    </tr>\n",
       "    <tr>\n",
       "      <th>1</th>\n",
       "      <td>304</td>\n",
       "    </tr>\n",
       "  </tbody>\n",
       "</table>\n",
       "</div>"
      ],
      "text/plain": [
       "                 MBL\n",
       "AERIAL_Driveway     \n",
       "0                216\n",
       "1                304"
      ]
     },
     "metadata": {},
     "output_type": "display_data"
    },
    {
     "data": {
      "text/html": [
       "<div>\n",
       "<style scoped>\n",
       "    .dataframe tbody tr th:only-of-type {\n",
       "        vertical-align: middle;\n",
       "    }\n",
       "\n",
       "    .dataframe tbody tr th {\n",
       "        vertical-align: top;\n",
       "    }\n",
       "\n",
       "    .dataframe thead th {\n",
       "        text-align: right;\n",
       "    }\n",
       "</style>\n",
       "<table border=\"1\" class=\"dataframe\">\n",
       "  <thead>\n",
       "    <tr style=\"text-align: right;\">\n",
       "      <th></th>\n",
       "      <th>MBL</th>\n",
       "    </tr>\n",
       "    <tr>\n",
       "      <th>AERIAL_Driveway</th>\n",
       "      <th></th>\n",
       "    </tr>\n",
       "  </thead>\n",
       "  <tbody>\n",
       "    <tr>\n",
       "      <th>0</th>\n",
       "      <td>50</td>\n",
       "    </tr>\n",
       "    <tr>\n",
       "      <th>1</th>\n",
       "      <td>80</td>\n",
       "    </tr>\n",
       "  </tbody>\n",
       "</table>\n",
       "</div>"
      ],
      "text/plain": [
       "                 MBL\n",
       "AERIAL_Driveway     \n",
       "0                 50\n",
       "1                 80"
      ]
     },
     "metadata": {},
     "output_type": "display_data"
    }
   ],
   "source": [
    "display(train_data.groupby(y_column).aggregate({'MBL':len}))\n",
    "display(test_data.groupby(y_column).aggregate({'MBL':len}))"
   ]
  },
  {
   "cell_type": "code",
   "execution_count": 8,
   "metadata": {
    "collapsed": true
   },
   "outputs": [],
   "source": [
    "# artificially oversample the minority class - TRAINING\n",
    "zero_class = train_data[train_data[y_column] == '0']\n",
    "one_class = train_data[train_data[y_column] == '1']\n",
    "\n",
    "train_data = one_class.append(zero_class)\n",
    "for i in range(one_class.shape[0]//zero_class.shape[0]-1):\n",
    "    train_data = train_data.append(zero_class)"
   ]
  },
  {
   "cell_type": "code",
   "execution_count": 9,
   "metadata": {
    "collapsed": true
   },
   "outputs": [],
   "source": [
    "# artificially oversample the minority class - TEST\n",
    "zero_class = test_data[test_data[y_column] == '0']\n",
    "one_class = test_data[test_data[y_column] == '1']\n",
    "\n",
    "test_data = one_class.append(zero_class)\n",
    "for i in range(one_class.shape[0]//zero_class.shape[0]-1):\n",
    "    test_data = test_data.append(zero_class)"
   ]
  },
  {
   "cell_type": "code",
   "execution_count": 10,
   "metadata": {
    "collapsed": true
   },
   "outputs": [],
   "source": [
    "# display(train_data.groupby(y_column).aggregate({'MBL':len}))\n",
    "# display(test_data.groupby(y_column).aggregate({'MBL':len}))"
   ]
  },
  {
   "cell_type": "markdown",
   "metadata": {},
   "source": [
    "### Modelling"
   ]
  },
  {
   "cell_type": "code",
   "execution_count": 11,
   "metadata": {
    "collapsed": true
   },
   "outputs": [],
   "source": [
    "# set input params\n",
    "aer_image_dim = (150, 150, 3)\n",
    "lr = 1e-4\n",
    "batch_size = 256\n",
    "val_batch_size = 256"
   ]
  },
  {
   "cell_type": "code",
   "execution_count": null,
   "metadata": {
    "collapsed": true
   },
   "outputs": [],
   "source": [
    "# define optimizer - adam \n",
    "optimizer = keras.optimizers.Adam(lr=lr)\n",
    "\n",
    "# define learning rate decay method - two options\n",
    "# lr_decay = tensorflow.keras.callbacks.LearningRateScheduler(schedule=lambda epoch: lr * (0.9 ** epoch)) \n",
    "lr_decay = keras.callbacks.ReduceLROnPlateau(monitor='val_loss', \n",
    "                                                        factor=0.05, \n",
    "                                                        patience=2, \n",
    "                                                        verbose=True, \n",
    "                                                        mode='auto',\n",
    "                                                        min_delta=0.0001, \n",
    "                                                        cooldown=1, \n",
    "                                                        min_lr=1e-6)\n",
    "\n",
    "early_stopping = keras.callbacks.EarlyStopping(monitor='val_loss', \n",
    "                                               min_delta=0.01,\n",
    "                                               patience=3, \n",
    "                                               verbose=True,\n",
    "                                               mode='auto', \n",
    "                                               baseline=None)\n",
    "\n",
    "# define loss - cat xentropy\n",
    "# loss = keras.losses.CategoricalCrossentropy(label_smoothing=0.2) #smoothed labels\n",
    "loss = keras.losses.BinaryCrossentropy(label_smoothing=0.2) #smoothed labels"
   ]
  },
  {
   "cell_type": "code",
   "execution_count": 16,
   "metadata": {},
   "outputs": [
    {
     "name": "stdout",
     "output_type": "stream",
     "text": [
      "number of layers in pretrained model:  176\n"
     ]
    }
   ],
   "source": [
    "# define pretrained model \n",
    "pretrained_model = keras.applications.ResNet50(include_top=False, input_shape=aer_image_dim, pooling = 'avg')\n",
    "print('number of layers in pretrained model: ', len(pretrained_model.layers))\n",
    "\n",
    "# I tried unfreezing none to some - more fine tuning required here but not sure it makes much of a diff atm\n",
    "for layer in pretrained_model.layers[:-60]:\n",
    "    layer.trainable = False"
   ]
  },
  {
   "cell_type": "code",
   "execution_count": 17,
   "metadata": {},
   "outputs": [
    {
     "name": "stdout",
     "output_type": "stream",
     "text": [
      "WARNING:tensorflow:From /home/ubuntu/anaconda3/envs/tensorflow_p36/lib/python3.6/site-packages/tensorflow/python/ops/init_ops.py:1251: calling VarianceScaling.__init__ (from tensorflow.python.ops.init_ops) with dtype is deprecated and will be removed in a future version.\n",
      "Instructions for updating:\n",
      "Call initializer instance with the dtype argument instead of passing it to the constructor\n",
      "WARNING:tensorflow:From /home/ubuntu/anaconda3/envs/tensorflow_p36/lib/python3.6/site-packages/tensorflow/python/ops/nn_impl.py:180: add_dispatch_support.<locals>.wrapper (from tensorflow.python.ops.array_ops) is deprecated and will be removed in a future version.\n",
      "Instructions for updating:\n",
      "Use tf.where in 2.0, which has the same broadcast rule as np.where\n",
      "Model: \"model\"\n",
      "_________________________________________________________________\n",
      "Layer (type)                 Output Shape              Param #   \n",
      "=================================================================\n",
      "satellite_image_input (Input [(None, 150, 150, 3)]     0         \n",
      "_________________________________________________________________\n",
      "resnet50 (Model)             (None, 2048)              23587712  \n",
      "_________________________________________________________________\n",
      "flatten (Flatten)            (None, 2048)              0         \n",
      "_________________________________________________________________\n",
      "dense (Dense)                (None, 100)               204900    \n",
      "_________________________________________________________________\n",
      "batch_normalization (BatchNo (None, 100)               400       \n",
      "_________________________________________________________________\n",
      "leaky_re_lu (LeakyReLU)      (None, 100)               0         \n",
      "_________________________________________________________________\n",
      "dropout (Dropout)            (None, 100)               0         \n",
      "_________________________________________________________________\n",
      "dense_1 (Dense)              (None, 50)                5050      \n",
      "_________________________________________________________________\n",
      "batch_normalization_1 (Batch (None, 50)                200       \n",
      "_________________________________________________________________\n",
      "leaky_re_lu_1 (LeakyReLU)    (None, 50)                0         \n",
      "_________________________________________________________________\n",
      "dropout_1 (Dropout)          (None, 50)                0         \n",
      "_________________________________________________________________\n",
      "dense_2 (Dense)              (None, 2)                 102       \n",
      "=================================================================\n",
      "Total params: 23,798,364\n",
      "Trainable params: 18,279,600\n",
      "Non-trainable params: 5,518,764\n",
      "_________________________________________________________________\n"
     ]
    }
   ],
   "source": [
    "# build model using function from models.py\n",
    "model = aerial_cnn(pretrained_model, \n",
    "                        image_dim = aer_image_dim, \n",
    "                        optimizer = optimizer,\n",
    "                        loss = loss,\n",
    "                        n_classes=3,\n",
    "                        activation = 'sigmoid',\n",
    "                        metrics=['accuracy'], \n",
    "                       )\n",
    "model.summary()"
   ]
  },
  {
   "cell_type": "markdown",
   "metadata": {},
   "source": [
    "### Generator"
   ]
  },
  {
   "cell_type": "code",
   "execution_count": 18,
   "metadata": {
    "collapsed": true
   },
   "outputs": [],
   "source": [
    "# parameters\n",
    "image_dir = '../data/aerial_all/'\n",
    "x_column = 'aerial_filename'\n",
    "color_mode = 'rgb'\n",
    "drop_channel = lambda x: x[:,:,0:3]"
   ]
  },
  {
   "cell_type": "code",
   "execution_count": 19,
   "metadata": {},
   "outputs": [
    {
     "name": "stdout",
     "output_type": "stream",
     "text": [
      "Found 7096 validated image filenames belonging to 2 classes.\n",
      "Found 1767 validated image filenames belonging to 2 classes.\n"
     ]
    }
   ],
   "source": [
    "gen_obj = ImageDataGenerator(preprocessing_function=drop_channel,\n",
    "                                    rescale=1.0/255.0,\n",
    "                                    horizontal_flip = True, vertical_flip = True, \n",
    "                                    width_shift_range = 0.1, height_shift_range = 0.1, \n",
    "                                    zoom_range = 0.1, rotation_range = 50)\n",
    "\n",
    "## train\n",
    "train_generator = gen_obj.flow_from_dataframe(train_data, \n",
    "                                            directory = image_dir, \n",
    "                                            x_col= x_column, \n",
    "                                            y_col= y_column, \n",
    "                                            target_size=(aer_image_dim[0], aer_image_dim[1]), \n",
    "                                            color_mode=color_mode, \n",
    "                                            class_mode='categorical',\n",
    "                                            batch_size=batch_size, \n",
    "                                            shuffle=True,\n",
    "                                            seed=10)\n",
    "\n",
    "## test (i.e. validation)\n",
    "test_gen_obj = ImageDataGenerator(rescale=1.0/255.0)\n",
    "test_generator = test_gen_obj.flow_from_dataframe(test_data, \n",
    "                                            directory = image_dir, \n",
    "                                            x_col= x_column, \n",
    "                                            y_col= y_column, \n",
    "                                            target_size=(aer_image_dim[0], aer_image_dim[1]), \n",
    "                                            color_mode=color_mode, \n",
    "                                            class_mode='categorical',\n",
    "                                            batch_size=val_batch_size, \n",
    "                                            shuffle=True,\n",
    "                                            seed=10)"
   ]
  },
  {
   "cell_type": "code",
   "execution_count": 21,
   "metadata": {},
   "outputs": [
    {
     "data": {
      "text/plain": [
       "<matplotlib.image.AxesImage at 0x7f95f86b63c8>"
      ]
     },
     "execution_count": 21,
     "metadata": {},
     "output_type": "execute_result"
    },
    {
     "data": {
      "image/png": "[encoded data removed]",
      "text/plain": [
       "<Figure size 720x720 with 1 Axes>"
      ]
     },
     "metadata": {},
     "output_type": "display_data"
    }
   ],
   "source": [
    "## check that the generator works\n",
    "# store = next(train_generator)\n",
    "# plt.figure(figsize = (10,10));plt.imshow(store[0][10])"
   ]
  },
  {
   "cell_type": "markdown",
   "metadata": {},
   "source": [
    "### Training"
   ]
  },
  {
   "cell_type": "code",
   "execution_count": 22,
   "metadata": {
    "scrolled": true
   },
   "outputs": [
    {
     "name": "stdout",
     "output_type": "stream",
     "text": [
      "Epoch 1/35\n",
      "27/27 [==============================] - 367s 14s/step - loss: 3.2327 - acc: 0.6167 - val_loss: 3.2656 - val_acc: 0.5000\n",
      "Epoch 2/35\n",
      "27/27 [==============================] - 351s 13s/step - loss: 3.0051 - acc: 0.7060 - val_loss: 3.0794 - val_acc: 0.5000\n",
      "Epoch 3/35\n",
      "27/27 [==============================] - 339s 13s/step - loss: 2.8177 - acc: 0.7572 - val_loss: 2.9145 - val_acc: 0.4980\n",
      "Epoch 4/35\n",
      "27/27 [==============================] - 340s 13s/step - loss: 2.6445 - acc: 0.7906 - val_loss: 2.7608 - val_acc: 0.4967\n",
      "Epoch 5/35\n",
      "27/27 [==============================] - 320s 12s/step - loss: 2.4741 - acc: 0.8296 - val_loss: 2.6257 - val_acc: 0.4912\n",
      "Epoch 6/35\n",
      "27/27 [==============================] - 312s 12s/step - loss: 2.3151 - acc: 0.8645 - val_loss: 2.4985 - val_acc: 0.4821\n",
      "Epoch 7/35\n",
      "27/27 [==============================] - 298s 11s/step - loss: 2.1621 - acc: 0.8943 - val_loss: 2.3897 - val_acc: 0.4909\n",
      "Epoch 8/35\n",
      "27/27 [==============================] - 303s 11s/step - loss: 2.0240 - acc: 0.9135 - val_loss: 2.3100 - val_acc: 0.4909\n",
      "Epoch 9/35\n",
      "27/27 [==============================] - 302s 11s/step - loss: 1.9018 - acc: 0.9215 - val_loss: 2.1977 - val_acc: 0.4909\n",
      "Epoch 10/35\n",
      "27/27 [==============================] - 300s 11s/step - loss: 1.7813 - acc: 0.9418 - val_loss: 2.1067 - val_acc: 0.4909\n",
      "Epoch 11/35\n",
      "27/27 [==============================] - 303s 11s/step - loss: 1.6708 - acc: 0.9526 - val_loss: 2.0156 - val_acc: 0.4909\n",
      "Epoch 12/35\n",
      "27/27 [==============================] - 302s 11s/step - loss: 1.5707 - acc: 0.9574 - val_loss: 1.9407 - val_acc: 0.4909\n",
      "Epoch 13/35\n",
      "27/27 [==============================] - 298s 11s/step - loss: 1.4795 - acc: 0.9630 - val_loss: 1.8737 - val_acc: 0.4909\n",
      "Epoch 14/35\n",
      "27/27 [==============================] - 301s 11s/step - loss: 1.3914 - acc: 0.9701 - val_loss: 1.7905 - val_acc: 0.4909\n",
      "Epoch 15/35\n",
      "27/27 [==============================] - 303s 11s/step - loss: 1.3116 - acc: 0.9748 - val_loss: 1.7346 - val_acc: 0.4909\n",
      "Epoch 16/35\n",
      "27/27 [==============================] - 302s 11s/step - loss: 1.2415 - acc: 0.9754 - val_loss: 1.6523 - val_acc: 0.4909\n",
      "Epoch 17/35\n",
      "27/27 [==============================] - 300s 11s/step - loss: 1.1723 - acc: 0.9797 - val_loss: 1.5747 - val_acc: 0.4909\n",
      "Epoch 18/35\n",
      "27/27 [==============================] - 299s 11s/step - loss: 1.1132 - acc: 0.9791 - val_loss: 1.5514 - val_acc: 0.4909\n",
      "Epoch 19/35\n",
      "27/27 [==============================] - 307s 11s/step - loss: 1.0537 - acc: 0.9847 - val_loss: 1.5335 - val_acc: 0.4909\n",
      "Epoch 20/35\n",
      "27/27 [==============================] - 305s 11s/step - loss: 1.0061 - acc: 0.9811 - val_loss: 1.5048 - val_acc: 0.4909\n",
      "Epoch 21/35\n",
      "27/27 [==============================] - 310s 11s/step - loss: 0.9523 - acc: 0.9878 - val_loss: 1.4510 - val_acc: 0.4909\n",
      "Epoch 22/35\n",
      "27/27 [==============================] - 312s 12s/step - loss: 0.9083 - acc: 0.9876 - val_loss: 1.4078 - val_acc: 0.4909\n",
      "Epoch 23/35\n",
      "27/27 [==============================] - 304s 11s/step - loss: 0.8662 - acc: 0.9898 - val_loss: 1.3528 - val_acc: 0.4909\n",
      "Epoch 24/35\n",
      "27/27 [==============================] - 310s 11s/step - loss: 0.8321 - acc: 0.9892 - val_loss: 1.3228 - val_acc: 0.4909\n",
      "Epoch 25/35\n",
      "27/27 [==============================] - 312s 12s/step - loss: 0.7975 - acc: 0.9912 - val_loss: 1.2887 - val_acc: 0.4909\n",
      "Epoch 26/35\n",
      "27/27 [==============================] - 314s 12s/step - loss: 0.7660 - acc: 0.9912 - val_loss: 1.2746 - val_acc: 0.4909\n",
      "Epoch 27/35\n",
      "27/27 [==============================] - 315s 12s/step - loss: 0.7360 - acc: 0.9921 - val_loss: 1.2288 - val_acc: 0.4909\n",
      "Epoch 28/35\n",
      "27/27 [==============================] - 314s 12s/step - loss: 0.7109 - acc: 0.9906 - val_loss: 1.1970 - val_acc: 0.4909\n",
      "Epoch 29/35\n",
      "27/27 [==============================] - 314s 12s/step - loss: 0.6879 - acc: 0.9898 - val_loss: 1.1779 - val_acc: 0.4909\n",
      "Epoch 30/35\n",
      "27/27 [==============================] - 362s 13s/step - loss: 0.6646 - acc: 0.9920 - val_loss: 1.1229 - val_acc: 0.4909\n",
      "Epoch 31/35\n",
      "27/27 [==============================] - 351s 13s/step - loss: 0.6432 - acc: 0.9928 - val_loss: 1.0717 - val_acc: 0.4909\n",
      "Epoch 32/35\n",
      "27/27 [==============================] - 340s 13s/step - loss: 0.6253 - acc: 0.9923 - val_loss: 1.0639 - val_acc: 0.4909\n",
      "Epoch 33/35\n",
      "27/27 [==============================] - 328s 12s/step - loss: 0.6086 - acc: 0.9917 - val_loss: 1.0858 - val_acc: 0.4909\n",
      "Epoch 34/35\n",
      "26/27 [===========================>..] - ETA: 9s - loss: 0.5925 - acc: 0.9917 \n",
      "Epoch 00034: ReduceLROnPlateau reducing learning rate to 4.999999873689376e-06.\n",
      "Restoring model weights from the end of the best epoch.\n",
      "27/27 [==============================] - 319s 12s/step - loss: 0.5923 - acc: 0.9919 - val_loss: 1.0684 - val_acc: 0.4909\n",
      "Epoch 00034: early stopping\n"
     ]
    }
   ],
   "source": [
    "# training parameters\n",
    "epochs = 35\n",
    "val_steps = test_data.shape[0]//val_batch_size\n",
    "\n",
    "# train model\n",
    "history = model.fit_generator(generator=train_generator, \n",
    "                              validation_data=test_generator, \n",
    "                              validation_steps=val_steps,\n",
    "                              epochs=epochs,\n",
    "                              steps_per_epoch=np.ceil(train_data.shape[0]//batch_size),\n",
    "                              verbose=1,\n",
    "                              callbacks=[lr_decay, early_stopping])"
   ]
  },
  {
   "cell_type": "code",
   "execution_count": 24,
   "metadata": {},
   "outputs": [
    {
     "name": "stdout",
     "output_type": "stream",
     "text": [
      "Epoch 1/10\n",
      "27/27 [==============================] - 367s 14s/step - loss: 0.6329 - acc: 0.9928 - val_loss: 1.0772 - val_acc: 0.4909\n",
      "Epoch 2/10\n",
      "27/27 [==============================] - 354s 13s/step - loss: 0.6305 - acc: 0.9937 - val_loss: 1.0752 - val_acc: 0.4909\n",
      "Epoch 3/10\n",
      "27/27 [==============================] - 341s 13s/step - loss: 0.6285 - acc: 0.9948 - val_loss: 1.0743 - val_acc: 0.4909\n",
      "Epoch 4/10\n",
      "27/27 [==============================] - 332s 12s/step - loss: 0.6279 - acc: 0.9948 - val_loss: 1.0694 - val_acc: 0.4909\n",
      "Epoch 5/10\n",
      "27/27 [==============================] - 319s 12s/step - loss: 0.6259 - acc: 0.9953 - val_loss: 1.0671 - val_acc: 0.4909\n",
      "Epoch 6/10\n",
      "27/27 [==============================] - 308s 11s/step - loss: 0.6251 - acc: 0.9951 - val_loss: 1.0665 - val_acc: 0.4909\n",
      "Epoch 7/10\n",
      "27/27 [==============================] - 309s 11s/step - loss: 0.6229 - acc: 0.9957 - val_loss: 1.0674 - val_acc: 0.4909\n",
      "Epoch 8/10\n",
      "27/27 [==============================] - 299s 11s/step - loss: 0.6231 - acc: 0.9942 - val_loss: 1.0613 - val_acc: 0.4909\n",
      "Epoch 9/10\n",
      "27/27 [==============================] - 305s 11s/step - loss: 0.6192 - acc: 0.9973 - val_loss: 1.0630 - val_acc: 0.4909\n",
      "Epoch 10/10\n",
      "27/27 [==============================] - 300s 11s/step - loss: 0.6206 - acc: 0.9953 - val_loss: 1.0621 - val_acc: 0.4909\n"
     ]
    }
   ],
   "source": [
    "history1 = model.fit_generator(generator=train_generator, \n",
    "                              validation_data=test_generator, \n",
    "                              validation_steps=val_steps,\n",
    "                              epochs=10,\n",
    "                              steps_per_epoch=np.ceil(train_data.shape[0]//batch_size),\n",
    "                              verbose=1,\n",
    "#                               callbacks=[lr_decay, early_stopping]\n",
    "                             )"
   ]
  },
  {
   "cell_type": "code",
   "execution_count": 31,
   "metadata": {
    "collapsed": true
   },
   "outputs": [],
   "source": [
    "hist = {}\n",
    "for key in list(history.history.keys())[:-1]:\n",
    "    hist[key] = history.history[key] + history1.history[key] "
   ]
  },
  {
   "cell_type": "code",
   "execution_count": 33,
   "metadata": {
    "scrolled": false
   },
   "outputs": [
    {
     "data": {
      "image/png": "[encoded data removed]",
      "text/plain": [
       "<Figure size 1440x432 with 2 Axes>"
      ]
     },
     "metadata": {},
     "output_type": "display_data"
    }
   ],
   "source": [
    "plt.figure(figsize = (20,6))\n",
    "plt.subplot(1,2,1)\n",
    "plt.plot(hist['acc'], label = 'acc')\n",
    "plt.plot(hist['val_acc'], label = 'val acc')\n",
    "plt.title('Accuracy by epoch', fontsize = 20)\n",
    "plt.xticks(np.arange(0,len(hist['acc'])), rotation = 90);plt.xlabel('epoch')\n",
    "plt.legend();\n",
    "\n",
    "plt.subplot(1,2,2)\n",
    "plt.plot(hist['loss'], label = 'Training Loss')\n",
    "plt.plot(hist['val_loss'], label = 'Val Loss')\n",
    "plt.title('Loss by epoch', fontsize = 20)\n",
    "plt.xticks(np.arange(0,len(hist['acc'])), rotation = 90); plt.xlabel('epoch')\n",
    "plt.legend();"
   ]
  },
  {
   "cell_type": "markdown",
   "metadata": {},
   "source": [
    "### Make Predictions"
   ]
  },
  {
   "cell_type": "code",
   "execution_count": 37,
   "metadata": {},
   "outputs": [
    {
     "name": "stdout",
     "output_type": "stream",
     "text": [
      "Found 3906 validated image filenames belonging to 2 classes.\n"
     ]
    },
    {
     "name": "stderr",
     "output_type": "stream",
     "text": [
      "/home/ubuntu/anaconda3/envs/tensorflow_p36/lib/python3.6/site-packages/ipykernel/__main__.py:17: SettingWithCopyWarning: \n",
      "A value is trying to be set on a copy of a slice from a DataFrame.\n",
      "Try using .loc[row_indexer,col_indexer] = value instead\n",
      "\n",
      "See the caveats in the documentation: http://pandas.pydata.org/pandas-docs/stable/indexing.html#indexing-view-versus-copy\n"
     ]
    },
    {
     "data": {
      "text/plain": [
       "0.0742447516641065"
      ]
     },
     "execution_count": 37,
     "metadata": {},
     "output_type": "execute_result"
    }
   ],
   "source": [
    "## TRAIN ACCURACY\n",
    "train_data, test_data = train_test_split(sample, test_size = 0.2, random_state = 100)\n",
    "\n",
    "gen_obj = ImageDataGenerator(rescale=1.0/255.0)\n",
    "train_generator = gen_obj.flow_from_dataframe(train_data, \n",
    "                                            directory = image_dir,  \n",
    "                                            x_col= x_column, \n",
    "                                            y_col= y_column, \n",
    "                                            target_size=(aer_image_dim[0], aer_image_dim[1]), \n",
    "                                            color_mode=color_mode, \n",
    "                                            class_mode='categorical',\n",
    "                                            batch_size=train_data.shape[0], \n",
    "                                            shuffle=False, \n",
    "                                            seed=1)\n",
    "\n",
    "train_preds = model.predict_generator(train_generator, steps = 1)\n",
    "train_data['predicted_label'] = np.argmax(train_preds, axis = 1)\n",
    "sum(train_data[y_column].astype('int') == train_data.predicted_label.astype('int'))/len(train_data)"
   ]
  },
  {
   "cell_type": "code",
   "execution_count": 39,
   "metadata": {},
   "outputs": [
    {
     "data": {
      "text/plain": [
       "0.08085977482088025"
      ]
     },
     "execution_count": 39,
     "metadata": {},
     "output_type": "execute_result"
    }
   ],
   "source": [
    "## TEST ACCURACY\n",
    "test_gen_obj = ImageDataGenerator(rescale=1.0/255.0)\n",
    "test_generator = test_gen_obj.flow_from_dataframe(test_data, \n",
    "                                            directory = image_dir, \n",
    "                                            x_col= x_column, \n",
    "                                            y_col= y_column, \n",
    "                                            target_size=(aer_image_dim[0], aer_image_dim[1]), \n",
    "                                            color_mode=color_mode, \n",
    "                                            class_mode='categorical',\n",
    "                                            batch_size=test_data.shape[0], \n",
    "                                            shuffle=False,\n",
    "                                            seed=10)\n",
    "\n",
    "test_preds = model.predict_generator(test_generator, steps = 1)\n",
    "test_data['predicted_label'] = np.argmax(test_preds, axis = 1)\n",
    "sum(test_data[y_column].astype('int') == test_data.predicted_label.astype('int'))/len(test_data)"
   ]
  },
  {
   "cell_type": "markdown",
   "metadata": {},
   "source": [
    "### Visualization of results \n",
    "Clearly, the model is not able to distinguish between the two classes. Also, predicted probabilities, while not at 0.5, are not super confident (centered around 0.3 and 0.7)"
   ]
  },
  {
   "cell_type": "code",
   "execution_count": 40,
   "metadata": {},
   "outputs": [
    {
     "data": {
      "image/png": "[encoded data removed]",
      "text/plain": [
       "<Figure size 1440x432 with 2 Axes>"
      ]
     },
     "metadata": {},
     "output_type": "display_data"
    }
   ],
   "source": [
    "# binary prediction\n",
    "if len(train_preds.shape) == 1:\n",
    "    fig, ax = plt.subplots(1, 1, figsize=(20,10))\n",
    "\n",
    "    ax.hist(train_preds, color='darkblue', alpha=0.5, label='train scores')\n",
    "    ax.hist(test_preds, color='darkred', alpha=0.5, label='test scores')\n",
    "    ax.legend()\n",
    "    ax.set_xlabel('Score')\n",
    "    ax.set_title('Distribution of model scores');\n",
    "    \n",
    "elif len(train_preds.shape) > 1:\n",
    "    label_map = {0: 'Predicted no driveway', 1: 'Predicted yes driveway', 2: 'Predicted unsure'}\n",
    "    fig, ax = plt.subplots(1, train_preds.shape[1], sharex=True, figsize=(20,6))\n",
    "    \n",
    "    for i in range(train_preds.shape[1]):\n",
    "        ax[i].hist(train_preds[:,i], color='darkblue', alpha=0.5, label='train scores')\n",
    "        ax[i].hist(test_preds[:,i], color='darkred', alpha=0.5, label='test scores')\n",
    "        ax[i].legend()\n",
    "        ax[i].set_xlabel('Score')\n",
    "        ax[i].set_title(label_map[i])\n",
    "    fig.suptitle('Distribution of model scores');"
   ]
  },
  {
   "cell_type": "code",
   "execution_count": 43,
   "metadata": {},
   "outputs": [
    {
     "data": {
      "image/png": "[encoded data removed]",
      "text/plain": [
       "<Figure size 1440x432 with 2 Axes>"
      ]
     },
     "metadata": {},
     "output_type": "display_data"
    }
   ],
   "source": [
    "fig, ax = plt.subplots(1, 2, sharex=True, figsize=(20,6))\n",
    "for i in range(train_preds.shape[1]):\n",
    "#     print(i)\n",
    "    for lab in ['0','1']:\n",
    "        ax[i].hist(train_preds[train_data[y_column]==lab,i], alpha=0.3, density=True, label=lab)\n",
    "    ax[i].legend(title='True label');\n",
    "    ax[i].set_title('Predicted label ' + str(i))"
   ]
  },
  {
   "cell_type": "markdown",
   "metadata": {},
   "source": [
    "### Save Models"
   ]
  },
  {
   "cell_type": "code",
   "execution_count": 34,
   "metadata": {
    "collapsed": true
   },
   "outputs": [],
   "source": [
    "model.save('../models/aerial_transfer_model_redfin.h5')"
   ]
  },
  {
   "cell_type": "code",
   "execution_count": 35,
   "metadata": {
    "collapsed": true
   },
   "outputs": [],
   "source": [
    "model.save_weights('../models/aerial_transfer_model_redfin_weights.h5')"
   ]
  },
  {
   "cell_type": "markdown",
   "metadata": {},
   "source": [
    "### Load Models"
   ]
  },
  {
   "cell_type": "code",
   "execution_count": 11,
   "metadata": {
    "collapsed": true
   },
   "outputs": [],
   "source": [
    "# from tensorflow.keras.models import load_model\n",
    "# from tensorflow.keras import backend as K\n",
    "\n",
    "# def sensitivity(y_true, y_pred):\n",
    "#         true_positives = K.sum(K.round(K.clip(y_true * y_pred, 0, 1)))\n",
    "#         possible_positives = K.sum(K.round(K.clip(y_true, 0, 1)))\n",
    "#         return true_positives / (possible_positives + K.epsilon())\n",
    "\n",
    "# def specificity(y_true, y_pred):\n",
    "#         true_negatives = K.sum(K.round(K.clip((1-y_true) * (1-y_pred), 0, 1)))\n",
    "#         possible_negatives = K.sum(K.round(K.clip(1-y_true, 0, 1)))\n",
    "#         return true_negatives / (possible_negatives + K.epsilon())\n",
    "    \n",
    "# loaded_model = load_model('../models/aerial_transfer_model.h5')"
   ]
  }
 ],
 "metadata": {
  "kernelspec": {
   "display_name": "Python 3",
   "language": "python",
   "name": "python3"
  },
  "language_info": {
   "codemirror_mode": {
    "name": "ipython",
    "version": 3
   },
   "file_extension": ".py",
   "mimetype": "text/x-python",
   "name": "python",
   "nbconvert_exporter": "python",
   "pygments_lexer": "ipython3",
   "version": "3.6.1"
  }
 },
 "nbformat": 4,
 "nbformat_minor": 2
}
