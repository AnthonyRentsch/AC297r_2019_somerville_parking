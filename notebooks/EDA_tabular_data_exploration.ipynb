{
 "cells": [
  {
   "cell_type": "markdown",
   "metadata": {},
   "source": [
    "### Tabular data exploration\n",
    "\n",
    "- [Parking permits](https://data.somervillema.gov/City-Services/City-of-Somerville-Parking-Permits/xavb-4s9w) between January 1, 2017 and December 31, 2018 \n",
    "- Registered vehicles - confidential file from Cortni"
   ]
  },
  {
   "cell_type": "code",
   "execution_count": null,
   "metadata": {},
   "outputs": [],
   "source": [
    "# import libraries\n",
    "import pandas as pd\n",
    "pd.set_option('display.max_rows', 500)\n",
    "pd.set_option('display.max_columns', 500)\n",
    "pd.set_option('display.width', 1000)\n",
    "import geopandas\n",
    "import warnings\n",
    "warnings.filterwarnings(\"ignore\")"
   ]
  },
  {
   "cell_type": "markdown",
   "metadata": {},
   "source": [
    "#### 1. Parking Permits"
   ]
  },
  {
   "cell_type": "markdown",
   "metadata": {},
   "source": [
    "Original file cleanup ->"
   ]
  },
  {
   "cell_type": "code",
   "execution_count": null,
   "metadata": {},
   "outputs": [],
   "source": [
    "# read in full dataset for parking permits \n",
    "parking_permits = pd.read_csv('../data/City_of_Somerville_Parking_Permits.csv')"
   ]
  },
  {
   "cell_type": "code",
   "execution_count": null,
   "metadata": {
    "scrolled": true
   },
   "outputs": [],
   "source": [
    "parking_permits.head()"
   ]
  },
  {
   "cell_type": "code",
   "execution_count": null,
   "metadata": {},
   "outputs": [],
   "source": [
    "# strip extra white space\n",
    "parking_permits['type_name'] = parking_permits.type_name.str.strip()\n",
    "parking_permits['st_addr'] = parking_permits.st_addr.str.strip()\n",
    "parking_permits['st_addr']= parking_permits['st_addr'].apply(lambda mystring: ' '.join(mystring.split()))\n",
    "\n",
    "# convert issued date to datetime\n",
    "parking_permits['issued'] = pd.to_datetime(parking_permits['issued'])"
   ]
  },
  {
   "cell_type": "markdown",
   "metadata": {},
   "source": [
    "Looking at unique types of parking permits - we only care about residential permits - so:\n",
    "\n",
    "- 'Residential'\n",
    "- 'Resident - No charge replacement' -- these are replacement permits for those that have been lost, so let's ignore this\n",
    "- 'New Mass Resident' -- this is a temp permit and valid only for 1 month, so let's get rid of it "
   ]
  },
  {
   "cell_type": "code",
   "execution_count": null,
   "metadata": {},
   "outputs": [],
   "source": [
    "# parking_permits.type_name.unique()"
   ]
  },
  {
   "cell_type": "code",
   "execution_count": null,
   "metadata": {},
   "outputs": [],
   "source": [
    "print('Size of parking permit data \\t\\t\\t {}\\nSize of RESIDENTIAL parking permit data \\t {}'.format(\n",
    "    parking_permits.shape, \n",
    "    parking_permits[parking_permits.type_name.isin(\n",
    "        ['Residential']\n",
    "    )].shape))"
   ]
  },
  {
   "cell_type": "markdown",
   "metadata": {},
   "source": [
    "We only care about permits issued in 2018 - so filtering here:\n"
   ]
  },
  {
   "cell_type": "code",
   "execution_count": null,
   "metadata": {},
   "outputs": [],
   "source": [
    "# parking_permits.issued year is 2018\n",
    "parking_permits = parking_permits[parking_permits['issued'].dt.year == 2018]"
   ]
  },
  {
   "cell_type": "markdown",
   "metadata": {},
   "source": [
    "Now make df for Residential permits only ->"
   ]
  },
  {
   "cell_type": "code",
   "execution_count": null,
   "metadata": {},
   "outputs": [],
   "source": [
    "# subset data to only residential parking permits\n",
    "residential_permits = parking_permits[parking_permits.type_name.isin(\n",
    "    ['Residential', ])]"
   ]
  },
  {
   "cell_type": "code",
   "execution_count": null,
   "metadata": {},
   "outputs": [],
   "source": [
    "residential_permits.head()"
   ]
  },
  {
   "cell_type": "markdown",
   "metadata": {},
   "source": [
    "Now aggregate by st address ->"
   ]
  },
  {
   "cell_type": "code",
   "execution_count": null,
   "metadata": {},
   "outputs": [],
   "source": [
    "res_permits_by_st_addr = residential_permits.groupby('st_addr').aggregate({'issued':len}).reset_index()\n",
    "res_permits_by_st_addr.columns=['st_addr', 'residential_permits_issued']\n",
    "print('number of unique street addresses: {}'.format(res_permits_by_st_addr.shape[0]))"
   ]
  },
  {
   "cell_type": "code",
   "execution_count": null,
   "metadata": {},
   "outputs": [],
   "source": [
    "res_permits_by_st_addr.head(10)"
   ]
  },
  {
   "cell_type": "markdown",
   "metadata": {},
   "source": [
    "**Noisy label option 1**  \n",
    "Number of residential permits issued by street address.\n",
    "\n",
    "Issues:\n",
    "- clear inconsistency, such as for 1 Aldersey St, which has 3 garage doors from [google street view](https://www.google.com/maps/place/1+Aldersey+St,+Somerville,+MA+02143/@42.382985,-71.0960374,3a,75y,21.92h,88.7t/data=!3m6!1e1!3m4!1suVgqBBiLUdBI5VRy9pYyYA!2e0!7i16384!8i8192!4m5!3m4!1s0x89e370cca2b22e2d:0x5dbed58b8d9c69f9!8m2!3d42.3830618!4d-71.0958082)\n",
    "- Data only available for 12617 addresses - need to cross check this\n",
    "\n",
    "> Can we get info on number of units or whether the house is designated as single or multi-family from Somerville?"
   ]
  },
  {
   "cell_type": "markdown",
   "metadata": {},
   "source": [
    "#### 2. Registered vehicles\n",
    "From Cortni: \n",
    "\n",
    "> The spreadsheet contains one row per garaged vehicle in the City. Each unique license plate has an anonymized ID (e.g. COS_1). With vehicle registrations, you'll want to make sure you don't double count cars that share a license plate (e.g. Tom had car A for first half of the year, then traded it in for Car B and moved license plate to the new vehicle). In other words, organize data by # of unique license plates per property. Also, keep in mind the caveat we discussed that the addresses on this list are billing addresses, not the garaging address. So you will see some non-Somerville addresses or a car dealership that leases vehicles (excise is billed to dealer who charges lessee). There is also a PDF attached with a key for plate types. "
   ]
  },
  {
   "cell_type": "code",
   "execution_count": null,
   "metadata": {},
   "outputs": [],
   "source": [
    "registered_vehicles = pd.read_excel('../data/COPY_Registered_Vehicles_16_17.xlsx', sheet_name='raw')\n",
    "print('full dataset size: ',registered_vehicles.shape)\n",
    "# remove 2016 registrations - car registrations are valid for two years in MA\n",
    "registered_vehicles = registered_vehicles[registered_vehicles.Year == 2017]\n",
    "print('2017 dataset size: ',registered_vehicles.shape)"
   ]
  },
  {
   "cell_type": "code",
   "execution_count": null,
   "metadata": {},
   "outputs": [],
   "source": [
    "# strip extra white space\n",
    "registered_vehicles['Plate.Type'] = registered_vehicles['Plate.Type'].str.strip()\n",
    "registered_vehicles['Address'] = registered_vehicles['Address'].str.strip()\n",
    "registered_vehicles['Address']= registered_vehicles['Address'].apply(lambda mystring: ' '.join(mystring.split()))"
   ]
  },
  {
   "cell_type": "code",
   "execution_count": null,
   "metadata": {},
   "outputs": [],
   "source": [
    "# restrict to plate type categories\n",
    "categories = ['PAN', 'PAR', 'PAS', 'PAV', 'PAY']\n",
    "registered_vehicles = registered_vehicles[registered_vehicles['Plate.Type'].isin(categories)]\n",
    "print('dataset size after restricting to passenger and student vehicles: ', registered_vehicles.shape)\n",
    "# remove PO box registrations - can't match that up to an address\n",
    "registered_vehicles = registered_vehicles[~registered_vehicles['Address'].str.contains(\"PO BOX\")]\n",
    "print('dataset size after removing PO boxes: ', registered_vehicles.shape)\n",
    "# replace address things like st, rd, ln, etc.\n",
    "registered_vehicles['Address'] = registered_vehicles['Address'].str.replace(' STREET',' ST')\n",
    "registered_vehicles['Address'] = registered_vehicles['Address'].str.replace(' ROAD',' RD')\n",
    "registered_vehicles['Address'] = registered_vehicles['Address'].str.replace(' LANE',' LN')\n",
    "registered_vehicles['Address'] = registered_vehicles['Address'].str.replace(' DRIVE',' DR')\n",
    "registered_vehicles['Address'] = registered_vehicles['Address'].str.replace(' AVE',' AV')\n",
    "registered_vehicles['Address'] = registered_vehicles['Address'].str.replace(' AVNUE',' AV')\n",
    "registered_vehicles['Address'] = registered_vehicles['Address'].str.replace(' BLVD',' BLV')"
   ]
  },
  {
   "cell_type": "code",
   "execution_count": null,
   "metadata": {},
   "outputs": [],
   "source": [
    "# ACCOUNT FOR DUPLICATE CARS: \n",
    "# group by address, city, unit, plate ID (in case of cars that share a license plate)\n",
    "count_of_duplicates = registered_vehicles.groupby(['Address', 'City', 'Unit', 'PlateID']).aggregate(\n",
    "    {'EV':len}).reset_index()\n",
    "count_of_duplicates.rename(columns={'EV':'duplicate_count'}, inplace=True)\n",
    "print('accounted for {} duplicates'.format(count_of_duplicates[count_of_duplicates.duplicate_count >1].shape[0]))"
   ]
  },
  {
   "cell_type": "code",
   "execution_count": null,
   "metadata": {},
   "outputs": [],
   "source": [
    "# now get registered vehicles by address\n",
    "registered_vehicles_by_addr = count_of_duplicates.groupby(\n",
    "    ['Address', 'City']).aggregate({'PlateID': len}).reset_index()\n",
    "registered_vehicles_by_addr.rename(columns={'PlateID':'num_registered_vehicles'}, inplace=True)\n",
    "print('There are {} unique addresses after preliminary data cleaning.\\\n",
    " (more cleaning to come)'.format(registered_vehicles_by_addr.shape[0]))"
   ]
  },
  {
   "cell_type": "markdown",
   "metadata": {},
   "source": [
    ">> need to clean this more if we decide "
   ]
  },
  {
   "cell_type": "code",
   "execution_count": null,
   "metadata": {},
   "outputs": [],
   "source": [
    "registered_vehicles_by_addr.City.unique()"
   ]
  },
  {
   "cell_type": "code",
   "execution_count": null,
   "metadata": {},
   "outputs": [],
   "source": [
    "cities_to_keep = ['SOMERVILLE     ', \n",
    "                  'E SOMERVILLE   ',\n",
    "                  'W SOMERVILLE   '\n",
    "                 ]\n",
    "registered_vehicles_by_addr[registered_vehicles_by_addr.City.isin(cities_to_keep)].head(10)\n"
   ]
  },
  {
   "cell_type": "markdown",
   "metadata": {},
   "source": [
    "Here are some addresses with a large number of registered vehicles. Most addresses in Somerville correspont to large apartment buildings, while some out of state ones correspond to insurance offices. Note that we have 29 cars with no address listed."
   ]
  },
  {
   "cell_type": "code",
   "execution_count": null,
   "metadata": {},
   "outputs": [],
   "source": [
    "# here are some interesting ones - where number of registered vehicles is quite large \n",
    "## most somerville ones are apartment buildings, but others include a car insurance offie\n",
    "registered_vehicles_by_addr[registered_vehicles_by_addr.num_registered_vehicles > 20].head()"
   ]
  },
  {
   "cell_type": "markdown",
   "metadata": {},
   "source": [
    "### 3. Parcel FY19 text data\n"
   ]
  },
  {
   "cell_type": "code",
   "execution_count": null,
   "metadata": {},
   "outputs": [],
   "source": [
    "parcel_data = pd.read_csv('../data/Parcels_FY19/VisionExtract_FY19.txt', error_bad_lines=False)"
   ]
  },
  {
   "cell_type": "code",
   "execution_count": null,
   "metadata": {},
   "outputs": [],
   "source": [
    "parcel_data.head()"
   ]
  },
  {
   "cell_type": "code",
   "execution_count": null,
   "metadata": {},
   "outputs": [],
   "source": [
    "selected_cols = ['ID',\n",
    "#  'PROP_ID',\n",
    "#  'BLDG_VAL',\n",
    "#  'LAND_VAL',\n",
    "#  'OTHER_VAL',\n",
    "#  'TOTAL_VAL',\n",
    "# #  'FY',\n",
    "#  'LOT_SIZE',\n",
    "#  'LS_DATE',\n",
    "#  'LS_PRICE',\n",
    "#  'USE_CODE',\n",
    " 'SITE_ADDR',\n",
    " 'ADDR_NUM',\n",
    " 'FULL_STR',\n",
    "#  'LOCATION',\n",
    " 'SITE_CITY',\n",
    " 'SITE_ZIP',\n",
    "#  'OWNER1',\n",
    "#  'OWNER2',\n",
    "#  'OWN_ADDR1',\n",
    "#  'OWN_ADDR2',\n",
    "#  'OWN_CITY',\n",
    "#  'OWN_STATE',\n",
    "#  'OWN_ZIP',\n",
    "#  'OWN_CO',\n",
    "#  'LS_BOOK',\n",
    "#  'LS_PAGE',\n",
    "#  'REG_ID',\n",
    "#  'ZONE',\n",
    " 'YEAR_BUILT',\n",
    " 'BLD_AREA',\n",
    " 'UNITS',\n",
    " 'RES_AREA',\n",
    " 'STYLE',\n",
    " 'STORIES',\n",
    " 'NUM_ROOMS',\n",
    " 'LOT_UNITS',\n",
    "#  'CAMA_ID',\n",
    "#  'LOC_ID',\n",
    "#  'MAP',\n",
    "#  'MAP_CUT',\n",
    "#  'BLOCK',\n",
    "#  'BLOCK_CUT',\n",
    "#  'LOT',\n",
    "#  'LOT_CUT',\n",
    "#  'UNIT',\n",
    "#  'UNIT_CUT',\n",
    "#  'MBL',\n",
    "#  'AV PID'\n",
    "                ]\n",
    "parcel_data[selected_cols].head(10)"
   ]
  },
  {
   "cell_type": "code",
   "execution_count": null,
   "metadata": {},
   "outputs": [],
   "source": [
    "# parcel_data[parcel_data.STYLE =='Outbuildings']\n"
   ]
  },
  {
   "cell_type": "code",
   "execution_count": null,
   "metadata": {},
   "outputs": [],
   "source": [
    "keep = [\n",
    "#     'Office/Apts',\n",
    " '2-Decker',\n",
    " '3-Decker',\n",
    " '3 fam Conv',\n",
    " 'Two Family',\n",
    "#  'Vacant Land',\n",
    " 'Mansard',\n",
    "#  'Store',\n",
    "#  'School/College',\n",
    " 'Two decker',\n",
    " 'Condominium',\n",
    " 'Conventional',\n",
    " 'Family Duplex',\n",
    " 'Mansard-Apts',\n",
    " '2 Fam Conv',\n",
    " 'Stores/Apt Com',\n",
    " 'Family Duplex-Apts',\n",
    "#  'Outbuildings',\n",
    " 'Mid rise',\n",
    " 'Two Family-Apts',\n",
    "#  'Restaurant',\n",
    "#  'Warehouse',\n",
    " 'Row Mid',\n",
    "#  'Office Bldg',\n",
    "#  'Service Shop',\n",
    "#  'Research/Devel',\n",
    " '3-Decker-Apts',\n",
    " 'Row End-Apts',\n",
    " 'Garage/Office',\n",
    " 'Row End',\n",
    " 'Row Mid-Apts',\n",
    " 'Duplex',\n",
    " 'Fam Conv',\n",
    " 'Apartments',\n",
    " 'Victorian',\n",
    " 'Cottage Bungalow',\n",
    " 'Conventional-Apts',\n",
    " 'Double 3D',\n",
    " 'Three decker',\n",
    " 'Townhouse end',\n",
    " 'Townhouse middle',\n",
    "#  'Retail/Offices',\n",
    " 'High End Constr',\n",
    " '2-Decker-Apts',\n",
    " 'Convert Warehs/Loft',\n",
    "#  'Nightclub/Bar',\n",
    "#  'Clubs/Lodges',\n",
    "#  'Car Wash',\n",
    " 'Office/Warehs',\n",
    "#  'Profess. Bldg',\n",
    "#  'Hotel',\n",
    "#  'Truck Terminal',\n",
    "#  'Pre-Eng Warehs',\n",
    "#  'Colleges',\n",
    " 'Dormitory',\n",
    "#  'Churches',\n",
    "#  'Telephone Bldg',\n",
    " 'Indust Condo',\n",
    "#  'Condo Office',\n",
    "#  'Supermarkets',\n",
    "#  'Coin-op CarWsh',\n",
    " 'Retail Condo',\n",
    "#  'Fire Station',\n",
    "#  'Finan Inst.',\n",
    "#  'Library',\n",
    "#  'Funeral Home',\n",
    " 'Low rise',\n",
    "#  'Other Municip',\n",
    "#  'Stores/Office',\n",
    "#  'Bakery',\n",
    "#  'Dry Cln/Laundr',\n",
    "#  'Serv Sta 2-bay',\n",
    "#  'Converted School',\n",
    "#  'Other State',\n",
    "#  'Branch Bank',\n",
    "#  'Theaters Encl.',\n",
    " 'Mid Rise Apartments',\n",
    "#  'Light Indust',\n",
    " 'Cottage',\n",
    " 'Row Middle',\n",
    "#  'Serv Sta 3-Bay',\n",
    "#  'Auto Sales Rpr',\n",
    " 'Townhouse',\n",
    "#  'Home for Aged',\n",
    "#  'Hospitals-Priv',\n",
    "#  'Commercial Bld',\n",
    "#  'Skating Arena',\n",
    "#  'Day Care',\n",
    "#  'Child Care',\n",
    "#  'Health Club/Gym',\n",
    "#  'Supermarket',\n",
    "#  'City/Town Hall',\n",
    "#  'Other Federal',\n",
    "#  'Fast Food Rest',\n",
    " 'Victorian-Apts',\n",
    "#  'Converted Municipal',\n",
    "#  'Comm Warehouse',\n",
    "#  'Commercial',\n",
    "#  'Department Str',\n",
    " 'High Rise Apt',\n",
    "#  'Shop Center RE',\n",
    "#  'Food Process',\n",
    "#  'Hospital',\n",
    "#  'Schools-Public',\n",
    "#  'Pkg Garage'\n",
    "]"
   ]
  },
  {
   "cell_type": "code",
   "execution_count": null,
   "metadata": {},
   "outputs": [],
   "source": [
    "res_types = parcel_data[parcel_data.STYLE.isin(keep)]\n",
    "res_types.shape"
   ]
  },
  {
   "cell_type": "code",
   "execution_count": null,
   "metadata": {},
   "outputs": [],
   "source": [
    "parcel_data.shape"
   ]
  },
  {
   "cell_type": "code",
   "execution_count": null,
   "metadata": {},
   "outputs": [],
   "source": [
    "parcel_data[parcel_data.ID == 10026]"
   ]
  },
  {
   "cell_type": "code",
   "execution_count": null,
   "metadata": {},
   "outputs": [],
   "source": [
    "parcels = geopandas.read_file('../data/Parcels_FY19')\n",
    "print('number of parcels: ',parcels.shape[0])"
   ]
  },
  {
   "cell_type": "code",
   "execution_count": null,
   "metadata": {},
   "outputs": [],
   "source": [
    "parcels[parcels.OBJECTID == 10912]"
   ]
  }
 ],
 "metadata": {
  "kernelspec": {
   "display_name": "Python 3",
   "language": "python",
   "name": "python3"
  },
  "language_info": {
   "codemirror_mode": {
    "name": "ipython",
    "version": 3
   },
   "file_extension": ".py",
   "mimetype": "text/x-python",
   "name": "python",
   "nbconvert_exporter": "python",
   "pygments_lexer": "ipython3",
   "version": "3.6.8"
  }
 },
 "nbformat": 4,
 "nbformat_minor": 2
}
