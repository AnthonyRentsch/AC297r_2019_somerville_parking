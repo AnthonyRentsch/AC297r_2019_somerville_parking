{
 "cells": [
  {
   "cell_type": "code",
   "execution_count": 1,
   "metadata": {},
   "outputs": [],
   "source": [
    "import pandas as pd"
   ]
  },
  {
   "cell_type": "code",
   "execution_count": 2,
   "metadata": {},
   "outputs": [],
   "source": [
    "df = pd.read_csv('../data/ISD_Building_Permit_Daily_Applications.csv')"
   ]
  },
  {
   "cell_type": "code",
   "execution_count": 13,
   "metadata": {},
   "outputs": [],
   "source": [
    "df_driveways = df[df.ProjectName.astype(str).apply(lambda x : 'driveway' in x)]"
   ]
  },
  {
   "cell_type": "code",
   "execution_count": 16,
   "metadata": {},
   "outputs": [
    {
     "name": "stdout",
     "output_type": "stream",
     "text": [
      "remove & replace existing residential driveway, no grade changes, no size changes\n",
      "Sewer Repair in driveway area\n",
      "remove asphalt driveway, walk and backyard and replace with a brick paver driveway, walk , and patio.  Remove cement birm and replace with interlocking block wall\n",
      "Installation of the top coat of the parking area *NOTE* Property has an approved driveway permit already. This permit will be treated as a street/sidewalk occupancy permit that is required for the paving.\n",
      "Remove half of existing driveway for grass replacement. Replace existing entry way deck.\n",
      "Open trench for electric utility in driveway\n",
      "New curb cut for a new driveway********NOTE WRONG PERMIT APPLICATION, THIS IS A STREET OCCUPANCY PERMIT******\n",
      "driveway and patio with pervious stone surface\n",
      "removal of existing asphalt driveway and replace with pavers as per zoning order of conditions.\n",
      "curb cut and sidewalk pour on front of existing driveway\n",
      "Dumpster on Street for Removal of asphalt from backyard and driveway\n",
      "Remove/Replace existing driveway\n",
      "Remove existing driveway (asphalt), Front walkway to steps and Side walkway to rear entrance (concrete). Install new concrete at driveway, front walkway and side walkway to rear entrance.\n",
      "Curb cut and pve driveway\n",
      "remove concrete driveway and replace with impervious paving stones. Same footprint\n",
      "ZBA 2018-23  2 additional single family units to and remove existing building. For the 2 Additional units: excavating for 2 units, footings and foundation, frame, plumbing, electrical, HVAC, sprinkler, fire detection, doors, hardwood flooring, trim and baseboard, insulation, blueboard and plaster, kitchen cabs, bathroom tile and fixtures, windows, Hardie plank & pvc trim, Azak decks flooring and rails, Existing single family: strip and remove 2nd floor to studs interior and exterior, rebuild. kitchen and bath flooring, cabinets & fixtures, windows 400, exterior Hardie plank and pvc trim, Aztek flooring and rails. Exterior walkways, driveway and pavers . Entry landing and steps.\n",
      "Renovate 2 family, Build a shed dormer on third floor, create front open 2 story porch and stairs, create rear open 2 story deck and stairsCreate 9x18 driveway.  Plans in ISD\n",
      "remove and replace existing driveway\n",
      "Install Engineered subsurface stormwater drainage system and Pervious driveway.\n",
      "Replacing existing driveway\n",
      "I have started to gut my new home at 67 Albion.  I am applying now for a building permit.  I am going to moving around a couple of interior walls (not many) and will be insulating the property, moving some of the windows, replacing the heating system and hot water heater, and then putting up drywall and new flooring.  I will also be replacing the front and back door.  No additions will be made, and no additional square footage will be added.  The building envelope will remain exactly as is, and will the 2 car driveway.\n",
      "Remove an existing 12' curb cut and modify to accommodate a new driveway to a existing residential structure. Existing curb cut is 12' wide and the new curb cut would be also 12' wide. The work would consist of granite curbing to fill in were the old driveway existed and then remove and replace the sidewalk according to plan.\n",
      "Overlay- putting asphalt layer over existing driveway (Already Completed)\n",
      "Erect a temporary storage shelter 12x8x20 in drivewayRemoveal May 2023\n",
      "Owner request to re-pave the existing driveway. We will pave the approach driveway from the concrete block retaining wall on the left side to the concrete curbing on the right.; this includes the back patio are which is currently paved.  The paving footprint will follow what is there now.\n",
      "A new driveway to park two cars in tandem on the side of the house. -PAID $100.00 BY CHECK 9/28/2018 JM\n",
      "extending driveway from 1 car to 2 cars in length\n",
      "install a 240 volt 40 amp, ( 50 amp breaker) car charger on side of house at driveway.\n",
      "ZBA 2017-04 Complete gut, renovation and addition. To include new walls, floors, ceilings, kitchens, bathrooms, roof, siding, decks, fireplaces, walks and driveway.\n",
      "Remove and replace existing driveway\n",
      "Strip roof. Install ice and water shield and synthetic underlayment. Install architect type roofing shingles. Install 2 double hung low-e glass argon filled thermopane windows. Install downspouts to driveway side.\n",
      "Additional work requested on an existing permit: renovation of 2 full bathrooms, new deck at the rear of the house, new side entry from driveway to new staircase to basement / Mudroom, new HVAC 2 systems, insulation of the roof rafters, install new sky light as per plans.\n",
      "Replace porch decking on bottom deck- driveway side with new Fir decking as needed. Prime and stain new woodwork.\n",
      "Curb cut and installation of a new driveway at a home that does not currently have a driveway.  Work will include: curb cut, excavation, stone retaining walls and stairs, paving.  Currently, the use of the city trash cans is challenging given the five steps down to the street. Dragging full cans down the steps has destroyed the wooden steps, obligating the need to replace them.  The addition of the driveway will assist with trash can storage and help alleviate a challenging parking situation in light of the 8 new apartments added in the adjacent building at 1133 Broadway without the addition of any off street parking.\n",
      "Add Patio, extend driveway, change some of driveway material payment made by check 7/13/2018\n",
      "Gut and renovate 1st, 2nd, an 3rd floors, install new water heaters and HVAC for apt 1 and 2, renovate 1st floor kitchen, and bathroom, add another bathroom on 1st floor, renovate 2nd floor kitchen, an bathroon, add 2 bathrooms on 3rd floor, replace all windown of the house, replace all hardwood floor on the house, replace all electrical on the house, patch and paint the exterior, redo driveway.NO WORK IN BASEMENT\n",
      "place dumpster in street for debris removal on a roof project - driveway way to narrow\n",
      "Complete interior renovation of existing two family with historic designation to create a single family residence. New exterior work to include a limited number of new windows, skylights, and sliding doors with landing and steps as per Historic Commission decision (5/23/18). New driveway and cellar bulkhead removal as per Historic Commission decision (12/19/17). Existing units have 2 and 3 bedrooms and 1 bathroom each respectively. Renovated home to have 5 bedrooms with 4 bathrooms (no net change in bedrooms; 2 new net bathrooms). Existing third floor storage space to be converted to habitable space; FAR calculation is appended. Basement to remain storage/mechanical. Exterior siding, trim, and roofing to be retained.\n",
      "remove and replace siding on driveway side\n",
      "removing and replacing existing 3 bathrooms and 3 kitchens, new interior finishes throughout, new smoke detector system, new unit and building doors total of 9, conversion of 3 dining rooms to bedrooms, landscape improvements and asphalt driveway for conversion to condominiums\n",
      "Remove existing asphalt driveway, concrete pad, install permeable paver driveway with a smaller footprint-payment made by check outside of Citizen Serve JM 5/14/2018\n",
      "New driveway and landscaping at side of house\n",
      "installation of Mitsubishi ductless split system in living room and three bedrooms. condenser to be located along left side of home near driveway.\n",
      "installation of 2 dual zone mitsubishi heat pumps systems. one system on first floor and one on second. condensing unit to be place along left side of home near driveway\n",
      "Re-shingle the driveway side of the house plus install two new windows into two empty openings in the rear wall of the garage and frame a new window in the front opening of the garage that would include a regular pedestrian entry door and one or two windows.\n",
      "Replace existing roof; Add a 14'9' dormer window to the left (driveway) side of the house. Renovate and fully finish the attic. Replace two windows in attic. Construct deck off of back of attic to sit on top of existing overhang of second floor porch.     SCHEDULE AL BARGOOT FOR INSPECTS  KC 11-22-17\"\n",
      "remove concrete in existing driveway and install brick pavers and loam area\n",
      "Add 40 AMP circuit in driveway for car charger\n",
      "Remove a secondary set of stairs, covert a porch into living space and use these areas as part of a total Kitchen renovation. Move the rear entry previously located on the converted porch to the driveway side of the house.\n",
      "blue board and plaster veneer 8 walls.replace 6 interior doors.replace interior trim on bedroom windows. replace trim on new doors. install laminate floor in Kitchen and hall. replace 2 course of shingles on driveway side of hose. replace basement door on driveway side of house. cap w aluminum door jambs, accessable window sils, door risers, and basement windows. remove and replace vanity and medicine cabinet repair tile. - 11 CENTRE ST\n",
      "construct retaining wall along driveway\n",
      "The dumpster will serve the purpose of cleaning out the basement and attic of 37 Banks Street, Somerville.  There is a driveway and the dumpster will be placed in the driveway (not on the street).  Thank you!\n",
      "Demo rear garage at the back of the driveway\n",
      "Renovation of two family remove existing walls covering and ceiling covering all trim hardwood floor windows total 45 kitchensbathrooms heat units chimneys garage roof shingles rebuild front porch install new kitchens bathrooms new windows total 45 new interior trim new hardwood floor new plumbing new electrical new board plaster new heating system with water heater new garage door new driveway new framing and beam work new insulation new basement stairs as per drawing in ISD office\n",
      "Take over permit B14-001539, with additional work of replacing exiting 2x8 beam with lvl beams in both kitchens, and replace existing cracked basement beam with lvl beam as speced and add in 7-24x24\"x18\" deep footing with lolly columns. Dig 16' trench in basement near back stairs and add French drain with sump pump. Replacement and reframe as needed for 39 windows. Install of 4 new exterior doors. Also install of 5 squares of matching existing siding as needed around doors and windows. Addition of roxul or thermal fiber sound and fire block material with resilient channel between 1st and 2nd floor ceiling. Add 38\" X 200\" concrete pad up against house driveway side for condensers.\"\n",
      "replace porches on driveway side   same size as existing\n",
      "Demolition the main house, foundation and the concrete driveway. ZBA 2016-34DEMOLITION JUNE 30, 2016\n",
      "dumpster on street with no driveway\n",
      "Remodel second floor kitchen and bathroom. Kitchen consists of selective demo. Replacement of cabs, counters, appliances, fixtures. Save existing floor, ceiling, lighting. Bath is a gut renovation and the new fixtures are going back where the existing ones are. Will provide bath and kitchen ventilation. We will be replacing the existing kitchen window on the driveway side of the house with a new Harvey window pair.\n",
      "Replace 1 casement window in kitchen & repair siding opposite driveway side around window\n",
      "Perform masonry work to stabilize existing masonry wall at driveway entranceas per plans from simpson Gumpertz &Heger\n",
      "Gut2 kitchens and 2 baths.  remove int. chimney and fireplace with external brick. Add 1 full bath.  Add 1 half bath. remove cellar stairs and add second means off access off back decks.  Add to back decks. remove back walls where existing stairs are and add closet space. Update elec, plumbing and HVAC.  Add central a/c.  Add dormer on driveway side\n",
      "Build out the existing lower level in my house and convert the space into 2 bedrooms and a bathroom, but installing new partition walls, a new window and 4 replacement windows, a new bathroom, a new wet bar, and several new closets. In addition, I want to replace the broken concrete and brick driveway with new concrete.\n",
      "Strip roof shingles on half of roof (driveway side), approximately 12 squares and install new lifetime architect roof shingles.\n",
      "Rebuilt existing front steps and replace driveway side gutter\n",
      "New plumbing, electrical, blueboard, and finishes in 2 1/2 baths and kitchen. New handrails and posts on porches. Add privacy fence around property. Pave driveway.\n",
      "Excavation for new driveway (already permitted through DPW, permit date 11/13/14)\n",
      "strip existing damaged vinyl siding on right driveway side only, install new vinyl siding to match existing\n",
      "Replace 6 full baths and 1  half bath, 3 kitchens, new roof, 3 new water heaters, 3 HVAC systems, new sprinkler system, all new electrical and plumbing, New fire detection system, new oak flooring, new board and plaster, new doors and windows, new interior finishes, patch vinyl siding where needed, install new driveway pavers and paint the interior and exterior of the house\n",
      "Removing asphalt from part of driveway by hand. Need dumpster in street in front of house from Thursday May 7th thru Thursday May 14th. Dumpster belongs to Mark-One\" 781 863 0002.\"\n",
      "Emergency electrical repairs, due to truck accidentin driveway.\n",
      "Remove 65 pieces of broken roofing slates and replace.Remove two side gutters and fascia boards and replace with new fascia's and one soffit.Remove old copper ice belt on driveway side. Install ice and water membrane and install new copper ice belt.\n",
      "Landscape project to include the installation of pavers for the purpose of a driveway. Ex driveway is to be removed and pavers will replace current driveway made of tar material. The installation are to be permeable pavers. There are no building or structure being altered as a result of this project to be clear. Brickstone landscape is and does operate as DBA Michael Iannantuoni.\n",
      "Installation of a Wood Stove on the first floor driveway side of the house.\n",
      "demo existing kitchen, replace with new cabinets, stove, sink.  Existing floor to remain.  New 60x42 bay window to replace 2 existing double hung windows on northwest facing wall (overlooking driveway)\n",
      "Demolition of existing 18x39 structure. It is an abandoned garage. It will be demolished and paved over to extend the driveway.\n",
      "2 Story addition with flat rubber roof at rear of house.  Addition to include playroom, bathroom, laundry closet and interior stair from driveway to basement.  2nd floor to have Master bathroom Master Bedroom and walk-in closets.  No new bedrooms added.\n"
     ]
    }
   ],
   "source": [
    "for desc in df_driveways.ProjectName:\n",
    "    print(desc)"
   ]
  }
 ],
 "metadata": {
  "kernelspec": {
   "display_name": "Python 3",
   "language": "python",
   "name": "python3"
  },
  "language_info": {
   "codemirror_mode": {
    "name": "ipython",
    "version": 3
   },
   "file_extension": ".py",
   "mimetype": "text/x-python",
   "name": "python",
   "nbconvert_exporter": "python",
   "pygments_lexer": "ipython3",
   "version": "3.6.6"
  }
 },
 "nbformat": 4,
 "nbformat_minor": 2
}
