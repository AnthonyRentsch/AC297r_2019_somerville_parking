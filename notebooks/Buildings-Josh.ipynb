{
 "cells": [
  {
   "cell_type": "code",
   "execution_count": 1,
   "metadata": {},
   "outputs": [],
   "source": [
    "import geopandas as gpd\n",
    "import pandas as pd\n",
    "import numpy as np\n",
    "import re\n",
    "import matplotlib.pyplot as plt\n",
    "pd.set_option('display.max_columns', None)\n"
   ]
  },
  {
   "cell_type": "markdown",
   "metadata": {},
   "source": [
    "# Steps\n",
    "1. Load Data\n",
    "2. Find adjacent parcels\n",
    "3. Associate buildings with parcels\n",
    "4. Find distances between buildings on adjacent parcels\n",
    "5. Format data"
   ]
  },
  {
   "cell_type": "markdown",
   "metadata": {},
   "source": [
    "# Load Data"
   ]
  },
  {
   "cell_type": "code",
   "execution_count": 2,
   "metadata": {},
   "outputs": [],
   "source": [
    "buildings_df = gpd.read_file('../data/Buildings/')\n",
    "parcels_df = gpd.read_file('../data/Parcels_shape/')"
   ]
  },
  {
   "cell_type": "markdown",
   "metadata": {},
   "source": [
    "# Find buildings in parcels"
   ]
  },
  {
   "cell_type": "code",
   "execution_count": 3,
   "metadata": {},
   "outputs": [],
   "source": [
    "buildings_df_temp = buildings_df.copy()"
   ]
  },
  {
   "cell_type": "code",
   "execution_count": 4,
   "metadata": {},
   "outputs": [],
   "source": [
    "buildings_df_temp.geometry = buildings_df_temp.geometry.centroid\n",
    "buildings_df_temp = buildings_df_temp[buildings_df_temp.is_valid]\n",
    "parcels_df = parcels_df[parcels_df.is_valid]"
   ]
  },
  {
   "cell_type": "code",
   "execution_count": 5,
   "metadata": {},
   "outputs": [],
   "source": [
    "building_to_parcels = gpd.sjoin(buildings_df_temp[['OBJECTID','AddNum','Street','geometry']], parcels_df[['MBL','geometry','AddNum','Street']], how = 'inner', op = 'within')\n"
   ]
  },
  {
   "cell_type": "code",
   "execution_count": 6,
   "metadata": {},
   "outputs": [
    {
     "data": {
      "text/plain": [
       "16356"
      ]
     },
     "execution_count": 6,
     "metadata": {},
     "output_type": "execute_result"
    }
   ],
   "source": [
    "len(building_to_parcels)"
   ]
  },
  {
   "cell_type": "code",
   "execution_count": 7,
   "metadata": {},
   "outputs": [
    {
     "data": {
      "text/plain": [
       "16486"
      ]
     },
     "execution_count": 7,
     "metadata": {},
     "output_type": "execute_result"
    }
   ],
   "source": [
    "len(buildings_df)"
   ]
  },
  {
   "cell_type": "code",
   "execution_count": 8,
   "metadata": {},
   "outputs": [],
   "source": [
    "buildings_df = buildings_df.merge(building_to_parcels[['OBJECTID','MBL']])"
   ]
  },
  {
   "cell_type": "markdown",
   "metadata": {},
   "source": [
    "# Find adjacent parcels"
   ]
  },
  {
   "cell_type": "code",
   "execution_count": 23,
   "metadata": {},
   "outputs": [],
   "source": [
    "parcel_to_neighbours = gpd.sjoin(parcels_df, parcels_df, how=\"inner\", op='intersects')"
   ]
  },
  {
   "cell_type": "code",
   "execution_count": 26,
   "metadata": {},
   "outputs": [],
   "source": [
    "parcel_to_neighbours = parcel_to_neighbours[['MBL_left','MBL_right']]"
   ]
  },
  {
   "cell_type": "code",
   "execution_count": 27,
   "metadata": {},
   "outputs": [
    {
     "data": {
      "text/html": [
       "<div>\n",
       "<style scoped>\n",
       "    .dataframe tbody tr th:only-of-type {\n",
       "        vertical-align: middle;\n",
       "    }\n",
       "\n",
       "    .dataframe tbody tr th {\n",
       "        vertical-align: top;\n",
       "    }\n",
       "\n",
       "    .dataframe thead th {\n",
       "        text-align: right;\n",
       "    }\n",
       "</style>\n",
       "<table border=\"1\" class=\"dataframe\">\n",
       "  <thead>\n",
       "    <tr style=\"text-align: right;\">\n",
       "      <th></th>\n",
       "      <th>MBL_left</th>\n",
       "      <th>MBL_right</th>\n",
       "    </tr>\n",
       "  </thead>\n",
       "  <tbody>\n",
       "    <tr>\n",
       "      <td>0</td>\n",
       "      <td>19-F-1</td>\n",
       "      <td>19-F-1</td>\n",
       "    </tr>\n",
       "    <tr>\n",
       "      <td>2375</td>\n",
       "      <td>20-F-7</td>\n",
       "      <td>19-F-1</td>\n",
       "    </tr>\n",
       "    <tr>\n",
       "      <td>3719</td>\n",
       "      <td>20-F-6</td>\n",
       "      <td>19-F-1</td>\n",
       "    </tr>\n",
       "    <tr>\n",
       "      <td>14568</td>\n",
       "      <td>None</td>\n",
       "      <td>19-F-1</td>\n",
       "    </tr>\n",
       "    <tr>\n",
       "      <td>0</td>\n",
       "      <td>19-F-1</td>\n",
       "      <td>20-F-7</td>\n",
       "    </tr>\n",
       "    <tr>\n",
       "      <td>...</td>\n",
       "      <td>...</td>\n",
       "      <td>...</td>\n",
       "    </tr>\n",
       "    <tr>\n",
       "      <td>14560</td>\n",
       "      <td>87-C-1A</td>\n",
       "      <td>87-C-1</td>\n",
       "    </tr>\n",
       "    <tr>\n",
       "      <td>14568</td>\n",
       "      <td>None</td>\n",
       "      <td>87-C-1</td>\n",
       "    </tr>\n",
       "    <tr>\n",
       "      <td>14552</td>\n",
       "      <td>87-C-1</td>\n",
       "      <td>87-C-1A</td>\n",
       "    </tr>\n",
       "    <tr>\n",
       "      <td>14560</td>\n",
       "      <td>87-C-1A</td>\n",
       "      <td>87-C-1A</td>\n",
       "    </tr>\n",
       "    <tr>\n",
       "      <td>14568</td>\n",
       "      <td>None</td>\n",
       "      <td>87-C-1A</td>\n",
       "    </tr>\n",
       "  </tbody>\n",
       "</table>\n",
       "<p>99273 rows × 2 columns</p>\n",
       "</div>"
      ],
      "text/plain": [
       "      MBL_left MBL_right\n",
       "0       19-F-1    19-F-1\n",
       "2375    20-F-7    19-F-1\n",
       "3719    20-F-6    19-F-1\n",
       "14568     None    19-F-1\n",
       "0       19-F-1    20-F-7\n",
       "...        ...       ...\n",
       "14560  87-C-1A    87-C-1\n",
       "14568     None    87-C-1\n",
       "14552   87-C-1   87-C-1A\n",
       "14560  87-C-1A   87-C-1A\n",
       "14568     None   87-C-1A\n",
       "\n",
       "[99273 rows x 2 columns]"
      ]
     },
     "execution_count": 27,
     "metadata": {},
     "output_type": "execute_result"
    }
   ],
   "source": [
    "parcel_to_neighbours"
   ]
  },
  {
   "cell_type": "markdown",
   "metadata": {},
   "source": [
    "# Get Neighbouring Buildings"
   ]
  },
  {
   "cell_type": "code",
   "execution_count": 48,
   "metadata": {},
   "outputs": [],
   "source": [
    "neighbouring_buildings = (\n",
    "    buildings_df\n",
    "    .merge(parcel_to_neighbours, left_on = 'MBL', right_on = 'MBL_left')\n",
    "    .merge(buildings_df, left_on = 'MBL_right', right_on = 'MBL')\n",
    ")"
   ]
  },
  {
   "cell_type": "markdown",
   "metadata": {},
   "source": [
    "# Get Distances"
   ]
  },
  {
   "cell_type": "code",
   "execution_count": 59,
   "metadata": {},
   "outputs": [],
   "source": [
    "has_valid_MBL_pair = (\n",
    "    ~ neighbouring_buildings.MBL_left.isna() \n",
    "    & ~ neighbouring_buildings.MBL_right.isna() \n",
    "    & (neighbouring_buildings.MBL_right != neighbouring_buildings.MBL_left)\n",
    ")\n",
    "neighbouring_buildings = neighbouring_buildings[has_valid_MBL_pair]"
   ]
  },
  {
   "cell_type": "code",
   "execution_count": 60,
   "metadata": {},
   "outputs": [],
   "source": [
    "neighbouring_buildings['dist'] = neighbouring_buildings.apply(\n",
    "    lambda row: row['geometry_x'].distance(row['geometry_y']), axis = 1\n",
    ")  "
   ]
  },
  {
   "cell_type": "code",
   "execution_count": 61,
   "metadata": {},
   "outputs": [],
   "source": [
    "neighbouring_buildings = neighbouring_buildings[neighbouring_buildings.dist != 0]"
   ]
  },
  {
   "cell_type": "code",
   "execution_count": 65,
   "metadata": {},
   "outputs": [
    {
     "data": {
      "text/html": [
       "<div>\n",
       "<style scoped>\n",
       "    .dataframe tbody tr th:only-of-type {\n",
       "        vertical-align: middle;\n",
       "    }\n",
       "\n",
       "    .dataframe tbody tr th {\n",
       "        vertical-align: top;\n",
       "    }\n",
       "\n",
       "    .dataframe thead th {\n",
       "        text-align: right;\n",
       "    }\n",
       "</style>\n",
       "<table border=\"1\" class=\"dataframe\">\n",
       "  <thead>\n",
       "    <tr style=\"text-align: right;\">\n",
       "      <th></th>\n",
       "      <th>OBJECTID_x</th>\n",
       "      <th>AddNum_x</th>\n",
       "      <th>Street_x</th>\n",
       "      <th>AddNum2_x</th>\n",
       "      <th>Street2_x</th>\n",
       "      <th>AddNum3_x</th>\n",
       "      <th>Street3_x</th>\n",
       "      <th>Name_x</th>\n",
       "      <th>Name2_x</th>\n",
       "      <th>Owner_x</th>\n",
       "      <th>UpdateStat_x</th>\n",
       "      <th>Shape_Leng_x</th>\n",
       "      <th>Shape_Area_x</th>\n",
       "      <th>geometry_x</th>\n",
       "      <th>MBL_x</th>\n",
       "      <th>MBL_left</th>\n",
       "      <th>MBL_right</th>\n",
       "      <th>OBJECTID_y</th>\n",
       "      <th>AddNum_y</th>\n",
       "      <th>Street_y</th>\n",
       "      <th>AddNum2_y</th>\n",
       "      <th>Street2_y</th>\n",
       "      <th>AddNum3_y</th>\n",
       "      <th>Street3_y</th>\n",
       "      <th>Name_y</th>\n",
       "      <th>Name2_y</th>\n",
       "      <th>Owner_y</th>\n",
       "      <th>UpdateStat_y</th>\n",
       "      <th>Shape_Leng_y</th>\n",
       "      <th>Shape_Area_y</th>\n",
       "      <th>geometry_y</th>\n",
       "      <th>MBL_y</th>\n",
       "      <th>dist</th>\n",
       "    </tr>\n",
       "  </thead>\n",
       "  <tbody>\n",
       "    <tr>\n",
       "      <td>170955</td>\n",
       "      <td>1</td>\n",
       "      <td>600</td>\n",
       "      <td>MYSTIC VALLEY PKWY</td>\n",
       "      <td>None</td>\n",
       "      <td>None</td>\n",
       "      <td>None</td>\n",
       "      <td>None</td>\n",
       "      <td>None</td>\n",
       "      <td>None</td>\n",
       "      <td>None</td>\n",
       "      <td>Complete</td>\n",
       "      <td>870.540280</td>\n",
       "      <td>41386.681078</td>\n",
       "      <td>POLYGON ((756465.867 2977205.199, 756545.334 2...</td>\n",
       "      <td>1-C-12</td>\n",
       "      <td>1-C-12</td>\n",
       "      <td>1-C-3</td>\n",
       "      <td>4</td>\n",
       "      <td>196</td>\n",
       "      <td>BOSTON AVE</td>\n",
       "      <td>None</td>\n",
       "      <td>None</td>\n",
       "      <td>None</td>\n",
       "      <td>None</td>\n",
       "      <td>None</td>\n",
       "      <td>None</td>\n",
       "      <td>None</td>\n",
       "      <td>Complete</td>\n",
       "      <td>512.515613</td>\n",
       "      <td>10876.223761</td>\n",
       "      <td>POLYGON ((756691.951 2976976.663, 756762.243 2...</td>\n",
       "      <td>1-C-3</td>\n",
       "      <td>37.586404</td>\n",
       "    </tr>\n",
       "    <tr>\n",
       "      <td>170957</td>\n",
       "      <td>10287</td>\n",
       "      <td>184</td>\n",
       "      <td>BOSTON AVE</td>\n",
       "      <td>None</td>\n",
       "      <td>None</td>\n",
       "      <td>None</td>\n",
       "      <td>None</td>\n",
       "      <td>None</td>\n",
       "      <td>None</td>\n",
       "      <td>None</td>\n",
       "      <td>Complete</td>\n",
       "      <td>200.014821</td>\n",
       "      <td>1715.468629</td>\n",
       "      <td>POLYGON ((756564.361 2976863.974, 756578.287 2...</td>\n",
       "      <td>1-C-7</td>\n",
       "      <td>1-C-7</td>\n",
       "      <td>1-C-3</td>\n",
       "      <td>4</td>\n",
       "      <td>196</td>\n",
       "      <td>BOSTON AVE</td>\n",
       "      <td>None</td>\n",
       "      <td>None</td>\n",
       "      <td>None</td>\n",
       "      <td>None</td>\n",
       "      <td>None</td>\n",
       "      <td>None</td>\n",
       "      <td>None</td>\n",
       "      <td>Complete</td>\n",
       "      <td>512.515613</td>\n",
       "      <td>10876.223761</td>\n",
       "      <td>POLYGON ((756691.951 2976976.663, 756762.243 2...</td>\n",
       "      <td>1-C-3</td>\n",
       "      <td>77.844084</td>\n",
       "    </tr>\n",
       "    <tr>\n",
       "      <td>170958</td>\n",
       "      <td>10288</td>\n",
       "      <td>None</td>\n",
       "      <td>None</td>\n",
       "      <td>None</td>\n",
       "      <td>None</td>\n",
       "      <td>None</td>\n",
       "      <td>None</td>\n",
       "      <td>None</td>\n",
       "      <td>None</td>\n",
       "      <td>None</td>\n",
       "      <td>Complete</td>\n",
       "      <td>69.466575</td>\n",
       "      <td>294.479665</td>\n",
       "      <td>POLYGON ((756602.005 2976870.008, 756585.785 2...</td>\n",
       "      <td>1-C-7</td>\n",
       "      <td>1-C-7</td>\n",
       "      <td>1-C-3</td>\n",
       "      <td>4</td>\n",
       "      <td>196</td>\n",
       "      <td>BOSTON AVE</td>\n",
       "      <td>None</td>\n",
       "      <td>None</td>\n",
       "      <td>None</td>\n",
       "      <td>None</td>\n",
       "      <td>None</td>\n",
       "      <td>None</td>\n",
       "      <td>None</td>\n",
       "      <td>Complete</td>\n",
       "      <td>512.515613</td>\n",
       "      <td>10876.223761</td>\n",
       "      <td>POLYGON ((756691.951 2976976.663, 756762.243 2...</td>\n",
       "      <td>1-C-3</td>\n",
       "      <td>59.215760</td>\n",
       "    </tr>\n",
       "    <tr>\n",
       "      <td>170959</td>\n",
       "      <td>10289</td>\n",
       "      <td>None</td>\n",
       "      <td>None</td>\n",
       "      <td>None</td>\n",
       "      <td>None</td>\n",
       "      <td>None</td>\n",
       "      <td>None</td>\n",
       "      <td>None</td>\n",
       "      <td>None</td>\n",
       "      <td>None</td>\n",
       "      <td>Complete</td>\n",
       "      <td>38.907833</td>\n",
       "      <td>85.310570</td>\n",
       "      <td>POLYGON ((756616.682 2976873.776, 756621.916 2...</td>\n",
       "      <td>1-C-7</td>\n",
       "      <td>1-C-7</td>\n",
       "      <td>1-C-3</td>\n",
       "      <td>4</td>\n",
       "      <td>196</td>\n",
       "      <td>BOSTON AVE</td>\n",
       "      <td>None</td>\n",
       "      <td>None</td>\n",
       "      <td>None</td>\n",
       "      <td>None</td>\n",
       "      <td>None</td>\n",
       "      <td>None</td>\n",
       "      <td>None</td>\n",
       "      <td>Complete</td>\n",
       "      <td>512.515613</td>\n",
       "      <td>10876.223761</td>\n",
       "      <td>POLYGON ((756691.951 2976976.663, 756762.243 2...</td>\n",
       "      <td>1-C-3</td>\n",
       "      <td>60.948365</td>\n",
       "    </tr>\n",
       "    <tr>\n",
       "      <td>170960</td>\n",
       "      <td>10290</td>\n",
       "      <td>None</td>\n",
       "      <td>None</td>\n",
       "      <td>None</td>\n",
       "      <td>None</td>\n",
       "      <td>None</td>\n",
       "      <td>None</td>\n",
       "      <td>None</td>\n",
       "      <td>None</td>\n",
       "      <td>None</td>\n",
       "      <td>Complete</td>\n",
       "      <td>30.010070</td>\n",
       "      <td>51.273670</td>\n",
       "      <td>POLYGON ((756614.699 2976856.125, 756621.306 2...</td>\n",
       "      <td>1-C-6</td>\n",
       "      <td>1-C-6</td>\n",
       "      <td>1-C-3</td>\n",
       "      <td>4</td>\n",
       "      <td>196</td>\n",
       "      <td>BOSTON AVE</td>\n",
       "      <td>None</td>\n",
       "      <td>None</td>\n",
       "      <td>None</td>\n",
       "      <td>None</td>\n",
       "      <td>None</td>\n",
       "      <td>None</td>\n",
       "      <td>None</td>\n",
       "      <td>Complete</td>\n",
       "      <td>512.515613</td>\n",
       "      <td>10876.223761</td>\n",
       "      <td>POLYGON ((756691.951 2976976.663, 756762.243 2...</td>\n",
       "      <td>1-C-3</td>\n",
       "      <td>66.109377</td>\n",
       "    </tr>\n",
       "  </tbody>\n",
       "</table>\n",
       "</div>"
      ],
      "text/plain": [
       "        OBJECTID_x AddNum_x            Street_x AddNum2_x Street2_x AddNum3_x  \\\n",
       "170955           1      600  MYSTIC VALLEY PKWY      None      None      None   \n",
       "170957       10287      184          BOSTON AVE      None      None      None   \n",
       "170958       10288     None                None      None      None      None   \n",
       "170959       10289     None                None      None      None      None   \n",
       "170960       10290     None                None      None      None      None   \n",
       "\n",
       "       Street3_x Name_x Name2_x Owner_x UpdateStat_x  Shape_Leng_x  \\\n",
       "170955      None   None    None    None     Complete    870.540280   \n",
       "170957      None   None    None    None     Complete    200.014821   \n",
       "170958      None   None    None    None     Complete     69.466575   \n",
       "170959      None   None    None    None     Complete     38.907833   \n",
       "170960      None   None    None    None     Complete     30.010070   \n",
       "\n",
       "        Shape_Area_x                                         geometry_x  \\\n",
       "170955  41386.681078  POLYGON ((756465.867 2977205.199, 756545.334 2...   \n",
       "170957   1715.468629  POLYGON ((756564.361 2976863.974, 756578.287 2...   \n",
       "170958    294.479665  POLYGON ((756602.005 2976870.008, 756585.785 2...   \n",
       "170959     85.310570  POLYGON ((756616.682 2976873.776, 756621.916 2...   \n",
       "170960     51.273670  POLYGON ((756614.699 2976856.125, 756621.306 2...   \n",
       "\n",
       "         MBL_x MBL_left MBL_right  OBJECTID_y AddNum_y    Street_y AddNum2_y  \\\n",
       "170955  1-C-12   1-C-12     1-C-3           4      196  BOSTON AVE      None   \n",
       "170957   1-C-7    1-C-7     1-C-3           4      196  BOSTON AVE      None   \n",
       "170958   1-C-7    1-C-7     1-C-3           4      196  BOSTON AVE      None   \n",
       "170959   1-C-7    1-C-7     1-C-3           4      196  BOSTON AVE      None   \n",
       "170960   1-C-6    1-C-6     1-C-3           4      196  BOSTON AVE      None   \n",
       "\n",
       "       Street2_y AddNum3_y Street3_y Name_y Name2_y Owner_y UpdateStat_y  \\\n",
       "170955      None      None      None   None    None    None     Complete   \n",
       "170957      None      None      None   None    None    None     Complete   \n",
       "170958      None      None      None   None    None    None     Complete   \n",
       "170959      None      None      None   None    None    None     Complete   \n",
       "170960      None      None      None   None    None    None     Complete   \n",
       "\n",
       "        Shape_Leng_y  Shape_Area_y  \\\n",
       "170955    512.515613  10876.223761   \n",
       "170957    512.515613  10876.223761   \n",
       "170958    512.515613  10876.223761   \n",
       "170959    512.515613  10876.223761   \n",
       "170960    512.515613  10876.223761   \n",
       "\n",
       "                                               geometry_y  MBL_y       dist  \n",
       "170955  POLYGON ((756691.951 2976976.663, 756762.243 2...  1-C-3  37.586404  \n",
       "170957  POLYGON ((756691.951 2976976.663, 756762.243 2...  1-C-3  77.844084  \n",
       "170958  POLYGON ((756691.951 2976976.663, 756762.243 2...  1-C-3  59.215760  \n",
       "170959  POLYGON ((756691.951 2976976.663, 756762.243 2...  1-C-3  60.948365  \n",
       "170960  POLYGON ((756691.951 2976976.663, 756762.243 2...  1-C-3  66.109377  "
      ]
     },
     "execution_count": 65,
     "metadata": {},
     "output_type": "execute_result"
    }
   ],
   "source": [
    "neighbouring_buildings.head()"
   ]
  },
  {
   "cell_type": "code",
   "execution_count": 63,
   "metadata": {},
   "outputs": [],
   "source": [
    "nearest_neighbors = (\n",
    "    neighbouring_buildings\n",
    "    .groupby('OBJECTID_x')['dist']\n",
    "    .nsmallest(2)\n",
    "    .reset_index()\n",
    "    .groupby('OBJECTID_x')['dist']\n",
    "    .apply(list)\n",
    "    .reset_index()\n",
    ")"
   ]
  },
  {
   "cell_type": "code",
   "execution_count": 64,
   "metadata": {},
   "outputs": [
    {
     "data": {
      "text/html": [
       "<div>\n",
       "<style scoped>\n",
       "    .dataframe tbody tr th:only-of-type {\n",
       "        vertical-align: middle;\n",
       "    }\n",
       "\n",
       "    .dataframe tbody tr th {\n",
       "        vertical-align: top;\n",
       "    }\n",
       "\n",
       "    .dataframe thead th {\n",
       "        text-align: right;\n",
       "    }\n",
       "</style>\n",
       "<table border=\"1\" class=\"dataframe\">\n",
       "  <thead>\n",
       "    <tr style=\"text-align: right;\">\n",
       "      <th></th>\n",
       "      <th>OBJECTID_x</th>\n",
       "      <th>dist</th>\n",
       "    </tr>\n",
       "  </thead>\n",
       "  <tbody>\n",
       "    <tr>\n",
       "      <td>0</td>\n",
       "      <td>1</td>\n",
       "      <td>[37.58640352210986]</td>\n",
       "    </tr>\n",
       "    <tr>\n",
       "      <td>1</td>\n",
       "      <td>3</td>\n",
       "      <td>[70.54990076205233]</td>\n",
       "    </tr>\n",
       "    <tr>\n",
       "      <td>2</td>\n",
       "      <td>4</td>\n",
       "      <td>[37.58640352210986, 59.21575983944597]</td>\n",
       "    </tr>\n",
       "    <tr>\n",
       "      <td>3</td>\n",
       "      <td>5</td>\n",
       "      <td>[3.2471458356227716, 6.426435927324226]</td>\n",
       "    </tr>\n",
       "    <tr>\n",
       "      <td>4</td>\n",
       "      <td>6</td>\n",
       "      <td>[4.31626086611907, 11.993298789951508]</td>\n",
       "    </tr>\n",
       "  </tbody>\n",
       "</table>\n",
       "</div>"
      ],
      "text/plain": [
       "   OBJECTID_x                                     dist\n",
       "0           1                      [37.58640352210986]\n",
       "1           3                      [70.54990076205233]\n",
       "2           4   [37.58640352210986, 59.21575983944597]\n",
       "3           5  [3.2471458356227716, 6.426435927324226]\n",
       "4           6   [4.31626086611907, 11.993298789951508]"
      ]
     },
     "execution_count": 64,
     "metadata": {},
     "output_type": "execute_result"
    }
   ],
   "source": [
    "nearest_neighbors.head()"
   ]
  },
  {
   "cell_type": "code",
   "execution_count": 68,
   "metadata": {},
   "outputs": [],
   "source": [
    "buildings_df = buildings_df.merge(nearest_neighbors, left_on = 'OBJECTID', right_on = 'OBJECTID_x')"
   ]
  },
  {
   "cell_type": "markdown",
   "metadata": {},
   "source": [
    "# Clean and Save"
   ]
  },
  {
   "cell_type": "code",
   "execution_count": 73,
   "metadata": {},
   "outputs": [],
   "source": [
    "def get_kth(l, k):\n",
    "    l = sorted(l)\n",
    "    try:\n",
    "        return l[k]\n",
    "    except (TypeError, IndexError):\n",
    "        return np.nan\n",
    "\n",
    "buildings_df['1ST_CLOSEST'] = buildings_df['dist'].apply(lambda x: get_kth(x, 0))\n",
    "buildings_df['2ND_CLOSEST'] = buildings_df['dist'].apply(lambda x: get_kth(x, 1))"
   ]
  },
  {
   "cell_type": "code",
   "execution_count": 83,
   "metadata": {},
   "outputs": [
    {
     "data": {
      "text/plain": [
       "Index(['OBJECTID', 'AddNum', 'Street', 'AddNum2', 'Street2', 'AddNum3',\n",
       "       'Street3', 'Name', 'Name2', 'Owner', 'UpdateStat', 'Shape_Leng',\n",
       "       'Shape_Area', 'geometry', 'MBL', 'OBJECTID_x', 'dist', '1ST_CLOSEST',\n",
       "       '2ND_CLOSEST'],\n",
       "      dtype='object')"
      ]
     },
     "execution_count": 83,
     "metadata": {},
     "output_type": "execute_result"
    }
   ],
   "source": [
    "buildings_df.columns"
   ]
  },
  {
   "cell_type": "code",
   "execution_count": 84,
   "metadata": {},
   "outputs": [],
   "source": [
    "buildings_df[['AddNum', 'Street','MBL', '1ST_CLOSEST', '2ND_CLOSEST']].to_csv('../data/buildings_clean.csv')"
   ]
  },
  {
   "cell_type": "code",
   "execution_count": null,
   "metadata": {},
   "outputs": [],
   "source": []
  }
 ],
 "metadata": {
  "kernelspec": {
   "display_name": "somerville",
   "language": "python",
   "name": "somerville"
  },
  "language_info": {
   "codemirror_mode": {
    "name": "ipython",
    "version": 3
   },
   "file_extension": ".py",
   "mimetype": "text/x-python",
   "name": "python",
   "nbconvert_exporter": "python",
   "pygments_lexer": "ipython3",
   "version": "3.6.5"
  }
 },
 "nbformat": 4,
 "nbformat_minor": 2
}
