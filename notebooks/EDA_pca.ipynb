{
 "cells": [
  {
   "cell_type": "code",
   "execution_count": 1,
   "metadata": {},
   "outputs": [],
   "source": [
    "import pandas as pd\n",
    "pd.set_option('display.max_rows', 500)\n",
    "pd.set_option('display.max_columns', 500)\n",
    "pd.set_option('display.width', 1000)\n",
    "import numpy as np\n",
    "from sklearn.decomposition import PCA\n",
    "\n",
    "from sklearn.model_selection import train_test_split\n",
    "from sklearn.preprocessing import StandardScaler, PolynomialFeatures\n",
    "from sklearn.linear_model import LogisticRegression, LogisticRegressionCV\n",
    "from sklearn.metrics import classification_report, confusion_matrix\n",
    "from sklearn.calibration import calibration_curve\n",
    "import matplotlib.pyplot as plt\n",
    "\n",
    "import pickle"
   ]
  },
  {
   "cell_type": "code",
   "execution_count": 2,
   "metadata": {},
   "outputs": [],
   "source": [
    "data = pd.read_csv('../data/residence_addresses_googlestreetview_clean.csv', index_col=0)\n",
    "labels = pd.read_csv('../labels/labels_final.csv', index_col='MBL').drop(['Unnamed: 0'], axis = 1)"
   ]
  },
  {
   "cell_type": "code",
   "execution_count": 3,
   "metadata": {},
   "outputs": [],
   "source": [
    "data = data.fillna(data.mean())\n",
    "data = data.merge(labels, on = 'MBL')\n",
    "predictors = data.drop(['MBL', 'has_parking'], axis = 1)\n",
    "scaler = StandardScaler()\n",
    "predictors = scaler.fit_transform(predictors)\n",
    "# remove anything over 2.5 standard deviations out\n",
    "non_outliers = (predictors > 2.5).any(axis = 1)\n",
    "predictors_removed_outliers = predictors[non_outliers, :]"
   ]
  },
  {
   "cell_type": "code",
   "execution_count": 4,
   "metadata": {},
   "outputs": [
    {
     "name": "stderr",
     "output_type": "stream",
     "text": [
      "/Users/anthonyrentsch/anaconda3/lib/python3.6/site-packages/ipykernel_launcher.py:2: SettingWithCopyWarning: \n",
      "A value is trying to be set on a copy of a slice from a DataFrame.\n",
      "Try using .loc[row_indexer,col_indexer] = value instead\n",
      "\n",
      "See the caveats in the documentation: http://pandas.pydata.org/pandas-docs/stable/user_guide/indexing.html#returning-a-view-versus-a-copy\n",
      "  \n"
     ]
    }
   ],
   "source": [
    "target = data[['has_parking', 'MBL']]\n",
    "target['keep'] = non_outliers\n",
    "target = target.loc[target.keep == 1, 'has_parking']\n",
    "# target = data.iloc[non_outliers, 'has_parking']"
   ]
  },
  {
   "cell_type": "code",
   "execution_count": 5,
   "metadata": {},
   "outputs": [],
   "source": [
    "pca = PCA(n_components=10)\n",
    "pca_res = pca.fit_transform(predictors_removed_outliers)"
   ]
  },
  {
   "cell_type": "code",
   "execution_count": 6,
   "metadata": {},
   "outputs": [
    {
     "name": "stdout",
     "output_type": "stream",
     "text": [
      "variance explained by first two PC:  0.1415475820207271\n"
     ]
    }
   ],
   "source": [
    "print('variance explained by first two PC: ',sum(pca.explained_variance_ratio_[:2]))"
   ]
  },
  {
   "cell_type": "code",
   "execution_count": 7,
   "metadata": {},
   "outputs": [
    {
     "data": {
      "image/png": "[encoded data removed]",
      "text/plain": [
       "<Figure size 864x432 with 1 Axes>"
      ]
     },
     "metadata": {
      "needs_background": "light"
     },
     "output_type": "display_data"
    }
   ],
   "source": [
    "plt.figure(figsize=(12,6))\n",
    "plt.scatter(pca_res[np.array((target == 1)),0], pca_res[np.array((target == 1)),1], s = 20, label = 'Class 1')\n",
    "plt.scatter(pca_res[np.array((target == 0)),0], pca_res[np.array((target == 0)),1], s = 20,  label = 'Class 0')\n",
    "plt.title('PCA of data points with and without labelled parking')\n",
    "plt.legend()\n",
    "plt.show()"
   ]
  },
  {
   "cell_type": "markdown",
   "metadata": {},
   "source": [
    "In this plot, we were hoping for separation between the two clusters. But there are several issues starting with the face that the first two principal components only account for 12% of the variation. Further, this plot provides some intuition for why synthetic data generation for minority class oversampling isn't working -- we have quite some separation between the two classes so linear interpolation wouldn't be efective."
   ]
  },
  {
   "cell_type": "markdown",
   "metadata": {
    "collapsed": true
   },
   "source": [
    "----"
   ]
  }
 ],
 "metadata": {
  "kernelspec": {
   "display_name": "Python 3",
   "language": "python",
   "name": "python3"
  },
  "language_info": {
   "codemirror_mode": {
    "name": "ipython",
    "version": 3
   },
   "file_extension": ".py",
   "mimetype": "text/x-python",
   "name": "python",
   "nbconvert_exporter": "python",
   "pygments_lexer": "ipython3",
   "version": "3.6.8"
  }
 },
 "nbformat": 4,
 "nbformat_minor": 2
}
