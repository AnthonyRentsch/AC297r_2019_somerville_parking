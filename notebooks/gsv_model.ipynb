{
 "cells": [
  {
   "cell_type": "code",
   "execution_count": 1,
   "metadata": {},
   "outputs": [],
   "source": [
    "import pandas as pd\n",
    "import numpy as np\n",
    "import sys\n",
    "pd.set_option('display.max_rows', 500)\n",
    "pd.set_option('display.max_columns', 500)\n",
    "pd.set_option('display.width', 1000)"
   ]
  },
  {
   "cell_type": "code",
   "execution_count": 2,
   "metadata": {},
   "outputs": [],
   "source": [
    "sys.path.append('../')\n",
    "from src.models import street_view_cnn\n",
    "sys.path.append('/notebook')\n",
    "from sklearn.model_selection import train_test_split\n",
    "import matplotlib.pyplot as plt\n",
    "% matplotlib inline\n",
    "from sklearn.preprocessing import MinMaxScaler\n",
    "from tensorflow import keras\n",
    "from tensorflow.keras.preprocessing.image import ImageDataGenerator\n",
    "from tensorflow.keras.models import load_model"
   ]
  },
  {
   "cell_type": "markdown",
   "metadata": {},
   "source": [
    "### Input Data Prep"
   ]
  },
  {
   "cell_type": "code",
   "execution_count": 3,
   "metadata": {},
   "outputs": [
    {
     "name": "stderr",
     "output_type": "stream",
     "text": [
      "/home/ubuntu/anaconda3/envs/tensorflow_p36/lib/python3.6/site-packages/ipykernel/__main__.py:3: FutureWarning: Sorting because non-concatenation axis is not aligned. A future version\n",
      "of pandas will change to not sort by default.\n",
      "\n",
      "To accept the future behavior, pass 'sort=False'.\n",
      "\n",
      "To retain the current behavior and silence the warning, pass 'sort=True'.\n",
      "\n",
      "  app.launch_new_instance()\n"
     ]
    }
   ],
   "source": [
    "sam1= pd.read_csv('../labels/training_labels_updated_111219.csv')\n",
    "sam2 = pd.read_csv('../labels/additional_training_labels_120319.csv')\n",
    "sample=pd.concat([sam1, sam2], axis = 0)\n",
    "assert sample.shape[0] == sam1.shape[0] + sam2.shape[0]"
   ]
  },
  {
   "cell_type": "code",
   "execution_count": 4,
   "metadata": {},
   "outputs": [],
   "source": [
    "# add some formatting for the labels that will be used \n",
    "sample['AERIAL_Driveway'] = sample['AERIAL_Driveway'].astype('int').astype('str')\n",
    "sample['GSV_Driveway'] = sample['GSV_Driveway'].astype('int').astype('str')"
   ]
  },
  {
   "cell_type": "code",
   "execution_count": 5,
   "metadata": {},
   "outputs": [],
   "source": [
    "# now split into train and validation (calling it test here)\n",
    "train_data, test_data = train_test_split(sample, test_size = 0.3, random_state = 100)\n",
    "y_column = 'GSV_Driveway'"
   ]
  },
  {
   "cell_type": "code",
   "execution_count": 6,
   "metadata": {},
   "outputs": [
    {
     "data": {
      "text/html": [
       "<div>\n",
       "<style scoped>\n",
       "    .dataframe tbody tr th:only-of-type {\n",
       "        vertical-align: middle;\n",
       "    }\n",
       "\n",
       "    .dataframe tbody tr th {\n",
       "        vertical-align: top;\n",
       "    }\n",
       "\n",
       "    .dataframe thead th {\n",
       "        text-align: right;\n",
       "    }\n",
       "</style>\n",
       "<table border=\"1\" class=\"dataframe\">\n",
       "  <thead>\n",
       "    <tr style=\"text-align: right;\">\n",
       "      <th></th>\n",
       "      <th>MBL</th>\n",
       "    </tr>\n",
       "    <tr>\n",
       "      <th>GSV_Driveway</th>\n",
       "      <th></th>\n",
       "    </tr>\n",
       "  </thead>\n",
       "  <tbody>\n",
       "    <tr>\n",
       "      <th>0</th>\n",
       "      <td>75</td>\n",
       "    </tr>\n",
       "    <tr>\n",
       "      <th>1</th>\n",
       "      <td>280</td>\n",
       "    </tr>\n",
       "    <tr>\n",
       "      <th>2</th>\n",
       "      <td>100</td>\n",
       "    </tr>\n",
       "  </tbody>\n",
       "</table>\n",
       "</div>"
      ],
      "text/plain": [
       "              MBL\n",
       "GSV_Driveway     \n",
       "0              75\n",
       "1             280\n",
       "2             100"
      ]
     },
     "execution_count": 6,
     "metadata": {},
     "output_type": "execute_result"
    }
   ],
   "source": [
    "train_data.groupby(y_column).aggregate({'MBL':len})"
   ]
  },
  {
   "cell_type": "code",
   "execution_count": 7,
   "metadata": {},
   "outputs": [
    {
     "data": {
      "text/html": [
       "<div>\n",
       "<style scoped>\n",
       "    .dataframe tbody tr th:only-of-type {\n",
       "        vertical-align: middle;\n",
       "    }\n",
       "\n",
       "    .dataframe tbody tr th {\n",
       "        vertical-align: top;\n",
       "    }\n",
       "\n",
       "    .dataframe thead th {\n",
       "        text-align: right;\n",
       "    }\n",
       "</style>\n",
       "<table border=\"1\" class=\"dataframe\">\n",
       "  <thead>\n",
       "    <tr style=\"text-align: right;\">\n",
       "      <th></th>\n",
       "      <th>MBL</th>\n",
       "    </tr>\n",
       "    <tr>\n",
       "      <th>GSV_Driveway</th>\n",
       "      <th></th>\n",
       "    </tr>\n",
       "  </thead>\n",
       "  <tbody>\n",
       "    <tr>\n",
       "      <th>0</th>\n",
       "      <td>34</td>\n",
       "    </tr>\n",
       "    <tr>\n",
       "      <th>1</th>\n",
       "      <td>135</td>\n",
       "    </tr>\n",
       "    <tr>\n",
       "      <th>2</th>\n",
       "      <td>26</td>\n",
       "    </tr>\n",
       "  </tbody>\n",
       "</table>\n",
       "</div>"
      ],
      "text/plain": [
       "              MBL\n",
       "GSV_Driveway     \n",
       "0              34\n",
       "1             135\n",
       "2              26"
      ]
     },
     "execution_count": 7,
     "metadata": {},
     "output_type": "execute_result"
    }
   ],
   "source": [
    "test_data.groupby(y_column).aggregate({'MBL':len})"
   ]
  },
  {
   "cell_type": "code",
   "execution_count": 8,
   "metadata": {},
   "outputs": [],
   "source": [
    "# artificially oversample the minority class - TEST\n",
    "zero_class = test_data[test_data[y_column] == '0']\n",
    "one_class = test_data[test_data[y_column] == '1']\n",
    "two_class = test_data[test_data[y_column] == '2']\n",
    "\n",
    "test_data = one_class.append(zero_class)\n",
    "for i in range(one_class.shape[0]//zero_class.shape[0]-1):\n",
    "    test_data = test_data.append(zero_class)\n",
    "\n",
    "for i in range(one_class.shape[0]//two_class.shape[0]):\n",
    "    test_data = test_data.append(two_class)"
   ]
  },
  {
   "cell_type": "code",
   "execution_count": 9,
   "metadata": {},
   "outputs": [],
   "source": [
    "# artificially oversample the minority class - TRAINING\n",
    "zero_class = train_data[train_data[y_column] == '0']\n",
    "one_class = train_data[train_data[y_column] == '1']\n",
    "two_class = train_data[train_data[y_column] == '2']\n",
    "\n",
    "train_data = one_class.append(zero_class)\n",
    "for i in range(one_class.shape[0]//zero_class.shape[0] -1):\n",
    "    train_data = train_data.append(zero_class)\n",
    "\n",
    "for i in range(one_class.shape[0]//two_class.shape[0]):\n",
    "    train_data = train_data.append(two_class)"
   ]
  },
  {
   "cell_type": "code",
   "execution_count": 10,
   "metadata": {},
   "outputs": [
    {
     "data": {
      "text/html": [
       "<div>\n",
       "<style scoped>\n",
       "    .dataframe tbody tr th:only-of-type {\n",
       "        vertical-align: middle;\n",
       "    }\n",
       "\n",
       "    .dataframe tbody tr th {\n",
       "        vertical-align: top;\n",
       "    }\n",
       "\n",
       "    .dataframe thead th {\n",
       "        text-align: right;\n",
       "    }\n",
       "</style>\n",
       "<table border=\"1\" class=\"dataframe\">\n",
       "  <thead>\n",
       "    <tr style=\"text-align: right;\">\n",
       "      <th></th>\n",
       "      <th>MBL</th>\n",
       "    </tr>\n",
       "    <tr>\n",
       "      <th>GSV_Driveway</th>\n",
       "      <th></th>\n",
       "    </tr>\n",
       "  </thead>\n",
       "  <tbody>\n",
       "    <tr>\n",
       "      <th>0</th>\n",
       "      <td>225</td>\n",
       "    </tr>\n",
       "    <tr>\n",
       "      <th>1</th>\n",
       "      <td>280</td>\n",
       "    </tr>\n",
       "    <tr>\n",
       "      <th>2</th>\n",
       "      <td>200</td>\n",
       "    </tr>\n",
       "  </tbody>\n",
       "</table>\n",
       "</div>"
      ],
      "text/plain": [
       "              MBL\n",
       "GSV_Driveway     \n",
       "0             225\n",
       "1             280\n",
       "2             200"
      ]
     },
     "execution_count": 10,
     "metadata": {},
     "output_type": "execute_result"
    }
   ],
   "source": [
    "train_data.groupby(y_column).aggregate({'MBL':len})"
   ]
  },
  {
   "cell_type": "code",
   "execution_count": 11,
   "metadata": {},
   "outputs": [
    {
     "data": {
      "text/html": [
       "<div>\n",
       "<style scoped>\n",
       "    .dataframe tbody tr th:only-of-type {\n",
       "        vertical-align: middle;\n",
       "    }\n",
       "\n",
       "    .dataframe tbody tr th {\n",
       "        vertical-align: top;\n",
       "    }\n",
       "\n",
       "    .dataframe thead th {\n",
       "        text-align: right;\n",
       "    }\n",
       "</style>\n",
       "<table border=\"1\" class=\"dataframe\">\n",
       "  <thead>\n",
       "    <tr style=\"text-align: right;\">\n",
       "      <th></th>\n",
       "      <th>MBL</th>\n",
       "    </tr>\n",
       "    <tr>\n",
       "      <th>GSV_Driveway</th>\n",
       "      <th></th>\n",
       "    </tr>\n",
       "  </thead>\n",
       "  <tbody>\n",
       "    <tr>\n",
       "      <th>0</th>\n",
       "      <td>102</td>\n",
       "    </tr>\n",
       "    <tr>\n",
       "      <th>1</th>\n",
       "      <td>135</td>\n",
       "    </tr>\n",
       "    <tr>\n",
       "      <th>2</th>\n",
       "      <td>130</td>\n",
       "    </tr>\n",
       "  </tbody>\n",
       "</table>\n",
       "</div>"
      ],
      "text/plain": [
       "              MBL\n",
       "GSV_Driveway     \n",
       "0             102\n",
       "1             135\n",
       "2             130"
      ]
     },
     "execution_count": 11,
     "metadata": {},
     "output_type": "execute_result"
    }
   ],
   "source": [
    "test_data.groupby(y_column).aggregate({'MBL':len})"
   ]
  },
  {
   "cell_type": "markdown",
   "metadata": {},
   "source": [
    "### Modelling"
   ]
  },
  {
   "cell_type": "code",
   "execution_count": 12,
   "metadata": {},
   "outputs": [],
   "source": [
    "# set input params\n",
    "sv_image_dim = (256, 256, 3)\n",
    "lr = 1e-4\n",
    "batch_size = 64\n",
    "val_batch_size = 64"
   ]
  },
  {
   "cell_type": "code",
   "execution_count": 16,
   "metadata": {},
   "outputs": [
    {
     "name": "stdout",
     "output_type": "stream",
     "text": [
      "number of layers in pretrained model:  176\n"
     ]
    }
   ],
   "source": [
    "# define optimizer - adam \n",
    "optimizer = keras.optimizers.Adam(lr=lr)\n",
    "\n",
    "# define learning rate decay method - two options\n",
    "# lr_decay = tensorflow.keras.callbacks.LearningRateScheduler(schedule=lambda epoch: lr * (0.9 ** epoch)) \n",
    "lr_decay = keras.callbacks.ReduceLROnPlateau(monitor='val_loss', \n",
    "                                                        factor=0.1, \n",
    "                                                        patience=2, \n",
    "                                                        verbose=True, \n",
    "                                                        mode='auto',\n",
    "                                                        min_delta=0.0001, \n",
    "                                                        cooldown=1, \n",
    "                                                        min_lr=1e-9)\n",
    "\n",
    "early_stopping = keras.callbacks.EarlyStopping(monitor='val_loss', \n",
    "                                               min_delta=0.001,\n",
    "                                               patience=5, \n",
    "                                               verbose=True,\n",
    "                                               mode='auto', \n",
    "                                               baseline=None, \n",
    "                                               restore_best_weights=True)\n",
    "\n",
    "# define loss - cat xentropy\n",
    "loss = keras.losses.CategoricalCrossentropy(label_smoothing=0.1) #smoothed labels\n",
    "\n",
    "# define pretrained model \n",
    "pretrained_model = keras.applications.ResNet50(include_top=False, input_shape=sv_image_dim, pooling = 'avg')\n",
    "print('number of layers in pretrained model: ', len(pretrained_model.layers))\n",
    "\n",
    "# I tried unfreezing none to some - more fine tuning required here but not sure it makes much of a diff atm\n",
    "for layer in pretrained_model.layers[:-50]:\n",
    "    layer.trainable = False"
   ]
  },
  {
   "cell_type": "code",
   "execution_count": 17,
   "metadata": {},
   "outputs": [
    {
     "name": "stdout",
     "output_type": "stream",
     "text": [
      "Model: \"model_1\"\n",
      "_________________________________________________________________\n",
      "Layer (type)                 Output Shape              Param #   \n",
      "=================================================================\n",
      "satellite_image_input (Input [(None, 256, 256, 3)]     0         \n",
      "_________________________________________________________________\n",
      "resnet50 (Model)             (None, 2048)              23587712  \n",
      "_________________________________________________________________\n",
      "flatten_1 (Flatten)          (None, 2048)              0         \n",
      "_________________________________________________________________\n",
      "dense_3 (Dense)              (None, 100)               204900    \n",
      "_________________________________________________________________\n",
      "batch_normalization_2 (Batch (None, 100)               400       \n",
      "_________________________________________________________________\n",
      "leaky_re_lu_2 (LeakyReLU)    (None, 100)               0         \n",
      "_________________________________________________________________\n",
      "dropout_2 (Dropout)          (None, 100)               0         \n",
      "_________________________________________________________________\n",
      "dense_4 (Dense)              (None, 50)                5050      \n",
      "_________________________________________________________________\n",
      "batch_normalization_3 (Batch (None, 50)                200       \n",
      "_________________________________________________________________\n",
      "leaky_re_lu_3 (LeakyReLU)    (None, 50)                0         \n",
      "_________________________________________________________________\n",
      "dropout_3 (Dropout)          (None, 50)                0         \n",
      "_________________________________________________________________\n",
      "dense_5 (Dense)              (None, 3)                 153       \n",
      "=================================================================\n",
      "Total params: 23,798,415\n",
      "Trainable params: 17,160,931\n",
      "Non-trainable params: 6,637,484\n",
      "_________________________________________________________________\n"
     ]
    }
   ],
   "source": [
    "# build model using function from models.py\n",
    "model = street_view_cnn(pretrained_model, \n",
    "                        image_dim = sv_image_dim, \n",
    "                        optimizer = optimizer,\n",
    "                        loss = loss,\n",
    "                        n_classes=3,\n",
    "                        activation = 'softmax',\n",
    "                        metrics=['accuracy'], \n",
    "                       )\n",
    "\n",
    "model.summary()"
   ]
  },
  {
   "cell_type": "markdown",
   "metadata": {},
   "source": [
    "### Generator"
   ]
  },
  {
   "cell_type": "code",
   "execution_count": 18,
   "metadata": {},
   "outputs": [],
   "source": [
    "# inputs to generator\n",
    "image_dir = '../data/training/sv_images/'\n",
    "x_column = 'gsv_filename'\n",
    "y_column = 'GSV_Driveway'\n",
    "color_mode = 'rgb'"
   ]
  },
  {
   "cell_type": "code",
   "execution_count": 19,
   "metadata": {},
   "outputs": [
    {
     "name": "stdout",
     "output_type": "stream",
     "text": [
      "Found 705 validated image filenames belonging to 3 classes.\n",
      "Found 367 validated image filenames belonging to 3 classes.\n"
     ]
    }
   ],
   "source": [
    "gen_obj = ImageDataGenerator(rescale=1.0/255.0, \n",
    "                                    zoom_range = 0.2 #adding zoom range as some images are super zoomed in/out\n",
    "                            ) \n",
    "\n",
    "## train\n",
    "train_generator = gen_obj.flow_from_dataframe(train_data, \n",
    "                                            directory = image_dir, \n",
    "                                            x_col= x_column, \n",
    "                                            y_col= y_column, \n",
    "                                            target_size=(sv_image_dim[0], sv_image_dim[1]), \n",
    "                                            color_mode=color_mode, \n",
    "                                            class_mode='categorical',\n",
    "                                            batch_size=batch_size, \n",
    "                                            shuffle=True,\n",
    "                                            seed=10)\n",
    "\n",
    "## test (i.e. validation)\n",
    "test_gen_obj = ImageDataGenerator(rescale=1.0/255.0)\n",
    "test_generator = test_gen_obj.flow_from_dataframe(test_data, \n",
    "                                            directory = image_dir, \n",
    "                                            x_col= x_column, \n",
    "                                            y_col= y_column, \n",
    "                                            target_size=(sv_image_dim[0], sv_image_dim[1]), \n",
    "                                            color_mode=color_mode, \n",
    "                                            class_mode='categorical',\n",
    "                                            batch_size=val_batch_size, \n",
    "                                            shuffle=True,\n",
    "                                            seed=10)"
   ]
  },
  {
   "cell_type": "code",
   "execution_count": 20,
   "metadata": {},
   "outputs": [],
   "source": [
    "# store = next(train_generator)\n",
    "# plt.imshow(store[0][2]);"
   ]
  },
  {
   "cell_type": "code",
   "execution_count": 21,
   "metadata": {},
   "outputs": [
    {
     "name": "stdout",
     "output_type": "stream",
     "text": [
      "Epoch 1/20\n",
      "11/11 [==============================] - 20s 2s/step - loss: 3.8764 - acc: 0.4243 - val_loss: 3.8204 - val_acc: 0.3562\n",
      "Epoch 2/20\n",
      "11/11 [==============================] - 18s 2s/step - loss: 3.3900 - acc: 0.6889 - val_loss: 3.8228 - val_acc: 0.3562\n",
      "Epoch 3/20\n",
      "11/11 [==============================] - 17s 2s/step - loss: 3.2563 - acc: 0.7832 - val_loss: 3.8008 - val_acc: 0.3562\n",
      "Epoch 4/20\n",
      "11/11 [==============================] - 17s 2s/step - loss: 3.0995 - acc: 0.8955 - val_loss: 3.8172 - val_acc: 0.3562\n",
      "Epoch 5/20\n",
      "11/11 [==============================] - 16s 1s/step - loss: 3.0240 - acc: 0.9392 - val_loss: 3.7673 - val_acc: 0.3562\n",
      "Epoch 6/20\n",
      "11/11 [==============================] - 15s 1s/step - loss: 3.0112 - acc: 0.9671 - val_loss: 3.6733 - val_acc: 0.3562\n",
      "Epoch 7/20\n",
      "11/11 [==============================] - 17s 2s/step - loss: 2.8461 - acc: 0.9830 - val_loss: 3.5918 - val_acc: 0.3562\n",
      "Epoch 8/20\n",
      "11/11 [==============================] - 14s 1s/step - loss: 2.9227 - acc: 0.9896 - val_loss: 3.5341 - val_acc: 0.3562\n",
      "Epoch 9/20\n",
      "11/11 [==============================] - 18s 2s/step - loss: 2.7784 - acc: 0.9872 - val_loss: 3.4825 - val_acc: 0.3719\n",
      "Epoch 10/20\n",
      "11/11 [==============================] - 16s 1s/step - loss: 2.7891 - acc: 0.9953 - val_loss: 3.4505 - val_acc: 0.2906\n",
      "Epoch 11/20\n",
      "11/11 [==============================] - 15s 1s/step - loss: 2.7683 - acc: 0.9938 - val_loss: 3.4286 - val_acc: 0.3531\n",
      "Epoch 12/20\n",
      "11/11 [==============================] - 17s 2s/step - loss: 2.7329 - acc: 0.9953 - val_loss: 3.4143 - val_acc: 0.3531\n",
      "Epoch 13/20\n",
      "11/11 [==============================] - 15s 1s/step - loss: 2.6957 - acc: 0.9938 - val_loss: 3.4061 - val_acc: 0.3531\n",
      "Epoch 14/20\n",
      "11/11 [==============================] - 17s 2s/step - loss: 2.6610 - acc: 0.9969 - val_loss: 3.4043 - val_acc: 0.3531\n",
      "Epoch 15/20\n",
      "11/11 [==============================] - 15s 1s/step - loss: 2.6220 - acc: 0.9984 - val_loss: 3.4217 - val_acc: 0.3531\n",
      "Epoch 16/20\n",
      "10/11 [==========================>...] - ETA: 1s - loss: 2.6083 - acc: 0.9948\n",
      "Epoch 00016: ReduceLROnPlateau reducing learning rate to 9.999999747378752e-06.\n",
      "11/11 [==============================] - 18s 2s/step - loss: 2.5952 - acc: 0.9953 - val_loss: 3.4402 - val_acc: 0.3531\n",
      "Epoch 17/20\n",
      "11/11 [==============================] - 15s 1s/step - loss: 2.5667 - acc: 1.0000 - val_loss: 3.4669 - val_acc: 0.3531\n",
      "Epoch 18/20\n",
      "10/11 [==========================>...] - ETA: 1s - loss: 2.5874 - acc: 0.9948\n",
      "Epoch 00018: ReduceLROnPlateau reducing learning rate to 9.999999747378752e-07.\n",
      "11/11 [==============================] - 16s 1s/step - loss: 2.5742 - acc: 0.9953 - val_loss: 3.4955 - val_acc: 0.3531\n",
      "Epoch 19/20\n",
      "10/11 [==========================>...] - ETA: 1s - loss: 2.5078 - acc: 0.9984Restoring model weights from the end of the best epoch.\n",
      "11/11 [==============================] - 18s 2s/step - loss: 2.5685 - acc: 0.9984 - val_loss: 3.5218 - val_acc: 0.3531\n",
      "Epoch 00019: early stopping\n"
     ]
    }
   ],
   "source": [
    "# training parameters\n",
    "epochs = 20\n",
    "val_steps = test_data.shape[0]//val_batch_size\n",
    "\n",
    "# train model\n",
    "history = model.fit_generator(generator=train_generator, \n",
    "                              validation_data=test_generator, \n",
    "                              validation_steps=val_steps,\n",
    "                              epochs=epochs,\n",
    "                              steps_per_epoch=np.ceil(train_data.shape[0]//batch_size),\n",
    "                              verbose=1,\n",
    "                              callbacks=[lr_decay, early_stopping])"
   ]
  },
  {
   "cell_type": "code",
   "execution_count": 22,
   "metadata": {},
   "outputs": [],
   "source": [
    "hist = {}\n",
    "for key in history.history.keys():\n",
    "    hist[key] = history.history[key] #+ history1.history[key] "
   ]
  },
  {
   "cell_type": "code",
   "execution_count": 23,
   "metadata": {
    "scrolled": false
   },
   "outputs": [
    {
     "data": {
      "image/png": "[encoded data removed]",
      "text/plain": [
       "<Figure size 1440x432 with 2 Axes>"
      ]
     },
     "metadata": {},
     "output_type": "display_data"
    }
   ],
   "source": [
    "plt.figure(figsize = (20,6))\n",
    "plt.subplot(1,2,1)\n",
    "plt.plot(hist['acc'], label = 'acc')\n",
    "plt.plot(hist['val_acc'], label = 'val acc')\n",
    "plt.title('Accuracy by epoch', fontsize = 20)\n",
    "plt.xticks(np.arange(0,20), rotation = 90);plt.xlabel('epoch')\n",
    "plt.legend();\n",
    "\n",
    "plt.subplot(1,2,2)\n",
    "plt.plot(hist['loss'], label = 'Training Loss')\n",
    "plt.plot(hist['val_loss'], label = 'Val Loss')\n",
    "plt.title('Loss by epoch', fontsize = 20)\n",
    "plt.xticks(np.arange(0,20), rotation = 90); plt.xlabel('epoch')\n",
    "plt.legend();"
   ]
  },
  {
   "cell_type": "code",
   "execution_count": null,
   "metadata": {},
   "outputs": [],
   "source": [
    "# addresses_gsv_filename = ['1_ESSEX_ST.jpg', '8_GILMAN_ST.jpg', '9_MELVILLE_RD.jpg','10_CENTRAL_ST.jpg',\n",
    "#                          '14_MANSFIELD_ST.jpg']\n",
    "# pred_sample = sample[sample.gsv_filename.isin(addresses_gsv_filename)].drop_duplicates()\n",
    "# pred_sample\n",
    "# # model.predict_generator(\n",
    "# #     generator_three_inputs(pred_sample, tabular_df, \n",
    "# #                             tabular_predictor_cols = tabular_predictor_cols,            \n",
    "# #                            aerial_dir = '../data/training/aerial_images/', \n",
    "# #                            gsv_dir ='../data/training/sv_images/', \n",
    "# #                            batch_size = pred_sample.shape[0], \n",
    "# #                            gsv_image_dim = (128,128, 3), aer_image_dim = (128,128, 4) , \n",
    "# #                            y_column = 'temp_label'), steps = 1)"
   ]
  },
  {
   "cell_type": "markdown",
   "metadata": {},
   "source": [
    "### Make predictions"
   ]
  },
  {
   "cell_type": "code",
   "execution_count": 21,
   "metadata": {},
   "outputs": [
    {
     "name": "stdout",
     "output_type": "stream",
     "text": [
      "Found 705 validated image filenames belonging to 3 classes.\n"
     ]
    },
    {
     "data": {
      "text/plain": [
       "0.4326241134751773"
      ]
     },
     "execution_count": 21,
     "metadata": {},
     "output_type": "execute_result"
    }
   ],
   "source": [
    "## TRAIN ACCURACY\n",
    "gen_obj = ImageDataGenerator(rescale=1.0/255.0)\n",
    "train_generator = gen_obj.flow_from_dataframe(train_data, \n",
    "                                            directory = image_dir,  \n",
    "                                            x_col= x_column, \n",
    "                                            y_col= y_column, \n",
    "                                            target_size=(sv_image_dim[0], sv_image_dim[1]), \n",
    "                                            color_mode=color_mode, \n",
    "                                            class_mode='categorical',\n",
    "                                            batch_size=train_data.shape[0], \n",
    "                                            shuffle=False, \n",
    "                                            seed=10)\n",
    "\n",
    "train_preds = model.predict_generator(train_generator, steps = 1)\n",
    "train_data['predicted_label'] = np.argmax(train_preds, axis = 1)\n",
    "sum(train_data[y_column].astype('int') == train_data.predicted_label.astype('int'))/len(train_data)"
   ]
  },
  {
   "cell_type": "code",
   "execution_count": 22,
   "metadata": {},
   "outputs": [
    {
     "name": "stdout",
     "output_type": "stream",
     "text": [
      "Found 401 validated image filenames belonging to 3 classes.\n"
     ]
    },
    {
     "data": {
      "text/plain": [
       "0.47381546134663344"
      ]
     },
     "execution_count": 22,
     "metadata": {},
     "output_type": "execute_result"
    }
   ],
   "source": [
    "## TEST ACCURACY\n",
    "test_gen_obj = ImageDataGenerator(rescale=1.0/255.0)\n",
    "test_generator = test_gen_obj.flow_from_dataframe(test_data, \n",
    "                                            directory = image_dir, \n",
    "                                            x_col= x_column, \n",
    "                                            y_col= y_column, \n",
    "                                            target_size=(sv_image_dim[0], sv_image_dim[1]), \n",
    "                                            color_mode=color_mode, \n",
    "                                            class_mode='categorical',\n",
    "                                            batch_size=test_data.shape[0], \n",
    "                                            shuffle=False,\n",
    "                                            seed=10)\n",
    "\n",
    "test_preds = model.predict_generator(test_generator, steps = 1)\n",
    "test_data['predicted_label'] = np.argmax(test_preds, axis = 1)\n",
    "sum(test_data.three_class_label.astype('int') == test_data.predicted_label.astype('int'))/len(test_data)"
   ]
  },
  {
   "cell_type": "code",
   "execution_count": 23,
   "metadata": {},
   "outputs": [
    {
     "data": {
      "image/png": "[encoded data removed]",
      "text/plain": [
       "<Figure size 1440x432 with 3 Axes>"
      ]
     },
     "metadata": {},
     "output_type": "display_data"
    }
   ],
   "source": [
    "# binary prediction\n",
    "if len(train_preds.shape) == 1:\n",
    "    fig, ax = plt.subplots(1, 1, figsize=(20,10))\n",
    "\n",
    "    ax.hist(train_preds, color='darkblue', alpha=0.5, label='train scores')\n",
    "    ax.hist(test_preds, color='darkred', alpha=0.5, label='test scores')\n",
    "    ax.legend()\n",
    "    ax.set_xlabel('Score')\n",
    "    ax.set_title('Distribution of model scores');\n",
    "    \n",
    "elif len(train_preds.shape) > 1:\n",
    "    label_map = {0: 'Predicted no driveway', 1: 'Predicted yes driveway', 2: 'Predicted unsure'}\n",
    "    fig, ax = plt.subplots(1, train_preds.shape[1], sharex=True, figsize=(20,6))\n",
    "    \n",
    "    for i in range(train_preds.shape[1]):\n",
    "        ax[i].hist(train_preds[:,i], color='darkblue', alpha=0.5, label='train scores')\n",
    "        ax[i].hist(test_preds[:,i], color='darkred', alpha=0.5, label='test scores')\n",
    "        ax[i].legend()\n",
    "        ax[i].set_xlabel('Score')\n",
    "        ax[i].set_title(label_map[i])\n",
    "    fig.suptitle('Distribution of model scores');"
   ]
  },
  {
   "cell_type": "code",
   "execution_count": 29,
   "metadata": {},
   "outputs": [],
   "source": [
    "# (train_data['three_class_label'] == train_data['predicted_label'])"
   ]
  },
  {
   "cell_type": "code",
   "execution_count": 24,
   "metadata": {},
   "outputs": [
    {
     "data": {
      "image/png": "[encoded data removed]",
      "text/plain": [
       "<Figure size 1440x432 with 3 Axes>"
      ]
     },
     "metadata": {},
     "output_type": "display_data"
    }
   ],
   "source": [
    "fig, ax = plt.subplots(1, 3, sharex=True, figsize=(20,6))\n",
    "for i in range(train_preds.shape[1]):\n",
    "    for lab in ['0','1','2']:\n",
    "        ax[i].hist(train_preds[train_data[y_column]==lab,i], alpha=0.3, density=True, label=lab)\n",
    "    ax[i].legend(title='True label');\n",
    "    ax[i].set_title('Predicted label ' + str(i))"
   ]
  },
  {
   "cell_type": "markdown",
   "metadata": {},
   "source": [
    "### Save Models"
   ]
  },
  {
   "cell_type": "code",
   "execution_count": 25,
   "metadata": {},
   "outputs": [],
   "source": [
    "model.save('../models/sv_transfer_model_learningratescheduler_es.h5')"
   ]
  },
  {
   "cell_type": "code",
   "execution_count": 26,
   "metadata": {},
   "outputs": [],
   "source": [
    "model.save_weights('../models/sv_transfer_model_weights_learningratescheduler_es.h5')"
   ]
  },
  {
   "cell_type": "code",
   "execution_count": null,
   "metadata": {},
   "outputs": [],
   "source": [
    "chk = load_model('../models/sv_transfer_model_learningratescheduler.h5')"
   ]
  },
  {
   "cell_type": "code",
   "execution_count": 50,
   "metadata": {},
   "outputs": [],
   "source": [
    "# chk.predict_generator(train_generator)"
   ]
  }
 ],
 "metadata": {
  "kernelspec": {
   "display_name": "Environment (conda_tensorflow_p36)",
   "language": "python",
   "name": "conda_tensorflow_p36"
  },
  "language_info": {
   "codemirror_mode": {
    "name": "ipython",
    "version": 3
   },
   "file_extension": ".py",
   "mimetype": "text/x-python",
   "name": "python",
   "nbconvert_exporter": "python",
   "pygments_lexer": "ipython3",
   "version": "3.6.5"
  }
 },
 "nbformat": 4,
 "nbformat_minor": 2
}
