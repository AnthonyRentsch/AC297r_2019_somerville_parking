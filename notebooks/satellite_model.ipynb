{
 "cells": [
  {
   "cell_type": "code",
   "execution_count": 1,
   "metadata": {},
   "outputs": [
    {
     "name": "stderr",
     "output_type": "stream",
     "text": [
      "/Users/anthonyrentsch/anaconda3/envs/somerville-parking/lib/python3.6/site-packages/tensorflow/python/framework/dtypes.py:523: FutureWarning: Passing (type, 1) or '1type' as a synonym of type is deprecated; in a future version of numpy, it will be understood as (type, (1,)) / '(1,)type'.\n",
      "  _np_qint8 = np.dtype([(\"qint8\", np.int8, 1)])\n",
      "/Users/anthonyrentsch/anaconda3/envs/somerville-parking/lib/python3.6/site-packages/tensorflow/python/framework/dtypes.py:524: FutureWarning: Passing (type, 1) or '1type' as a synonym of type is deprecated; in a future version of numpy, it will be understood as (type, (1,)) / '(1,)type'.\n",
      "  _np_quint8 = np.dtype([(\"quint8\", np.uint8, 1)])\n",
      "/Users/anthonyrentsch/anaconda3/envs/somerville-parking/lib/python3.6/site-packages/tensorflow/python/framework/dtypes.py:525: FutureWarning: Passing (type, 1) or '1type' as a synonym of type is deprecated; in a future version of numpy, it will be understood as (type, (1,)) / '(1,)type'.\n",
      "  _np_qint16 = np.dtype([(\"qint16\", np.int16, 1)])\n",
      "/Users/anthonyrentsch/anaconda3/envs/somerville-parking/lib/python3.6/site-packages/tensorflow/python/framework/dtypes.py:526: FutureWarning: Passing (type, 1) or '1type' as a synonym of type is deprecated; in a future version of numpy, it will be understood as (type, (1,)) / '(1,)type'.\n",
      "  _np_quint16 = np.dtype([(\"quint16\", np.uint16, 1)])\n",
      "/Users/anthonyrentsch/anaconda3/envs/somerville-parking/lib/python3.6/site-packages/tensorflow/python/framework/dtypes.py:527: FutureWarning: Passing (type, 1) or '1type' as a synonym of type is deprecated; in a future version of numpy, it will be understood as (type, (1,)) / '(1,)type'.\n",
      "  _np_qint32 = np.dtype([(\"qint32\", np.int32, 1)])\n",
      "/Users/anthonyrentsch/anaconda3/envs/somerville-parking/lib/python3.6/site-packages/tensorflow/python/framework/dtypes.py:532: FutureWarning: Passing (type, 1) or '1type' as a synonym of type is deprecated; in a future version of numpy, it will be understood as (type, (1,)) / '(1,)type'.\n",
      "  np_resource = np.dtype([(\"resource\", np.ubyte, 1)])\n",
      "Using TensorFlow backend.\n"
     ]
    }
   ],
   "source": [
    "# imports\n",
    "import pandas as pd\n",
    "import numpy as np\n",
    "import matplotlib.pyplot as plt\n",
    "%matplotlib inline\n",
    "\n",
    "from sklearn.model_selection import train_test_split\n",
    "\n",
    "from tensorflow.keras import layers, models, optimizers\n",
    "from tensorflow.keras.preprocessing.image import ImageDataGenerator\n",
    "from tensorflow.keras.applications.inception_v3 import InceptionV3\n",
    "from tensorflow.keras.applications.densenet import DenseNet201\n",
    "\n",
    "import sys\n",
    "sys.path.append('../src/')\n",
    "sys.path.append('/notebook')\n",
    "\n",
    "from models import combined_cnn\n",
    "from loss import smooth_labels\n",
    "from metrics import sensitivity, specificity"
   ]
  },
  {
   "cell_type": "code",
   "execution_count": 2,
   "metadata": {},
   "outputs": [],
   "source": [
    "# import dataframe with filenames and labels\n",
    "sample = pd.read_csv('../labels/training_labels_updated_111219.csv')"
   ]
  },
  {
   "cell_type": "code",
   "execution_count": 3,
   "metadata": {},
   "outputs": [],
   "source": [
    "# smooth labels\n",
    "sample['full_label'] = 'aerial_' + sample['AERIAL_Driveway'].astype(int).astype(str) + \\\n",
    "                       '_gsv_' + sample['GSV_Driveway'].astype(int).astype(str)\n",
    "sample['smooth_label'] = smooth_labels(sample['full_label'])"
   ]
  },
  {
   "cell_type": "code",
   "execution_count": 4,
   "metadata": {},
   "outputs": [],
   "source": [
    "# label all unsures as 1s \n",
    "sample['temp_label'] = sample['final_label'].apply(lambda x: np.round(x))\n",
    "sample['temp_label'] = sample['temp_label'].astype('int').astype('str')\n",
    "sample['final_label'] =  sample['final_label'].astype('str')"
   ]
  },
  {
   "cell_type": "code",
   "execution_count": 5,
   "metadata": {},
   "outputs": [],
   "source": [
    "def three_labels(aerial, gsv):\n",
    "    labels = []\n",
    "    for aerial_, gsv_ in zip(aerial, gsv):\n",
    "        if aerial_ == 1 or gsv_ == 1:\n",
    "            labels.append(1)\n",
    "        elif aerial_ == 0 or gsv_ == 0:\n",
    "            labels.append(0)\n",
    "        elif aerial_ == 2 and gsv_ == 2:\n",
    "            labels.append(2)\n",
    "    return labels\n",
    "        \n",
    "sample['three_label'] = three_labels(sample['AERIAL_Driveway'], sample['GSV_Driveway'])\n",
    "sample['three_label'] = sample['three_label'].astype(str)"
   ]
  },
  {
   "cell_type": "code",
   "execution_count": 6,
   "metadata": {},
   "outputs": [
    {
     "data": {
      "text/html": [
       "<div>\n",
       "<style scoped>\n",
       "    .dataframe tbody tr th:only-of-type {\n",
       "        vertical-align: middle;\n",
       "    }\n",
       "\n",
       "    .dataframe tbody tr th {\n",
       "        vertical-align: top;\n",
       "    }\n",
       "\n",
       "    .dataframe thead th {\n",
       "        text-align: right;\n",
       "    }\n",
       "</style>\n",
       "<table border=\"1\" class=\"dataframe\">\n",
       "  <thead>\n",
       "    <tr style=\"text-align: right;\">\n",
       "      <th></th>\n",
       "      <th>ADDR_NUM</th>\n",
       "      <th>FULL_STR</th>\n",
       "      <th>MBL</th>\n",
       "      <th>ADDRESS_FOR_STREET_VIEW</th>\n",
       "      <th>AERIAL_Driveway</th>\n",
       "      <th>GSV_Driveway</th>\n",
       "      <th>final_label</th>\n",
       "      <th>aerial_filename</th>\n",
       "      <th>gsv_filename</th>\n",
       "      <th>full_label</th>\n",
       "      <th>smooth_label</th>\n",
       "      <th>temp_label</th>\n",
       "      <th>three_label</th>\n",
       "    </tr>\n",
       "  </thead>\n",
       "  <tbody>\n",
       "    <tr>\n",
       "      <td>0</td>\n",
       "      <td>5</td>\n",
       "      <td>DOUGLAS AVE</td>\n",
       "      <td>47-G-17</td>\n",
       "      <td>5  DOUGLAS AVE, SOMERVILLE, MA</td>\n",
       "      <td>2.0</td>\n",
       "      <td>0.0</td>\n",
       "      <td>0.1</td>\n",
       "      <td>5_DOUGLAS_AVE_aerial.png</td>\n",
       "      <td>5_DOUGLAS_AVE.jpg</td>\n",
       "      <td>aerial_2_gsv_0</td>\n",
       "      <td>0.1</td>\n",
       "      <td>0</td>\n",
       "      <td>0</td>\n",
       "    </tr>\n",
       "    <tr>\n",
       "      <td>1</td>\n",
       "      <td>6</td>\n",
       "      <td>HILLSIDE CIR</td>\n",
       "      <td>38-A-47</td>\n",
       "      <td>6  HILLSIDE CIR, SOMERVILLE, MA</td>\n",
       "      <td>1.0</td>\n",
       "      <td>2.0</td>\n",
       "      <td>0.9</td>\n",
       "      <td>6_HILLSIDE_CIR_aerial.png</td>\n",
       "      <td>6_HILLSIDE_CIR.jpg</td>\n",
       "      <td>aerial_1_gsv_2</td>\n",
       "      <td>0.9</td>\n",
       "      <td>1</td>\n",
       "      <td>1</td>\n",
       "    </tr>\n",
       "    <tr>\n",
       "      <td>2</td>\n",
       "      <td>8</td>\n",
       "      <td>BELMONT PL</td>\n",
       "      <td>44-A-48</td>\n",
       "      <td>8  BELMONT PL, SOMERVILLE, MA</td>\n",
       "      <td>2.0</td>\n",
       "      <td>2.0</td>\n",
       "      <td>0.5</td>\n",
       "      <td>8_BELMONT_PL_aerial.png</td>\n",
       "      <td>8_BELMONT_PL.jpg</td>\n",
       "      <td>aerial_2_gsv_2</td>\n",
       "      <td>0.5</td>\n",
       "      <td>0</td>\n",
       "      <td>2</td>\n",
       "    </tr>\n",
       "    <tr>\n",
       "      <td>3</td>\n",
       "      <td>8</td>\n",
       "      <td>DRESDEN CIR</td>\n",
       "      <td>25-A-13</td>\n",
       "      <td>8  DRESDEN CIR, SOMERVILLE, MA</td>\n",
       "      <td>2.0</td>\n",
       "      <td>2.0</td>\n",
       "      <td>0.5</td>\n",
       "      <td>8_DRESDEN_CIR_aerial.png</td>\n",
       "      <td>8_DRESDEN_CIR.jpg</td>\n",
       "      <td>aerial_2_gsv_2</td>\n",
       "      <td>0.5</td>\n",
       "      <td>0</td>\n",
       "      <td>2</td>\n",
       "    </tr>\n",
       "    <tr>\n",
       "      <td>4</td>\n",
       "      <td>8</td>\n",
       "      <td>HAWTHORNE ST</td>\n",
       "      <td>25-D-16</td>\n",
       "      <td>8  HAWTHORNE ST, SOMERVILLE, MA</td>\n",
       "      <td>0.0</td>\n",
       "      <td>2.0</td>\n",
       "      <td>0.1</td>\n",
       "      <td>8_HAWTHORNE_ST_aerial.png</td>\n",
       "      <td>8_HAWTHORNE_ST.jpg</td>\n",
       "      <td>aerial_0_gsv_2</td>\n",
       "      <td>0.1</td>\n",
       "      <td>0</td>\n",
       "      <td>0</td>\n",
       "    </tr>\n",
       "  </tbody>\n",
       "</table>\n",
       "</div>"
      ],
      "text/plain": [
       "  ADDR_NUM      FULL_STR      MBL          ADDRESS_FOR_STREET_VIEW  \\\n",
       "0        5   DOUGLAS AVE  47-G-17   5  DOUGLAS AVE, SOMERVILLE, MA   \n",
       "1        6  HILLSIDE CIR  38-A-47  6  HILLSIDE CIR, SOMERVILLE, MA   \n",
       "2        8    BELMONT PL  44-A-48    8  BELMONT PL, SOMERVILLE, MA   \n",
       "3        8   DRESDEN CIR  25-A-13   8  DRESDEN CIR, SOMERVILLE, MA   \n",
       "4        8  HAWTHORNE ST  25-D-16  8  HAWTHORNE ST, SOMERVILLE, MA   \n",
       "\n",
       "   AERIAL_Driveway  GSV_Driveway final_label            aerial_filename  \\\n",
       "0              2.0           0.0         0.1   5_DOUGLAS_AVE_aerial.png   \n",
       "1              1.0           2.0         0.9  6_HILLSIDE_CIR_aerial.png   \n",
       "2              2.0           2.0         0.5    8_BELMONT_PL_aerial.png   \n",
       "3              2.0           2.0         0.5   8_DRESDEN_CIR_aerial.png   \n",
       "4              0.0           2.0         0.1  8_HAWTHORNE_ST_aerial.png   \n",
       "\n",
       "         gsv_filename      full_label  smooth_label temp_label three_label  \n",
       "0   5_DOUGLAS_AVE.jpg  aerial_2_gsv_0           0.1          0           0  \n",
       "1  6_HILLSIDE_CIR.jpg  aerial_1_gsv_2           0.9          1           1  \n",
       "2    8_BELMONT_PL.jpg  aerial_2_gsv_2           0.5          0           2  \n",
       "3   8_DRESDEN_CIR.jpg  aerial_2_gsv_2           0.5          0           2  \n",
       "4  8_HAWTHORNE_ST.jpg  aerial_0_gsv_2           0.1          0           0  "
      ]
     },
     "execution_count": 6,
     "metadata": {},
     "output_type": "execute_result"
    }
   ],
   "source": [
    "# peak at data\n",
    "sample.head()"
   ]
  },
  {
   "cell_type": "code",
   "execution_count": 30,
   "metadata": {},
   "outputs": [],
   "source": [
    "# parameters\n",
    "aer_image_dim = (128, 128, 3) # (128, 128, 4)\n",
    "aerial_dir = '../data/training/aerial_images/'\n",
    "x_column = 'aerial_filename'\n",
    "y_column = 'three_label' #smooth_label, temp_label\n",
    "batch_size = 32\n",
    "color_mode = 'rgb'"
   ]
  },
  {
   "cell_type": "code",
   "execution_count": 31,
   "metadata": {},
   "outputs": [],
   "source": [
    "# split train and test\n",
    "train_data, test_data = train_test_split(sample, test_size = 0.25, random_state = 100)"
   ]
  },
  {
   "cell_type": "code",
   "execution_count": 32,
   "metadata": {},
   "outputs": [
    {
     "name": "stdout",
     "output_type": "stream",
     "text": [
      "train\n",
      "1    291\n",
      "0     57\n",
      "2     18\n",
      "Name: three_label, dtype: int64\n",
      "test\n",
      "1    92\n",
      "0    20\n",
      "2    10\n",
      "Name: three_label, dtype: int64\n"
     ]
    }
   ],
   "source": [
    "# print distribution of sets\n",
    "print('train')\n",
    "print(train_data[y_column].value_counts())\n",
    "print('test')\n",
    "print(test_data[y_column].value_counts())"
   ]
  },
  {
   "cell_type": "code",
   "execution_count": 33,
   "metadata": {},
   "outputs": [],
   "source": [
    "# rebalance\n",
    "rebalanced_train = pd.concat([train_data, \n",
    "                              train_data[train_data[y_column]=='0'],\n",
    "                              train_data[train_data[y_column]=='0'],\n",
    "                              train_data[train_data[y_column]=='0'],\n",
    "                              train_data[train_data[y_column]=='2'],\n",
    "                              train_data[train_data[y_column]=='2'],\n",
    "                              train_data[train_data[y_column]=='2'],\n",
    "                              train_data[train_data[y_column]=='2'],\n",
    "                              train_data[train_data[y_column]=='2'],\n",
    "                              train_data[train_data[y_column]=='2'],\n",
    "                              train_data[train_data[y_column]=='2'],\n",
    "                              train_data[train_data[y_column]=='2'],\n",
    "                              train_data[train_data[y_column]=='2']])"
   ]
  },
  {
   "cell_type": "code",
   "execution_count": 34,
   "metadata": {},
   "outputs": [
    {
     "name": "stdout",
     "output_type": "stream",
     "text": [
      "rebalanced train\n",
      "1    291\n",
      "0    228\n",
      "2    180\n",
      "Name: three_label, dtype: int64\n"
     ]
    }
   ],
   "source": [
    "print('rebalanced train')\n",
    "print(rebalanced_train[y_column].value_counts())"
   ]
  },
  {
   "cell_type": "code",
   "execution_count": 35,
   "metadata": {},
   "outputs": [
    {
     "name": "stdout",
     "output_type": "stream",
     "text": [
      "Found 699 validated image filenames belonging to 3 classes.\n",
      "Found 122 validated image filenames belonging to 3 classes.\n"
     ]
    }
   ],
   "source": [
    "# data augmentation and generator\n",
    "## train\n",
    "#drop_channel = lambda x: x[:,:,0:3]\n",
    "aerial_gen_obj = ImageDataGenerator(\n",
    "    #preprocessing_function=drop_channel,\n",
    "                                    horizontal_flip = True, vertical_flip = True, \n",
    "                                    width_shift_range = 0.1, height_shift_range = 0.1, \n",
    "                                    zoom_range = 0.1, rotation_range = 40)\n",
    "train_generator = aerial_gen_obj.flow_from_dataframe(rebalanced_train, directory = aerial_dir,  #train_data\n",
    "                                                x_col= x_column, y_col= y_column, \n",
    "                                                target_size=(aer_image_dim[0], aer_image_dim[1]), \n",
    "                                                color_mode=color_mode, class_mode='categorical', #class_mode='binary'\n",
    "                                                batch_size=batch_size, \n",
    "                                                shuffle=True, seed=100)\n",
    "\n",
    "## test\n",
    "test_generator = aerial_gen_obj.flow_from_dataframe(test_data, directory = aerial_dir, \n",
    "                                                x_col= x_column, y_col= y_column, \n",
    "                                                target_size=(aer_image_dim[0], aer_image_dim[1]), \n",
    "                                                color_mode=color_mode, class_mode='categorical', #class_mode='binary'\n",
    "                                                batch_size=batch_size, \n",
    "                                                shuffle=True, seed=100)"
   ]
  },
  {
   "cell_type": "code",
   "execution_count": 36,
   "metadata": {},
   "outputs": [],
   "source": [
    "# define models\n",
    "def satellite_cnn(image_dim = aer_image_dim, n_classes=1):\n",
    "    \n",
    "    sat_input_img = layers.Input(shape=image_dim, name='aerial_image_input')\n",
    "    sat_cnn = layers.Conv2D(256, (3,3), activation = 'relu')(sat_input_img)\n",
    "    sat_cnn = layers.MaxPooling2D((2,2))(sat_cnn)\n",
    "    sat_cnn = layers.Conv2D(128, (3,3), activation = 'relu')(sat_cnn)\n",
    "    sat_cnn = layers.MaxPooling2D((2,2))(sat_cnn)\n",
    "    sat_cnn = layers.Conv2D(64, (3,3), activation = 'relu')(sat_cnn)\n",
    "    sat_cnn = layers.MaxPooling2D((2,2))(sat_cnn)\n",
    "    sat_cnn = layers.Conv2D(16, (3,3), activation = 'relu')(sat_cnn)\n",
    "    sat_cnn = layers.MaxPooling2D((2,2))(sat_cnn)\n",
    "    sat_cnn = layers.Conv2D(8, (3,3), activation = 'relu')(sat_cnn)\n",
    "    sat_cnn = layers.MaxPooling2D((2,2))(sat_cnn)\n",
    "    sat_flat = layers.Flatten()(sat_cnn)\n",
    "    sat_image_embedding = layers.Dense(300, activation='relu')(sat_flat)\n",
    "    \n",
    "    full_embedding = layers.Dense(200, activation='relu')(sat_image_embedding)\n",
    "    full_embedding = layers.Dropout(rate=0.5)(full_embedding)\n",
    "    full_embedding = layers.Dense(100, activation='relu')(full_embedding)\n",
    "    full_embedding = layers.Dropout(rate=0.3)(full_embedding)\n",
    "    full_embedding = layers.Dense(64, activation='relu')(full_embedding)\n",
    "    full_embedding = layers.Dropout(rate=0.1)(full_embedding)\n",
    "    output = layers.Dense(n_classes, activation='softmax')(full_embedding)\n",
    "    \n",
    "    model = models.Model(inputs=sat_input_img, outputs=output)\n",
    "    adam = optimizers.Adam(lr=1e-5, beta_1=0.9, beta_2=0.999, amsgrad=False)\n",
    "    model.compile(loss='categorical_crossentropy', optimizer=adam, metrics=['accuracy', sensitivity, specificity])\n",
    "    \n",
    "    return model\n",
    "\n",
    "def satellite_cnn_transfer(image_dim = aer_image_dim, pre_trained = None, n_classes=1):\n",
    "    \n",
    "    if not pre_trained:\n",
    "        print('No model specified')\n",
    "        return \n",
    "        \n",
    "    sat_input_img = layers.Input(shape=image_dim, name='aerial_image_input')\n",
    "    \n",
    "    for layer in pre_trained.layers:\n",
    "        layer.trainable = False\n",
    "    pre_trained_embedding = pre_trained(sat_input_img)\n",
    "    pre_trained_embedding = layers.Flatten()(pre_trained_embedding)\n",
    "    \n",
    "    full_embedding = layers.Dense(300, activation='relu')(pre_trained_embedding)\n",
    "    full_embedding = layers.Dropout(rate=0.5)(full_embedding)\n",
    "    full_embedding = layers.Dense(200, activation='relu')(full_embedding)\n",
    "    full_embedding = layers.Dropout(rate=0.5)(full_embedding)\n",
    "    full_embedding = layers.Dense(100, activation='relu')(full_embedding)\n",
    "    output = layers.Dense(n_classes, activation='softmax')(full_embedding)\n",
    "    \n",
    "    model = models.Model(inputs=sat_input_img, outputs=output)\n",
    "    adam = optimizers.Adam(lr=1e-5, beta_1=0.9, beta_2=0.999, amsgrad=False)\n",
    "    model.compile(loss='categorical_crossentropy', optimizer=adam, metrics=['accuracy', sensitivity, specificity])\n",
    "    \n",
    "    return model"
   ]
  },
  {
   "cell_type": "code",
   "execution_count": 37,
   "metadata": {},
   "outputs": [],
   "source": [
    "# load transfer learning weights\n",
    "# inception_v3 = apps.inception_v3.InceptionV3(include_top=False, input_shape=aer_image_dim)\n",
    "dense_net = DenseNet201(include_top=False, input_shape=aer_image_dim)"
   ]
  },
  {
   "cell_type": "code",
   "execution_count": 38,
   "metadata": {},
   "outputs": [
    {
     "name": "stdout",
     "output_type": "stream",
     "text": [
      "_________________________________________________________________\n",
      "Layer (type)                 Output Shape              Param #   \n",
      "=================================================================\n",
      "aerial_image_input (InputLay (None, 128, 128, 3)       0         \n",
      "_________________________________________________________________\n",
      "densenet201 (Model)          (None, 4, 4, 1920)        18321984  \n",
      "_________________________________________________________________\n",
      "flatten_1 (Flatten)          (None, 30720)             0         \n",
      "_________________________________________________________________\n",
      "dense_5 (Dense)              (None, 300)               9216300   \n",
      "_________________________________________________________________\n",
      "dropout_3 (Dropout)          (None, 300)               0         \n",
      "_________________________________________________________________\n",
      "dense_6 (Dense)              (None, 200)               60200     \n",
      "_________________________________________________________________\n",
      "dropout_4 (Dropout)          (None, 200)               0         \n",
      "_________________________________________________________________\n",
      "dense_7 (Dense)              (None, 100)               20100     \n",
      "_________________________________________________________________\n",
      "dense_8 (Dense)              (None, 3)                 303       \n",
      "=================================================================\n",
      "Total params: 27,618,887\n",
      "Trainable params: 9,296,903\n",
      "Non-trainable params: 18,321,984\n",
      "_________________________________________________________________\n"
     ]
    }
   ],
   "source": [
    "# instantiate model\n",
    "# model = satellite_cnn(n_classes=3)\n",
    "model = satellite_cnn_transfer(pre_trained = dense_net, n_classes=3)\n",
    "model.summary()"
   ]
  },
  {
   "cell_type": "code",
   "execution_count": 39,
   "metadata": {},
   "outputs": [],
   "source": [
    "# training parameters\n",
    "epochs = 10\n",
    "val_steps = 5"
   ]
  },
  {
   "cell_type": "code",
   "execution_count": 40,
   "metadata": {},
   "outputs": [
    {
     "name": "stdout",
     "output_type": "stream",
     "text": [
      "Epoch 1/10\n",
      "11/11 [==============================] - 84s 8s/step - loss: 1.6907 - acc: 0.4291 - sensitivity: 0.4030 - specificity: 0.7492 - val_loss: 2.0784 - val_acc: 0.7273 - val_sensitivity: 0.7273 - val_specificity: 0.8669\n",
      "Epoch 2/10\n",
      "11/11 [==============================] - 52s 5s/step - loss: 1.5008 - acc: 0.3778 - sensitivity: 0.3125 - specificity: 0.7514 - val_loss: 2.1066 - val_acc: 0.3636 - val_sensitivity: 0.3377 - val_specificity: 0.7143\n",
      "Epoch 3/10\n",
      "11/11 [==============================] - 51s 5s/step - loss: 1.3623 - acc: 0.3627 - sensitivity: 0.2712 - specificity: 0.7707 - val_loss: 4.1066 - val_acc: 0.1494 - val_sensitivity: 0.1429 - val_specificity: 0.5974\n",
      "Epoch 4/10\n",
      "11/11 [==============================] - 51s 5s/step - loss: 1.3248 - acc: 0.3608 - sensitivity: 0.2670 - specificity: 0.7855 - val_loss: 4.6338 - val_acc: 0.2013 - val_sensitivity: 0.1948 - val_specificity: 0.6201\n",
      "Epoch 5/10\n",
      "11/11 [==============================] - 63s 6s/step - loss: 1.3220 - acc: 0.3613 - sensitivity: 0.2205 - specificity: 0.7930 - val_loss: 4.4388 - val_acc: 0.1429 - val_sensitivity: 0.1169 - val_specificity: 0.5877\n",
      "Epoch 6/10\n",
      "11/11 [==============================] - 61s 6s/step - loss: 1.2154 - acc: 0.4148 - sensitivity: 0.2756 - specificity: 0.8310 - val_loss: 4.0903 - val_acc: 0.1623 - val_sensitivity: 0.1623 - val_specificity: 0.6039\n",
      "Epoch 7/10\n",
      "11/11 [==============================] - 57s 5s/step - loss: 1.2344 - acc: 0.3846 - sensitivity: 0.2314 - specificity: 0.7997 - val_loss: 3.7815 - val_acc: 0.2143 - val_sensitivity: 0.1818 - val_specificity: 0.6266\n",
      "Epoch 8/10\n",
      "11/11 [==============================] - 55s 5s/step - loss: 1.2026 - acc: 0.3807 - sensitivity: 0.2358 - specificity: 0.8438 - val_loss: 3.5969 - val_acc: 0.1883 - val_sensitivity: 0.1818 - val_specificity: 0.6201\n",
      "Epoch 9/10\n",
      "11/11 [==============================] - 61s 6s/step - loss: 1.2172 - acc: 0.3722 - sensitivity: 0.2423 - specificity: 0.8264 - val_loss: 3.5258 - val_acc: 0.2273 - val_sensitivity: 0.2208 - val_specificity: 0.6396\n",
      "Epoch 10/10\n",
      "11/11 [==============================] - 66s 6s/step - loss: 1.2113 - acc: 0.3949 - sensitivity: 0.2301 - specificity: 0.8139 - val_loss: 3.1823 - val_acc: 0.2143 - val_sensitivity: 0.1948 - val_specificity: 0.6331\n"
     ]
    }
   ],
   "source": [
    "# train model\n",
    "history = model.fit_generator(generator=train_generator, \n",
    "                              validation_data=test_generator, \n",
    "                              validation_steps=val_steps, \n",
    "                              epochs=epochs,\n",
    "                              steps_per_epoch=np.ceil(train_data.shape[0]//batch_size),\n",
    "                              verbose=1)"
   ]
  },
  {
   "cell_type": "code",
   "execution_count": null,
   "metadata": {},
   "outputs": [],
   "source": [
    "# save model\n",
    "# model.save('../models/satellite_model.h5')"
   ]
  },
  {
   "cell_type": "code",
   "execution_count": null,
   "metadata": {},
   "outputs": [],
   "source": [
    "# # load model\n",
    "# from tensorflow.keras.models import load_model\n",
    "# model = load_model('../models/satellite_model.h5', \n",
    "#                    custom_objects={'sensitivity': sensitivity, 'specificity': specificity})"
   ]
  },
  {
   "cell_type": "code",
   "execution_count": 43,
   "metadata": {},
   "outputs": [],
   "source": [
    "train_baseline_acc = rebalanced_train[y_column].value_counts().max()/rebalanced_train.shape[0]\n",
    "test_baseline_acc = test_data[y_column].value_counts().max()/test_data.shape[0]"
   ]
  },
  {
   "cell_type": "code",
   "execution_count": 44,
   "metadata": {},
   "outputs": [
    {
     "data": {
      "image/png": "[encoded data removed]",
      "text/plain": [
       "<Figure size 1800x360 with 3 Axes>"
      ]
     },
     "metadata": {
      "needs_background": "light"
     },
     "output_type": "display_data"
    }
   ],
   "source": [
    "# plot performance\n",
    "fig, ax = plt.subplots(1, 3, figsize=(25,5))\n",
    "\n",
    "ax[0].plot(history.history['acc'], color='darkblue', label='train')\n",
    "ax[0].plot(history.history['val_acc'], color='darkred', label='val')\n",
    "ax[0].axhline(train_baseline_acc, color='darkblue', linestyle='dashed', label='train baseline')\n",
    "ax[0].axhline(test_baseline_acc, color='darkred', linestyle='dashed', label='val baseline')\n",
    "ax[0].legend()\n",
    "ax[0].set_title('Accuracy')\n",
    "\n",
    "ax[1].plot(history.history['sensitivity'], color='darkblue', label='train')\n",
    "ax[1].plot(history.history['val_sensitivity'], color='darkred', label='val')\n",
    "ax[1].legend()\n",
    "ax[1].set_title('Sensitivity')\n",
    "\n",
    "ax[2].plot(history.history['specificity'], color='darkblue', label='train')\n",
    "ax[2].plot(history.history['val_specificity'], color='darkred', label='val')\n",
    "ax[2].legend()\n",
    "ax[2].set_title('Specificity');"
   ]
  },
  {
   "cell_type": "code",
   "execution_count": 45,
   "metadata": {},
   "outputs": [],
   "source": [
    "# score training set and test set (even though it was used for validation)\n",
    "train_preds = model.predict_generator(train_generator)\n",
    "test_preds = model.predict_generator(test_generator)"
   ]
  },
  {
   "cell_type": "code",
   "execution_count": 46,
   "metadata": {},
   "outputs": [
    {
     "data": {
      "image/png": "[encoded data removed]",
      "text/plain": [
       "<Figure size 1440x432 with 3 Axes>"
      ]
     },
     "metadata": {
      "needs_background": "light"
     },
     "output_type": "display_data"
    }
   ],
   "source": [
    "# binary prediction\n",
    "if len(train_preds.shape) == 1:\n",
    "    fig, ax = plt.subplots(1, 1, figsize=(20,10))\n",
    "\n",
    "    ax.hist(train_preds, color='darkblue', alpha=0.5, label='train scores')\n",
    "    ax.hist(test_preds, color='darkred', alpha=0.5, label='test scores')\n",
    "    ax.legend()\n",
    "    ax.set_xlabel('Score')\n",
    "    ax.set_title('Distribution of model scores');\n",
    "    \n",
    "elif len(train_preds.shape) > 1:\n",
    "    label_map = {0: 'Predicted no driveway', 1: 'Preidcted yes driveway', 2: 'Predicted unsure'}\n",
    "    fig, ax = plt.subplots(1, train_preds.shape[1], sharex=True, figsize=(20,6))\n",
    "    \n",
    "    for i in range(train_preds.shape[1]):\n",
    "        ax[i].hist(train_preds[:,i], color='darkblue', alpha=0.5, label='train scores')\n",
    "        ax[i].hist(test_preds[:,i], color='darkred', alpha=0.5, label='test scores')\n",
    "        ax[i].legend()\n",
    "        ax[i].set_xlabel('Score')\n",
    "        ax[i].set_title(label_map[i])\n",
    "    fig.suptitle('Distribution of model scores');"
   ]
  },
  {
   "cell_type": "code",
   "execution_count": 50,
   "metadata": {},
   "outputs": [
    {
     "data": {
      "image/png": "[encoded data removed]",
      "text/plain": [
       "<Figure size 1440x432 with 3 Axes>"
      ]
     },
     "metadata": {
      "needs_background": "light"
     },
     "output_type": "display_data"
    }
   ],
   "source": [
    "fig, ax = plt.subplots(1, 3, sharex=True, figsize=(20,6))\n",
    "for i in range(train_preds.shape[1]):\n",
    "    for lab in ['0', '1', '2']:\n",
    "        ax[i].hist(train_preds[rebalanced_train[y_column]==lab,i], alpha=0.3, density=True, label=lab)\n",
    "    ax[i].legend(title='True label');\n",
    "    ax[i].set_title('Predicted label ' + str(i))"
   ]
  },
  {
   "cell_type": "markdown",
   "metadata": {},
   "source": [
    "---"
   ]
  }
 ],
 "metadata": {
  "kernelspec": {
   "display_name": "Python 3",
   "language": "python",
   "name": "python3"
  },
  "language_info": {
   "codemirror_mode": {
    "name": "ipython",
    "version": 3
   },
   "file_extension": ".py",
   "mimetype": "text/x-python",
   "name": "python",
   "nbconvert_exporter": "python",
   "pygments_lexer": "ipython3",
   "version": "3.6.6"
  }
 },
 "nbformat": 4,
 "nbformat_minor": 2
}
