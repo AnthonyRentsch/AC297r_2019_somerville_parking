{
 "cells": [
  {
   "cell_type": "markdown",
   "metadata": {},
   "source": [
    "### Tabular data exploration\n",
    "\n",
    "- [Parking permits](https://data.somervillema.gov/City-Services/City-of-Somerville-Parking-Permits/xavb-4s9w) between January 1, 2017 and December 31, 2018 \n",
    "- Registered vehicles - confidential file from Cortni"
   ]
  },
  {
   "cell_type": "code",
   "execution_count": 1,
   "metadata": {},
   "outputs": [],
   "source": [
    "# import libraries\n",
    "import pandas as pd\n",
    "import warnings\n",
    "warnings.filterwarnings(\"ignore\")"
   ]
  },
  {
   "cell_type": "markdown",
   "metadata": {},
   "source": [
    "#### 1. Parking Permits"
   ]
  },
  {
   "cell_type": "markdown",
   "metadata": {},
   "source": [
    "Original file cleanup ->"
   ]
  },
  {
   "cell_type": "code",
   "execution_count": 2,
   "metadata": {},
   "outputs": [],
   "source": [
    "# read in full dataset for parking permits \n",
    "parking_permits = pd.read_csv('../data/City_of_Somerville_Parking_Permits.csv')"
   ]
  },
  {
   "cell_type": "code",
   "execution_count": 3,
   "metadata": {
    "scrolled": true
   },
   "outputs": [
    {
     "data": {
      "text/html": [
       "<div>\n",
       "<style scoped>\n",
       "    .dataframe tbody tr th:only-of-type {\n",
       "        vertical-align: middle;\n",
       "    }\n",
       "\n",
       "    .dataframe tbody tr th {\n",
       "        vertical-align: top;\n",
       "    }\n",
       "\n",
       "    .dataframe thead th {\n",
       "        text-align: right;\n",
       "    }\n",
       "</style>\n",
       "<table border=\"1\" class=\"dataframe\">\n",
       "  <thead>\n",
       "    <tr style=\"text-align: right;\">\n",
       "      <th></th>\n",
       "      <th>type_code</th>\n",
       "      <th>type_name</th>\n",
       "      <th>issued</th>\n",
       "      <th>effective</th>\n",
       "      <th>expiration</th>\n",
       "      <th>st_addr</th>\n",
       "      <th>unit_num</th>\n",
       "      <th>city</th>\n",
       "      <th>state</th>\n",
       "      <th>zip_code</th>\n",
       "    </tr>\n",
       "  </thead>\n",
       "  <tbody>\n",
       "    <tr>\n",
       "      <th>0</th>\n",
       "      <td>WD</td>\n",
       "      <td>Moving Van</td>\n",
       "      <td>02/23/2017 12:00:00 AM</td>\n",
       "      <td>03/01/2017 12:00:00 AM</td>\n",
       "      <td>03/01/2017 12:00:00 AM</td>\n",
       "      <td>69 ADAMS                               ST</td>\n",
       "      <td>1</td>\n",
       "      <td>SOMERVILLE</td>\n",
       "      <td>MA</td>\n",
       "      <td>2145.0</td>\n",
       "    </tr>\n",
       "    <tr>\n",
       "      <th>1</th>\n",
       "      <td>G</td>\n",
       "      <td>Visitor</td>\n",
       "      <td>05/22/2017 12:00:00 AM</td>\n",
       "      <td>04/01/2017 12:00:00 AM</td>\n",
       "      <td>04/30/2018 12:00:00 AM</td>\n",
       "      <td>37 SEWALL                              ST</td>\n",
       "      <td></td>\n",
       "      <td>SOMERVILLE</td>\n",
       "      <td>MA</td>\n",
       "      <td>2145.0</td>\n",
       "    </tr>\n",
       "    <tr>\n",
       "      <th>2</th>\n",
       "      <td>G</td>\n",
       "      <td>Visitor</td>\n",
       "      <td>05/22/2017 12:00:00 AM</td>\n",
       "      <td>04/01/2017 12:00:00 AM</td>\n",
       "      <td>04/30/2018 12:00:00 AM</td>\n",
       "      <td>37 SEWALL                              ST</td>\n",
       "      <td></td>\n",
       "      <td>SOMERVILLE</td>\n",
       "      <td>MA</td>\n",
       "      <td>2145.0</td>\n",
       "    </tr>\n",
       "    <tr>\n",
       "      <th>3</th>\n",
       "      <td>G</td>\n",
       "      <td>Visitor</td>\n",
       "      <td>07/07/2017 12:00:00 AM</td>\n",
       "      <td>07/06/2017 12:00:00 AM</td>\n",
       "      <td>06/30/2018 12:00:00 AM</td>\n",
       "      <td>25 BEACON                              ST</td>\n",
       "      <td>5</td>\n",
       "      <td>SOMERVILLE</td>\n",
       "      <td>MA</td>\n",
       "      <td>2143.0</td>\n",
       "    </tr>\n",
       "    <tr>\n",
       "      <th>4</th>\n",
       "      <td>G</td>\n",
       "      <td>Visitor</td>\n",
       "      <td>07/07/2017 12:00:00 AM</td>\n",
       "      <td>07/06/2017 12:00:00 AM</td>\n",
       "      <td>06/30/2018 12:00:00 AM</td>\n",
       "      <td>25 BEACON                              ST</td>\n",
       "      <td>5</td>\n",
       "      <td>SOMERVILLE</td>\n",
       "      <td>MA</td>\n",
       "      <td>2143.0</td>\n",
       "    </tr>\n",
       "  </tbody>\n",
       "</table>\n",
       "</div>"
      ],
      "text/plain": [
       "  type_code   type_name                  issued               effective  \\\n",
       "0        WD  Moving Van  02/23/2017 12:00:00 AM  03/01/2017 12:00:00 AM   \n",
       "1         G     Visitor  05/22/2017 12:00:00 AM  04/01/2017 12:00:00 AM   \n",
       "2         G     Visitor  05/22/2017 12:00:00 AM  04/01/2017 12:00:00 AM   \n",
       "3         G     Visitor  07/07/2017 12:00:00 AM  07/06/2017 12:00:00 AM   \n",
       "4         G     Visitor  07/07/2017 12:00:00 AM  07/06/2017 12:00:00 AM   \n",
       "\n",
       "               expiration                                         st_addr  \\\n",
       "0  03/01/2017 12:00:00 AM      69 ADAMS                               ST    \n",
       "1  04/30/2018 12:00:00 AM      37 SEWALL                              ST    \n",
       "2  04/30/2018 12:00:00 AM      37 SEWALL                              ST    \n",
       "3  06/30/2018 12:00:00 AM      25 BEACON                              ST    \n",
       "4  06/30/2018 12:00:00 AM      25 BEACON                              ST    \n",
       "\n",
       "  unit_num             city state  zip_code  \n",
       "0    1      SOMERVILLE         MA    2145.0  \n",
       "1           SOMERVILLE         MA    2145.0  \n",
       "2           SOMERVILLE         MA    2145.0  \n",
       "3    5      SOMERVILLE         MA    2143.0  \n",
       "4    5      SOMERVILLE         MA    2143.0  "
      ]
     },
     "execution_count": 3,
     "metadata": {},
     "output_type": "execute_result"
    }
   ],
   "source": [
    "parking_permits.head()"
   ]
  },
  {
   "cell_type": "code",
   "execution_count": 4,
   "metadata": {},
   "outputs": [],
   "source": [
    "# strip extra white space\n",
    "parking_permits['type_name'] = parking_permits.type_name.str.strip()\n",
    "parking_permits['st_addr'] = parking_permits.st_addr.str.strip()\n",
    "parking_permits['st_addr']= parking_permits['st_addr'].apply(lambda mystring: ' '.join(mystring.split()))\n",
    "\n",
    "# convert issued date to datetime\n",
    "parking_permits['issued'] = pd.to_datetime(parking_permits['issued'])"
   ]
  },
  {
   "cell_type": "markdown",
   "metadata": {},
   "source": [
    "Looking at unique types of parking permits - we only care about residential permits - so:\n",
    "\n",
    "- 'Resident - No charge replacement'\n",
    "- 'Residential'\n",
    "- 'New Mass Resident'"
   ]
  },
  {
   "cell_type": "code",
   "execution_count": 5,
   "metadata": {},
   "outputs": [],
   "source": [
    "# parking_permits.type_name.unique()"
   ]
  },
  {
   "cell_type": "code",
   "execution_count": 6,
   "metadata": {},
   "outputs": [
    {
     "name": "stdout",
     "output_type": "stream",
     "text": [
      "Size of parking permit data \t\t\t (172689, 10)\n",
      "Size of RESIDENTIAL parking permit data \t (77708, 10)\n"
     ]
    }
   ],
   "source": [
    "print('Size of parking permit data \\t\\t\\t {}\\nSize of RESIDENTIAL parking permit data \\t {}'.format(\n",
    "    parking_permits.shape, \n",
    "    parking_permits[parking_permits.type_name.isin(\n",
    "        ['Residential', 'New Mass Resident', 'Resident - No charge replacement']\n",
    "    )].shape))"
   ]
  },
  {
   "cell_type": "markdown",
   "metadata": {},
   "source": [
    "We only care about permits issued in 2018 - so filtering here:\n"
   ]
  },
  {
   "cell_type": "code",
   "execution_count": 7,
   "metadata": {},
   "outputs": [],
   "source": [
    "# parking_permits.issued year is 2018\n",
    "parking_permits = parking_permits[parking_permits['issued'].dt.year == 2018]"
   ]
  },
  {
   "cell_type": "markdown",
   "metadata": {},
   "source": [
    "Now make df for Residential permits only ->"
   ]
  },
  {
   "cell_type": "code",
   "execution_count": 8,
   "metadata": {},
   "outputs": [],
   "source": [
    "# subset data to only residential parking permits\n",
    "residential_permits = parking_permits[parking_permits.type_name.isin(\n",
    "    ['Residential', 'New Mass Resident', 'Resident - No charge replacement'])]"
   ]
  },
  {
   "cell_type": "code",
   "execution_count": 10,
   "metadata": {},
   "outputs": [
    {
     "data": {
      "text/html": [
       "<div>\n",
       "<style scoped>\n",
       "    .dataframe tbody tr th:only-of-type {\n",
       "        vertical-align: middle;\n",
       "    }\n",
       "\n",
       "    .dataframe tbody tr th {\n",
       "        vertical-align: top;\n",
       "    }\n",
       "\n",
       "    .dataframe thead th {\n",
       "        text-align: right;\n",
       "    }\n",
       "</style>\n",
       "<table border=\"1\" class=\"dataframe\">\n",
       "  <thead>\n",
       "    <tr style=\"text-align: right;\">\n",
       "      <th></th>\n",
       "      <th>type_code</th>\n",
       "      <th>type_name</th>\n",
       "      <th>issued</th>\n",
       "      <th>effective</th>\n",
       "      <th>expiration</th>\n",
       "      <th>st_addr</th>\n",
       "      <th>unit_num</th>\n",
       "      <th>city</th>\n",
       "      <th>state</th>\n",
       "      <th>zip_code</th>\n",
       "    </tr>\n",
       "  </thead>\n",
       "  <tbody>\n",
       "    <tr>\n",
       "      <th>87800</th>\n",
       "      <td>A</td>\n",
       "      <td>Residential</td>\n",
       "      <td>2018-07-10</td>\n",
       "      <td>07/10/2018 12:00:00 AM</td>\n",
       "      <td>02/28/2019 12:00:00 AM</td>\n",
       "      <td>26 BOSTON AV</td>\n",
       "      <td>NaN</td>\n",
       "      <td>SOMERVILLE</td>\n",
       "      <td>MA</td>\n",
       "      <td>2144.0</td>\n",
       "    </tr>\n",
       "    <tr>\n",
       "      <th>87806</th>\n",
       "      <td>A</td>\n",
       "      <td>Residential</td>\n",
       "      <td>2018-07-18</td>\n",
       "      <td>07/18/2018 12:00:00 AM</td>\n",
       "      <td>05/31/2019 12:00:00 AM</td>\n",
       "      <td>24 WALNUT ST</td>\n",
       "      <td>1</td>\n",
       "      <td>SOMERVILLE</td>\n",
       "      <td>MA</td>\n",
       "      <td>2143.0</td>\n",
       "    </tr>\n",
       "    <tr>\n",
       "      <th>87812</th>\n",
       "      <td>A</td>\n",
       "      <td>Residential</td>\n",
       "      <td>2018-08-02</td>\n",
       "      <td>08/02/2018 12:00:00 AM</td>\n",
       "      <td>02/28/2019 12:00:00 AM</td>\n",
       "      <td>16 LESLEY AV</td>\n",
       "      <td>NaN</td>\n",
       "      <td>SOMERVILLE</td>\n",
       "      <td>MA</td>\n",
       "      <td>2144.0</td>\n",
       "    </tr>\n",
       "    <tr>\n",
       "      <th>87815</th>\n",
       "      <td>A</td>\n",
       "      <td>Residential</td>\n",
       "      <td>2018-02-15</td>\n",
       "      <td>02/28/2018 12:00:00 AM</td>\n",
       "      <td>02/28/2019 12:00:00 AM</td>\n",
       "      <td>19 TRULL ST</td>\n",
       "      <td>2</td>\n",
       "      <td>SOMERVILLE</td>\n",
       "      <td>MA</td>\n",
       "      <td>2145.0</td>\n",
       "    </tr>\n",
       "    <tr>\n",
       "      <th>87816</th>\n",
       "      <td>A</td>\n",
       "      <td>Residential</td>\n",
       "      <td>2018-06-07</td>\n",
       "      <td>06/07/2018 12:00:00 AM</td>\n",
       "      <td>07/31/2019 12:00:00 AM</td>\n",
       "      <td>34 ILLINOIS AV</td>\n",
       "      <td>1</td>\n",
       "      <td>SOMERVILLE</td>\n",
       "      <td>MA</td>\n",
       "      <td>2145.0</td>\n",
       "    </tr>\n",
       "  </tbody>\n",
       "</table>\n",
       "</div>"
      ],
      "text/plain": [
       "      type_code    type_name     issued               effective  \\\n",
       "87800         A  Residential 2018-07-10  07/10/2018 12:00:00 AM   \n",
       "87806         A  Residential 2018-07-18  07/18/2018 12:00:00 AM   \n",
       "87812         A  Residential 2018-08-02  08/02/2018 12:00:00 AM   \n",
       "87815         A  Residential 2018-02-15  02/28/2018 12:00:00 AM   \n",
       "87816         A  Residential 2018-06-07  06/07/2018 12:00:00 AM   \n",
       "\n",
       "                   expiration         st_addr unit_num        city state  \\\n",
       "87800  02/28/2019 12:00:00 AM    26 BOSTON AV      NaN  SOMERVILLE    MA   \n",
       "87806  05/31/2019 12:00:00 AM    24 WALNUT ST        1  SOMERVILLE    MA   \n",
       "87812  02/28/2019 12:00:00 AM    16 LESLEY AV      NaN  SOMERVILLE    MA   \n",
       "87815  02/28/2019 12:00:00 AM     19 TRULL ST        2  SOMERVILLE    MA   \n",
       "87816  07/31/2019 12:00:00 AM  34 ILLINOIS AV        1  SOMERVILLE    MA   \n",
       "\n",
       "       zip_code  \n",
       "87800    2144.0  \n",
       "87806    2143.0  \n",
       "87812    2144.0  \n",
       "87815    2145.0  \n",
       "87816    2145.0  "
      ]
     },
     "execution_count": 10,
     "metadata": {},
     "output_type": "execute_result"
    }
   ],
   "source": [
    "residential_permits.head()"
   ]
  },
  {
   "cell_type": "markdown",
   "metadata": {},
   "source": [
    "Now aggregate by st address ->"
   ]
  },
  {
   "cell_type": "code",
   "execution_count": 13,
   "metadata": {},
   "outputs": [
    {
     "name": "stdout",
     "output_type": "stream",
     "text": [
      "number of unique street addresses: 12797\n"
     ]
    }
   ],
   "source": [
    "res_permits_by_st_addr = residential_permits.groupby('st_addr').aggregate({'issued':len}).reset_index()\n",
    "res_permits_by_st_addr.columns=['st_addr', 'residential_permits_issued']\n",
    "print('number of unique street addresses: {}'.format(res_permits_by_st_addr.shape[0]))"
   ]
  },
  {
   "cell_type": "code",
   "execution_count": 12,
   "metadata": {},
   "outputs": [
    {
     "data": {
      "text/html": [
       "<div>\n",
       "<style scoped>\n",
       "    .dataframe tbody tr th:only-of-type {\n",
       "        vertical-align: middle;\n",
       "    }\n",
       "\n",
       "    .dataframe tbody tr th {\n",
       "        vertical-align: top;\n",
       "    }\n",
       "\n",
       "    .dataframe thead th {\n",
       "        text-align: right;\n",
       "    }\n",
       "</style>\n",
       "<table border=\"1\" class=\"dataframe\">\n",
       "  <thead>\n",
       "    <tr style=\"text-align: right;\">\n",
       "      <th></th>\n",
       "      <th>st_addr</th>\n",
       "      <th>residential_permits_issued</th>\n",
       "    </tr>\n",
       "  </thead>\n",
       "  <tbody>\n",
       "    <tr>\n",
       "      <th>0</th>\n",
       "      <td>1 ALDERSEY ST</td>\n",
       "      <td>1</td>\n",
       "    </tr>\n",
       "    <tr>\n",
       "      <th>1</th>\n",
       "      <td>1 AVON ST</td>\n",
       "      <td>3</td>\n",
       "    </tr>\n",
       "    <tr>\n",
       "      <th>2</th>\n",
       "      <td>1 BEACON ST</td>\n",
       "      <td>1</td>\n",
       "    </tr>\n",
       "    <tr>\n",
       "      <th>3</th>\n",
       "      <td>1 BELMONT SQ</td>\n",
       "      <td>3</td>\n",
       "    </tr>\n",
       "    <tr>\n",
       "      <th>4</th>\n",
       "      <td>1 BENTON RD</td>\n",
       "      <td>3</td>\n",
       "    </tr>\n",
       "  </tbody>\n",
       "</table>\n",
       "</div>"
      ],
      "text/plain": [
       "         st_addr  residential_permits_issued\n",
       "0  1 ALDERSEY ST                           1\n",
       "1      1 AVON ST                           3\n",
       "2    1 BEACON ST                           1\n",
       "3   1 BELMONT SQ                           3\n",
       "4    1 BENTON RD                           3"
      ]
     },
     "execution_count": 12,
     "metadata": {},
     "output_type": "execute_result"
    }
   ],
   "source": [
    "res_permits_by_st_addr.head()"
   ]
  },
  {
   "cell_type": "markdown",
   "metadata": {},
   "source": [
    "**Noisy label option 1**  \n",
    "Number of residential permits issued by street address.\n",
    "\n",
    "Issues:\n",
    "- clear inconsistency, such as for 1 Aldersey St, which has 3 garage doors from [google street view](https://www.google.com/maps/place/1+Aldersey+St,+Somerville,+MA+02143/@42.382985,-71.0960374,3a,75y,21.92h,88.7t/data=!3m6!1e1!3m4!1suVgqBBiLUdBI5VRy9pYyYA!2e0!7i16384!8i8192!4m5!3m4!1s0x89e370cca2b22e2d:0x5dbed58b8d9c69f9!8m2!3d42.3830618!4d-71.0958082)\n",
    "- Data only available for 12,797 addresses - need to cross check this\n",
    "\n",
    "> Can we get info on number of units or whether the house is designated as single or multi-family from Somerville?"
   ]
  },
  {
   "cell_type": "markdown",
   "metadata": {},
   "source": [
    "#### 2. Registered vehicles\n",
    "From Cortni: \n",
    "\n",
    "> The spreadsheet contains one row per garaged vehicle in the City. Each unique license plate has an anonymized ID (e.g. COS_1). With vehicle registrations, you'll want to make sure you don't double count cars that share a license plate (e.g. Tom had car A for first half of the year, then traded it in for Car B and moved license plate to the new vehicle). In other words, organize data by # of unique license plates per property. Also, keep in mind the caveat we discussed that the addresses on this list are billing addresses, not the garaging address. So you will see some non-Somerville addresses or a car dealership that leases vehicles (excise is billed to dealer who charges lessee). There is also a PDF attached with a key for plate types. "
   ]
  },
  {
   "cell_type": "code",
   "execution_count": 14,
   "metadata": {},
   "outputs": [
    {
     "name": "stdout",
     "output_type": "stream",
     "text": [
      "full dataset size:  (102132, 9)\n",
      "2017 dataset size:  (51583, 9)\n"
     ]
    }
   ],
   "source": [
    "registered_vehicles = pd.read_excel('../data/COPY_Registered_Vehicles_16_17.xlsx', sheet_name='raw')\n",
    "print('full dataset size: ',registered_vehicles.shape)\n",
    "registered_vehicles = registered_vehicles[registered_vehicles.Year == 2017]\n",
    "print('2017 dataset size: ',registered_vehicles.shape)"
   ]
  },
  {
   "cell_type": "code",
   "execution_count": 16,
   "metadata": {},
   "outputs": [
    {
     "data": {
      "text/html": [
       "<div>\n",
       "<style scoped>\n",
       "    .dataframe tbody tr th:only-of-type {\n",
       "        vertical-align: middle;\n",
       "    }\n",
       "\n",
       "    .dataframe tbody tr th {\n",
       "        vertical-align: top;\n",
       "    }\n",
       "\n",
       "    .dataframe thead th {\n",
       "        text-align: right;\n",
       "    }\n",
       "</style>\n",
       "<table border=\"1\" class=\"dataframe\">\n",
       "  <thead>\n",
       "    <tr style=\"text-align: right;\">\n",
       "      <th></th>\n",
       "      <th>Address</th>\n",
       "      <th>Unit</th>\n",
       "      <th>City</th>\n",
       "      <th>State</th>\n",
       "      <th>Zip</th>\n",
       "      <th>Plate.Type</th>\n",
       "      <th>Year</th>\n",
       "      <th>PlateID</th>\n",
       "      <th>EV</th>\n",
       "    </tr>\n",
       "  </thead>\n",
       "  <tbody>\n",
       "    <tr>\n",
       "      <th>0</th>\n",
       "      <td>67 CONCORD AVE</td>\n",
       "      <td></td>\n",
       "      <td>SOMERVILLE</td>\n",
       "      <td>MA</td>\n",
       "      <td>2143</td>\n",
       "      <td>PAN</td>\n",
       "      <td>2017</td>\n",
       "      <td>COS_1</td>\n",
       "      <td>No</td>\n",
       "    </tr>\n",
       "    <tr>\n",
       "      <th>3</th>\n",
       "      <td>46 BOW ST</td>\n",
       "      <td></td>\n",
       "      <td>SOMERVILLE</td>\n",
       "      <td>MA</td>\n",
       "      <td>2143</td>\n",
       "      <td>PAN</td>\n",
       "      <td>2017</td>\n",
       "      <td>COS_2</td>\n",
       "      <td>No</td>\n",
       "    </tr>\n",
       "    <tr>\n",
       "      <th>5</th>\n",
       "      <td>PO BOX 901098</td>\n",
       "      <td></td>\n",
       "      <td>FORT WORTH</td>\n",
       "      <td>TX</td>\n",
       "      <td>76101</td>\n",
       "      <td>PAR</td>\n",
       "      <td>2017</td>\n",
       "      <td>COS_3</td>\n",
       "      <td>No</td>\n",
       "    </tr>\n",
       "    <tr>\n",
       "      <th>7</th>\n",
       "      <td>38 HIGH ST #1</td>\n",
       "      <td></td>\n",
       "      <td>WOBURN</td>\n",
       "      <td>MA</td>\n",
       "      <td>1801</td>\n",
       "      <td>PAR</td>\n",
       "      <td>2017</td>\n",
       "      <td>COS_4</td>\n",
       "      <td>No</td>\n",
       "    </tr>\n",
       "    <tr>\n",
       "      <th>8</th>\n",
       "      <td>36 HUDSON STREET</td>\n",
       "      <td>APT #2</td>\n",
       "      <td>E SOMERVILLE</td>\n",
       "      <td>MA</td>\n",
       "      <td>2143</td>\n",
       "      <td>PAN</td>\n",
       "      <td>2017</td>\n",
       "      <td>COS_5</td>\n",
       "      <td>No</td>\n",
       "    </tr>\n",
       "  </tbody>\n",
       "</table>\n",
       "</div>"
      ],
      "text/plain": [
       "                Address                  Unit             City State    Zip  \\\n",
       "0  67 CONCORD AVE                              SOMERVILLE         MA   2143   \n",
       "3  46 BOW ST                                   SOMERVILLE         MA   2143   \n",
       "5  PO BOX 901098                               FORT WORTH         TX  76101   \n",
       "7  38 HIGH ST #1                               WOBURN             MA   1801   \n",
       "8  36 HUDSON STREET      APT #2                E SOMERVILLE       MA   2143   \n",
       "\n",
       "  Plate.Type  Year PlateID  EV  \n",
       "0        PAN  2017   COS_1  No  \n",
       "3        PAN  2017   COS_2  No  \n",
       "5        PAR  2017   COS_3  No  \n",
       "7        PAR  2017   COS_4  No  \n",
       "8        PAN  2017   COS_5  No  "
      ]
     },
     "execution_count": 16,
     "metadata": {},
     "output_type": "execute_result"
    }
   ],
   "source": [
    "registered_vehicles.head()"
   ]
  },
  {
   "cell_type": "code",
   "execution_count": 17,
   "metadata": {},
   "outputs": [],
   "source": [
    "categories = ['PAN', 'PAR', 'PAS', 'PAV', 'PAY', 'SPN']"
   ]
  },
  {
   "cell_type": "code",
   "execution_count": 18,
   "metadata": {},
   "outputs": [],
   "source": [
    "registered_vehicles_select_cat = registered_vehicles[registered_vehicles['Plate.Type'].isin(categories)]"
   ]
  },
  {
   "cell_type": "code",
   "execution_count": 19,
   "metadata": {},
   "outputs": [],
   "source": [
    "check = registered_vehicles_select_cat.groupby(['Address', 'City', 'Unit', 'PlateID']).aggregate(\n",
    "    {'EV':len}).reset_index()"
   ]
  },
  {
   "cell_type": "code",
   "execution_count": 20,
   "metadata": {},
   "outputs": [
    {
     "data": {
      "text/html": [
       "<div>\n",
       "<style scoped>\n",
       "    .dataframe tbody tr th:only-of-type {\n",
       "        vertical-align: middle;\n",
       "    }\n",
       "\n",
       "    .dataframe tbody tr th {\n",
       "        vertical-align: top;\n",
       "    }\n",
       "\n",
       "    .dataframe thead th {\n",
       "        text-align: right;\n",
       "    }\n",
       "</style>\n",
       "<table border=\"1\" class=\"dataframe\">\n",
       "  <thead>\n",
       "    <tr style=\"text-align: right;\">\n",
       "      <th></th>\n",
       "      <th>Address</th>\n",
       "      <th>City</th>\n",
       "      <th>Unit</th>\n",
       "      <th>PlateID</th>\n",
       "      <th>EV</th>\n",
       "    </tr>\n",
       "  </thead>\n",
       "  <tbody>\n",
       "    <tr>\n",
       "      <th>0</th>\n",
       "      <td></td>\n",
       "      <td></td>\n",
       "      <td></td>\n",
       "      <td>COS_10645</td>\n",
       "      <td>1</td>\n",
       "    </tr>\n",
       "    <tr>\n",
       "      <th>1</th>\n",
       "      <td></td>\n",
       "      <td></td>\n",
       "      <td></td>\n",
       "      <td>COS_1250</td>\n",
       "      <td>1</td>\n",
       "    </tr>\n",
       "    <tr>\n",
       "      <th>2</th>\n",
       "      <td></td>\n",
       "      <td></td>\n",
       "      <td></td>\n",
       "      <td>COS_13857</td>\n",
       "      <td>1</td>\n",
       "    </tr>\n",
       "    <tr>\n",
       "      <th>3</th>\n",
       "      <td></td>\n",
       "      <td></td>\n",
       "      <td></td>\n",
       "      <td>COS_14061</td>\n",
       "      <td>1</td>\n",
       "    </tr>\n",
       "    <tr>\n",
       "      <th>4</th>\n",
       "      <td></td>\n",
       "      <td></td>\n",
       "      <td></td>\n",
       "      <td>COS_15478</td>\n",
       "      <td>1</td>\n",
       "    </tr>\n",
       "  </tbody>\n",
       "</table>\n",
       "</div>"
      ],
      "text/plain": [
       "                Address             City                  Unit    PlateID  EV\n",
       "0                                                               COS_10645   1\n",
       "1                                                                COS_1250   1\n",
       "2                                                               COS_13857   1\n",
       "3                                                               COS_14061   1\n",
       "4                                                               COS_15478   1"
      ]
     },
     "execution_count": 20,
     "metadata": {},
     "output_type": "execute_result"
    }
   ],
   "source": [
    "check.head()"
   ]
  },
  {
   "cell_type": "markdown",
   "metadata": {},
   "source": [
    "clearly there are blank addresses - let's figure out to what extent we want to use registered vehicle data"
   ]
  },
  {
   "cell_type": "code",
   "execution_count": null,
   "metadata": {},
   "outputs": [],
   "source": []
  }
 ],
 "metadata": {
  "kernelspec": {
   "display_name": "Python 3",
   "language": "python",
   "name": "python3"
  },
  "language_info": {
   "codemirror_mode": {
    "name": "ipython",
    "version": 3
   },
   "file_extension": ".py",
   "mimetype": "text/x-python",
   "name": "python",
   "nbconvert_exporter": "python",
   "pygments_lexer": "ipython3",
   "version": "3.7.2"
  }
 },
 "nbformat": 4,
 "nbformat_minor": 2
}
