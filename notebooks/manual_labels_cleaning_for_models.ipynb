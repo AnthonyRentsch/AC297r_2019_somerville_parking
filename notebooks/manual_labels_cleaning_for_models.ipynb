{
 "cells": [
  {
   "cell_type": "code",
   "execution_count": 1,
   "metadata": {},
   "outputs": [],
   "source": [
    "import pandas as pd\n",
    "\n",
    "import matplotlib.pyplot as plt"
   ]
  },
  {
   "cell_type": "code",
   "execution_count": 2,
   "metadata": {},
   "outputs": [],
   "source": [
    "# read in the file downloaded from google drive where we manually labelled\n",
    "sample = pd.read_csv('../data/training/to_label_3000 - to_label_3000.csv', index_col= 0)"
   ]
  },
  {
   "cell_type": "code",
   "execution_count": 66,
   "metadata": {},
   "outputs": [],
   "source": [
    "sample = sample[~sample.AERIAL_Driveway.isna()]\n",
    "sample = sample[~sample.GSV_Driveway.isna()]"
   ]
  },
  {
   "cell_type": "code",
   "execution_count": 67,
   "metadata": {},
   "outputs": [
    {
     "data": {
      "text/html": [
       "<div>\n",
       "<style scoped>\n",
       "    .dataframe tbody tr th:only-of-type {\n",
       "        vertical-align: middle;\n",
       "    }\n",
       "\n",
       "    .dataframe tbody tr th {\n",
       "        vertical-align: top;\n",
       "    }\n",
       "\n",
       "    .dataframe thead th {\n",
       "        text-align: right;\n",
       "    }\n",
       "</style>\n",
       "<table border=\"1\" class=\"dataframe\">\n",
       "  <thead>\n",
       "    <tr style=\"text-align: right;\">\n",
       "      <th></th>\n",
       "      <th>MBL</th>\n",
       "      <th>sv_addr</th>\n",
       "      <th>aerial_addr</th>\n",
       "      <th>AERIAL_Driveway</th>\n",
       "      <th>GSV_Driveway</th>\n",
       "    </tr>\n",
       "  </thead>\n",
       "  <tbody>\n",
       "    <tr>\n",
       "      <th>1648</th>\n",
       "      <td>72-C-11</td>\n",
       "      <td>1 ALDERSEY ST, Somerville, MA</td>\n",
       "      <td>1 ALDERSEY ST</td>\n",
       "      <td>1.0</td>\n",
       "      <td>2.0</td>\n",
       "    </tr>\n",
       "    <tr>\n",
       "      <th>2491</th>\n",
       "      <td>91-D-18</td>\n",
       "      <td>1 ARLINGTON ST, Somerville, MA</td>\n",
       "      <td>1 ARLINGTON ST</td>\n",
       "      <td>0.0</td>\n",
       "      <td>0.0</td>\n",
       "    </tr>\n",
       "    <tr>\n",
       "      <th>2021</th>\n",
       "      <td>76-E-9</td>\n",
       "      <td>1 BEACON ST, Somerville, MA</td>\n",
       "      <td>1 BEACON ST</td>\n",
       "      <td>1.0</td>\n",
       "      <td>1.0</td>\n",
       "    </tr>\n",
       "    <tr>\n",
       "      <th>309</th>\n",
       "      <td>2-A-33</td>\n",
       "      <td>1 CAPEN CT, Somerville, MA</td>\n",
       "      <td>1 CAPEN CT</td>\n",
       "      <td>1.0</td>\n",
       "      <td>1.0</td>\n",
       "    </tr>\n",
       "    <tr>\n",
       "      <th>1080</th>\n",
       "      <td>53-D-16</td>\n",
       "      <td>1 ELIOT ST, Somerville, MA</td>\n",
       "      <td>1 ELIOT ST</td>\n",
       "      <td>0.0</td>\n",
       "      <td>0.0</td>\n",
       "    </tr>\n",
       "  </tbody>\n",
       "</table>\n",
       "</div>"
      ],
      "text/plain": [
       "          MBL                         sv_addr     aerial_addr  \\\n",
       "1648  72-C-11   1 ALDERSEY ST, Somerville, MA   1 ALDERSEY ST   \n",
       "2491  91-D-18  1 ARLINGTON ST, Somerville, MA  1 ARLINGTON ST   \n",
       "2021   76-E-9     1 BEACON ST, Somerville, MA     1 BEACON ST   \n",
       "309    2-A-33      1 CAPEN CT, Somerville, MA      1 CAPEN CT   \n",
       "1080  53-D-16      1 ELIOT ST, Somerville, MA      1 ELIOT ST   \n",
       "\n",
       "      AERIAL_Driveway  GSV_Driveway  \n",
       "1648              1.0           2.0  \n",
       "2491              0.0           0.0  \n",
       "2021              1.0           1.0  \n",
       "309               1.0           1.0  \n",
       "1080              0.0           0.0  "
      ]
     },
     "execution_count": 67,
     "metadata": {},
     "output_type": "execute_result"
    }
   ],
   "source": [
    "sample.head()"
   ]
  },
  {
   "cell_type": "markdown",
   "metadata": {},
   "source": [
    "### labels\n",
    "- 0 = no driveway \n",
    "- 1 = driveway \n",
    "- 2 = unsure"
   ]
  },
  {
   "cell_type": "code",
   "execution_count": 68,
   "metadata": {},
   "outputs": [],
   "source": [
    "def overall_labelling(y):\n",
    "    y1, y2= y[0], y[1]\n",
    "    \n",
    "    ### ALL CERTAIN ###\n",
    "    # both have driveways\n",
    "    if y1 ==1.0 and y2 == 1.0:\n",
    "        return 1.0\n",
    "    # both don't have driveways\n",
    "    if y1 == 0.0 and y2 == 0.0:\n",
    "        return 0.0\n",
    "    # aerial has driveway, streetview doesn't have driveway\n",
    "    if y1 ==1.0 and y2 == 0.0:\n",
    "        return 0.9\n",
    "    # aerial doesn't have driveway, streetview has driveway\n",
    "    if y1 == 0.0 and y2 == 1.0:\n",
    "        return 0.9\n",
    "    \n",
    "    ### ALL UNCERTAIN ###\n",
    "    if y1 == 2.0 and y2 == 2.0:\n",
    "        return 0.5\n",
    "    \n",
    "    ### ONE UNCERTAIN ###\n",
    "\n",
    "    if y1 == 2.0 and y2 != 2.0:\n",
    "        if y2 == 1.0:\n",
    "            return 0.9\n",
    "        if y2 == 0.0:\n",
    "            return 0.1\n",
    "    \n",
    "    if y1 != 2.0 and y2 == 2.0:\n",
    "        if y1 == 1.0:\n",
    "            return 0.9\n",
    "        if y1 == 0.0:\n",
    "            return 0.1"
   ]
  },
  {
   "cell_type": "code",
   "execution_count": 69,
   "metadata": {},
   "outputs": [],
   "source": [
    "def overall_labelling_3classes(y):\n",
    "    y1, y2= y[0], y[1]\n",
    "    \n",
    "    ### ALL CERTAIN ###\n",
    "    # both have driveways\n",
    "    if y1 ==1.0 and y2 == 1.0:\n",
    "        return 1\n",
    "    # both don't have driveways\n",
    "    if y1 == 0.0 and y2 == 0.0:\n",
    "        return 0\n",
    "    \n",
    "    # DISAGREEMENT\n",
    "    # aerial has driveway, streetview doesn't have driveway\n",
    "    if y1 ==1.0 and y2 == 0.0:\n",
    "        return 2\n",
    "    # aerial doesn't have driveway, streetview has driveway\n",
    "    if y1 == 0.0 and y2 == 1.0:\n",
    "        return 2\n",
    "    \n",
    "    ### ALL UNCERTAIN ###\n",
    "    if y1 == 2.0 and y2 == 2.0:\n",
    "        return 2\n",
    "    \n",
    "    ### ONE UNCERTAIN ###\n",
    "\n",
    "    if y1 == 2.0 and y2 != 2.0:\n",
    "        if y2 == 1.0:\n",
    "            return 1\n",
    "        if y2 == 0.0:\n",
    "            return 0\n",
    "    \n",
    "    if y1 != 2.0 and y2 == 2.0:\n",
    "        if y1 == 1.0:\n",
    "            return 1\n",
    "        if y1 == 0.0:\n",
    "            return 0"
   ]
  },
  {
   "cell_type": "code",
   "execution_count": 70,
   "metadata": {},
   "outputs": [],
   "source": [
    "sample['final_label'] = sample[['AERIAL_Driveway','GSV_Driveway']].apply(overall_labelling, axis = 1)"
   ]
  },
  {
   "cell_type": "code",
   "execution_count": 71,
   "metadata": {},
   "outputs": [],
   "source": [
    "sample['three_class_label'] = sample[['AERIAL_Driveway','GSV_Driveway']].apply(overall_labelling_3classes, axis = 1)"
   ]
  },
  {
   "cell_type": "code",
   "execution_count": 72,
   "metadata": {},
   "outputs": [],
   "source": [
    "sample['aerial_filename'] = sample['aerial_addr'].str.lower().replace(' ', '_', regex=True) + '_aerial.png'\n",
    "sample['gsv_filename'] = sample.sv_addr.str.lower().replace(', somerville, ma', '', regex=True).replace(' ', '_', regex=True) + '.jpg'"
   ]
  },
  {
   "cell_type": "code",
   "execution_count": 97,
   "metadata": {},
   "outputs": [],
   "source": [
    "sample.loc[sample.gsv_filename == '2-4_brook_st.jpg', 'gsv_filename'] = '4_brook_st.jpg'\n",
    "sample.loc[1142, 'aerial_filename'] = '3-9_hanson_st_aerial.png'"
   ]
  },
  {
   "cell_type": "code",
   "execution_count": 91,
   "metadata": {},
   "outputs": [],
   "source": [
    "`x"
   ]
  },
  {
   "cell_type": "code",
   "execution_count": 74,
   "metadata": {},
   "outputs": [],
   "source": [
    "# manual fixes\n",
    "# sample.loc[sample.MBL == '75-C-24', 'aerial_filename'] = '1-3_clark_st_aerial.png'"
   ]
  },
  {
   "cell_type": "code",
   "execution_count": 82,
   "metadata": {},
   "outputs": [],
   "source": [
    "sample.iloc[-76:-68, -2] = sample.iloc[-76:-68, -1].str.replace('.jpg', '_aerial.png', regex=True)"
   ]
  },
  {
   "cell_type": "code",
   "execution_count": 98,
   "metadata": {
    "scrolled": false
   },
   "outputs": [],
   "source": [
    "counter = 0\n",
    "for i in sample.gsv_filename:\n",
    "    counter +=1\n",
    "    plt.imread('../data/training/sv_images/' + str(i))"
   ]
  },
  {
   "cell_type": "code",
   "execution_count": 101,
   "metadata": {},
   "outputs": [
    {
     "data": {
      "text/plain": [
       "(162, 162)"
      ]
     },
     "execution_count": 101,
     "metadata": {},
     "output_type": "execute_result"
    }
   ],
   "source": [
    "counter, sample.shape[0]"
   ]
  },
  {
   "cell_type": "code",
   "execution_count": 102,
   "metadata": {},
   "outputs": [],
   "source": [
    "sample.to_csv('../labels/additional_training_labels_120319.csv', index=False)"
   ]
  },
  {
   "cell_type": "markdown",
   "metadata": {},
   "source": [
    "----- \n",
    "### Redfin Data"
   ]
  },
  {
   "cell_type": "code",
   "execution_count": 2,
   "metadata": {},
   "outputs": [],
   "source": [
    "redfin = pd.read_csv('../data/training/redfin_clean.csv', index_col='Unnamed: 0')"
   ]
  },
  {
   "cell_type": "code",
   "execution_count": 3,
   "metadata": {},
   "outputs": [],
   "source": [
    "redfin['aerial_filename'] = (redfin.SITE_ADDR.str.lower().replace(\n",
    "    ', somerville, ma', '', regex = True)).replace(' ', '_', regex = True)+ '_aerial.png'\n",
    "redfin['gsv_filename'] = (redfin.SITE_ADDR.str.lower().replace(\n",
    "    ', somerville, ma', '', regex = True)).replace(' ', '_', regex = True) + '.jpg'"
   ]
  },
  {
   "cell_type": "code",
   "execution_count": 5,
   "metadata": {},
   "outputs": [],
   "source": [
    "check_aer = list(redfin['aerial_filename'])\n",
    "check_gsv = list(redfin['gsv_filename'])"
   ]
  },
  {
   "cell_type": "code",
   "execution_count": 6,
   "metadata": {},
   "outputs": [],
   "source": [
    "from os import walk\n",
    "aer_fn = []\n",
    "for (dirpath, dirnames, filenames) in walk('../data/aerial_all/'):\n",
    "    aer_fn.extend(filenames)\n",
    "    break\n",
    "sv_fn = []\n",
    "for (dirpath, dirnames, filenames) in walk('../data/street_view_all/'):\n",
    "    sv_fn.extend(filenames)\n",
    "    break"
   ]
  },
  {
   "cell_type": "code",
   "execution_count": 7,
   "metadata": {},
   "outputs": [],
   "source": [
    "from os import listdir\n",
    "from PIL import Image\n",
    "\n",
    "bad_images = []\n",
    "   \n",
    "for filename in listdir('../data/street_view_all/'):\n",
    "    if filename.endswith('.jpg'):\n",
    "        try:\n",
    "            img = Image.open('../data/street_view_all/'+filename) # open the image file\n",
    "            img.verify() # verify that it is, in fact an image\n",
    "        except (IOError, SyntaxError) as e:\n",
    "            bad_images.append(filename)\n",
    "\n",
    "good_sv_fn = [x for x in sv_fn if x not in bad_images]"
   ]
  },
  {
   "cell_type": "code",
   "execution_count": 9,
   "metadata": {},
   "outputs": [],
   "source": [
    "available_aer = [x for x in check_aer if x in aer_fn]\n",
    "available_sv = [x for x in check_gsv if x in good_sv_fn]"
   ]
  },
  {
   "cell_type": "code",
   "execution_count": 11,
   "metadata": {},
   "outputs": [],
   "source": [
    "final_aer = redfin[redfin.aerial_filename.isin(available_aer)]\n",
    "final_aer.to_csv('../labels/redfin_training_labels_aerial.csv')"
   ]
  },
  {
   "cell_type": "code",
   "execution_count": 10,
   "metadata": {},
   "outputs": [],
   "source": [
    "final_sv = redfin[redfin.gsv_filename.isin(available_sv)]\n",
    "final_sv.to_csv('../labels/redfin_training_labels_sv.csv')"
   ]
  },
  {
   "cell_type": "code",
   "execution_count": 14,
   "metadata": {},
   "outputs": [
    {
     "data": {
      "text/plain": [
       "1    4514\n",
       "0     369\n",
       "Name: has_parking, dtype: int64"
      ]
     },
     "execution_count": 14,
     "metadata": {},
     "output_type": "execute_result"
    }
   ],
   "source": [
    "final_aer.has_parking.value_counts()"
   ]
  },
  {
   "cell_type": "code",
   "execution_count": 13,
   "metadata": {},
   "outputs": [
    {
     "data": {
      "text/plain": [
       "1    5059\n",
       "0     445\n",
       "Name: has_parking, dtype: int64"
      ]
     },
     "execution_count": 13,
     "metadata": {},
     "output_type": "execute_result"
    }
   ],
   "source": [
    "final_sv.has_parking.value_counts()"
   ]
  },
  {
   "cell_type": "markdown",
   "metadata": {},
   "source": [
    " ---"
   ]
  }
 ],
 "metadata": {
  "kernelspec": {
   "display_name": "Python 3",
   "language": "python",
   "name": "python3"
  },
  "language_info": {
   "codemirror_mode": {
    "name": "ipython",
    "version": 3
   },
   "file_extension": ".py",
   "mimetype": "text/x-python",
   "name": "python",
   "nbconvert_exporter": "python",
   "pygments_lexer": "ipython3",
   "version": "3.6.6"
  }
 },
 "nbformat": 4,
 "nbformat_minor": 2
}
