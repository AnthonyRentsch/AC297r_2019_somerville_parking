{
 "cells": [
  {
   "cell_type": "code",
   "execution_count": null,
   "metadata": {},
   "outputs": [],
   "source": [
    "import pandas as pd\n",
    "import keras\n",
    "import numpy as np\n",
    "import sys\n",
    "sys.path.append('../')\n",
    "from src.models import three_input_model\n",
    "from src.generator import generator_three_inputs\n",
    "sys.path.append('/notebook')\n",
    "from sklearn.model_selection import train_test_split\n",
    "import matplotlib.pyplot as plt\n",
    "% matplotlib inline"
   ]
  },
  {
   "cell_type": "code",
   "execution_count": null,
   "metadata": {},
   "outputs": [],
   "source": [
    "# import dataframe with filenames and labels\n",
    "sample = pd.read_csv('../labels/training_labels_updated_111219.csv')\n",
    "sample['temp_label'] = sample['final_label'].apply(lambda x: np.round(x))\n",
    "sample['temp_label'] = sample['temp_label'].astype('int').astype('str')\n",
    "sample['final_label'] =  sample['final_label'].astype('str')\n",
    "\n",
    "train_data, test_data = train_test_split(sample, test_size = 0.25, random_state = 100)"
   ]
  },
  {
   "cell_type": "code",
   "execution_count": null,
   "metadata": {},
   "outputs": [],
   "source": [
    "# artificially oversample the minority class\n",
    "zero_class = train_data[train_data.temp_label == '0']\n",
    "train_data = (train_data.append(zero_class)).append(zero_class)"
   ]
  },
  {
   "cell_type": "code",
   "execution_count": null,
   "metadata": {},
   "outputs": [],
   "source": [
    "[x for x in chk2 if x not in chk1]"
   ]
  },
  {
   "cell_type": "code",
   "execution_count": null,
   "metadata": {},
   "outputs": [],
   "source": [
    "### test tabular\n",
    "tabular_df = sample[['MBL', 'ADDR_NUM']]\n",
    "tabular_df['test_col'] = np.random.normal(size=tabular_df.shape[0])\n",
    "tabular_df['test_col2'] = np.random.normal(2,3,size=tabular_df.shape[0])\n",
    "tabular_df.drop(['ADDR_NUM'], axis = 1, inplace = True)"
   ]
  },
  {
   "cell_type": "code",
   "execution_count": null,
   "metadata": {},
   "outputs": [],
   "source": [
    "# input parameters\n",
    "batch_size = 8\n",
    "epochs = 5"
   ]
  },
  {
   "cell_type": "code",
   "execution_count": null,
   "metadata": {
    "scrolled": false
   },
   "outputs": [],
   "source": [
    "model = three_input_model(n_tabular_cols = 2, gsv_image_dim = (128, 128, 3), sat_image_dim = ((128, 128, 4)), \n",
    "                          n_classes = 1, loss_fn = 'binary_crossentropy')\n",
    "model.summary()"
   ]
  },
  {
   "cell_type": "code",
   "execution_count": null,
   "metadata": {},
   "outputs": [],
   "source": []
  },
  {
   "cell_type": "code",
   "execution_count": null,
   "metadata": {},
   "outputs": [],
   "source": [
    "#implement class weights as an easy first attempt to handle imbalanced class problem\n",
    "# class_weight = {1.0: 1,\n",
    "#                 0.0: 2}"
   ]
  },
  {
   "cell_type": "code",
   "execution_count": null,
   "metadata": {},
   "outputs": [],
   "source": [
    "history = model.fit_generator(\n",
    "    \n",
    "                # train \n",
    "                generator_three_inputs(train_data, tabular_df, [ 'test_col', 'test_col2'],                       \n",
    "                           aerial_dir = '../data/training/aerial_images/', \n",
    "                           gsv_dir ='../data/training/sv_images/', \n",
    "                           batch_size = batch_size, \n",
    "                           gsv_image_dim = (128,128, 3), aer_image_dim = (128,128, 4) , \n",
    "                           y_column = 'temp_label'),\n",
    "    \n",
    "                # validation\n",
    "                validation_data = generator_three_inputs(test_data, tabular_df, ['test_col', 'test_col2'],                       \n",
    "                           aerial_dir = '../data/training/aerial_images/', \n",
    "                           gsv_dir ='../data/training/sv_images/', \n",
    "                           batch_size = batch_size, \n",
    "                           gsv_image_dim = (128,128, 3), aer_image_dim = (128,128, 4) , \n",
    "                           y_column = 'temp_label'),\n",
    "    \n",
    "                validation_steps = 5,\n",
    "                steps_per_epoch=np.ceil(sample.shape[0]//batch_size), \n",
    "                epochs=epochs,\n",
    "#                 class_weight = class_weight,\n",
    "                verbose=1)"
   ]
  },
  {
   "cell_type": "code",
   "execution_count": null,
   "metadata": {},
   "outputs": [],
   "source": [
    "plt.figure(figsize = (18,6))\n",
    "plt.subplot(1,2,1); plt.title('Training', fontsize = 20)\n",
    "plt.plot(history.history['acc'], label = 'acc')\n",
    "plt.plot(history.history['specificity'], label = 'specificity')\n",
    "plt.plot(history.history['sensitivity'], label = 'sensitivity')\n",
    "plt.axhline((train_data.temp_label).astype('float32').sum()/train_data.shape[0], ls = '--', c = 'r', label = 'baseline')\n",
    "plt.xticks(np.arange(0,epochs)); plt.xlabel('epoch')\n",
    "plt.legend()\n",
    "plt.subplot(1,2,2); plt.title('Validation', fontsize = 20)\n",
    "plt.plot(history.history['val_acc'], label = 'val acc')\n",
    "plt.plot(history.history['val_specificity'], label = 'val specificity')\n",
    "plt.plot(history.history['val_sensitivity'], label = 'val sensitivity')\n",
    "plt.axhline((test_data.temp_label).astype('float32').sum()/test_data.shape[0], ls = '--', c = 'r', label = 'baseline')\n",
    "plt.xticks(np.arange(0,epochs));plt.xlabel('epoch')\n",
    "plt.legend();"
   ]
  },
  {
   "cell_type": "code",
   "execution_count": null,
   "metadata": {},
   "outputs": [],
   "source": [
    "addresses_gsv_filename = ['1_ESSEX_ST.jpg', '8_GILMAN_ST.jpg', '9_MELVILLE_RD.jpg','10_CENTRAL_ST.jpg',\n",
    "                         '14_MANSFIELD_ST.jpg']\n",
    "pred_sample = sample[sample.gsv_filename.isin(addresses_gsv_filename)]\n",
    "pred_sample"
   ]
  },
  {
   "cell_type": "code",
   "execution_count": null,
   "metadata": {},
   "outputs": [],
   "source": [
    "model.predict_generator(\n",
    "    generator_three_inputs(pred_sample, tabular_df, [ 'test_col', 'test_col2'],                       \n",
    "                           aerial_dir = '../data/training/aerial_images/', \n",
    "                           gsv_dir ='../data/training/sv_images/', \n",
    "                           batch_size = batch_size, \n",
    "                           gsv_image_dim = (128,128, 3), aer_image_dim = (128,128, 4) , \n",
    "                           y_column = 'temp_label'),\n",
    "    \n",
    "                        \n",
    "                      steps = 1 )"
   ]
  },
  {
   "cell_type": "code",
   "execution_count": null,
   "metadata": {},
   "outputs": [],
   "source": [
    "# Save the model architecture\n",
    "with open('../models/model_architecture.json', 'w') as f:\n",
    "    f.write(model.to_json())"
   ]
  },
  {
   "cell_type": "code",
   "execution_count": null,
   "metadata": {},
   "outputs": [],
   "source": [
    "# save basic model\n",
    "import pickle\n",
    "with open('../models/imageandtabular_modelhistory.pkl', 'wb') as file_pi:\n",
    "    pickle.dump(history.history, file_pi)"
   ]
  },
  {
   "cell_type": "code",
   "execution_count": null,
   "metadata": {},
   "outputs": [],
   "source": [
    "model.save('../models/imageandtabular_model.h5', save_format='tf')"
   ]
  },
  {
   "cell_type": "code",
   "execution_count": null,
   "metadata": {},
   "outputs": [],
   "source": [
    "model.save_weights('../models/imageandtabular_model_weights.h5')"
   ]
  },
  {
   "cell_type": "code",
   "execution_count": null,
   "metadata": {},
   "outputs": [],
   "source": [
    "model = combined_cnn(gsv_image_dim = (128,128, 3), sat_image_dim = ((128,128, 4)), \n",
    "                     n_classes = 1)"
   ]
  }
 ],
 "metadata": {
  "kernelspec": {
   "display_name": "Python 3",
   "language": "python",
   "name": "python3"
  },
  "language_info": {
   "codemirror_mode": {
    "name": "ipython",
    "version": 3
   },
   "file_extension": ".py",
   "mimetype": "text/x-python",
   "name": "python",
   "nbconvert_exporter": "python",
   "pygments_lexer": "ipython3",
   "version": "3.6.8"
  }
 },
 "nbformat": 4,
 "nbformat_minor": 2
}
