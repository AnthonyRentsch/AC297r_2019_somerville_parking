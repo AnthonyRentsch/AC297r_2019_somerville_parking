{
 "cells": [
  {
   "cell_type": "code",
   "execution_count": 1,
   "metadata": {},
   "outputs": [
    {
     "name": "stderr",
     "output_type": "stream",
     "text": [
      "Using TensorFlow backend.\n",
      "UsageError: Line magic function `%` not found.\n"
     ]
    }
   ],
   "source": [
    "import pandas as pd\n",
    "import keras\n",
    "import numpy as np\n",
    "import sys\n",
    "sys.path.append('../')\n",
    "from src.models import combined_cnn\n",
    "from src.generator import generator_two_inputs\n",
    "from src.loss import smoothed_binary_crossentropy\n",
    "sys.path.append('/notebook')\n",
    "from sklearn.model_selection import train_test_split\n",
    "import matplotlib.pyplot as plt\n",
    "% matplotlib inline"
   ]
  },
  {
   "cell_type": "code",
   "execution_count": 2,
   "metadata": {},
   "outputs": [],
   "source": [
    "# import dataframe with filenames and labels\n",
    "sample = pd.read_csv('../labels/training_labels_updated.csv')\n",
    "sample['temp_label'] = sample['final_label'].apply(lambda x: np.round(x))\n",
    "sample['temp_label'] = sample['temp_label'].astype('int').astype('str')\n",
    "sample['final_label'] =  sample['final_label'].astype('str')\n",
    "\n",
    "train_data, test_data = train_test_split(sample, test_size = 0.25, random_state = 100)"
   ]
  },
  {
   "cell_type": "code",
   "execution_count": 3,
   "metadata": {},
   "outputs": [],
   "source": [
    "# # import dataframe with filenames and labels\n",
    "# labels = pd.read_csv('../labels/training_labels.csv')\n",
    "# labels['full_label'] = 'aerial_' + labels['AERIAL_Driveway'].astype(int).astype(str) + \\\n",
    "#                        '_gsv_' + labels['GSV_Driveway'].astype(int).astype(str)\n",
    "\n",
    "# # use train test split\n",
    "# train_data, test_data = train_test_split(labels, test_size = 0.25, random_state = 100)"
   ]
  },
  {
   "cell_type": "code",
   "execution_count": 4,
   "metadata": {},
   "outputs": [],
   "source": [
    "# train_data = train_data[train_data.final_label != '0.5']"
   ]
  },
  {
   "cell_type": "code",
   "execution_count": 5,
   "metadata": {},
   "outputs": [],
   "source": [
    "# train_data.groupby('temp_label').aggregate({'ADDR_NUM':len})"
   ]
  },
  {
   "cell_type": "code",
   "execution_count": 6,
   "metadata": {},
   "outputs": [],
   "source": [
    "# train_data = ((train_data[train_data.temp_label == '1']).sample(36)).append(train_data[train_data.temp_label == '0'])"
   ]
  },
  {
   "cell_type": "code",
   "execution_count": 7,
   "metadata": {},
   "outputs": [],
   "source": [
    "# train_data.shape"
   ]
  },
  {
   "cell_type": "code",
   "execution_count": 8,
   "metadata": {},
   "outputs": [],
   "source": [
    "# train_data.head(20)"
   ]
  },
  {
   "cell_type": "markdown",
   "metadata": {},
   "source": [
    "^ clearly there's an imbalanced class problem"
   ]
  },
  {
   "cell_type": "code",
   "execution_count": 9,
   "metadata": {},
   "outputs": [],
   "source": [
    "# input parameters\n",
    "batch_size = 16\n",
    "epochs = 5"
   ]
  },
  {
   "cell_type": "code",
   "execution_count": 10,
   "metadata": {
    "scrolled": false
   },
   "outputs": [
    {
     "name": "stdout",
     "output_type": "stream",
     "text": [
      "Model: \"model\"\n",
      "__________________________________________________________________________________________________\n",
      "Layer (type)                    Output Shape         Param #     Connected to                     \n",
      "==================================================================================================\n",
      "gsv_image_input (InputLayer)    [(None, 128, 128, 3) 0                                            \n",
      "__________________________________________________________________________________________________\n",
      "aerial_image_input (InputLayer) [(None, 128, 128, 4) 0                                            \n",
      "__________________________________________________________________________________________________\n",
      "conv2d (Conv2D)                 (None, 126, 126, 128 3584        gsv_image_input[0][0]            \n",
      "__________________________________________________________________________________________________\n",
      "conv2d_3 (Conv2D)               (None, 126, 126, 128 4736        aerial_image_input[0][0]         \n",
      "__________________________________________________________________________________________________\n",
      "max_pooling2d (MaxPooling2D)    (None, 63, 63, 128)  0           conv2d[0][0]                     \n",
      "__________________________________________________________________________________________________\n",
      "max_pooling2d_2 (MaxPooling2D)  (None, 63, 63, 128)  0           conv2d_3[0][0]                   \n",
      "__________________________________________________________________________________________________\n",
      "conv2d_1 (Conv2D)               (None, 61, 61, 64)   73792       max_pooling2d[0][0]              \n",
      "__________________________________________________________________________________________________\n",
      "conv2d_4 (Conv2D)               (None, 61, 61, 64)   73792       max_pooling2d_2[0][0]            \n",
      "__________________________________________________________________________________________________\n",
      "max_pooling2d_1 (MaxPooling2D)  (None, 30, 30, 64)   0           conv2d_1[0][0]                   \n",
      "__________________________________________________________________________________________________\n",
      "max_pooling2d_3 (MaxPooling2D)  (None, 30, 30, 64)   0           conv2d_4[0][0]                   \n",
      "__________________________________________________________________________________________________\n",
      "conv2d_2 (Conv2D)               (None, 28, 28, 32)   18464       max_pooling2d_1[0][0]            \n",
      "__________________________________________________________________________________________________\n",
      "conv2d_5 (Conv2D)               (None, 28, 28, 32)   18464       max_pooling2d_3[0][0]            \n",
      "__________________________________________________________________________________________________\n",
      "flatten (Flatten)               (None, 25088)        0           conv2d_2[0][0]                   \n",
      "__________________________________________________________________________________________________\n",
      "flatten_1 (Flatten)             (None, 25088)        0           conv2d_5[0][0]                   \n",
      "__________________________________________________________________________________________________\n",
      "dense (Dense)                   (None, 200)          5017800     flatten[0][0]                    \n",
      "__________________________________________________________________________________________________\n",
      "dense_1 (Dense)                 (None, 200)          5017800     flatten_1[0][0]                  \n",
      "__________________________________________________________________________________________________\n",
      "concatenate (Concatenate)       (None, 400)          0           dense[0][0]                      \n",
      "                                                                 dense_1[0][0]                    \n",
      "__________________________________________________________________________________________________\n",
      "dense_2 (Dense)                 (None, 300)          120300      concatenate[0][0]                \n",
      "__________________________________________________________________________________________________\n",
      "dense_3 (Dense)                 (None, 100)          30100       dense_2[0][0]                    \n",
      "__________________________________________________________________________________________________\n",
      "dense_4 (Dense)                 (None, 1)            101         dense_3[0][0]                    \n",
      "==================================================================================================\n",
      "Total params: 10,378,933\n",
      "Trainable params: 10,378,933\n",
      "Non-trainable params: 0\n",
      "__________________________________________________________________________________________________\n"
     ]
    }
   ],
   "source": [
    "model = combined_cnn(gsv_image_dim = (128,128, 3), sat_image_dim = ((128,128, 4)), \n",
    "                     n_classes = 1)\n",
    "model.summary()"
   ]
  },
  {
   "cell_type": "code",
   "execution_count": 14,
   "metadata": {},
   "outputs": [
    {
     "ename": "NameError",
     "evalue": "name 'EarlyStopping' is not defined",
     "output_type": "error",
     "traceback": [
      "\u001b[0;31m---------------------------------------------------------------------------\u001b[0m",
      "\u001b[0;31mNameError\u001b[0m                                 Traceback (most recent call last)",
      "\u001b[0;32m<ipython-input-14-6d300109b3f4>\u001b[0m in \u001b[0;36m<module>\u001b[0;34m\u001b[0m\n\u001b[0;32m----> 1\u001b[0;31m \u001b[0mes\u001b[0m \u001b[0;34m=\u001b[0m \u001b[0mEarlyStopping\u001b[0m\u001b[0;34m(\u001b[0m\u001b[0mmonitor\u001b[0m\u001b[0;34m=\u001b[0m\u001b[0;34m'val_loss'\u001b[0m\u001b[0;34m)\u001b[0m\u001b[0;34m\u001b[0m\u001b[0m\n\u001b[0m",
      "\u001b[0;31mNameError\u001b[0m: name 'EarlyStopping' is not defined"
     ]
    }
   ],
   "source": [
    "es = EarlyStopping(monitor='val_loss')"
   ]
  },
  {
   "cell_type": "code",
   "execution_count": 12,
   "metadata": {},
   "outputs": [
    {
     "name": "stdout",
     "output_type": "stream",
     "text": [
      "Epoch 1/5\n",
      "Found 215 validated image filenames belonging to 2 classes.\n",
      "Found 215 validated image filenames belonging to 2 classes.\n",
      "16/17 [===========================>..] - ETA: 2s - loss: 1.5782 - accuracy: 0.7166 - sensitivity: 0.8364 - specificity: 0.3068Found 72 validated image filenames belonging to 2 classes.\n",
      "Found 72 validated image filenames belonging to 2 classes.\n",
      "17/17 [==============================] - 54s 3s/step - loss: 1.4921 - accuracy: 0.7338 - sensitivity: 0.8461 - specificity: 0.3476 - val_loss: 0.9954 - val_accuracy: 0.8056 - val_sensitivity: 0.9560 - val_specificity: 0.1000\n",
      "Epoch 2/5\n",
      "17/17 [==============================] - 46s 3s/step - loss: 0.8333 - accuracy: 0.7567 - sensitivity: 0.8757 - specificity: 0.3270 - val_loss: 1.2654 - val_accuracy: 0.5972 - val_sensitivity: 0.6783 - val_specificity: 0.2167\n",
      "Epoch 3/5\n",
      "17/17 [==============================] - 52s 3s/step - loss: 0.6549 - accuracy: 0.7757 - sensitivity: 0.8547 - specificity: 0.4873 - val_loss: 1.0690 - val_accuracy: 0.7917 - val_sensitivity: 0.9846 - val_specificity: 0.0000e+00\n",
      "Epoch 4/5\n",
      "17/17 [==============================] - 45s 3s/step - loss: 0.6225 - accuracy: 0.8061 - sensitivity: 0.8947 - specificity: 0.3887 - val_loss: 1.4656 - val_accuracy: 0.8056 - val_sensitivity: 1.0000 - val_specificity: 0.0000e+00\n",
      "Epoch 5/5\n",
      "17/17 [==============================] - 45s 3s/step - loss: 0.4009 - accuracy: 0.8504 - sensitivity: 0.9165 - specificity: 0.6255 - val_loss: 0.8195 - val_accuracy: 0.7361 - val_sensitivity: 0.9077 - val_specificity: 0.0000e+00\n"
     ]
    }
   ],
   "source": [
    "history = model.fit_generator(\n",
    "                # train \n",
    "                generator_two_inputs(train_data, aerial_dir = '../data/training/aerial_images/', \n",
    "                gsv_dir ='data/training/street_view_images/', batch_size = batch_size, \n",
    "                gsv_image_dim = (128,128, 3), aer_image_dim = (128,128, 4), y_column = 'temp_label'),\n",
    "                \n",
    "                validation_data=generator_two_inputs(test_data, aerial_dir = '../data/training/aerial_images/', \n",
    "                gsv_dir ='data/training/street_view_images/', batch_size = batch_size, \n",
    "                gsv_image_dim = (128,128, 3), aer_image_dim = (128,128, 4), y_column = 'temp_label'),\n",
    "                \n",
    "                validation_steps = 5,\n",
    "                steps_per_epoch=np.ceil(sample.shape[0]//batch_size), \n",
    "                epochs=epochs,\n",
    "#                 class_weight = class_weight,\n",
    "                verbose=1)"
   ]
  },
  {
   "cell_type": "code",
   "execution_count": 13,
   "metadata": {},
   "outputs": [
    {
     "ename": "KeyError",
     "evalue": "'acc'",
     "output_type": "error",
     "traceback": [
      "\u001b[0;31m---------------------------------------------------------------------------\u001b[0m",
      "\u001b[0;31mKeyError\u001b[0m                                  Traceback (most recent call last)",
      "\u001b[0;32m<ipython-input-13-3613b7ed2296>\u001b[0m in \u001b[0;36m<module>\u001b[0;34m\u001b[0m\n\u001b[1;32m      1\u001b[0m \u001b[0mplt\u001b[0m\u001b[0;34m.\u001b[0m\u001b[0mfigure\u001b[0m\u001b[0;34m(\u001b[0m\u001b[0mfigsize\u001b[0m \u001b[0;34m=\u001b[0m \u001b[0;34m(\u001b[0m\u001b[0;36m18\u001b[0m\u001b[0;34m,\u001b[0m\u001b[0;36m6\u001b[0m\u001b[0;34m)\u001b[0m\u001b[0;34m)\u001b[0m\u001b[0;34m\u001b[0m\u001b[0m\n\u001b[1;32m      2\u001b[0m \u001b[0mplt\u001b[0m\u001b[0;34m.\u001b[0m\u001b[0msubplot\u001b[0m\u001b[0;34m(\u001b[0m\u001b[0;36m1\u001b[0m\u001b[0;34m,\u001b[0m\u001b[0;36m2\u001b[0m\u001b[0;34m,\u001b[0m\u001b[0;36m1\u001b[0m\u001b[0;34m)\u001b[0m\u001b[0;34m;\u001b[0m \u001b[0mplt\u001b[0m\u001b[0;34m.\u001b[0m\u001b[0mtitle\u001b[0m\u001b[0;34m(\u001b[0m\u001b[0;34m'Training'\u001b[0m\u001b[0;34m,\u001b[0m \u001b[0mfontsize\u001b[0m \u001b[0;34m=\u001b[0m \u001b[0;36m20\u001b[0m\u001b[0;34m)\u001b[0m\u001b[0;34m\u001b[0m\u001b[0m\n\u001b[0;32m----> 3\u001b[0;31m \u001b[0mplt\u001b[0m\u001b[0;34m.\u001b[0m\u001b[0mplot\u001b[0m\u001b[0;34m(\u001b[0m\u001b[0mhistory\u001b[0m\u001b[0;34m.\u001b[0m\u001b[0mhistory\u001b[0m\u001b[0;34m[\u001b[0m\u001b[0;34m'acc'\u001b[0m\u001b[0;34m]\u001b[0m\u001b[0;34m,\u001b[0m \u001b[0mlabel\u001b[0m \u001b[0;34m=\u001b[0m \u001b[0;34m'acc'\u001b[0m\u001b[0;34m)\u001b[0m\u001b[0;34m\u001b[0m\u001b[0m\n\u001b[0m\u001b[1;32m      4\u001b[0m \u001b[0mplt\u001b[0m\u001b[0;34m.\u001b[0m\u001b[0mplot\u001b[0m\u001b[0;34m(\u001b[0m\u001b[0mhistory\u001b[0m\u001b[0;34m.\u001b[0m\u001b[0mhistory\u001b[0m\u001b[0;34m[\u001b[0m\u001b[0;34m'specificity'\u001b[0m\u001b[0;34m]\u001b[0m\u001b[0;34m,\u001b[0m \u001b[0mlabel\u001b[0m \u001b[0;34m=\u001b[0m \u001b[0;34m'specificity'\u001b[0m\u001b[0;34m)\u001b[0m\u001b[0;34m\u001b[0m\u001b[0m\n\u001b[1;32m      5\u001b[0m \u001b[0mplt\u001b[0m\u001b[0;34m.\u001b[0m\u001b[0mplot\u001b[0m\u001b[0;34m(\u001b[0m\u001b[0mhistory\u001b[0m\u001b[0;34m.\u001b[0m\u001b[0mhistory\u001b[0m\u001b[0;34m[\u001b[0m\u001b[0;34m'sensitivity'\u001b[0m\u001b[0;34m]\u001b[0m\u001b[0;34m,\u001b[0m \u001b[0mlabel\u001b[0m \u001b[0;34m=\u001b[0m \u001b[0;34m'sensitivity'\u001b[0m\u001b[0;34m)\u001b[0m\u001b[0;34m\u001b[0m\u001b[0m\n",
      "\u001b[0;31mKeyError\u001b[0m: 'acc'"
     ]
    },
    {
     "data": {
      "image/png": "[encoded data removed]",
      "text/plain": [
       "<Figure size 1296x432 with 1 Axes>"
      ]
     },
     "metadata": {
      "needs_background": "light"
     },
     "output_type": "display_data"
    }
   ],
   "source": [
    "plt.figure(figsize = (18,6))\n",
    "plt.subplot(1,2,1); plt.title('Training', fontsize = 20)\n",
    "plt.plot(history.history['acc'], label = 'acc')\n",
    "plt.plot(history.history['specificity'], label = 'specificity')\n",
    "plt.plot(history.history['sensitivity'], label = 'sensitivity')\n",
    "plt.axhline((train_data.temp_label).astype('float32').sum()/train_data.shape[0], ls = '--', c = 'r', label = 'baseline')\n",
    "plt.xticks(np.arange(0,10))\n",
    "plt.legend()\n",
    "plt.subplot(1,2,2); plt.title('Validation', fontsize = 20)\n",
    "plt.plot(history.history['val_acc'], label = 'val acc')\n",
    "plt.plot(history.history['val_specificity'], label = 'val specificity')\n",
    "plt.plot(history.history['val_sensitivity'], label = 'val sensitivity')\n",
    "plt.axhline((test_data.temp_label).astype('float32').sum()/test_data.shape[0], ls = '--', c = 'r', label = 'baseline')\n",
    "plt.xticks(np.arange(0,10))\n",
    "plt.legend();"
   ]
  },
  {
   "cell_type": "code",
   "execution_count": 13,
   "metadata": {
    "collapsed": true
   },
   "outputs": [],
   "source": [
    "# plt.plot(history.history['specificity'])"
   ]
  },
  {
   "cell_type": "code",
   "execution_count": 15,
   "metadata": {},
   "outputs": [
    {
     "data": {
      "text/plain": [
       "dict_keys(['val_loss', 'val_acc', 'val_sensitivity', 'val_specificity', 'loss', 'acc', 'sensitivity', 'specificity'])"
      ]
     },
     "execution_count": 15,
     "metadata": {},
     "output_type": "execute_result"
    }
   ],
   "source": [
    "history.history.keys()"
   ]
  },
  {
   "cell_type": "code",
   "execution_count": 16,
   "metadata": {},
   "outputs": [
    {
     "data": {
      "text/html": [
       "<div>\n",
       "<style scoped>\n",
       "    .dataframe tbody tr th:only-of-type {\n",
       "        vertical-align: middle;\n",
       "    }\n",
       "\n",
       "    .dataframe tbody tr th {\n",
       "        vertical-align: top;\n",
       "    }\n",
       "\n",
       "    .dataframe thead th {\n",
       "        text-align: right;\n",
       "    }\n",
       "</style>\n",
       "<table border=\"1\" class=\"dataframe\">\n",
       "  <thead>\n",
       "    <tr style=\"text-align: right;\">\n",
       "      <th></th>\n",
       "      <th>ADDR_NUM</th>\n",
       "      <th>FULL_STR</th>\n",
       "      <th>MBL</th>\n",
       "      <th>ADDRESS_FOR_STREET_VIEW</th>\n",
       "      <th>AERIAL_Driveway</th>\n",
       "      <th>GSV_Driveway</th>\n",
       "      <th>final_label</th>\n",
       "      <th>aerial_filename</th>\n",
       "      <th>gsv_filename</th>\n",
       "      <th>temp_label</th>\n",
       "    </tr>\n",
       "  </thead>\n",
       "  <tbody>\n",
       "    <tr>\n",
       "      <th>0</th>\n",
       "      <td>1</td>\n",
       "      <td>ESSEX ST</td>\n",
       "      <td>50-B-12</td>\n",
       "      <td>1  ESSEX ST, SOMERVILLE, MA</td>\n",
       "      <td>2</td>\n",
       "      <td>1</td>\n",
       "      <td>0.9</td>\n",
       "      <td>1_ESSEX_ST_aerial.png</td>\n",
       "      <td>1_ESSEX_ST.jpg</td>\n",
       "      <td>1</td>\n",
       "    </tr>\n",
       "    <tr>\n",
       "      <th>25</th>\n",
       "      <td>8</td>\n",
       "      <td>GILMAN ST</td>\n",
       "      <td>92-J-10</td>\n",
       "      <td>8  GILMAN ST, SOMERVILLE, MA</td>\n",
       "      <td>1</td>\n",
       "      <td>2</td>\n",
       "      <td>0.9</td>\n",
       "      <td>8_GILMAN_ST_aerial.png</td>\n",
       "      <td>8_GILMAN_ST.jpg</td>\n",
       "      <td>1</td>\n",
       "    </tr>\n",
       "    <tr>\n",
       "      <th>37</th>\n",
       "      <td>9</td>\n",
       "      <td>MELVILLE RD</td>\n",
       "      <td>55-C-13</td>\n",
       "      <td>9  MELVILLE RD, SOMERVILLE, MA</td>\n",
       "      <td>1</td>\n",
       "      <td>1</td>\n",
       "      <td>1.0</td>\n",
       "      <td>9_MELVILLE_RD_aerial.png</td>\n",
       "      <td>9_MELVILLE_RD.jpg</td>\n",
       "      <td>1</td>\n",
       "    </tr>\n",
       "    <tr>\n",
       "      <th>51</th>\n",
       "      <td>10</td>\n",
       "      <td>CENTRAL ST</td>\n",
       "      <td>44-F-8</td>\n",
       "      <td>10  CENTRAL ST, SOMERVILLE, MA</td>\n",
       "      <td>0</td>\n",
       "      <td>0</td>\n",
       "      <td>0.0</td>\n",
       "      <td>10_CENTRAL_ST_aerial.png</td>\n",
       "      <td>10_CENTRAL_ST.jpg</td>\n",
       "      <td>0</td>\n",
       "    </tr>\n",
       "    <tr>\n",
       "      <th>78</th>\n",
       "      <td>14</td>\n",
       "      <td>MANSFIELD ST</td>\n",
       "      <td>81-B-16</td>\n",
       "      <td>14  MANSFIELD ST, SOMERVILLE, MA</td>\n",
       "      <td>2</td>\n",
       "      <td>2</td>\n",
       "      <td>0.5</td>\n",
       "      <td>14_MANSFIELD_ST_aerial.png</td>\n",
       "      <td>14_MANSFIELD_ST.jpg</td>\n",
       "      <td>0</td>\n",
       "    </tr>\n",
       "  </tbody>\n",
       "</table>\n",
       "</div>"
      ],
      "text/plain": [
       "   ADDR_NUM      FULL_STR      MBL           ADDRESS_FOR_STREET_VIEW  \\\n",
       "0         1      ESSEX ST  50-B-12       1  ESSEX ST, SOMERVILLE, MA   \n",
       "25        8     GILMAN ST  92-J-10      8  GILMAN ST, SOMERVILLE, MA   \n",
       "37        9   MELVILLE RD  55-C-13    9  MELVILLE RD, SOMERVILLE, MA   \n",
       "51       10    CENTRAL ST   44-F-8    10  CENTRAL ST, SOMERVILLE, MA   \n",
       "78       14  MANSFIELD ST  81-B-16  14  MANSFIELD ST, SOMERVILLE, MA   \n",
       "\n",
       "    AERIAL_Driveway  GSV_Driveway final_label             aerial_filename  \\\n",
       "0                 2             1         0.9       1_ESSEX_ST_aerial.png   \n",
       "25                1             2         0.9      8_GILMAN_ST_aerial.png   \n",
       "37                1             1         1.0    9_MELVILLE_RD_aerial.png   \n",
       "51                0             0         0.0    10_CENTRAL_ST_aerial.png   \n",
       "78                2             2         0.5  14_MANSFIELD_ST_aerial.png   \n",
       "\n",
       "           gsv_filename temp_label  \n",
       "0        1_ESSEX_ST.jpg          1  \n",
       "25      8_GILMAN_ST.jpg          1  \n",
       "37    9_MELVILLE_RD.jpg          1  \n",
       "51    10_CENTRAL_ST.jpg          0  \n",
       "78  14_MANSFIELD_ST.jpg          0  "
      ]
     },
     "execution_count": 16,
     "metadata": {},
     "output_type": "execute_result"
    }
   ],
   "source": [
    "addresses_gsv_filename = ['1_ESSEX_ST.jpg', '8_GILMAN_ST.jpg', '9_MELVILLE_RD.jpg','10_CENTRAL_ST.jpg',\n",
    "                         '14_MANSFIELD_ST.jpg']\n",
    "pred_sample = sample[sample.gsv_filename.isin(addresses_gsv_filename)]\n",
    "pred_sample"
   ]
  },
  {
   "cell_type": "code",
   "execution_count": 17,
   "metadata": {},
   "outputs": [
    {
     "name": "stdout",
     "output_type": "stream",
     "text": [
      "Found 5 validated image filenames belonging to 2 classes.\n",
      "Found 5 validated image filenames belonging to 2 classes.\n"
     ]
    },
    {
     "data": {
      "text/plain": [
       "array([[0.81862664],\n",
       "       [0.9158333 ],\n",
       "       [0.7533158 ],\n",
       "       [0.77781636],\n",
       "       [0.9597675 ]], dtype=float32)"
      ]
     },
     "execution_count": 17,
     "metadata": {},
     "output_type": "execute_result"
    }
   ],
   "source": [
    "model.predict_generator(generator_two_inputs(pred_sample, aerial_dir = '../data/training/aerial_images/', \n",
    "                gsv_dir ='data/training/street_view_images/', batch_size = batch_size, \n",
    "                 gsv_image_dim = (128,128, 3), aer_image_dim = (128,128, 4), y_column = 'temp_label'),\n",
    "                      steps = 1 )"
   ]
  },
  {
   "cell_type": "code",
   "execution_count": 16,
   "metadata": {},
   "outputs": [
    {
     "name": "stdout",
     "output_type": "stream",
     "text": [
      "Found 5 validated image filenames belonging to 2 classes.\n",
      "Found 5 validated image filenames belonging to 2 classes.\n"
     ]
    },
    {
     "data": {
      "text/plain": [
       "array([[0.91346025],\n",
       "       [0.69096094],\n",
       "       [0.4599434 ],\n",
       "       [0.9577801 ],\n",
       "       [0.49642584]], dtype=float32)"
      ]
     },
     "execution_count": 16,
     "metadata": {},
     "output_type": "execute_result"
    }
   ],
   "source": [
    "model.predict_generator(generator_two_inputs(pred_sample, aerial_dir = '../data/training/aerial_images/', \n",
    "                gsv_dir ='data/training/street_view_images/', batch_size = batch_size, \n",
    "                 gsv_image_dim = (128,128, 3), aer_image_dim = (128,128, 4), y_column = 'temp_label'),\n",
    "                      steps = 1 )"
   ]
  },
  {
   "cell_type": "code",
   "execution_count": 15,
   "metadata": {},
   "outputs": [],
   "source": [
    "# save basic model\n",
    "import pickle\n",
    "with open('../models/basicmodelhistory.pkl', 'wb') as file_pi:\n",
    "    pickle.dump(history.history, file_pi)"
   ]
  },
  {
   "cell_type": "code",
   "execution_count": 17,
   "metadata": {},
   "outputs": [],
   "source": [
    "model.save('../models/basicmodel.h5')"
   ]
  },
  {
   "cell_type": "code",
   "execution_count": 18,
   "metadata": {
    "collapsed": true
   },
   "outputs": [],
   "source": [
    "model.save_weights('../models/basicmodel_weights.h5')"
   ]
  },
  {
   "cell_type": "code",
   "execution_count": null,
   "metadata": {
    "collapsed": true
   },
   "outputs": [],
   "source": []
  }
 ],
 "metadata": {
  "kernelspec": {
   "display_name": "somerville",
   "language": "python",
   "name": "somerville"
  },
  "language_info": {
   "codemirror_mode": {
    "name": "ipython",
    "version": 3
   },
   "file_extension": ".py",
   "mimetype": "text/x-python",
   "name": "python",
   "nbconvert_exporter": "python",
   "pygments_lexer": "ipython3",
   "version": "3.6.5"
  }
 },
 "nbformat": 4,
 "nbformat_minor": 2
}
