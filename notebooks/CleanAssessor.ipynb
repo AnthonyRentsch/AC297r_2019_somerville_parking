{
 "cells": [
  {
   "cell_type": "code",
   "execution_count": 94,
   "metadata": {},
   "outputs": [],
   "source": [
    "import pandas as pd\n",
    "pd.set_option('display.max_rows', 500)\n",
    "pd.set_option('display.max_columns', 500)"
   ]
  },
  {
   "cell_type": "code",
   "execution_count": 134,
   "metadata": {},
   "outputs": [],
   "source": [
    "assessor = pd.read_csv('../data/Assessor_s_Property_Database_FY14-FY18.csv')"
   ]
  },
  {
   "cell_type": "markdown",
   "metadata": {},
   "source": [
    "# Create Garage Labels"
   ]
  },
  {
   "cell_type": "code",
   "execution_count": 135,
   "metadata": {},
   "outputs": [],
   "source": [
    "assessor['MBL'] = assessor.MAP.astype(str) +\"-\"+ assessor.BLOCK.astype(str) +\"-\"+  assessor.LOT.astype(str) "
   ]
  },
  {
   "cell_type": "code",
   "execution_count": 136,
   "metadata": {},
   "outputs": [],
   "source": [
    "garage_df = (\n",
    "    assessor\n",
    "    .groupby('MBL')['HAS GARAGE']\n",
    "    .apply(list)\n",
    "    .apply(lambda l: 1 if 'Y' in l else 0)\n",
    "    .reset_index()\n",
    "    .rename({'HAS GARAGE':'HAS_GARAGE'}, axis =1)\n",
    ")\n",
    "\n",
    "garage_df = garage_df[garage_df.HAS_GARAGE == 1]"
   ]
  },
  {
   "cell_type": "code",
   "execution_count": null,
   "metadata": {},
   "outputs": [],
   "source": [
    "garage_df.to_csv('../data/garage.csv')"
   ]
  },
  {
   "cell_type": "markdown",
   "metadata": {},
   "source": [
    "# Clean Assessor "
   ]
  },
  {
   "cell_type": "code",
   "execution_count": 138,
   "metadata": {},
   "outputs": [],
   "source": [
    "assessor = assessor[assessor.FISCAL_YEAR == 2018]"
   ]
  },
  {
   "cell_type": "code",
   "execution_count": 139,
   "metadata": {},
   "outputs": [],
   "source": [
    "unit_addr = assessor['STREET'].apply(lambda x: x.strip().lower())\n",
    "owner_addr = assessor['OWNER ADD'].apply(lambda x: ' '.join(str(x).split(' ')[1:]).strip().lower())\n",
    "assessor['OWNER_IS_TENANT'] = unit_addr == owner_addr"
   ]
  },
  {
   "cell_type": "code",
   "execution_count": 140,
   "metadata": {},
   "outputs": [],
   "source": [
    "feature_clms = [\n",
    "    'EXEMPT AMT', \n",
    "    'TAX VALUE', \n",
    "    'ROOF STRUCTURE DESCRIP',\n",
    "    'ROOF COVER DESCRIP', \n",
    "    'INT WALL 1 DESCRIP',\n",
    "    'HEAT TYPE',\n",
    "    'FUEL TYPE',\n",
    "    'AC TYPE',\n",
    "    'GRADE DESCRIP',\n",
    "    'IMPROVE VAL',\n",
    "    'MBL'\n",
    "]\n",
    "feature_clms_clean = [clm.replace(' ', '_') for clm in  feature_clms]"
   ]
  },
  {
   "cell_type": "code",
   "execution_count": 141,
   "metadata": {},
   "outputs": [],
   "source": [
    "replacement_clms = dict(zip(feature_clms, feature_clms_clean))"
   ]
  },
  {
   "cell_type": "code",
   "execution_count": 142,
   "metadata": {},
   "outputs": [],
   "source": [
    "assessor = (\n",
    "    assessor\n",
    "    .rename(replacement_clms, axis = 1)\n",
    "    [feature_clms_clean]\n",
    ")"
   ]
  },
  {
   "cell_type": "code",
   "execution_count": 177,
   "metadata": {},
   "outputs": [
    {
     "data": {
      "text/plain": [
       "53487        NaN\n",
       "53512        NaN\n",
       "53625        NaN\n",
       "53651        NaN\n",
       "53739        NaN\n",
       "          ...   \n",
       "88905    13850.0\n",
       "88906       94.0\n",
       "88907        NaN\n",
       "88908        NaN\n",
       "88909        NaN\n",
       "Name: INT_WALL_1_DESCRIP, Length: 18911, dtype: float64"
      ]
     },
     "execution_count": 177,
     "metadata": {},
     "output_type": "execute_result"
    }
   ],
   "source": [
    "vc = assessor.INT_WALL_1_DESCRIP.value_counts()\n",
    "assessor.INT_WALL_1_DESCRIP.apply(lambda x: vc.loc[x] if type(x) == str else np.NaN)"
   ]
  },
  {
   "cell_type": "code",
   "execution_count": 170,
   "metadata": {},
   "outputs": [
    {
     "data": {
      "text/html": [
       "<div>\n",
       "<style scoped>\n",
       "    .dataframe tbody tr th:only-of-type {\n",
       "        vertical-align: middle;\n",
       "    }\n",
       "\n",
       "    .dataframe tbody tr th {\n",
       "        vertical-align: top;\n",
       "    }\n",
       "\n",
       "    .dataframe thead th {\n",
       "        text-align: right;\n",
       "    }\n",
       "</style>\n",
       "<table border=\"1\" class=\"dataframe\">\n",
       "  <thead>\n",
       "    <tr style=\"text-align: right;\">\n",
       "      <th></th>\n",
       "      <th>EXEMPT_AMT</th>\n",
       "      <th>TAX_VALUE</th>\n",
       "      <th>ROOF_STRUCTURE_DESCRIP</th>\n",
       "      <th>ROOF_COVER_DESCRIP</th>\n",
       "      <th>INT_WALL_1_DESCRIP</th>\n",
       "      <th>HEAT_TYPE</th>\n",
       "      <th>FUEL_TYPE</th>\n",
       "      <th>AC_TYPE</th>\n",
       "      <th>GRADE_DESCRIP</th>\n",
       "      <th>IMPROVE_VAL</th>\n",
       "      <th>MBL</th>\n",
       "    </tr>\n",
       "  </thead>\n",
       "  <tbody>\n",
       "    <tr>\n",
       "      <td>77400</td>\n",
       "      <td>0.0</td>\n",
       "      <td>463108.67</td>\n",
       "      <td>Green Roof</td>\n",
       "      <td>Flat</td>\n",
       "      <td>Drywall/Sheet</td>\n",
       "      <td>Forced Air-Duc</td>\n",
       "      <td>Gas</td>\n",
       "      <td>Central</td>\n",
       "      <td>Excellent</td>\n",
       "      <td>192342000</td>\n",
       "      <td>99-A-9</td>\n",
       "    </tr>\n",
       "    <tr>\n",
       "      <td>77256</td>\n",
       "      <td>0.0</td>\n",
       "      <td>1123815.70</td>\n",
       "      <td>T&amp;G/Rubber</td>\n",
       "      <td>Flat</td>\n",
       "      <td>Drywall/Sheet</td>\n",
       "      <td>Forced Air-Duc</td>\n",
       "      <td>Gas</td>\n",
       "      <td>Central</td>\n",
       "      <td>Excellent</td>\n",
       "      <td>76642400</td>\n",
       "      <td>85-A-8</td>\n",
       "    </tr>\n",
       "    <tr>\n",
       "      <td>77289</td>\n",
       "      <td>0.0</td>\n",
       "      <td>921109.56</td>\n",
       "      <td>T&amp;G/Rubber</td>\n",
       "      <td>Flat</td>\n",
       "      <td>Drywall/Sheet</td>\n",
       "      <td>Forced Air-Duc</td>\n",
       "      <td>Gas</td>\n",
       "      <td>Central</td>\n",
       "      <td>Average</td>\n",
       "      <td>70190900</td>\n",
       "      <td>85-A-11</td>\n",
       "    </tr>\n",
       "    <tr>\n",
       "      <td>59791</td>\n",
       "      <td>0.0</td>\n",
       "      <td>528230.87</td>\n",
       "      <td>T&amp;G/Rubber</td>\n",
       "      <td>Flat</td>\n",
       "      <td>Adequate</td>\n",
       "      <td>Hot Water</td>\n",
       "      <td>Gas</td>\n",
       "      <td>None</td>\n",
       "      <td>Average +20</td>\n",
       "      <td>67024600</td>\n",
       "      <td>115-C-1</td>\n",
       "    </tr>\n",
       "    <tr>\n",
       "      <td>75918</td>\n",
       "      <td>0.0</td>\n",
       "      <td>0.00</td>\n",
       "      <td>Flat</td>\n",
       "      <td>T&amp;G/Rubber</td>\n",
       "      <td>Plastered</td>\n",
       "      <td>Forced Air-Duc</td>\n",
       "      <td>Gas</td>\n",
       "      <td>Central</td>\n",
       "      <td>Excellent +10</td>\n",
       "      <td>60997000</td>\n",
       "      <td>61-F-2</td>\n",
       "    </tr>\n",
       "    <tr>\n",
       "      <td>...</td>\n",
       "      <td>...</td>\n",
       "      <td>...</td>\n",
       "      <td>...</td>\n",
       "      <td>...</td>\n",
       "      <td>...</td>\n",
       "      <td>...</td>\n",
       "      <td>...</td>\n",
       "      <td>...</td>\n",
       "      <td>...</td>\n",
       "      <td>...</td>\n",
       "      <td>...</td>\n",
       "    </tr>\n",
       "    <tr>\n",
       "      <td>80772</td>\n",
       "      <td>0.0</td>\n",
       "      <td>0.00</td>\n",
       "      <td>NaN</td>\n",
       "      <td>NaN</td>\n",
       "      <td>NaN</td>\n",
       "      <td>NaN</td>\n",
       "      <td>NaN</td>\n",
       "      <td>NaN</td>\n",
       "      <td>NaN</td>\n",
       "      <td>0</td>\n",
       "      <td>90-I-22</td>\n",
       "    </tr>\n",
       "    <tr>\n",
       "      <td>80704</td>\n",
       "      <td>0.0</td>\n",
       "      <td>109.71</td>\n",
       "      <td>NaN</td>\n",
       "      <td>NaN</td>\n",
       "      <td>NaN</td>\n",
       "      <td>NaN</td>\n",
       "      <td>NaN</td>\n",
       "      <td>NaN</td>\n",
       "      <td>NaN</td>\n",
       "      <td>0</td>\n",
       "      <td>18-A-15</td>\n",
       "    </tr>\n",
       "    <tr>\n",
       "      <td>80670</td>\n",
       "      <td>0.0</td>\n",
       "      <td>0.00</td>\n",
       "      <td>NaN</td>\n",
       "      <td>NaN</td>\n",
       "      <td>NaN</td>\n",
       "      <td>NaN</td>\n",
       "      <td>NaN</td>\n",
       "      <td>NaN</td>\n",
       "      <td>NaN</td>\n",
       "      <td>0</td>\n",
       "      <td>40-H-12</td>\n",
       "    </tr>\n",
       "    <tr>\n",
       "      <td>80655</td>\n",
       "      <td>0.0</td>\n",
       "      <td>3807.94</td>\n",
       "      <td>NaN</td>\n",
       "      <td>NaN</td>\n",
       "      <td>NaN</td>\n",
       "      <td>NaN</td>\n",
       "      <td>NaN</td>\n",
       "      <td>NaN</td>\n",
       "      <td>NaN</td>\n",
       "      <td>0</td>\n",
       "      <td>83-D-9</td>\n",
       "    </tr>\n",
       "    <tr>\n",
       "      <td>88909</td>\n",
       "      <td>0.0</td>\n",
       "      <td>0.00</td>\n",
       "      <td>NaN</td>\n",
       "      <td>NaN</td>\n",
       "      <td>NaN</td>\n",
       "      <td>NaN</td>\n",
       "      <td>NaN</td>\n",
       "      <td>NaN</td>\n",
       "      <td>NaN</td>\n",
       "      <td>0</td>\n",
       "      <td>35-F-5</td>\n",
       "    </tr>\n",
       "  </tbody>\n",
       "</table>\n",
       "<p>13331 rows × 11 columns</p>\n",
       "</div>"
      ],
      "text/plain": [
       "       EXEMPT_AMT   TAX_VALUE ROOF_STRUCTURE_DESCRIP ROOF_COVER_DESCRIP  \\\n",
       "77400         0.0   463108.67             Green Roof               Flat   \n",
       "77256         0.0  1123815.70             T&G/Rubber               Flat   \n",
       "77289         0.0   921109.56             T&G/Rubber               Flat   \n",
       "59791         0.0   528230.87             T&G/Rubber               Flat   \n",
       "75918         0.0        0.00                   Flat         T&G/Rubber   \n",
       "...           ...         ...                    ...                ...   \n",
       "80772         0.0        0.00                    NaN                NaN   \n",
       "80704         0.0      109.71                    NaN                NaN   \n",
       "80670         0.0        0.00                    NaN                NaN   \n",
       "80655         0.0     3807.94                    NaN                NaN   \n",
       "88909         0.0        0.00                    NaN                NaN   \n",
       "\n",
       "      INT_WALL_1_DESCRIP       HEAT_TYPE FUEL_TYPE  AC_TYPE  GRADE_DESCRIP  \\\n",
       "77400      Drywall/Sheet  Forced Air-Duc       Gas  Central      Excellent   \n",
       "77256      Drywall/Sheet  Forced Air-Duc       Gas  Central      Excellent   \n",
       "77289      Drywall/Sheet  Forced Air-Duc       Gas  Central        Average   \n",
       "59791           Adequate       Hot Water       Gas     None    Average +20   \n",
       "75918          Plastered  Forced Air-Duc       Gas  Central  Excellent +10   \n",
       "...                  ...             ...       ...      ...            ...   \n",
       "80772                NaN             NaN       NaN      NaN            NaN   \n",
       "80704                NaN             NaN       NaN      NaN            NaN   \n",
       "80670                NaN             NaN       NaN      NaN            NaN   \n",
       "80655                NaN             NaN       NaN      NaN            NaN   \n",
       "88909                NaN             NaN       NaN      NaN            NaN   \n",
       "\n",
       "       IMPROVE_VAL      MBL  \n",
       "77400    192342000   99-A-9  \n",
       "77256     76642400   85-A-8  \n",
       "77289     70190900  85-A-11  \n",
       "59791     67024600  115-C-1  \n",
       "75918     60997000   61-F-2  \n",
       "...            ...      ...  \n",
       "80772            0  90-I-22  \n",
       "80704            0  18-A-15  \n",
       "80670            0  40-H-12  \n",
       "80655            0   83-D-9  \n",
       "88909            0   35-F-5  \n",
       "\n",
       "[13331 rows x 11 columns]"
      ]
     },
     "execution_count": 170,
     "metadata": {},
     "output_type": "execute_result"
    }
   ],
   "source": [
    "assessor.sort_values('IMPROVE_VAL', ascending=False).drop_duplicates(subset = ['MBL'])"
   ]
  },
  {
   "cell_type": "code",
   "execution_count": 172,
   "metadata": {},
   "outputs": [],
   "source": [
    "assessor.to_csv('../data/assessor_clean.csv')"
   ]
  },
  {
   "cell_type": "code",
   "execution_count": null,
   "metadata": {},
   "outputs": [],
   "source": []
  }
 ],
 "metadata": {
  "kernelspec": {
   "display_name": "somerville",
   "language": "python",
   "name": "somerville"
  },
  "language_info": {
   "codemirror_mode": {
    "name": "ipython",
    "version": 3
   },
   "file_extension": ".py",
   "mimetype": "text/x-python",
   "name": "python",
   "nbconvert_exporter": "python",
   "pygments_lexer": "ipython3",
   "version": "3.6.5"
  }
 },
 "nbformat": 4,
 "nbformat_minor": 2
}
