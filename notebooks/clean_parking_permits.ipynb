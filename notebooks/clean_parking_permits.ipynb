{
 "cells": [
  {
   "cell_type": "code",
   "execution_count": null,
   "metadata": {},
   "outputs": [],
   "source": [
    "import pandas as pd\n",
    "pd.options.display.max_rows = 999"
   ]
  },
  {
   "cell_type": "markdown",
   "metadata": {},
   "source": [
    "# load data"
   ]
  },
  {
   "cell_type": "code",
   "execution_count": null,
   "metadata": {},
   "outputs": [],
   "source": [
    "address_MBL = pd.read_csv('../data/address_MBL.csv', index_col = 0)\n",
    "\n",
    "parking_permits = pd.read_csv('../data/City_of_Somerville_Parking_Permits.csv')"
   ]
  },
  {
   "cell_type": "code",
   "execution_count": null,
   "metadata": {},
   "outputs": [],
   "source": [
    "address_MBL.head()"
   ]
  },
  {
   "cell_type": "code",
   "execution_count": null,
   "metadata": {},
   "outputs": [],
   "source": [
    "parking_permits.head()"
   ]
  },
  {
   "cell_type": "markdown",
   "metadata": {},
   "source": [
    "## Clean parking permits"
   ]
  },
  {
   "cell_type": "code",
   "execution_count": null,
   "metadata": {},
   "outputs": [],
   "source": [
    "is_residential = (parking_permits.type_name == 'Residential ') | (parking_permits.type_name == 'Residential')\n",
    "parking_permits = parking_permits[is_residential]\n",
    "\n",
    "parking_permits['issued'] = pd.to_datetime(parking_permits['issued'])\n",
    "was_issued_in_2018 = parking_permits.issued.dt.year == 2018\n",
    "parking_permits = parking_permits[was_issued_in_2018]\n"
   ]
  },
  {
   "cell_type": "code",
   "execution_count": null,
   "metadata": {},
   "outputs": [],
   "source": [
    "parking_permits_counts = parking_permits.groupby('st_addr').size().reset_index()\n",
    "parking_permits_counts.columns = ['st_addr','PARKING_PERMIT_COUNT']\n",
    "parking_permits_counts.head()"
   ]
  },
  {
   "cell_type": "code",
   "execution_count": null,
   "metadata": {},
   "outputs": [],
   "source": [
    "parking_permits_counts.st_addr = parking_permits_counts.st_addr.apply(lambda x: x.replace(' AV', ' AVE'))"
   ]
  },
  {
   "cell_type": "markdown",
   "metadata": {},
   "source": [
    "## Merge with MBL"
   ]
  },
  {
   "cell_type": "code",
   "execution_count": null,
   "metadata": {},
   "outputs": [],
   "source": [
    "address_MBL['st_addr'] = address_MBL.SITE_ADDR.apply(lambda x: x.split(',')[0]).replace(' AV', ' AVE')"
   ]
  },
  {
   "cell_type": "code",
   "execution_count": null,
   "metadata": {},
   "outputs": [],
   "source": [
    "address_MBL = address_MBL.merge(parking_permits_counts, how = 'left').fillna(0)"
   ]
  },
  {
   "cell_type": "code",
   "execution_count": null,
   "metadata": {},
   "outputs": [],
   "source": [
    "address_MBL[['MBL','PARKING_PERMIT_COUNT']].to_csv('../data/parking_permit_counts.csv')"
   ]
  },
  {
   "cell_type": "code",
   "execution_count": null,
   "metadata": {},
   "outputs": [],
   "source": []
  }
 ],
 "metadata": {
  "kernelspec": {
   "display_name": "Python 3",
   "language": "python",
   "name": "python3"
  },
  "language_info": {
   "codemirror_mode": {
    "name": "ipython",
    "version": 3
   },
   "file_extension": ".py",
   "mimetype": "text/x-python",
   "name": "python",
   "nbconvert_exporter": "python",
   "pygments_lexer": "ipython3",
   "version": "3.6.6"
  }
 },
 "nbformat": 4,
 "nbformat_minor": 2
}
