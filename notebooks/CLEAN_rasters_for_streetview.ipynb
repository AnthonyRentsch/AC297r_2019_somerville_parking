{
 "cells": [
  {
   "cell_type": "code",
   "execution_count": null,
   "metadata": {},
   "outputs": [],
   "source": [
    "from src.raster import Raster\n",
    "import pandas as pd\n",
    "import os"
   ]
  },
  {
   "cell_type": "code",
   "execution_count": null,
   "metadata": {},
   "outputs": [],
   "source": [
    "data_dir = '../data/street_view/aerial_raster/'"
   ]
  },
  {
   "cell_type": "code",
   "execution_count": null,
   "metadata": {},
   "outputs": [],
   "source": [
    "images = []\n",
    "for file in os.listdir(data_dir):\n",
    "    if file.endswith(\".TIF\"):\n",
    "        images.append(file)"
   ]
  },
  {
   "cell_type": "code",
   "execution_count": null,
   "metadata": {},
   "outputs": [],
   "source": [
    "parcels = pd.read_csv('../data/street_view/parcels_sample.csv')\n",
    "parcels"
   ]
  },
  {
   "cell_type": "code",
   "execution_count": null,
   "metadata": {},
   "outputs": [],
   "source": [
    "def get_name(parcel_name):\n",
    "    parcel_num = int(parcel_name.replace('Parcel','').replace('.TIF',''))\n",
    "    row = parcels.iloc[parcel_num]\n",
    "    address = row['sample_residences_102219.csv.ADDRESS_FOR_STREET_VIEW']\n",
    "    address_cln = address.replace('  ',' ').replace(', SOMERVILLE, MA','').replace(' ','_')\n",
    "    filename = address_cln + '_aerial.png'\n",
    "    return(filename)"
   ]
  },
  {
   "cell_type": "code",
   "execution_count": null,
   "metadata": {
    "scrolled": true
   },
   "outputs": [],
   "source": [
    "for img in images:\n",
    "    r = Raster(data_dir, img)\n",
    "    r.savefig('../data/street_view/aerial_images/' + get_name(img), dpi = 300)"
   ]
  },
  {
   "cell_type": "code",
   "execution_count": null,
   "metadata": {},
   "outputs": [],
   "source": []
  }
 ],
 "metadata": {
  "kernelspec": {
   "display_name": "Python 3",
   "language": "python",
   "name": "python3"
  },
  "language_info": {
   "codemirror_mode": {
    "name": "ipython",
    "version": 3
   },
   "file_extension": ".py",
   "mimetype": "text/x-python",
   "name": "python",
   "nbconvert_exporter": "python",
   "pygments_lexer": "ipython3",
   "version": "3.6.8"
  }
 },
 "nbformat": 4,
 "nbformat_minor": 2
}
