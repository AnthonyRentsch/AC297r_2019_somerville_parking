{
 "cells": [
  {
   "cell_type": "code",
   "execution_count": null,
   "metadata": {},
   "outputs": [],
   "source": [
    "from src.raster import Raster\n",
    "import pandas as pd\n",
    "import geopandas as gpd\n",
    "import os\n",
    "\n",
    "from os import listdir\n",
    "from os.path import isfile, join\n",
    "\n",
    "from src.streetview import save_streetview_image, KEY\n",
    "import pandas as pd\n",
    "import numpy as np\n",
    "import re\n",
    "import time\n",
    "from django.utils import text\n",
    "from os import listdir\n",
    "from os.path import isfile, join"
   ]
  },
  {
   "cell_type": "markdown",
   "metadata": {},
   "source": [
    "# Get rasters to be labelled"
   ]
  },
  {
   "cell_type": "code",
   "execution_count": null,
   "metadata": {},
   "outputs": [],
   "source": [
    "data_dir = '../data/SplitRaster/'"
   ]
  },
  {
   "cell_type": "code",
   "execution_count": null,
   "metadata": {},
   "outputs": [],
   "source": [
    "images = []\n",
    "for file in os.listdir(data_dir):\n",
    "    if file.endswith(\".TIF\"):\n",
    "        images.append(file)\n",
    "\n",
    "parcels = gpd.read_file('../data/Parcels_shape/')\n",
    "\n",
    "parcel_nums = [int(x.replace('parcel','').replace('.TIF','')) for x in images]\n",
    "rasters_3000 = parcels.iloc[parcel_nums]"
   ]
  },
  {
   "cell_type": "code",
   "execution_count": null,
   "metadata": {},
   "outputs": [],
   "source": [
    "rasters_3000 = rasters_3000[['MBL', 'AddNum', 'Street']]\n",
    "rasters_3000.head()"
   ]
  },
  {
   "cell_type": "markdown",
   "metadata": {},
   "source": [
    "# Get streetview to be labelled"
   ]
  },
  {
   "cell_type": "code",
   "execution_count": null,
   "metadata": {},
   "outputs": [],
   "source": [
    "address_list = pd.read_csv('../data/address_MBL.csv', index_col=0)\n",
    "address_list.head()"
   ]
  },
  {
   "cell_type": "markdown",
   "metadata": {},
   "source": [
    "# Create New Labelling List"
   ]
  },
  {
   "cell_type": "code",
   "execution_count": null,
   "metadata": {},
   "outputs": [],
   "source": [
    "to_label_3000 = address_list.merge(rasters_3000, on = 'MBL', how = 'inner')\n",
    "\n",
    "already_labelled = pd.read_csv(\"../data/training/all_labels.csv\", index_col = 0)\n",
    "MBLs = list(already_labelled.MBL)\n",
    "to_label_3000 = to_label_3000[~to_label_3000.MBL.isin(MBLs)]\n",
    "\n",
    "to_label_3000.to_csv('../data/training3000/to_label_3000.csv')"
   ]
  },
  {
   "cell_type": "markdown",
   "metadata": {},
   "source": [
    "# Delete Extra Street View"
   ]
  },
  {
   "cell_type": "code",
   "execution_count": null,
   "metadata": {},
   "outputs": [],
   "source": [
    "def clean_address(adr, slugify = True):\n",
    "    street_adr = adr.split(',')[0]\n",
    "    fn = re.sub(' +','_',street_adr)\n",
    "    if slugify:\n",
    "        fn = text.slugify(fn)\n",
    "    return fn + '.jpg'"
   ]
  },
  {
   "cell_type": "code",
   "execution_count": null,
   "metadata": {},
   "outputs": [],
   "source": [
    "sv_to_label = to_label_3000.SITE_ADDR.apply(clean_address)\n",
    "all_sv = [f for f in listdir(\"../data/training3000/sv_images/\") \n",
    "                           if isfile(join(\"../data/training3000/sv_images/\", f))]\n"
   ]
  },
  {
   "cell_type": "code",
   "execution_count": null,
   "metadata": {},
   "outputs": [],
   "source": [
    "to_delete_sv = set(all_sv) - set(sv_to_label)"
   ]
  },
  {
   "cell_type": "code",
   "execution_count": null,
   "metadata": {},
   "outputs": [],
   "source": [
    "for file in to_delete_sv:\n",
    "    os.remove(\"../data/training3000/sv_images/\" + file)"
   ]
  },
  {
   "cell_type": "markdown",
   "metadata": {},
   "source": [
    "# Delete Extra Raster"
   ]
  },
  {
   "cell_type": "code",
   "execution_count": null,
   "metadata": {},
   "outputs": [],
   "source": [
    "def get_name(row):\n",
    "    if row['AddNum'] is None:\n",
    "        row['AddNum'] = 'unknown'\n",
    "    if row['Street'] is None:\n",
    "        row['Street'] = 'unknown'\n",
    "    address = str(row['AddNum']) + ' ' +row['Street']\n",
    "    address_cln = address.lower().replace('  ',' ').replace(' ','_')\n",
    "    filename = address_cln + '_aerial.png'\n",
    "    return(filename)"
   ]
  },
  {
   "cell_type": "code",
   "execution_count": null,
   "metadata": {},
   "outputs": [],
   "source": [
    "raster_to_label = to_label_3000.apply(get_name, axis = 1)"
   ]
  },
  {
   "cell_type": "code",
   "execution_count": null,
   "metadata": {},
   "outputs": [],
   "source": [
    "all_raster = [f for f in listdir(\"../data/training3000/aerial_images/\") \n",
    "                           if isfile(join(\"../data/training3000/aerial_images/\", f))]"
   ]
  },
  {
   "cell_type": "code",
   "execution_count": null,
   "metadata": {},
   "outputs": [],
   "source": [
    "to_delete_raster = set(all_raster) - set(raster_to_label)"
   ]
  },
  {
   "cell_type": "code",
   "execution_count": null,
   "metadata": {},
   "outputs": [],
   "source": [
    "for file in to_delete_raster:\n",
    "    os.remove(\"../data/training3000/aerial_images/\" + file)"
   ]
  }
 ],
 "metadata": {
  "kernelspec": {
   "display_name": "Python 3",
   "language": "python",
   "name": "python3"
  },
  "language_info": {
   "codemirror_mode": {
    "name": "ipython",
    "version": 3
   },
   "file_extension": ".py",
   "mimetype": "text/x-python",
   "name": "python",
   "nbconvert_exporter": "python",
   "pygments_lexer": "ipython3",
   "version": "3.6.6"
  }
 },
 "nbformat": 4,
 "nbformat_minor": 2
}
