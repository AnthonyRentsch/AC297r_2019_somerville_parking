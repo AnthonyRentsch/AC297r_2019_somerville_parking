{
 "cells": [
  {
   "cell_type": "code",
   "execution_count": 1,
   "metadata": {},
   "outputs": [
    {
     "name": "stderr",
     "output_type": "stream",
     "text": [
      "Using TensorFlow backend.\n"
     ]
    }
   ],
   "source": [
    "import pandas as pd\n",
    "import keras\n",
    "import numpy as np\n",
    "import sys\n",
    "sys.path.append('../')\n",
    "from src.models import combined_cnn\n",
    "from src.generator import generator_two_inputs\n",
    "sys.path.append('/notebook')\n",
    "from sklearn.model_selection import train_test_split\n",
    "import matplotlib.pyplot as plt\n",
    "% matplotlib inline"
   ]
  },
  {
   "cell_type": "code",
   "execution_count": 2,
   "metadata": {
    "collapsed": true
   },
   "outputs": [],
   "source": [
    "# import dataframe with filenames and labels\n",
    "sample = pd.read_csv('../labels/training_labels_updated.csv')\n",
    "sample['temp_label'] = sample['final_label'].apply(lambda x: np.round(x))"
   ]
  },
  {
   "cell_type": "code",
   "execution_count": 3,
   "metadata": {},
   "outputs": [],
   "source": [
    "sample['temp_label'] = sample['temp_label'].astype('int').astype('str')\n",
    "train_data, test_data = train_test_split(sample, test_size = 0.25, random_state = 100)"
   ]
  },
  {
   "cell_type": "code",
   "execution_count": 4,
   "metadata": {},
   "outputs": [
    {
     "data": {
      "text/html": [
       "<div>\n",
       "<style scoped>\n",
       "    .dataframe tbody tr th:only-of-type {\n",
       "        vertical-align: middle;\n",
       "    }\n",
       "\n",
       "    .dataframe tbody tr th {\n",
       "        vertical-align: top;\n",
       "    }\n",
       "\n",
       "    .dataframe thead th {\n",
       "        text-align: right;\n",
       "    }\n",
       "</style>\n",
       "<table border=\"1\" class=\"dataframe\">\n",
       "  <thead>\n",
       "    <tr style=\"text-align: right;\">\n",
       "      <th></th>\n",
       "      <th>ADDR_NUM</th>\n",
       "      <th>FULL_STR</th>\n",
       "      <th>MBL</th>\n",
       "      <th>ADDRESS_FOR_STREET_VIEW</th>\n",
       "      <th>AERIAL_Driveway</th>\n",
       "      <th>GSV_Driveway</th>\n",
       "      <th>final_label</th>\n",
       "      <th>aerial_filename</th>\n",
       "      <th>gsv_filename</th>\n",
       "      <th>temp_label</th>\n",
       "    </tr>\n",
       "  </thead>\n",
       "  <tbody>\n",
       "    <tr>\n",
       "      <th>0</th>\n",
       "      <td>1</td>\n",
       "      <td>ESSEX ST</td>\n",
       "      <td>50-B-12</td>\n",
       "      <td>1  ESSEX ST, SOMERVILLE, MA</td>\n",
       "      <td>2</td>\n",
       "      <td>1</td>\n",
       "      <td>0.9</td>\n",
       "      <td>1_ESSEX_ST_aerial.png</td>\n",
       "      <td>1_ESSEX_ST.jpg</td>\n",
       "      <td>1</td>\n",
       "    </tr>\n",
       "    <tr>\n",
       "      <th>1</th>\n",
       "      <td>1</td>\n",
       "      <td>PACKARD AVE</td>\n",
       "      <td>11-E-29</td>\n",
       "      <td>1  PACKARD AVE, SOMERVILLE, MA</td>\n",
       "      <td>2</td>\n",
       "      <td>1</td>\n",
       "      <td>0.9</td>\n",
       "      <td>1_PACKARD_AVE_aerial.png</td>\n",
       "      <td>1_PACKARD_AVE.jpg</td>\n",
       "      <td>1</td>\n",
       "    </tr>\n",
       "    <tr>\n",
       "      <th>2</th>\n",
       "      <td>1</td>\n",
       "      <td>THURSTON ST</td>\n",
       "      <td>50-A-9</td>\n",
       "      <td>1  THURSTON ST, SOMERVILLE, MA</td>\n",
       "      <td>1</td>\n",
       "      <td>2</td>\n",
       "      <td>0.9</td>\n",
       "      <td>1_THURSTON_ST_aerial.png</td>\n",
       "      <td>1_THURSTON_ST.jpg</td>\n",
       "      <td>1</td>\n",
       "    </tr>\n",
       "    <tr>\n",
       "      <th>3</th>\n",
       "      <td>1</td>\n",
       "      <td>WEBSTER ST</td>\n",
       "      <td>91-B-14</td>\n",
       "      <td>1  WEBSTER ST, SOMERVILLE, MA</td>\n",
       "      <td>1</td>\n",
       "      <td>1</td>\n",
       "      <td>1.0</td>\n",
       "      <td>1_WEBSTER_ST_aerial.png</td>\n",
       "      <td>1_WEBSTER_ST.jpg</td>\n",
       "      <td>1</td>\n",
       "    </tr>\n",
       "    <tr>\n",
       "      <th>4</th>\n",
       "      <td>3</td>\n",
       "      <td>AVON ST</td>\n",
       "      <td>51-E-30</td>\n",
       "      <td>3  AVON ST, SOMERVILLE, MA</td>\n",
       "      <td>1</td>\n",
       "      <td>1</td>\n",
       "      <td>1.0</td>\n",
       "      <td>3_AVON_ST_aerial.png</td>\n",
       "      <td>3_AVON_ST.jpg</td>\n",
       "      <td>1</td>\n",
       "    </tr>\n",
       "  </tbody>\n",
       "</table>\n",
       "</div>"
      ],
      "text/plain": [
       "  ADDR_NUM     FULL_STR      MBL         ADDRESS_FOR_STREET_VIEW  \\\n",
       "0        1     ESSEX ST  50-B-12     1  ESSEX ST, SOMERVILLE, MA   \n",
       "1        1  PACKARD AVE  11-E-29  1  PACKARD AVE, SOMERVILLE, MA   \n",
       "2        1  THURSTON ST   50-A-9  1  THURSTON ST, SOMERVILLE, MA   \n",
       "3        1   WEBSTER ST  91-B-14   1  WEBSTER ST, SOMERVILLE, MA   \n",
       "4        3      AVON ST  51-E-30      3  AVON ST, SOMERVILLE, MA   \n",
       "\n",
       "   AERIAL_Driveway  GSV_Driveway  final_label           aerial_filename  \\\n",
       "0                2             1          0.9     1_ESSEX_ST_aerial.png   \n",
       "1                2             1          0.9  1_PACKARD_AVE_aerial.png   \n",
       "2                1             2          0.9  1_THURSTON_ST_aerial.png   \n",
       "3                1             1          1.0   1_WEBSTER_ST_aerial.png   \n",
       "4                1             1          1.0      3_AVON_ST_aerial.png   \n",
       "\n",
       "        gsv_filename temp_label  \n",
       "0     1_ESSEX_ST.jpg          1  \n",
       "1  1_PACKARD_AVE.jpg          1  \n",
       "2  1_THURSTON_ST.jpg          1  \n",
       "3   1_WEBSTER_ST.jpg          1  \n",
       "4      3_AVON_ST.jpg          1  "
      ]
     },
     "execution_count": 4,
     "metadata": {},
     "output_type": "execute_result"
    }
   ],
   "source": [
    "sample.head()"
   ]
  },
  {
   "cell_type": "code",
   "execution_count": null,
   "metadata": {},
   "outputs": [],
   "source": [
    "train_data.groupby('temp_label').aggregate({'ADDR_NUM':len})"
   ]
  },
  {
   "cell_type": "markdown",
   "metadata": {},
   "source": [
    "^ clearly there's an imbalanced class problem"
   ]
  },
  {
   "cell_type": "code",
   "execution_count": 6,
   "metadata": {
    "collapsed": true
   },
   "outputs": [],
   "source": [
    "# input parameters\n",
    "batch_size = 8\n",
    "epochs = 5"
   ]
  },
  {
   "cell_type": "code",
   "execution_count": 7,
   "metadata": {},
   "outputs": [
    {
     "name": "stdout",
     "output_type": "stream",
     "text": [
      "__________________________________________________________________________________________________\n",
      "Layer (type)                    Output Shape         Param #     Connected to                     \n",
      "==================================================================================================\n",
      "gsv_image_input (InputLayer)    (None, 640, 640, 3)  0                                            \n",
      "__________________________________________________________________________________________________\n",
      "conv2d (Conv2D)                 (None, 638, 638, 128 3584        gsv_image_input[0][0]            \n",
      "__________________________________________________________________________________________________\n",
      "max_pooling2d (MaxPooling2D)    (None, 319, 319, 128 0           conv2d[0][0]                     \n",
      "__________________________________________________________________________________________________\n",
      "conv2d_1 (Conv2D)               (None, 317, 317, 64) 73792       max_pooling2d[0][0]              \n",
      "__________________________________________________________________________________________________\n",
      "max_pooling2d_1 (MaxPooling2D)  (None, 158, 158, 64) 0           conv2d_1[0][0]                   \n",
      "__________________________________________________________________________________________________\n",
      "conv2d_2 (Conv2D)               (None, 156, 156, 64) 36928       max_pooling2d_1[0][0]            \n",
      "__________________________________________________________________________________________________\n",
      "max_pooling2d_2 (MaxPooling2D)  (None, 78, 78, 64)   0           conv2d_2[0][0]                   \n",
      "__________________________________________________________________________________________________\n",
      "conv2d_3 (Conv2D)               (None, 76, 76, 32)   18464       max_pooling2d_2[0][0]            \n",
      "__________________________________________________________________________________________________\n",
      "max_pooling2d_3 (MaxPooling2D)  (None, 38, 38, 32)   0           conv2d_3[0][0]                   \n",
      "__________________________________________________________________________________________________\n",
      "conv2d_5 (Conv2D)               (None, 36, 36, 64)   18496       max_pooling2d_3[0][0]            \n",
      "__________________________________________________________________________________________________\n",
      "max_pooling2d_4 (MaxPooling2D)  (None, 18, 18, 64)   0           conv2d_5[0][0]                   \n",
      "__________________________________________________________________________________________________\n",
      "conv2d_6 (Conv2D)               (None, 16, 16, 64)   36928       max_pooling2d_4[0][0]            \n",
      "__________________________________________________________________________________________________\n",
      "max_pooling2d_5 (MaxPooling2D)  (None, 8, 8, 64)     0           conv2d_6[0][0]                   \n",
      "__________________________________________________________________________________________________\n",
      "conv2d_7 (Conv2D)               (None, 6, 6, 32)     18464       max_pooling2d_5[0][0]            \n",
      "__________________________________________________________________________________________________\n",
      "flatten (Flatten)               (None, 184832)       0           conv2d_3[0][0]                   \n",
      "__________________________________________________________________________________________________\n",
      "flatten_1 (Flatten)             (None, 1152)         0           conv2d_7[0][0]                   \n",
      "__________________________________________________________________________________________________\n",
      "dense (Dense)                   (None, 200)          36966600    flatten[0][0]                    \n",
      "__________________________________________________________________________________________________\n",
      "dense_1 (Dense)                 (None, 200)          230600      flatten_1[0][0]                  \n",
      "__________________________________________________________________________________________________\n",
      "concatenate (Concatenate)       (None, 400)          0           dense[0][0]                      \n",
      "                                                                 dense_1[0][0]                    \n",
      "__________________________________________________________________________________________________\n",
      "dense_2 (Dense)                 (None, 300)          120300      concatenate[0][0]                \n",
      "__________________________________________________________________________________________________\n",
      "dense_3 (Dense)                 (None, 100)          30100       dense_2[0][0]                    \n",
      "__________________________________________________________________________________________________\n",
      "dense_4 (Dense)                 (None, 2)            202         dense_3[0][0]                    \n",
      "==================================================================================================\n",
      "Total params: 37,554,458\n",
      "Trainable params: 37,554,458\n",
      "Non-trainable params: 0\n",
      "__________________________________________________________________________________________________\n"
     ]
    }
   ],
   "source": [
    "model = combined_cnn()\n",
    "model.summary()"
   ]
  },
  {
   "cell_type": "code",
   "execution_count": 10,
   "metadata": {
    "collapsed": true
   },
   "outputs": [],
   "source": [
    "#implement class weights as an easy first attempt to handle imbalanced class problem\n",
    "class_weight = {1: 0.45,\n",
    "                0: 0.55}"
   ]
  },
  {
   "cell_type": "code",
   "execution_count": 12,
   "metadata": {},
   "outputs": [
    {
     "name": "stdout",
     "output_type": "stream",
     "text": [
      "Epoch 1/5\n",
      "Found 215 validated image filenames belonging to 2 classes.\n",
      "Found 215 validated image filenames belonging to 2 classes.\n",
      "34/35 [============================>.] - ETA: 20s - loss: 3.9239 - acc: 0.7862 - sensitivity: 0.7862 - specificity: 0.7862Found 72 validated image filenames belonging to 2 classes.\n",
      "Found 72 validated image filenames belonging to 2 classes.\n",
      "35/35 [==============================] - 964s 28s/step - loss: 4.0057 - acc: 0.7816 - sensitivity: 0.7816 - specificity: 0.7816 - val_loss: 2.8943 - val_acc: 0.8194 - val_sensitivity: 0.8194 - val_specificity: 0.8194\n",
      "Epoch 2/5\n",
      "35/35 [==============================] - 810s 23s/step - loss: 3.9167 - acc: 0.7888 - sensitivity: 0.7888 - specificity: 0.7888 - val_loss: 3.0057 - val_acc: 0.8125 - val_sensitivity: 0.8125 - val_specificity: 0.8125\n",
      "Epoch 3/5\n",
      "35/35 [==============================] - 799s 23s/step - loss: 3.8200 - acc: 0.7918 - sensitivity: 0.7918 - specificity: 0.7918 - val_loss: 2.7830 - val_acc: 0.8264 - val_sensitivity: 0.8264 - val_specificity: 0.8264\n",
      "Epoch 4/5\n",
      "35/35 [==============================] - 800s 23s/step - loss: 4.0936 - acc: 0.7765 - sensitivity: 0.7765 - specificity: 0.7765 - val_loss: 3.0057 - val_acc: 0.8125 - val_sensitivity: 0.8125 - val_specificity: 0.8125\n",
      "Epoch 5/5\n",
      "35/35 [==============================] - 809s 23s/step - loss: 3.9439 - acc: 0.7847 - sensitivity: 0.7847 - specificity: 0.7847 - val_loss: 2.6717 - val_acc: 0.8333 - val_sensitivity: 0.8333 - val_specificity: 0.8333\n"
     ]
    }
   ],
   "source": [
    "history = model.fit_generator(\n",
    "                # train \n",
    "                generator_two_inputs(train_data, aerial_dir = '../data/training/aerial_images/', \n",
    "                gsv_dir ='data/training/street_view_images/', batch_size = batch_size, \n",
    "                gsv_image_dim = (640, 640, 3), aer_image_dim = ((2100, 2100, 4))),\n",
    "    \n",
    "                validation_data=generator_two_inputs(test_data, aerial_dir = '../data/training/aerial_images/', \n",
    "                gsv_dir ='data/training/street_view_images/', batch_size = batch_size, \n",
    "                gsv_image_dim = (640, 640, 3), aer_image_dim = ((2100, 2100, 4))),\n",
    "                validation_steps = 18,\n",
    "                steps_per_epoch=np.ceil(sample.shape[0]//batch_size), \n",
    "                epochs=epochs,class_weight = class_weight,\n",
    "                verbose=1)"
   ]
  },
  {
   "cell_type": "code",
   "execution_count": 17,
   "metadata": {},
   "outputs": [
    {
     "data": {
      "text/plain": [
       "['loss',\n",
       " 'acc',\n",
       " 'sensitivity',\n",
       " 'specificity',\n",
       " 'val_loss',\n",
       " 'val_acc',\n",
       " 'val_sensitivity',\n",
       " 'val_specificity']"
      ]
     },
     "execution_count": 17,
     "metadata": {},
     "output_type": "execute_result"
    }
   ],
   "source": [
    "history.params['metrics']"
   ]
  },
  {
   "cell_type": "code",
   "execution_count": 18,
   "metadata": {},
   "outputs": [
    {
     "data": {
      "text/plain": [
       "[<matplotlib.lines.Line2D at 0x1c513dada0>]"
      ]
     },
     "execution_count": 18,
     "metadata": {},
     "output_type": "execute_result"
    },
    {
     "data": {
      "image/png": "[encoded data removed]",
      "text/plain": [
       "<matplotlib.figure.Figure at 0x1c2f6b1ba8>"
      ]
     },
     "metadata": {},
     "output_type": "display_data"
    }
   ],
   "source": [
    "plt.plot(history.history['acc'])\n",
    "plt.plot(history.history['specificity'])\n",
    "plt.plot(history.history['sensitivity'])\n"
   ]
  },
  {
   "cell_type": "code",
   "execution_count": 19,
   "metadata": {},
   "outputs": [],
   "source": [
    "# plt.plot(history.history['specificity'])"
   ]
  },
  {
   "cell_type": "code",
   "execution_count": 14,
   "metadata": {},
   "outputs": [
    {
     "data": {
      "text/plain": [
       "dict_keys(['val_loss', 'val_acc', 'val_sensitivity', 'val_specificity', 'loss', 'acc', 'sensitivity', 'specificity'])"
      ]
     },
     "execution_count": 14,
     "metadata": {},
     "output_type": "execute_result"
    }
   ],
   "source": [
    "history.history.keys()"
   ]
  },
  {
   "cell_type": "code",
   "execution_count": null,
   "metadata": {
    "collapsed": true
   },
   "outputs": [],
   "source": [
    "his"
   ]
  }
 ],
 "metadata": {
  "kernelspec": {
   "display_name": "Python 3",
   "language": "python",
   "name": "python3"
  },
  "language_info": {
   "codemirror_mode": {
    "name": "ipython",
    "version": 3
   },
   "file_extension": ".py",
   "mimetype": "text/x-python",
   "name": "python",
   "nbconvert_exporter": "python",
   "pygments_lexer": "ipython3",
   "version": "3.6.1"
  }
 },
 "nbformat": 4,
 "nbformat_minor": 2
}
