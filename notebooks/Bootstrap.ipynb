{
 "cells": [
  {
   "cell_type": "code",
   "execution_count": null,
   "metadata": {},
   "outputs": [],
   "source": [
    "import pandas as pd\n",
    "import numpy as np\n",
    "\n",
    "from sklearn.calibration import calibration_curve\n",
    "\n",
    "from sklearn.ensemble import RandomForestClassifier\n",
    "from sklearn.model_selection import train_test_split\n",
    "from sklearn.linear_model import LogisticRegression\n",
    "from sklearn.preprocessing import StandardScaler\n",
    "from sklearn.isotonic import IsotonicRegression\n",
    "from sklearn.metrics import classification_report\n",
    "from sklearn.neighbors import KNeighborsRegressor\n",
    "\n",
    "RANDOM_SEED = 1995\n",
    "np.random.seed(RANDOM_SEED)\n",
    "\n",
    "n_driveway = 353\n",
    "n_no_driveway = 80\n",
    "n_all = n_driveway + n_no_driveway\n",
    "prop_driveway_mean = n_no_driveway / n_all\n",
    "prop_driveway_se = np.sqrt(prop_driveway_mean*(1-prop_driveway_mean)/n_all)\n",
    "print(f\"driveway prop mean: {prop_driveway_mean}, driveway prop sd: {prop_driveway_se}\")"
   ]
  },
  {
   "cell_type": "code",
   "execution_count": null,
   "metadata": {},
   "outputs": [],
   "source": [
    "def get_p(df_training, df_everything, bootstrap = False):\n",
    "    X_train, y_train, X_cal, y_cal, X_all = get_data(df_training, df_everything, bootstrap = bootstrap)\n",
    "\n",
    "    # train random forest\n",
    "    rf = RandomForestClassifier(bootstrap = False, max_depth=6, n_estimators = 256)\n",
    "    rf.fit(X_train, y_train)\n",
    "    \n",
    "    # validate\n",
    "    y_pred = rf.predict(X_cal)\n",
    "    \n",
    "    # train calibrator\n",
    "    pred_cal = rf.predict_proba(X_cal)[:,1].reshape(-1, 1)\n",
    "    calibrator = LogisticRegression(C = 1e30)\n",
    "    calibrator.fit(pred_cal, y_cal)\n",
    "    \n",
    "    calibration_curve(y_cal, pred_cal)\n",
    "    # calculate values \n",
    "    prob_true, prob_pred = calibration_curve(y_true=y_cal, \n",
    "        y_prob=calibrator.predict_proba(pred_cal)[:,1],\n",
    "        n_bins=20)\n",
    "\n",
    "    # make predictions\n",
    "    pred_all = rf.predict_proba(X_all)[:,1].reshape(-1, 1)\n",
    "    probs = calibrator.predict_proba(pred_all)[:,1]\n",
    "    return probs\n",
    "\n",
    "def get_data(df_train, df_everything, bootstrap = False):\n",
    "    df_train, df_cal = train_test_split(df_train, test_size = 0.2)\n",
    "\n",
    "    # upsample\n",
    "    df_train = upsample(df_train, 0.5)\n",
    "    if bootstrap:\n",
    "        prop_driveway = np.random.normal(prop_driveway_mean, prop_driveway_se)\n",
    "    else:\n",
    "        prop_driveway = prop_driveway_mean\n",
    "    df_cal = upsample(df_cal, prop_driveway)\n",
    "    \n",
    "    if bootstrap:\n",
    "        df_train = df_train.sample(frac = 1, replace = True)\n",
    "        print(df_train.has_parking.value_counts()[0]/len(df_train))\n",
    "        df_cal = df_cal.sample(frac = 1, replace = True)\n",
    "        print(df_cal.has_parking.value_counts()[0]/len(df_cal))\n",
    "\n",
    "    # prep clms\n",
    "    X_train = df_train.drop(['MBL', 'has_parking'], axis = 1)\n",
    "    y_train = df_train['has_parking']\n",
    "    \n",
    "    X_cal = df_cal.drop(['MBL', 'has_parking'], axis = 1)\n",
    "    y_cal = df_cal['has_parking']\n",
    "\n",
    "    X_all = df_everything.drop('MBL', axis = 1)\n",
    "    \n",
    "    # scale\n",
    "    scaler = StandardScaler()\n",
    "    X_train = scaler.fit_transform(X_train)\n",
    "    X_cal = scaler.transform(X_cal)\n",
    "    X_all = scaler.transform(X_all)\n",
    "\n",
    "    return X_train, y_train, X_cal, y_cal, X_all\n",
    "\n",
    "\n",
    "def upsample(df, prop):\n",
    "    # upsample\n",
    "    n1 = sum(df.has_parking == 1)\n",
    "    n0 = sum(df.has_parking == 0)\n",
    "    extra = prop / (1 - prop) * n1\n",
    "\n",
    "    labels0 = df[df.has_parking == 0]\n",
    "    labels0_upsample = labels0.sample(int(extra - n0), replace = True)\n",
    "    labels_all_upsampled = pd.concat([df, labels0_upsample])\n",
    "    return labels_all_upsampled\n",
    "\n",
    "df_everything = pd.read_csv('../data/residence_addresses_googlestreetview_clean.csv', index_col = 0)\n",
    "df_training = pd.read_csv('../data/df_training.csv', index_col = 0)\n",
    "df_training = df_training[df_training.has_parking != 2]\n",
    "\n",
    "df_everything = df_everything.fillna(df_everything.mean())\n",
    "df_training = df_training.fillna(df_training.mean())\n",
    "\n",
    "prediction_df = pd.DataFrame()\n",
    "\n",
    "prediction_df['MBL'] = df_everything['MBL']\n",
    "prediction_df['p'] = get_p(df_training, df_everything)"
   ]
  },
  {
   "cell_type": "code",
   "execution_count": null,
   "metadata": {
    "scrolled": false
   },
   "outputs": [],
   "source": [
    "bootstrap = 50\n",
    "\n",
    "for sample_num in range(bootstrap):\n",
    "    print(sample_num)\n",
    "    prediction_df['sample_' + str(sample_num)] = get_p(df_training, df_everything, bootstrap = True)\n",
    "\n",
    "sample_cols = [clm for clm in prediction_df.columns if 'sample' in clm]\n",
    "prediction_df['variance'] = prediction_df[sample_cols].var(axis = 1)"
   ]
  },
  {
   "cell_type": "code",
   "execution_count": null,
   "metadata": {},
   "outputs": [],
   "source": [
    "np.sqrt(\n",
    "    (prediction_df[sample_cols] * (1 - prediction_df[sample_cols])).mean(axis = 1).sum() + prediction_df[sample_cols].var(axis = 1).sum()\n",
    ") * 1.96"
   ]
  },
  {
   "cell_type": "code",
   "execution_count": null,
   "metadata": {},
   "outputs": [],
   "source": [
    "point_est = prediction_df.p.sum()\n",
    "se = np.sqrt((prediction_df.p * (1 - prediction_df.p) + prediction_df.variance).sum())"
   ]
  },
  {
   "cell_type": "code",
   "execution_count": null,
   "metadata": {},
   "outputs": [],
   "source": [
    "print(f\"# of driveways: {point_est} +/- {1.96 * se}\")"
   ]
  },
  {
   "cell_type": "code",
   "execution_count": null,
   "metadata": {},
   "outputs": [],
   "source": [
    "# features = df_training.drop(['MBL','has_parking'], axis = 1).columns\n",
    "\n",
    "# importances = rf.feature_importances_\n",
    "\n",
    "# feature_imp = dict(zip(features, importances))\n",
    "\n",
    "# import operator\n",
    "# sorted(feature_imp.items(), key=operator.itemgetter(1), reverse = True)[:20]\n",
    "# pd.DataFrame(sorted(feature_imp.items(), key=operator.itemgetter(1), reverse = True)[:20]).to_csv('../data/feature_imp.csv')"
   ]
  }
 ],
 "metadata": {
  "kernelspec": {
   "display_name": "Python 3",
   "language": "python",
   "name": "python3"
  },
  "language_info": {
   "codemirror_mode": {
    "name": "ipython",
    "version": 3
   },
   "file_extension": ".py",
   "mimetype": "text/x-python",
   "name": "python",
   "nbconvert_exporter": "python",
   "pygments_lexer": "ipython3",
   "version": "3.6.6"
  }
 },
 "nbformat": 4,
 "nbformat_minor": 2
}
