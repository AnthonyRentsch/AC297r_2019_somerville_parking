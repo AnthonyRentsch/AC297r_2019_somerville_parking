{
 "cells": [
  {
   "cell_type": "code",
   "execution_count": null,
   "metadata": {},
   "outputs": [],
   "source": [
    "import pandas as pd\n",
    "import numpy as np\n",
    "import sys\n",
    "sys.path.append('../')\n",
    "from src.models import combined_cnn\n",
    "from src.generator import generator_two_inputs\n",
    "from src.loss import smoothed_binary_crossentropy\n",
    "sys.path.append('/notebook')\n",
    "from sklearn.model_selection import train_test_split\n",
    "import matplotlib.pyplot as plt\n",
    "% matplotlib inline"
   ]
  },
  {
   "cell_type": "code",
   "execution_count": null,
   "metadata": {},
   "outputs": [],
   "source": [
    "# import dataframe with filenames and labels\n",
    "sample = pd.read_csv('../labels/training_labels_updated_111219.csv')\n",
    "sample['temp_label'] = sample['final_label'].apply(lambda x: np.round(x))\n",
    "sample['temp_label'] = sample['temp_label'].astype('int').astype('str')\n",
    "sample['final_label'] =  sample['final_label'].astype('str')\n",
    "\n",
    "train_data, test_data = train_test_split(sample, test_size = 0.2, random_state = 10)"
   ]
  },
  {
   "cell_type": "code",
   "execution_count": null,
   "metadata": {},
   "outputs": [],
   "source": [
    "# # import dataframe with filenames and labels\n",
    "# labels = pd.read_csv('../labels/training_labels.csv')\n",
    "# labels['full_label'] = 'aerial_' + labels['AERIAL_Driveway'].astype(int).astype(str) + \\\n",
    "#                        '_gsv_' + labels['GSV_Driveway'].astype(int).astype(str)\n",
    "# # use train test split\n",
    "# train_data, test_data = train_test_split(labels, test_size = 0.25, random_state = 100)"
   ]
  },
  {
   "cell_type": "code",
   "execution_count": null,
   "metadata": {},
   "outputs": [],
   "source": [
    "# train_data = train_data[train_data.final_label != '0.5']"
   ]
  },
  {
   "cell_type": "code",
   "execution_count": null,
   "metadata": {},
   "outputs": [],
   "source": [
    "train_data.shape, test_data.shape"
   ]
  },
  {
   "cell_type": "code",
   "execution_count": null,
   "metadata": {},
   "outputs": [],
   "source": [
    "train_data.groupby('temp_label').aggregate({'ADDR_NUM':len})"
   ]
  },
  {
   "cell_type": "markdown",
   "metadata": {},
   "source": [
    "Class imbalance, so upsampling"
   ]
  },
  {
   "cell_type": "code",
   "execution_count": null,
   "metadata": {},
   "outputs": [],
   "source": [
    "# artificially oversample the minority class\n",
    "zero_class = train_data[train_data.temp_label == '0']\n",
    "train_data = (train_data.append(zero_class)).append(zero_class)"
   ]
  },
  {
   "cell_type": "code",
   "execution_count": null,
   "metadata": {},
   "outputs": [],
   "source": [
    "# input parameters\n",
    "batch_size = 8\n",
    "epochs = 10"
   ]
  },
  {
   "cell_type": "code",
   "execution_count": null,
   "metadata": {
    "scrolled": false
   },
   "outputs": [],
   "source": [
    "model = combined_cnn(gsv_image_dim = (128,128, 3), sat_image_dim = ((128,128, 4)), \n",
    "                     n_classes = 1)\n",
    "model.summary()"
   ]
  },
  {
   "cell_type": "code",
   "execution_count": null,
   "metadata": {},
   "outputs": [],
   "source": [
    "#implement class weights as an easy first attempt to handle imbalanced class problem\n",
    "class_weight = {1.0: 1,\n",
    "                0.0: 2}"
   ]
  },
  {
   "cell_type": "code",
   "execution_count": null,
   "metadata": {},
   "outputs": [],
   "source": [
    "history = model.fit_generator(\n",
    "                # train \n",
    "                generator_two_inputs(train_data, aerial_dir = '../data/training/aerial_images/', \n",
    "                gsv_dir ='../data/training/sv_images/', batch_size = batch_size, \n",
    "                gsv_image_dim = (128,128, 3), aer_image_dim = (128,128, 4), y_column = 'temp_label'),\n",
    "                \n",
    "                validation_data=generator_two_inputs(test_data, aerial_dir = '../data/training/aerial_images/', \n",
    "                gsv_dir ='../data/training/sv_images/', batch_size = batch_size, \n",
    "                gsv_image_dim = (128,128, 3), aer_image_dim = (128,128, 4), y_column = 'temp_label'),\n",
    "                \n",
    "                validation_steps = 5,\n",
    "                steps_per_epoch=np.ceil(sample.shape[0]//batch_size), \n",
    "                epochs=epochs,\n",
    "#                 class_weight = class_weight,\n",
    "                verbose=1)"
   ]
  },
  {
   "cell_type": "code",
   "execution_count": null,
   "metadata": {},
   "outputs": [],
   "source": [
    "plt.figure(figsize = (18,6))\n",
    "plt.subplot(1,2,1); plt.title('Training', fontsize = 20)\n",
    "plt.plot(history.history['acc'], label = 'acc')\n",
    "plt.plot(history.history['specificity'], label = 'specificity')\n",
    "plt.plot(history.history['sensitivity'], label = 'sensitivity')\n",
    "plt.axhline((train_data.temp_label).astype('float32').sum()/train_data.shape[0], ls = '--', c = 'r', label = 'baseline')\n",
    "plt.xticks(np.arange(0,epochs)); plt.xlabel('epoch')\n",
    "plt.legend()\n",
    "plt.subplot(1,2,2); plt.title('Validation', fontsize = 20)\n",
    "plt.plot(history.history['val_acc'], label = 'val acc')\n",
    "plt.plot(history.history['val_specificity'], label = 'val specificity')\n",
    "plt.plot(history.history['val_sensitivity'], label = 'val sensitivity')\n",
    "plt.axhline((test_data.temp_label).astype('float32').sum()/test_data.shape[0], ls = '--', c = 'r', label = 'baseline')\n",
    "plt.xticks(np.arange(0,epochs));plt.xlabel('epoch')\n",
    "plt.legend();"
   ]
  },
  {
   "cell_type": "code",
   "execution_count": null,
   "metadata": {},
   "outputs": [],
   "source": [
    "addresses_gsv_filename = ['1_ESSEX_ST.jpg', '8_GILMAN_ST.jpg', '9_MELVILLE_RD.jpg','10_CENTRAL_ST.jpg',\n",
    "                         '14_MANSFIELD_ST.jpg']\n",
    "pred_sample = sample[sample.gsv_filename.isin(addresses_gsv_filename)]\n",
    "pred_sample"
   ]
  },
  {
   "cell_type": "code",
   "execution_count": null,
   "metadata": {},
   "outputs": [],
   "source": [
    "model.predict_generator(generator_two_inputs(pred_sample, aerial_dir = '../data/training/aerial_images/', \n",
    "                gsv_dir ='../data/training/sv_images/', batch_size = batch_size, \n",
    "                 gsv_image_dim = (128,128, 3), aer_image_dim = (128,128, 4), y_column = 'temp_label'),\n",
    "                      steps = 1)"
   ]
  },
  {
   "cell_type": "markdown",
   "metadata": {},
   "source": [
    "### Save model"
   ]
  },
  {
   "cell_type": "code",
   "execution_count": null,
   "metadata": {},
   "outputs": [],
   "source": [
    "model.save('../models/basicmodel.h5')"
   ]
  },
  {
   "cell_type": "code",
   "execution_count": null,
   "metadata": {},
   "outputs": [],
   "source": [
    "model.save_weights('../models/basicmodel_weights.h5')"
   ]
  },
  {
   "cell_type": "code",
   "execution_count": null,
   "metadata": {},
   "outputs": [],
   "source": [
    "from tensorflow.keras.models import load_model\n",
    "from tensorflow.keras import backend as K"
   ]
  },
  {
   "cell_type": "code",
   "execution_count": null,
   "metadata": {},
   "outputs": [],
   "source": [
    "def sensitivity(y_true, y_pred):\n",
    "        true_positives = K.sum(K.round(K.clip(y_true * y_pred, 0, 1)))\n",
    "        possible_positives = K.sum(K.round(K.clip(y_true, 0, 1)))\n",
    "        return true_positives / (possible_positives + K.epsilon())\n",
    "\n",
    "def specificity(y_true, y_pred):\n",
    "        true_negatives = K.sum(K.round(K.clip((1-y_true) * (1-y_pred), 0, 1)))\n",
    "        possible_negatives = K.sum(K.round(K.clip(1-y_true, 0, 1)))\n",
    "        return true_negatives / (possible_negatives + K.epsilon())"
   ]
  },
  {
   "cell_type": "code",
   "execution_count": null,
   "metadata": {},
   "outputs": [],
   "source": [
    "chk = load_model('../models/basicmodel.h5', \n",
    "                 custom_objects={'sensitivity': sensitivity, 'specificity': specificity})"
   ]
  }
 ],
 "metadata": {
  "kernelspec": {
   "display_name": "Python 3",
   "language": "python",
   "name": "python3"
  },
  "language_info": {
   "codemirror_mode": {
    "name": "ipython",
    "version": 3
   },
   "file_extension": ".py",
   "mimetype": "text/x-python",
   "name": "python",
   "nbconvert_exporter": "python",
   "pygments_lexer": "ipython3",
   "version": "3.6.8"
  }
 },
 "nbformat": 4,
 "nbformat_minor": 2
}
