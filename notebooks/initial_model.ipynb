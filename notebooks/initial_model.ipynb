{
 "cells": [
  {
   "cell_type": "markdown",
   "metadata": {},
   "source": [
    "# Set up"
   ]
  },
  {
   "cell_type": "code",
   "execution_count": 1,
   "metadata": {},
   "outputs": [],
   "source": [
    "import pandas as pd\n",
    "\n",
    "import sys\n",
    "sys.path.append('../')\n",
    "from src.training import train_baseline, train_data_augmentation\n",
    "from src.generator import load_images"
   ]
  },
  {
   "cell_type": "markdown",
   "metadata": {},
   "source": [
    "# Train model"
   ]
  },
  {
   "cell_type": "code",
   "execution_count": 2,
   "metadata": {},
   "outputs": [
    {
     "name": "stdout",
     "output_type": "stream",
     "text": [
      "WARNING:tensorflow:From /Users/anthonyrentsch/anaconda3/envs/somerville-parking/lib/python3.6/site-packages/tensorflow/python/ops/init_ops.py:1251: calling VarianceScaling.__init__ (from tensorflow.python.ops.init_ops) with dtype is deprecated and will be removed in a future version.\n",
      "Instructions for updating:\n",
      "Call initializer instance with the dtype argument instead of passing it to the constructor\n"
     ]
    },
    {
     "name": "stderr",
     "output_type": "stream",
     "text": [
      "/Users/anthonyrentsch/anaconda3/envs/somerville-parking/lib/python3.6/site-packages/keras_preprocessing/image/image_data_generator.py:940: UserWarning: Expected input to be images (as Numpy array) following the data format convention \"channels_last\" (channels on axis 3), i.e. expected either 1, 3 or 4 channels on axis 3. However, it was passed an array with shape (60, 100, 100, 5) (5 channels).\n",
      "  ' channels).')\n"
     ]
    },
    {
     "name": "stdout",
     "output_type": "stream",
     "text": [
      "WARNING:tensorflow:From /Users/anthonyrentsch/anaconda3/envs/somerville-parking/lib/python3.6/site-packages/tensorflow/python/ops/nn_impl.py:180: add_dispatch_support.<locals>.wrapper (from tensorflow.python.ops.array_ops) is deprecated and will be removed in a future version.\n",
      "Instructions for updating:\n",
      "Use tf.where in 2.0, which has the same broadcast rule as np.where\n"
     ]
    },
    {
     "name": "stderr",
     "output_type": "stream",
     "text": [
      "/Users/anthonyrentsch/anaconda3/envs/somerville-parking/lib/python3.6/site-packages/keras_preprocessing/image/numpy_array_iterator.py:127: UserWarning: NumpyArrayIterator is set to use the data format convention \"channels_last\" (channels on axis 3), i.e. expected either 1, 3, or 4 channels on axis 3. However, it was passed an array with shape (60, 100, 100, 5) (5 channels).\n",
      "  str(self.x.shape[channels_axis]) + ' channels).')\n"
     ]
    },
    {
     "name": "stdout",
     "output_type": "stream",
     "text": [
      "Epoch 1/100\n",
      "2/1 [================================] - 4s 2s/step - loss: 3.6820 - acc: 0.4667 - val_loss: 0.1605 - val_acc: 1.0000\n",
      "Epoch 2/100\n",
      "2/1 [================================] - 2s 950ms/step - loss: 1.3558 - acc: 0.5167 - val_loss: 0.9802 - val_acc: 0.0000e+00\n",
      "Epoch 3/100\n",
      "2/1 [================================] - 2s 925ms/step - loss: 0.8029 - acc: 0.5000 - val_loss: 0.9424 - val_acc: 0.0000e+00\n",
      "Epoch 4/100\n",
      "2/1 [================================] - 2s 922ms/step - loss: 0.7322 - acc: 0.5000 - val_loss: 0.8166 - val_acc: 0.0000e+00\n",
      "Epoch 5/100\n",
      "2/1 [================================] - 2s 890ms/step - loss: 0.6951 - acc: 0.5000 - val_loss: 0.7571 - val_acc: 0.0000e+00\n",
      "Epoch 6/100\n",
      "2/1 [================================] - 2s 1s/step - loss: 0.6933 - acc: 0.5000 - val_loss: 0.7223 - val_acc: 0.0000e+00\n",
      "Epoch 7/100\n",
      "2/1 [================================] - 2s 900ms/step - loss: 0.6900 - acc: 0.7167 - val_loss: 0.7115 - val_acc: 0.0000e+00\n",
      "Epoch 8/100\n",
      "2/1 [================================] - 2s 933ms/step - loss: 0.6880 - acc: 0.5833 - val_loss: 0.7165 - val_acc: 0.0000e+00\n",
      "Epoch 9/100\n",
      "2/1 [================================] - 2s 897ms/step - loss: 0.6987 - acc: 0.5000 - val_loss: 0.7262 - val_acc: 0.0000e+00\n",
      "Epoch 10/100\n",
      "2/1 [================================] - 2s 889ms/step - loss: 0.6826 - acc: 0.5167 - val_loss: 0.7266 - val_acc: 0.0000e+00\n",
      "Epoch 11/100\n",
      "2/1 [================================] - 2s 925ms/step - loss: 0.6761 - acc: 0.5667 - val_loss: 0.7306 - val_acc: 0.0000e+00\n",
      "Epoch 12/100\n",
      "2/1 [================================] - 2s 894ms/step - loss: 0.6594 - acc: 0.7833 - val_loss: 0.7439 - val_acc: 0.0000e+00\n",
      "Epoch 13/100\n",
      "2/1 [================================] - 2s 908ms/step - loss: 0.6589 - acc: 0.6333 - val_loss: 0.7721 - val_acc: 0.0000e+00\n",
      "Epoch 14/100\n",
      "2/1 [================================] - 2s 892ms/step - loss: 0.6449 - acc: 0.6833 - val_loss: 0.8575 - val_acc: 0.0000e+00\n",
      "Epoch 15/100\n",
      "2/1 [================================] - 2s 907ms/step - loss: 0.6040 - acc: 0.7000 - val_loss: 0.9028 - val_acc: 0.0000e+00\n",
      "Epoch 16/100\n",
      "2/1 [================================] - 2s 893ms/step - loss: 0.5742 - acc: 0.7333 - val_loss: 1.0236 - val_acc: 0.0000e+00\n",
      "Epoch 17/100\n",
      "2/1 [================================] - 2s 902ms/step - loss: 0.5478 - acc: 0.7500 - val_loss: 1.1664 - val_acc: 0.0000e+00\n",
      "Epoch 18/100\n",
      "2/1 [================================] - 2s 906ms/step - loss: 0.5437 - acc: 0.6833 - val_loss: 1.2462 - val_acc: 0.0000e+00\n",
      "Epoch 19/100\n",
      "2/1 [================================] - 2s 891ms/step - loss: 0.4922 - acc: 0.7500 - val_loss: 1.5021 - val_acc: 0.0000e+00\n",
      "Epoch 20/100\n",
      "2/1 [================================] - 2s 921ms/step - loss: 0.4527 - acc: 0.8000 - val_loss: 1.5104 - val_acc: 0.0000e+00\n",
      "Epoch 21/100\n",
      "2/1 [================================] - 2s 892ms/step - loss: 0.4185 - acc: 0.8167 - val_loss: 1.6426 - val_acc: 0.0000e+00\n",
      "Epoch 22/100\n",
      "2/1 [================================] - 2s 897ms/step - loss: 0.4482 - acc: 0.8000 - val_loss: 1.8329 - val_acc: 0.0000e+00\n",
      "Epoch 23/100\n",
      "2/1 [================================] - 2s 903ms/step - loss: 0.5097 - acc: 0.7833 - val_loss: 1.8176 - val_acc: 0.0000e+00\n",
      "Epoch 24/100\n",
      "2/1 [================================] - 2s 912ms/step - loss: 0.4258 - acc: 0.7667 - val_loss: 1.7220 - val_acc: 0.0000e+00\n",
      "Epoch 25/100\n",
      "2/1 [================================] - 2s 892ms/step - loss: 0.3056 - acc: 0.9000 - val_loss: 1.8626 - val_acc: 0.0000e+00\n",
      "Epoch 26/100\n",
      "2/1 [================================] - 2s 896ms/step - loss: 0.4899 - acc: 0.7167 - val_loss: 1.8091 - val_acc: 0.0000e+00\n",
      "Epoch 27/100\n",
      "2/1 [================================] - 2s 905ms/step - loss: 0.3729 - acc: 0.8500 - val_loss: 1.7173 - val_acc: 0.0000e+00\n",
      "Epoch 28/100\n",
      "2/1 [================================] - 2s 899ms/step - loss: 0.2966 - acc: 0.9167 - val_loss: 1.7056 - val_acc: 0.0000e+00\n",
      "Epoch 29/100\n",
      "2/1 [================================] - 2s 916ms/step - loss: 0.5406 - acc: 0.7667 - val_loss: 1.5991 - val_acc: 0.0000e+00\n",
      "Epoch 30/100\n",
      "2/1 [================================] - 2s 888ms/step - loss: 0.4377 - acc: 0.7667 - val_loss: 1.5013 - val_acc: 0.0000e+00\n",
      "Epoch 31/100\n",
      "2/1 [================================] - 2s 902ms/step - loss: 0.3747 - acc: 0.8500 - val_loss: 1.4679 - val_acc: 0.0000e+00\n",
      "Epoch 32/100\n",
      "2/1 [================================] - 2s 908ms/step - loss: 0.3322 - acc: 0.8167 - val_loss: 1.3730 - val_acc: 0.0000e+00\n",
      "Epoch 33/100\n",
      "2/1 [================================] - 2s 899ms/step - loss: 0.4106 - acc: 0.7833 - val_loss: 1.5575 - val_acc: 0.0000e+00\n",
      "Epoch 34/100\n",
      "2/1 [================================] - 2s 894ms/step - loss: 0.4929 - acc: 0.7833 - val_loss: 1.5362 - val_acc: 0.0000e+00\n",
      "Epoch 35/100\n",
      "2/1 [================================] - 2s 887ms/step - loss: 0.3740 - acc: 0.7833 - val_loss: 1.4343 - val_acc: 0.0000e+00\n",
      "Epoch 36/100\n",
      "2/1 [================================] - 2s 886ms/step - loss: 0.4940 - acc: 0.7500 - val_loss: 1.6830 - val_acc: 0.0000e+00\n",
      "Epoch 37/100\n",
      "2/1 [================================] - 2s 895ms/step - loss: 0.4363 - acc: 0.7667 - val_loss: 1.7677 - val_acc: 0.0000e+00\n",
      "Epoch 38/100\n",
      "2/1 [================================] - 2s 891ms/step - loss: 0.4026 - acc: 0.8500 - val_loss: 1.7037 - val_acc: 0.0000e+00\n",
      "Epoch 39/100\n",
      "2/1 [================================] - 2s 892ms/step - loss: 0.3730 - acc: 0.8500 - val_loss: 1.6256 - val_acc: 0.0000e+00\n",
      "Epoch 40/100\n",
      "2/1 [================================] - 2s 882ms/step - loss: 0.4047 - acc: 0.8333 - val_loss: 1.7556 - val_acc: 0.0000e+00\n",
      "Epoch 41/100\n",
      "2/1 [================================] - 2s 882ms/step - loss: 0.2923 - acc: 0.9500 - val_loss: 1.9414 - val_acc: 0.0000e+00\n",
      "Epoch 42/100\n",
      "2/1 [================================] - 2s 896ms/step - loss: 0.3578 - acc: 0.8667 - val_loss: 1.9088 - val_acc: 0.0000e+00\n",
      "Epoch 43/100\n",
      "2/1 [================================] - 2s 877ms/step - loss: 0.2915 - acc: 0.9000 - val_loss: 2.0582 - val_acc: 0.0000e+00\n",
      "Epoch 44/100\n",
      "2/1 [================================] - 2s 884ms/step - loss: 0.3552 - acc: 0.9000 - val_loss: 2.1788 - val_acc: 0.0000e+00\n",
      "Epoch 45/100\n",
      "2/1 [================================] - 2s 881ms/step - loss: 0.2595 - acc: 0.8667 - val_loss: 2.1146 - val_acc: 0.0000e+00\n",
      "Epoch 46/100\n",
      "2/1 [================================] - 2s 894ms/step - loss: 0.2655 - acc: 0.9167 - val_loss: 2.2843 - val_acc: 0.0000e+00\n",
      "Epoch 47/100\n",
      "2/1 [================================] - 2s 875ms/step - loss: 0.2966 - acc: 0.8833 - val_loss: 2.2378 - val_acc: 0.0000e+00\n",
      "Epoch 48/100\n",
      "2/1 [================================] - 2s 887ms/step - loss: 0.2847 - acc: 0.9333 - val_loss: 2.2684 - val_acc: 0.0000e+00\n",
      "Epoch 49/100\n",
      "2/1 [================================] - 2s 895ms/step - loss: 0.2674 - acc: 0.8833 - val_loss: 2.3098 - val_acc: 0.0000e+00\n",
      "Epoch 50/100\n",
      "2/1 [================================] - 2s 882ms/step - loss: 0.2994 - acc: 0.8667 - val_loss: 2.2147 - val_acc: 0.0000e+00\n",
      "Epoch 51/100\n",
      "2/1 [================================] - 2s 888ms/step - loss: 0.2441 - acc: 0.9167 - val_loss: 2.1577 - val_acc: 0.0000e+00\n",
      "Epoch 52/100\n",
      "2/1 [================================] - 2s 888ms/step - loss: 0.2617 - acc: 0.8833 - val_loss: 2.1021 - val_acc: 0.0000e+00\n",
      "Epoch 53/100\n",
      "2/1 [================================] - 2s 883ms/step - loss: 0.2189 - acc: 0.9333 - val_loss: 2.0919 - val_acc: 0.0000e+00\n",
      "Epoch 54/100\n",
      "2/1 [================================] - 2s 919ms/step - loss: 0.2036 - acc: 0.9333 - val_loss: 2.1069 - val_acc: 0.0000e+00\n",
      "Epoch 55/100\n",
      "2/1 [================================] - 2s 892ms/step - loss: 0.2310 - acc: 0.9000 - val_loss: 2.0654 - val_acc: 0.0000e+00\n",
      "Epoch 56/100\n",
      "2/1 [================================] - 2s 884ms/step - loss: 0.1974 - acc: 0.9333 - val_loss: 2.1019 - val_acc: 0.0000e+00\n",
      "Epoch 57/100\n",
      "2/1 [================================] - 2s 917ms/step - loss: 0.1298 - acc: 0.9667 - val_loss: 2.1000 - val_acc: 0.0000e+00\n",
      "Epoch 58/100\n",
      "2/1 [================================] - 2s 885ms/step - loss: 0.2410 - acc: 0.9333 - val_loss: 2.2634 - val_acc: 0.0000e+00\n",
      "Epoch 59/100\n",
      "2/1 [================================] - 2s 915ms/step - loss: 0.2477 - acc: 0.9000 - val_loss: 2.1844 - val_acc: 0.0000e+00\n",
      "Epoch 60/100\n"
     ]
    },
    {
     "name": "stdout",
     "output_type": "stream",
     "text": [
      "2/1 [================================] - 2s 915ms/step - loss: 0.3786 - acc: 0.7833 - val_loss: 2.3285 - val_acc: 0.0000e+00\n",
      "Epoch 61/100\n",
      "2/1 [================================] - 2s 890ms/step - loss: 0.2196 - acc: 0.9167 - val_loss: 2.2871 - val_acc: 0.0000e+00\n",
      "Epoch 62/100\n",
      "2/1 [================================] - 2s 900ms/step - loss: 0.2035 - acc: 0.9333 - val_loss: 2.2021 - val_acc: 0.0000e+00\n",
      "Epoch 63/100\n",
      "2/1 [================================] - 2s 909ms/step - loss: 0.1849 - acc: 0.9333 - val_loss: 2.2711 - val_acc: 0.0000e+00\n",
      "Epoch 64/100\n",
      "2/1 [================================] - 2s 896ms/step - loss: 0.2958 - acc: 0.8667 - val_loss: 2.2913 - val_acc: 0.0000e+00\n",
      "Epoch 65/100\n",
      "2/1 [================================] - 2s 897ms/step - loss: 0.2294 - acc: 0.9000 - val_loss: 2.1795 - val_acc: 0.0000e+00\n",
      "Epoch 66/100\n",
      "2/1 [================================] - 2s 890ms/step - loss: 0.2822 - acc: 0.8833 - val_loss: 2.3977 - val_acc: 0.0000e+00\n",
      "Epoch 67/100\n",
      "2/1 [================================] - 2s 894ms/step - loss: 0.2010 - acc: 0.9167 - val_loss: 2.3917 - val_acc: 0.0000e+00\n",
      "Epoch 68/100\n",
      "2/1 [================================] - 2s 893ms/step - loss: 0.1840 - acc: 0.9333 - val_loss: 2.3007 - val_acc: 0.0000e+00\n",
      "Epoch 69/100\n",
      "2/1 [================================] - 2s 888ms/step - loss: 0.3420 - acc: 0.8000 - val_loss: 2.5707 - val_acc: 0.0000e+00\n",
      "Epoch 70/100\n",
      "2/1 [================================] - 2s 917ms/step - loss: 0.5689 - acc: 0.7667 - val_loss: 2.3983 - val_acc: 0.0000e+00\n",
      "Epoch 71/100\n",
      "2/1 [================================] - 2s 1s/step - loss: 0.1988 - acc: 0.9167 - val_loss: 2.1345 - val_acc: 0.0000e+00\n",
      "Epoch 72/100\n",
      "2/1 [================================] - 3s 1s/step - loss: 0.2792 - acc: 0.9000 - val_loss: 2.2001 - val_acc: 0.0000e+00\n",
      "Epoch 73/100\n",
      "2/1 [================================] - 2s 1s/step - loss: 0.1674 - acc: 0.9500 - val_loss: 2.3153 - val_acc: 0.0000e+00\n",
      "Epoch 74/100\n",
      "2/1 [================================] - 2s 915ms/step - loss: 0.2193 - acc: 0.9167 - val_loss: 2.3368 - val_acc: 0.0000e+00\n",
      "Epoch 75/100\n",
      "2/1 [================================] - 2s 906ms/step - loss: 0.1718 - acc: 0.9500 - val_loss: 2.3148 - val_acc: 0.0000e+00\n",
      "Epoch 76/100\n",
      "2/1 [================================] - 2s 892ms/step - loss: 0.2315 - acc: 0.9167 - val_loss: 2.3183 - val_acc: 0.0000e+00\n",
      "Epoch 77/100\n",
      "2/1 [================================] - 2s 908ms/step - loss: 0.1651 - acc: 0.9833 - val_loss: 2.4975 - val_acc: 0.0000e+00\n",
      "Epoch 78/100\n",
      "2/1 [================================] - 2s 889ms/step - loss: 0.1775 - acc: 0.9000 - val_loss: 2.5569 - val_acc: 0.0000e+00\n",
      "Epoch 79/100\n",
      "2/1 [================================] - 2s 928ms/step - loss: 0.1725 - acc: 0.9167 - val_loss: 2.4555 - val_acc: 0.0000e+00\n",
      "Epoch 80/100\n",
      "2/1 [================================] - 2s 905ms/step - loss: 0.1518 - acc: 0.9167 - val_loss: 2.4092 - val_acc: 0.0000e+00\n",
      "Epoch 81/100\n",
      "2/1 [================================] - 2s 902ms/step - loss: 0.1584 - acc: 0.9333 - val_loss: 2.4418 - val_acc: 0.0000e+00\n",
      "Epoch 82/100\n",
      "2/1 [================================] - 2s 915ms/step - loss: 0.1019 - acc: 0.9667 - val_loss: 2.5230 - val_acc: 0.0000e+00\n",
      "Epoch 83/100\n",
      "2/1 [================================] - 2s 973ms/step - loss: 0.1177 - acc: 0.9500 - val_loss: 2.4746 - val_acc: 0.0000e+00\n",
      "Epoch 84/100\n",
      "2/1 [================================] - 2s 885ms/step - loss: 0.1512 - acc: 0.9333 - val_loss: 2.4729 - val_acc: 0.0000e+00\n",
      "Epoch 85/100\n",
      "2/1 [================================] - 2s 888ms/step - loss: 0.1272 - acc: 0.9667 - val_loss: 2.6137 - val_acc: 0.0000e+00\n",
      "Epoch 86/100\n",
      "2/1 [================================] - 2s 947ms/step - loss: 0.2535 - acc: 0.8833 - val_loss: 2.5740 - val_acc: 0.0000e+00\n",
      "Epoch 87/100\n",
      "2/1 [================================] - 2s 893ms/step - loss: 0.0928 - acc: 0.9833 - val_loss: 2.6123 - val_acc: 0.0000e+00\n",
      "Epoch 88/100\n",
      "2/1 [================================] - 2s 894ms/step - loss: 0.1157 - acc: 0.9500 - val_loss: 2.7315 - val_acc: 0.0000e+00\n",
      "Epoch 89/100\n",
      "2/1 [================================] - 2s 932ms/step - loss: 0.0743 - acc: 0.9667 - val_loss: 2.7909 - val_acc: 0.0000e+00\n",
      "Epoch 90/100\n",
      "2/1 [================================] - 2s 899ms/step - loss: 0.0703 - acc: 0.9833 - val_loss: 2.7875 - val_acc: 0.0000e+00\n",
      "Epoch 91/100\n",
      "2/1 [================================] - 2s 897ms/step - loss: 0.1115 - acc: 0.9667 - val_loss: 2.8547 - val_acc: 0.0000e+00\n",
      "Epoch 92/100\n",
      "2/1 [================================] - 2s 886ms/step - loss: 0.0501 - acc: 1.0000 - val_loss: 2.8934 - val_acc: 0.0000e+00\n",
      "Epoch 93/100\n",
      "2/1 [================================] - 2s 896ms/step - loss: 0.0996 - acc: 0.9667 - val_loss: 2.8764 - val_acc: 0.0000e+00\n",
      "Epoch 94/100\n",
      "2/1 [================================] - 2s 900ms/step - loss: 0.0444 - acc: 1.0000 - val_loss: 2.9514 - val_acc: 0.0000e+00\n",
      "Epoch 95/100\n",
      "2/1 [================================] - 2s 903ms/step - loss: 0.0689 - acc: 0.9833 - val_loss: 2.9646 - val_acc: 0.0000e+00\n",
      "Epoch 96/100\n",
      "2/1 [================================] - 2s 1s/step - loss: 0.0631 - acc: 0.9833 - val_loss: 3.0035 - val_acc: 0.0000e+00\n",
      "Epoch 97/100\n",
      "2/1 [================================] - 2s 991ms/step - loss: 0.1119 - acc: 0.9667 - val_loss: 3.1330 - val_acc: 0.0000e+00\n",
      "Epoch 98/100\n",
      "2/1 [================================] - 2s 950ms/step - loss: 0.0909 - acc: 0.9667 - val_loss: 3.1948 - val_acc: 0.0000e+00\n",
      "Epoch 99/100\n",
      "2/1 [================================] - 2s 943ms/step - loss: 0.0899 - acc: 0.9333 - val_loss: 3.1250 - val_acc: 0.0000e+00\n",
      "Epoch 100/100\n",
      "2/1 [================================] - 2s 910ms/step - loss: 0.1371 - acc: 0.9500 - val_loss: 3.2717 - val_acc: 0.0000e+00\n"
     ]
    }
   ],
   "source": [
    "image_dim = (100, 100, 5)\n",
    "epochs = 100\n",
    "batch_size = 32\n",
    "model, datagen = train_data_augmentation(image_dim, epochs, batch_size, label_path='../labels/labels_full.csv',\n",
    "                                label_col='driveway_label', data_dir='../data/raster_sample/')"
   ]
  },
  {
   "cell_type": "markdown",
   "metadata": {},
   "source": [
    "# Predict for two parcels\n",
    "\n",
    "- 10446 has a driveway\n",
    "- 11354 does not have a driveway"
   ]
  },
  {
   "cell_type": "code",
   "execution_count": 3,
   "metadata": {},
   "outputs": [],
   "source": [
    "label_df = pd.read_csv('../labels/labels_full.csv')\n",
    "parcels = ['parcel10446.TIF', 'parcel11354.TIF']\n",
    "test_parcel_labels = label_df[label_df.filename.isin(parcels)]\n",
    "\n",
    "X_test, y_test = load_images(test_parcel_labels, 'driveway_label', image_dim, \n",
    "                     data_dir='../data/raster_sample/')"
   ]
  },
  {
   "cell_type": "code",
   "execution_count": 4,
   "metadata": {},
   "outputs": [
    {
     "name": "stderr",
     "output_type": "stream",
     "text": [
      "/Users/anthonyrentsch/anaconda3/envs/somerville-parking/lib/python3.6/site-packages/keras_preprocessing/image/numpy_array_iterator.py:127: UserWarning: NumpyArrayIterator is set to use the data format convention \"channels_last\" (channels on axis 3), i.e. expected either 1, 3, or 4 channels on axis 3. However, it was passed an array with shape (2, 100, 100, 5) (5 channels).\n",
      "  str(self.x.shape[channels_axis]) + ' channels).')\n"
     ]
    },
    {
     "data": {
      "text/plain": [
       "array([[0.9992046 ],\n",
       "       [0.01251887]], dtype=float32)"
      ]
     },
     "execution_count": 4,
     "metadata": {},
     "output_type": "execute_result"
    }
   ],
   "source": [
    "model.predict_generator(datagen.flow(X_test))"
   ]
  },
  {
   "cell_type": "markdown",
   "metadata": {},
   "source": [
    "---"
   ]
  }
 ],
 "metadata": {
  "kernelspec": {
   "display_name": "Python 3",
   "language": "python",
   "name": "python3"
  },
  "language_info": {
   "codemirror_mode": {
    "name": "ipython",
    "version": 3
   },
   "file_extension": ".py",
   "mimetype": "text/x-python",
   "name": "python",
   "nbconvert_exporter": "python",
   "pygments_lexer": "ipython3",
   "version": "3.6.9"
  }
 },
 "nbformat": 4,
 "nbformat_minor": 2
}
