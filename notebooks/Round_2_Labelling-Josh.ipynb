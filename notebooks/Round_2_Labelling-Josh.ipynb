{
 "cells": [
  {
   "cell_type": "code",
   "execution_count": 16,
   "metadata": {},
   "outputs": [],
   "source": [
    "from src.raster import Raster\n",
    "import pandas as pd\n",
    "import geopandas as gpd\n",
    "import os\n",
    "\n",
    "from os import listdir\n",
    "from os.path import isfile, join\n",
    "\n",
    "from src.streetview import save_streetview_image, KEY\n",
    "import pandas as pd\n",
    "import numpy as np\n",
    "import re\n",
    "import time\n",
    "from django.utils import text\n",
    "from os import listdir\n",
    "from os.path import isfile, join"
   ]
  },
  {
   "cell_type": "markdown",
   "metadata": {},
   "source": [
    "# Get rasters to be labelled"
   ]
  },
  {
   "cell_type": "code",
   "execution_count": 2,
   "metadata": {},
   "outputs": [],
   "source": [
    "data_dir = '../data/SplitRaster/'"
   ]
  },
  {
   "cell_type": "code",
   "execution_count": 15,
   "metadata": {},
   "outputs": [
    {
     "data": {
      "text/plain": [
       "3334"
      ]
     },
     "execution_count": 15,
     "metadata": {},
     "output_type": "execute_result"
    }
   ],
   "source": [
    "images = []\n",
    "for file in os.listdir(data_dir):\n",
    "    if file.endswith(\".TIF\"):\n",
    "        images.append(file)\n",
    "\n",
    "parcels = gpd.read_file('../data/Parcels_shape/')\n",
    "\n",
    "parcel_nums = [int(x.replace('parcel','').replace('.TIF','')) for x in images]\n",
    "rasters_3000 = parcels.iloc[parcel_nums]"
   ]
  },
  {
   "cell_type": "code",
   "execution_count": 22,
   "metadata": {},
   "outputs": [
    {
     "data": {
      "text/html": [
       "<div>\n",
       "<style scoped>\n",
       "    .dataframe tbody tr th:only-of-type {\n",
       "        vertical-align: middle;\n",
       "    }\n",
       "\n",
       "    .dataframe tbody tr th {\n",
       "        vertical-align: top;\n",
       "    }\n",
       "\n",
       "    .dataframe thead th {\n",
       "        text-align: right;\n",
       "    }\n",
       "</style>\n",
       "<table border=\"1\" class=\"dataframe\">\n",
       "  <thead>\n",
       "    <tr style=\"text-align: right;\">\n",
       "      <th></th>\n",
       "      <th>MBL</th>\n",
       "      <th>AddNum</th>\n",
       "      <th>Street</th>\n",
       "    </tr>\n",
       "  </thead>\n",
       "  <tbody>\n",
       "    <tr>\n",
       "      <td>10526</td>\n",
       "      <td>91-G-8</td>\n",
       "      <td>86</td>\n",
       "      <td>MYRTLE ST</td>\n",
       "    </tr>\n",
       "    <tr>\n",
       "      <td>11638</td>\n",
       "      <td>80-G-6</td>\n",
       "      <td>47</td>\n",
       "      <td>GREENVILLE ST</td>\n",
       "    </tr>\n",
       "    <tr>\n",
       "      <td>12331</td>\n",
       "      <td>66-A-23</td>\n",
       "      <td>109</td>\n",
       "      <td>BEACON ST</td>\n",
       "    </tr>\n",
       "    <tr>\n",
       "      <td>12457</td>\n",
       "      <td>65-E-27</td>\n",
       "      <td>31</td>\n",
       "      <td>HAROLD ST</td>\n",
       "    </tr>\n",
       "    <tr>\n",
       "      <td>10240</td>\n",
       "      <td>38-D-3</td>\n",
       "      <td>50</td>\n",
       "      <td>LOWELL ST</td>\n",
       "    </tr>\n",
       "  </tbody>\n",
       "</table>\n",
       "</div>"
      ],
      "text/plain": [
       "           MBL AddNum         Street\n",
       "10526   91-G-8     86      MYRTLE ST\n",
       "11638   80-G-6     47  GREENVILLE ST\n",
       "12331  66-A-23    109      BEACON ST\n",
       "12457  65-E-27     31      HAROLD ST\n",
       "10240   38-D-3     50      LOWELL ST"
      ]
     },
     "execution_count": 22,
     "metadata": {},
     "output_type": "execute_result"
    }
   ],
   "source": [
    "rasters_3000 = rasters_3000[['MBL', 'AddNum', 'Street']]\n",
    "rasters_3000.head()"
   ]
  },
  {
   "cell_type": "markdown",
   "metadata": {},
   "source": [
    "# Get streetview to be labelled"
   ]
  },
  {
   "cell_type": "code",
   "execution_count": 24,
   "metadata": {},
   "outputs": [
    {
     "data": {
      "text/html": [
       "<div>\n",
       "<style scoped>\n",
       "    .dataframe tbody tr th:only-of-type {\n",
       "        vertical-align: middle;\n",
       "    }\n",
       "\n",
       "    .dataframe tbody tr th {\n",
       "        vertical-align: top;\n",
       "    }\n",
       "\n",
       "    .dataframe thead th {\n",
       "        text-align: right;\n",
       "    }\n",
       "</style>\n",
       "<table border=\"1\" class=\"dataframe\">\n",
       "  <thead>\n",
       "    <tr style=\"text-align: right;\">\n",
       "      <th></th>\n",
       "      <th>MBL</th>\n",
       "      <th>SITE_ADDR</th>\n",
       "    </tr>\n",
       "  </thead>\n",
       "  <tbody>\n",
       "    <tr>\n",
       "      <td>0</td>\n",
       "      <td>1-C-5</td>\n",
       "      <td>190 BOSTON AVE, Somerville, MA</td>\n",
       "    </tr>\n",
       "    <tr>\n",
       "      <td>1</td>\n",
       "      <td>1-C-6</td>\n",
       "      <td>188 BOSTON AVE, Somerville, MA</td>\n",
       "    </tr>\n",
       "    <tr>\n",
       "      <td>2</td>\n",
       "      <td>1-C-7</td>\n",
       "      <td>184 BOSTON AVE, Somerville, MA</td>\n",
       "    </tr>\n",
       "    <tr>\n",
       "      <td>3</td>\n",
       "      <td>1-C-8</td>\n",
       "      <td>180 BOSTON AVE, Somerville, MA</td>\n",
       "    </tr>\n",
       "    <tr>\n",
       "      <td>4</td>\n",
       "      <td>1-C-9</td>\n",
       "      <td>178 BOSTON AVE, Somerville, MA</td>\n",
       "    </tr>\n",
       "  </tbody>\n",
       "</table>\n",
       "</div>"
      ],
      "text/plain": [
       "     MBL                       SITE_ADDR\n",
       "0  1-C-5  190 BOSTON AVE, Somerville, MA\n",
       "1  1-C-6  188 BOSTON AVE, Somerville, MA\n",
       "2  1-C-7  184 BOSTON AVE, Somerville, MA\n",
       "3  1-C-8  180 BOSTON AVE, Somerville, MA\n",
       "4  1-C-9  178 BOSTON AVE, Somerville, MA"
      ]
     },
     "execution_count": 24,
     "metadata": {},
     "output_type": "execute_result"
    }
   ],
   "source": [
    "address_list = pd.read_csv('../data/address_MBL.csv', index_col=0)\n",
    "address_list.head()"
   ]
  },
  {
   "cell_type": "markdown",
   "metadata": {},
   "source": [
    "# Create New Labelling List"
   ]
  },
  {
   "cell_type": "code",
   "execution_count": 88,
   "metadata": {},
   "outputs": [],
   "source": [
    "to_label_3000 = address_list.merge(rasters_3000, on = 'MBL', how = 'inner')\n",
    "\n",
    "already_labelled = pd.read_csv(\"../data/training/all_labels.csv\", index_col = 0)\n",
    "MBLs = list(already_labelled.MBL)\n",
    "to_label_3000 = to_label_3000[~to_label_3000.MBL.isin(MBLs)]\n",
    "\n",
    "to_label_3000.to_csv('../data/training3000/to_label_3000.csv')"
   ]
  },
  {
   "cell_type": "markdown",
   "metadata": {},
   "source": [
    "# Delete Extra Street View"
   ]
  },
  {
   "cell_type": "code",
   "execution_count": 79,
   "metadata": {},
   "outputs": [],
   "source": [
    "def clean_address(adr, slugify = True):\n",
    "    street_adr = adr.split(',')[0]\n",
    "    fn = re.sub(' +','_',street_adr)\n",
    "    if slugify:\n",
    "        fn = text.slugify(fn)\n",
    "    return fn + '.jpg'"
   ]
  },
  {
   "cell_type": "code",
   "execution_count": 80,
   "metadata": {},
   "outputs": [],
   "source": [
    "sv_to_label = to_label_3000.SITE_ADDR.apply(clean_address)\n",
    "all_sv = [f for f in listdir(\"../data/training3000/sv_images/\") \n",
    "                           if isfile(join(\"../data/training3000/sv_images/\", f))]\n"
   ]
  },
  {
   "cell_type": "code",
   "execution_count": 81,
   "metadata": {},
   "outputs": [],
   "source": [
    "to_delete_sv = set(all_sv) - set(sv_to_label)"
   ]
  },
  {
   "cell_type": "code",
   "execution_count": 82,
   "metadata": {},
   "outputs": [],
   "source": [
    "for file in to_delete_sv:\n",
    "    os.remove(\"../data/training3000/sv_images/\" + file)"
   ]
  },
  {
   "cell_type": "markdown",
   "metadata": {},
   "source": [
    "# Delete Extra Raster"
   ]
  },
  {
   "cell_type": "code",
   "execution_count": 83,
   "metadata": {},
   "outputs": [],
   "source": [
    "def get_name(row):\n",
    "    if row['AddNum'] is None:\n",
    "        row['AddNum'] = 'unknown'\n",
    "    if row['Street'] is None:\n",
    "        row['Street'] = 'unknown'\n",
    "    address = str(row['AddNum']) + ' ' +row['Street']\n",
    "    address_cln = address.lower().replace('  ',' ').replace(' ','_')\n",
    "    filename = address_cln + '_aerial.png'\n",
    "    return(filename)"
   ]
  },
  {
   "cell_type": "code",
   "execution_count": 84,
   "metadata": {},
   "outputs": [],
   "source": [
    "raster_to_label = to_label_3000.apply(get_name, axis = 1)"
   ]
  },
  {
   "cell_type": "code",
   "execution_count": 85,
   "metadata": {},
   "outputs": [],
   "source": [
    "all_raster = [f for f in listdir(\"../data/training3000/aerial_images/\") \n",
    "                           if isfile(join(\"../data/training3000/aerial_images/\", f))]"
   ]
  },
  {
   "cell_type": "code",
   "execution_count": 86,
   "metadata": {},
   "outputs": [],
   "source": [
    "to_delete_raster = set(all_raster) - set(raster_to_label)"
   ]
  },
  {
   "cell_type": "code",
   "execution_count": 87,
   "metadata": {},
   "outputs": [],
   "source": [
    "for file in to_delete_raster:\n",
    "    os.remove(\"../data/training3000/aerial_images/\" + file)"
   ]
  },
  {
   "cell_type": "code",
   "execution_count": null,
   "metadata": {},
   "outputs": [],
   "source": []
  }
 ],
 "metadata": {
  "kernelspec": {
   "display_name": "somerville",
   "language": "python",
   "name": "somerville"
  },
  "language_info": {
   "codemirror_mode": {
    "name": "ipython",
    "version": 3
   },
   "file_extension": ".py",
   "mimetype": "text/x-python",
   "name": "python",
   "nbconvert_exporter": "python",
   "pygments_lexer": "ipython3",
   "version": "3.6.5"
  }
 },
 "nbformat": 4,
 "nbformat_minor": 2
}
