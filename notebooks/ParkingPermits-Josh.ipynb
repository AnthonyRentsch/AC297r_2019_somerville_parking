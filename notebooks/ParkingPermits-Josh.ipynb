{
 "cells": [
  {
   "cell_type": "code",
   "execution_count": 1,
   "metadata": {},
   "outputs": [],
   "source": [
    "import pandas as pd\n",
    "pd.options.display.max_rows = 999"
   ]
  },
  {
   "cell_type": "markdown",
   "metadata": {},
   "source": [
    "# load data"
   ]
  },
  {
   "cell_type": "code",
   "execution_count": 2,
   "metadata": {},
   "outputs": [],
   "source": [
    "address_MBL = pd.read_csv('../data/address_MBL.csv', index_col = 0)\n",
    "\n",
    "parking_permits = pd.read_csv('../data/City_of_Somerville_Parking_Permits.csv')"
   ]
  },
  {
   "cell_type": "code",
   "execution_count": 3,
   "metadata": {},
   "outputs": [
    {
     "data": {
      "text/html": [
       "<div>\n",
       "<style scoped>\n",
       "    .dataframe tbody tr th:only-of-type {\n",
       "        vertical-align: middle;\n",
       "    }\n",
       "\n",
       "    .dataframe tbody tr th {\n",
       "        vertical-align: top;\n",
       "    }\n",
       "\n",
       "    .dataframe thead th {\n",
       "        text-align: right;\n",
       "    }\n",
       "</style>\n",
       "<table border=\"1\" class=\"dataframe\">\n",
       "  <thead>\n",
       "    <tr style=\"text-align: right;\">\n",
       "      <th></th>\n",
       "      <th>MBL</th>\n",
       "      <th>SITE_ADDR</th>\n",
       "    </tr>\n",
       "  </thead>\n",
       "  <tbody>\n",
       "    <tr>\n",
       "      <td>0</td>\n",
       "      <td>1-C-5</td>\n",
       "      <td>190 BOSTON AVE, Somerville, MA</td>\n",
       "    </tr>\n",
       "    <tr>\n",
       "      <td>1</td>\n",
       "      <td>1-C-6</td>\n",
       "      <td>188 BOSTON AVE, Somerville, MA</td>\n",
       "    </tr>\n",
       "    <tr>\n",
       "      <td>2</td>\n",
       "      <td>1-C-7</td>\n",
       "      <td>184 BOSTON AVE, Somerville, MA</td>\n",
       "    </tr>\n",
       "    <tr>\n",
       "      <td>3</td>\n",
       "      <td>1-C-8</td>\n",
       "      <td>180 BOSTON AVE, Somerville, MA</td>\n",
       "    </tr>\n",
       "    <tr>\n",
       "      <td>4</td>\n",
       "      <td>1-C-9</td>\n",
       "      <td>178 BOSTON AVE, Somerville, MA</td>\n",
       "    </tr>\n",
       "  </tbody>\n",
       "</table>\n",
       "</div>"
      ],
      "text/plain": [
       "     MBL                       SITE_ADDR\n",
       "0  1-C-5  190 BOSTON AVE, Somerville, MA\n",
       "1  1-C-6  188 BOSTON AVE, Somerville, MA\n",
       "2  1-C-7  184 BOSTON AVE, Somerville, MA\n",
       "3  1-C-8  180 BOSTON AVE, Somerville, MA\n",
       "4  1-C-9  178 BOSTON AVE, Somerville, MA"
      ]
     },
     "execution_count": 3,
     "metadata": {},
     "output_type": "execute_result"
    }
   ],
   "source": [
    "address_MBL.head()"
   ]
  },
  {
   "cell_type": "code",
   "execution_count": 4,
   "metadata": {},
   "outputs": [
    {
     "data": {
      "text/html": [
       "<div>\n",
       "<style scoped>\n",
       "    .dataframe tbody tr th:only-of-type {\n",
       "        vertical-align: middle;\n",
       "    }\n",
       "\n",
       "    .dataframe tbody tr th {\n",
       "        vertical-align: top;\n",
       "    }\n",
       "\n",
       "    .dataframe thead th {\n",
       "        text-align: right;\n",
       "    }\n",
       "</style>\n",
       "<table border=\"1\" class=\"dataframe\">\n",
       "  <thead>\n",
       "    <tr style=\"text-align: right;\">\n",
       "      <th></th>\n",
       "      <th>type_code</th>\n",
       "      <th>type_name</th>\n",
       "      <th>issued</th>\n",
       "      <th>effective</th>\n",
       "      <th>expiration</th>\n",
       "      <th>st_addr</th>\n",
       "      <th>unit_num</th>\n",
       "      <th>city</th>\n",
       "      <th>state</th>\n",
       "      <th>zip_code</th>\n",
       "    </tr>\n",
       "  </thead>\n",
       "  <tbody>\n",
       "    <tr>\n",
       "      <td>0</td>\n",
       "      <td>WD</td>\n",
       "      <td>Moving Van</td>\n",
       "      <td>02/23/2017 12:00:00 AM</td>\n",
       "      <td>03/01/2017 12:00:00 AM</td>\n",
       "      <td>03/01/2017 12:00:00 AM</td>\n",
       "      <td>69 ADAMS                               ST</td>\n",
       "      <td>1</td>\n",
       "      <td>SOMERVILLE</td>\n",
       "      <td>MA</td>\n",
       "      <td>2145.0</td>\n",
       "    </tr>\n",
       "    <tr>\n",
       "      <td>1</td>\n",
       "      <td>G</td>\n",
       "      <td>Visitor</td>\n",
       "      <td>05/22/2017 12:00:00 AM</td>\n",
       "      <td>04/01/2017 12:00:00 AM</td>\n",
       "      <td>04/30/2018 12:00:00 AM</td>\n",
       "      <td>37 SEWALL                              ST</td>\n",
       "      <td></td>\n",
       "      <td>SOMERVILLE</td>\n",
       "      <td>MA</td>\n",
       "      <td>2145.0</td>\n",
       "    </tr>\n",
       "    <tr>\n",
       "      <td>2</td>\n",
       "      <td>G</td>\n",
       "      <td>Visitor</td>\n",
       "      <td>05/22/2017 12:00:00 AM</td>\n",
       "      <td>04/01/2017 12:00:00 AM</td>\n",
       "      <td>04/30/2018 12:00:00 AM</td>\n",
       "      <td>37 SEWALL                              ST</td>\n",
       "      <td></td>\n",
       "      <td>SOMERVILLE</td>\n",
       "      <td>MA</td>\n",
       "      <td>2145.0</td>\n",
       "    </tr>\n",
       "    <tr>\n",
       "      <td>3</td>\n",
       "      <td>G</td>\n",
       "      <td>Visitor</td>\n",
       "      <td>07/07/2017 12:00:00 AM</td>\n",
       "      <td>07/06/2017 12:00:00 AM</td>\n",
       "      <td>06/30/2018 12:00:00 AM</td>\n",
       "      <td>25 BEACON                              ST</td>\n",
       "      <td>5</td>\n",
       "      <td>SOMERVILLE</td>\n",
       "      <td>MA</td>\n",
       "      <td>2143.0</td>\n",
       "    </tr>\n",
       "    <tr>\n",
       "      <td>4</td>\n",
       "      <td>G</td>\n",
       "      <td>Visitor</td>\n",
       "      <td>07/07/2017 12:00:00 AM</td>\n",
       "      <td>07/06/2017 12:00:00 AM</td>\n",
       "      <td>06/30/2018 12:00:00 AM</td>\n",
       "      <td>25 BEACON                              ST</td>\n",
       "      <td>5</td>\n",
       "      <td>SOMERVILLE</td>\n",
       "      <td>MA</td>\n",
       "      <td>2143.0</td>\n",
       "    </tr>\n",
       "  </tbody>\n",
       "</table>\n",
       "</div>"
      ],
      "text/plain": [
       "  type_code   type_name                  issued               effective  \\\n",
       "0        WD  Moving Van  02/23/2017 12:00:00 AM  03/01/2017 12:00:00 AM   \n",
       "1         G     Visitor  05/22/2017 12:00:00 AM  04/01/2017 12:00:00 AM   \n",
       "2         G     Visitor  05/22/2017 12:00:00 AM  04/01/2017 12:00:00 AM   \n",
       "3         G     Visitor  07/07/2017 12:00:00 AM  07/06/2017 12:00:00 AM   \n",
       "4         G     Visitor  07/07/2017 12:00:00 AM  07/06/2017 12:00:00 AM   \n",
       "\n",
       "               expiration                                         st_addr  \\\n",
       "0  03/01/2017 12:00:00 AM      69 ADAMS                               ST    \n",
       "1  04/30/2018 12:00:00 AM      37 SEWALL                              ST    \n",
       "2  04/30/2018 12:00:00 AM      37 SEWALL                              ST    \n",
       "3  06/30/2018 12:00:00 AM      25 BEACON                              ST    \n",
       "4  06/30/2018 12:00:00 AM      25 BEACON                              ST    \n",
       "\n",
       "  unit_num             city state  zip_code  \n",
       "0    1      SOMERVILLE         MA    2145.0  \n",
       "1           SOMERVILLE         MA    2145.0  \n",
       "2           SOMERVILLE         MA    2145.0  \n",
       "3    5      SOMERVILLE         MA    2143.0  \n",
       "4    5      SOMERVILLE         MA    2143.0  "
      ]
     },
     "execution_count": 4,
     "metadata": {},
     "output_type": "execute_result"
    }
   ],
   "source": [
    "parking_permits.head()"
   ]
  },
  {
   "cell_type": "markdown",
   "metadata": {},
   "source": [
    "## Clean parking permits"
   ]
  },
  {
   "cell_type": "code",
   "execution_count": 5,
   "metadata": {},
   "outputs": [],
   "source": [
    "is_residential = (parking_permits.type_name == 'Residential ') | (parking_permits.type_name == 'Residential')\n",
    "parking_permits = parking_permits[is_residential]\n",
    "\n",
    "parking_permits['issued'] = pd.to_datetime(parking_permits['issued'])\n",
    "was_issued_in_2018 = parking_permits.issued.dt.year == 2018\n",
    "parking_permits = parking_permits[was_issued_in_2018]\n"
   ]
  },
  {
   "cell_type": "code",
   "execution_count": 23,
   "metadata": {},
   "outputs": [
    {
     "data": {
      "text/html": [
       "<div>\n",
       "<style scoped>\n",
       "    .dataframe tbody tr th:only-of-type {\n",
       "        vertical-align: middle;\n",
       "    }\n",
       "\n",
       "    .dataframe tbody tr th {\n",
       "        vertical-align: top;\n",
       "    }\n",
       "\n",
       "    .dataframe thead th {\n",
       "        text-align: right;\n",
       "    }\n",
       "</style>\n",
       "<table border=\"1\" class=\"dataframe\">\n",
       "  <thead>\n",
       "    <tr style=\"text-align: right;\">\n",
       "      <th></th>\n",
       "      <th>st_addr</th>\n",
       "      <th>PARKING_PERMIT_COUNT</th>\n",
       "    </tr>\n",
       "  </thead>\n",
       "  <tbody>\n",
       "    <tr>\n",
       "      <td>0</td>\n",
       "      <td>1 ALDERSEY ST</td>\n",
       "      <td>1</td>\n",
       "    </tr>\n",
       "    <tr>\n",
       "      <td>1</td>\n",
       "      <td>1 AVON ST</td>\n",
       "      <td>3</td>\n",
       "    </tr>\n",
       "    <tr>\n",
       "      <td>2</td>\n",
       "      <td>1 BEACON ST</td>\n",
       "      <td>1</td>\n",
       "    </tr>\n",
       "    <tr>\n",
       "      <td>3</td>\n",
       "      <td>1 BELMONT SQ</td>\n",
       "      <td>3</td>\n",
       "    </tr>\n",
       "    <tr>\n",
       "      <td>4</td>\n",
       "      <td>1 BENTON RD</td>\n",
       "      <td>3</td>\n",
       "    </tr>\n",
       "  </tbody>\n",
       "</table>\n",
       "</div>"
      ],
      "text/plain": [
       "         st_addr  PARKING_PERMIT_COUNT\n",
       "0  1 ALDERSEY ST                     1\n",
       "1      1 AVON ST                     3\n",
       "2    1 BEACON ST                     1\n",
       "3   1 BELMONT SQ                     3\n",
       "4    1 BENTON RD                     3"
      ]
     },
     "execution_count": 23,
     "metadata": {},
     "output_type": "execute_result"
    }
   ],
   "source": [
    "parking_permits_counts = parking_permits.groupby('st_addr').size().reset_index()\n",
    "parking_permits_counts.columns = ['st_addr','PARKING_PERMIT_COUNT']\n",
    "parking_permits_counts.head()"
   ]
  },
  {
   "cell_type": "code",
   "execution_count": 28,
   "metadata": {},
   "outputs": [],
   "source": [
    "parking_permits_counts.st_addr = parking_permits_counts.st_addr.apply(lambda x: x.replace(' AV', ' AVE'))"
   ]
  },
  {
   "cell_type": "markdown",
   "metadata": {},
   "source": [
    "## Merge with MBL"
   ]
  },
  {
   "cell_type": "code",
   "execution_count": 29,
   "metadata": {},
   "outputs": [],
   "source": [
    "address_MBL['st_addr'] = address_MBL.SITE_ADDR.apply(lambda x: x.split(',')[0]).replace(' AV', ' AVE')"
   ]
  },
  {
   "cell_type": "code",
   "execution_count": 35,
   "metadata": {},
   "outputs": [],
   "source": [
    "address_MBL = address_MBL.merge(parking_permits_counts, how = 'left').fillna(0)"
   ]
  },
  {
   "cell_type": "code",
   "execution_count": 42,
   "metadata": {},
   "outputs": [],
   "source": [
    "address_MBL[['MBL','PARKING_PERMIT_COUNT']].to_csv('../data/parking_permit_counts.csv')"
   ]
  },
  {
   "cell_type": "code",
   "execution_count": null,
   "metadata": {},
   "outputs": [],
   "source": []
  }
 ],
 "metadata": {
  "kernelspec": {
   "display_name": "somerville",
   "language": "python",
   "name": "somerville"
  },
  "language_info": {
   "codemirror_mode": {
    "name": "ipython",
    "version": 3
   },
   "file_extension": ".py",
   "mimetype": "text/x-python",
   "name": "python",
   "nbconvert_exporter": "python",
   "pygments_lexer": "ipython3",
   "version": "3.6.5"
  }
 },
 "nbformat": 4,
 "nbformat_minor": 2
}
