{
 "cells": [
  {
   "cell_type": "code",
   "execution_count": null,
   "metadata": {},
   "outputs": [],
   "source": [
    "import geopandas as gpd\n",
    "import pandas as pd\n",
    "import numpy as np\n",
    "import re\n",
    "import matplotlib.pyplot as plt\n",
    "from shapely.geometry import Point\n",
    "import shapely\n",
    "pd.set_option('display.max_columns', None)\n"
   ]
  },
  {
   "cell_type": "markdown",
   "metadata": {},
   "source": [
    "# Load Data"
   ]
  },
  {
   "cell_type": "code",
   "execution_count": null,
   "metadata": {},
   "outputs": [],
   "source": [
    "buildings_df = gpd.read_file('../data/Buildings/')\n",
    "parcels_df = gpd.read_file('../data/Parcels_shape/')"
   ]
  },
  {
   "cell_type": "markdown",
   "metadata": {},
   "source": [
    "# Find buildings in parcels"
   ]
  },
  {
   "cell_type": "code",
   "execution_count": null,
   "metadata": {},
   "outputs": [],
   "source": [
    "buildings_df_temp = buildings_df.copy()"
   ]
  },
  {
   "cell_type": "code",
   "execution_count": null,
   "metadata": {},
   "outputs": [],
   "source": [
    "buildings_df_temp.geometry = buildings_df_temp.geometry.centroid\n",
    "buildings_df_temp = buildings_df_temp[buildings_df_temp.is_valid]\n",
    "parcels_df = parcels_df[parcels_df.is_valid]"
   ]
  },
  {
   "cell_type": "code",
   "execution_count": null,
   "metadata": {},
   "outputs": [],
   "source": [
    "building_to_parcels = gpd.sjoin(\n",
    "    buildings_df_temp[['OBJECTID','AddNum','Street','geometry']], \n",
    "    parcels_df[['MBL','geometry','AddNum','Street']], \n",
    "    how = 'inner', op = 'within'\n",
    ")\n"
   ]
  },
  {
   "cell_type": "code",
   "execution_count": null,
   "metadata": {},
   "outputs": [],
   "source": [
    "buildings_parcels_df = (\n",
    "    buildings_df\n",
    "    .merge(building_to_parcels[['OBJECTID','MBL']])\n",
    "    .merge(parcels_df, on = 'MBL')[['MBL', 'geometry_x', 'geometry_y','AddNum_y','Street_y']]\n",
    "    .rename({'geometry_x':'building', 'geometry_y':'parcel'}, axis = 1)\n",
    ")"
   ]
  },
  {
   "cell_type": "code",
   "execution_count": null,
   "metadata": {},
   "outputs": [],
   "source": [
    "buildings_parcels_df = buildings_parcels_df[buildings_parcels_df.parcel.apply(type) == shapely.geometry.polygon.Polygon]"
   ]
  },
  {
   "cell_type": "code",
   "execution_count": null,
   "metadata": {},
   "outputs": [],
   "source": [
    "buildings_parcels_df"
   ]
  },
  {
   "cell_type": "markdown",
   "metadata": {},
   "source": [
    "# Create Features\n"
   ]
  },
  {
   "cell_type": "markdown",
   "metadata": {},
   "source": [
    "1. distance to each edge\n",
    "2. buildings per parcel\n",
    "3. number of edges in building footprint"
   ]
  },
  {
   "cell_type": "markdown",
   "metadata": {},
   "source": [
    "### distance to each edge"
   ]
  },
  {
   "cell_type": "code",
   "execution_count": null,
   "metadata": {},
   "outputs": [],
   "source": [
    "row = buildings_parcels_df.loc[0]"
   ]
  },
  {
   "cell_type": "code",
   "execution_count": null,
   "metadata": {},
   "outputs": [],
   "source": [
    "def get_parcel_edge_midpoints(parcel):\n",
    "    # simplify parcel so their are 4 coordinates\n",
    "    tolerance_low = 0\n",
    "    tolerance_high = 1e10\n",
    "    num_coord = 0\n",
    "        \n",
    "    while True:\n",
    "        tolerance = (tolerance_low + tolerance_high)/2\n",
    "        parcel_simple = parcel.simplify(tolerance)\n",
    "        try:\n",
    "            parcel_corners = parcel_simple.boundary.coords\n",
    "        except:\n",
    "            return np.NaN\n",
    "        num_coord = len(parcel_corners)\n",
    "        if num_coord == 5 or tolerance_high - tolerance_low < 1e-10:\n",
    "            break\n",
    "        elif num_coord < 5:\n",
    "            tolerance_high = tolerance\n",
    "        else:\n",
    "            tolerance_low = tolerance\n",
    "    \n",
    "    if num_coord == 4:\n",
    "        parcel_corners = list(parcel_corners)\n",
    "        parcel_corners.append(parcel_corners[1])\n",
    "\n",
    "    # get midpoints of parcel edges\n",
    "    midpoints = []\n",
    "    for i in range(4):\n",
    "        corner1 = np.array(parcel_corners[i])\n",
    "        corner2 = np.array(parcel_corners[i+1])\n",
    "        midpoints.append(Point((corner1 + corner2)/2))\n",
    "\n",
    "    # get orientation\n",
    "    if midpoints[0].distance(midpoints[2]) > midpoints[1].distance(midpoints[3]):\n",
    "        midpoint_dict = {\n",
    "            'side1': midpoints[1],\n",
    "            'side2': midpoints[3],\n",
    "            'front1': midpoints[0],\n",
    "            'front2': midpoints[2]\n",
    "        }\n",
    "    else:\n",
    "         midpoint_dict = {\n",
    "            'side1': midpoints[0],\n",
    "            'side2': midpoints[2],\n",
    "            'front1': midpoints[1],\n",
    "            'front2': midpoints[3]\n",
    "        }\n",
    "    return midpoint_dict"
   ]
  },
  {
   "cell_type": "code",
   "execution_count": null,
   "metadata": {},
   "outputs": [],
   "source": [
    "buildings_parcels_df['midpoints'] = buildings_parcels_df.parcel.apply(get_parcel_edge_midpoints)\n",
    "\n",
    "buildings_parcels_df = buildings_parcels_df[~buildings_parcels_df.midpoints.isna()]"
   ]
  },
  {
   "cell_type": "code",
   "execution_count": null,
   "metadata": {},
   "outputs": [],
   "source": [
    "for clm in ['side1','side2','front1','front2']:\n",
    "    buildings_parcels_df[clm + '_dist'] = buildings_parcels_df.apply(\n",
    "        lambda row: row.building.distance(row.midpoints[clm]), axis = 1)"
   ]
  },
  {
   "cell_type": "code",
   "execution_count": null,
   "metadata": {},
   "outputs": [],
   "source": [
    "buildings_parcels_df['side_diff'] = np.absolute(buildings_parcels_df.side1_dist - buildings_parcels_df.side2_dist)\n",
    "buildings_parcels_df['front_diff'] = np.absolute(buildings_parcels_df.front1_dist - buildings_parcels_df.front2_dist)"
   ]
  },
  {
   "cell_type": "code",
   "execution_count": null,
   "metadata": {},
   "outputs": [],
   "source": [
    "buildings_parcels_df"
   ]
  },
  {
   "cell_type": "markdown",
   "metadata": {},
   "source": [
    "### buildings per parcel"
   ]
  },
  {
   "cell_type": "code",
   "execution_count": null,
   "metadata": {},
   "outputs": [],
   "source": [
    "building_per_parcels = gpd.sjoin(\n",
    "    buildings_df_temp[['OBJECTID','AddNum','Street','geometry']], \n",
    "    parcels_df[['MBL','geometry','AddNum','Street']], \n",
    "    how = 'right', op = 'within'\n",
    ")"
   ]
  },
  {
   "cell_type": "code",
   "execution_count": null,
   "metadata": {},
   "outputs": [],
   "source": [
    "building_per_parcels = building_per_parcels.groupby('MBL').size().reset_index().rename({0:'building_count'}, axis=1)"
   ]
  },
  {
   "cell_type": "code",
   "execution_count": null,
   "metadata": {},
   "outputs": [],
   "source": [
    "buildings_parcels_df = buildings_parcels_df.merge(building_per_parcels, how = 'left')"
   ]
  },
  {
   "cell_type": "code",
   "execution_count": null,
   "metadata": {},
   "outputs": [],
   "source": [
    "buildings_parcels_df"
   ]
  },
  {
   "cell_type": "markdown",
   "metadata": {},
   "source": [
    "## number of edges in building footprint"
   ]
  },
  {
   "cell_type": "code",
   "execution_count": null,
   "metadata": {},
   "outputs": [],
   "source": [
    "def get_edge_count(polygon):\n",
    "    try:\n",
    "        return len(polygon.boundary.coords)\n",
    "    except NotImplementedError:\n",
    "        return np.NaN\n",
    "buildings_parcels_df['building_edges'] = buildings_parcels_df.building.apply(get_edge_count)\n",
    "buildings_parcels_df['parcel_edges'] = buildings_parcels_df.parcel.apply(get_edge_count)"
   ]
  },
  {
   "cell_type": "code",
   "execution_count": null,
   "metadata": {},
   "outputs": [],
   "source": [
    "buildings_parcels_df"
   ]
  },
  {
   "cell_type": "markdown",
   "metadata": {},
   "source": [
    "## save"
   ]
  },
  {
   "cell_type": "code",
   "execution_count": null,
   "metadata": {},
   "outputs": [],
   "source": [
    "buildings_parcels_df = buildings_parcels_df[[\n",
    "    'MBL',\n",
    "    'side1_dist',\n",
    "    'side2_dist',\n",
    "    'front1_dist',\n",
    "    'front2_dist',\n",
    "    'side_diff',\n",
    "    'front_diff',\n",
    "    'building_count',\n",
    "    'building_edges',\n",
    "    'parcel_edges'\n",
    "]]\n"
   ]
  },
  {
   "cell_type": "code",
   "execution_count": null,
   "metadata": {},
   "outputs": [],
   "source": [
    "buildings_parcels_df.groupby('MBL').min()"
   ]
  },
  {
   "cell_type": "code",
   "execution_count": null,
   "metadata": {},
   "outputs": [],
   "source": [
    "buildings_parcels_df.to_csv('../data/building_parcel_geometric_features.csv')"
   ]
  },
  {
   "cell_type": "markdown",
   "metadata": {},
   "source": [
    "## Figures for Poster"
   ]
  },
  {
   "cell_type": "code",
   "execution_count": null,
   "metadata": {},
   "outputs": [],
   "source": [
    "from matplotlib import pyplot as plt\n",
    "from shapely.geometry.polygon import Polygon\n",
    "from descartes import PolygonPatch"
   ]
  },
  {
   "cell_type": "code",
   "execution_count": null,
   "metadata": {},
   "outputs": [],
   "source": [
    "row = buildings_parcels_df[buildings_parcels_df.MBL == '73-B-6'].iloc[0]\n",
    "row"
   ]
  },
  {
   "cell_type": "code",
   "execution_count": null,
   "metadata": {},
   "outputs": [],
   "source": [
    "GREY = '#A8A8A8'\n",
    "RED = '#AC2A25'\n",
    "pavlos = row.building\n",
    "pavlos_parcel = row.parcel\n",
    "\n",
    "fig = plt.figure(dpi = 450) \n",
    "ax = fig.gca() \n",
    "ax.add_patch(PolygonPatch(pavlos_parcel, fc=GREY, ec=GREY, alpha=1, zorder=2 ))\n",
    "ax.add_patch(PolygonPatch(pavlos, fc=RED, ec=RED, alpha=1, zorder=2 ))\n",
    "\n",
    "ax.axis('scaled')\n",
    "plt.savefig('../figures/pavlos.jpg')"
   ]
  },
  {
   "cell_type": "code",
   "execution_count": null,
   "metadata": {},
   "outputs": [],
   "source": [
    "pavlos = row.building\n",
    "pavlos_parcel = row.parcel.simplify(100)\n",
    "\n",
    "fig = plt.figure(dpi = 450) \n",
    "ax = fig.gca() \n",
    "ax.add_patch(PolygonPatch(pavlos_parcel, fc=GREY, ec=GREY, alpha=1, zorder=2))\n",
    "ax.add_patch(PolygonPatch(pavlos, fc=RED, ec=RED, alpha=1, zorder=2 ))\n",
    "\n",
    "ax.axis('scaled')\n",
    "plt.savefig('../figures/pavlos_simple.jpg')"
   ]
  }
 ],
 "metadata": {
  "kernelspec": {
   "display_name": "Python 3",
   "language": "python",
   "name": "python3"
  },
  "language_info": {
   "codemirror_mode": {
    "name": "ipython",
    "version": 3
   },
   "file_extension": ".py",
   "mimetype": "text/x-python",
   "name": "python",
   "nbconvert_exporter": "python",
   "pygments_lexer": "ipython3",
   "version": "3.6.6"
  }
 },
 "nbformat": 4,
 "nbformat_minor": 2
}
