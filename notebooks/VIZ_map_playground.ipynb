{
 "cells": [
  {
   "cell_type": "code",
   "execution_count": null,
   "metadata": {},
   "outputs": [],
   "source": [
    "# set up\n",
    "import os\n",
    "import geopandas\n",
    "import matplotlib.pyplot as plt\n",
    "import numpy as np\n",
    "import pandas as pd\n",
    "import numpy as np\n",
    "\n",
    "os.chdir(\"../data/\")"
   ]
  },
  {
   "cell_type": "code",
   "execution_count": null,
   "metadata": {},
   "outputs": [],
   "source": [
    "# load data\n",
    "parcels = geopandas.read_file('Parcels_FY19')"
   ]
  },
  {
   "cell_type": "code",
   "execution_count": null,
   "metadata": {},
   "outputs": [],
   "source": [
    "parcels.head()"
   ]
  },
  {
   "cell_type": "code",
   "execution_count": null,
   "metadata": {},
   "outputs": [],
   "source": [
    "# parcel map\n",
    "fig, ax = plt.subplots(figsize=(20,10))\n",
    "parcels.plot(ax=ax, color='white', edgecolor='grey', alpha=0.3)\n",
    "plt.title(\"All parcels in Somerville\", fontsize=22)\n",
    "plt.axis('off');"
   ]
  },
  {
   "cell_type": "code",
   "execution_count": null,
   "metadata": {},
   "outputs": [],
   "source": [
    "# read in labels\n",
    "manual_labels = pd.read_csv('../labels/training_labels_updated_111219.csv')\n",
    "additional_manual_labels = pd.read_csv('../labels/additional_training_labels_120319.csv')\n",
    "labels = pd.concat([manual_labels, additional_manual_labels], axis=0)"
   ]
  },
  {
   "cell_type": "code",
   "execution_count": null,
   "metadata": {},
   "outputs": [],
   "source": [
    "manual_labels.shape, additional_manual_labels.shape, labels.shape"
   ]
  },
  {
   "cell_type": "code",
   "execution_count": null,
   "metadata": {},
   "outputs": [],
   "source": [
    "labels.head()"
   ]
  },
  {
   "cell_type": "code",
   "execution_count": null,
   "metadata": {},
   "outputs": [],
   "source": [
    "labels.final_label.value_counts()"
   ]
  },
  {
   "cell_type": "code",
   "execution_count": null,
   "metadata": {},
   "outputs": [],
   "source": [
    "# join\n",
    "parcel_labels = parcels.merge(labels, how='left', left_on='TaxParMBL', right_on='MBL')"
   ]
  },
  {
   "cell_type": "code",
   "execution_count": null,
   "metadata": {},
   "outputs": [],
   "source": [
    "parcel_labels.shape"
   ]
  },
  {
   "cell_type": "code",
   "execution_count": null,
   "metadata": {},
   "outputs": [],
   "source": [
    "# denote ones we have labeled\n",
    "parcel_labels['label_flag'] = pd.notna(parcel_labels['final_label'])"
   ]
  },
  {
   "cell_type": "code",
   "execution_count": null,
   "metadata": {},
   "outputs": [],
   "source": [
    "# map where we labeled\n",
    "fig, ax = plt.subplots(figsize=(20,10))\n",
    "parcel_labels.plot(ax=ax, color='white', edgecolor='grey', alpha=0.1)\n",
    "parcel_labels.plot(ax=ax, column='label_flag', alpha=0.9, legend=True, cmap='OrRd')\n",
    "plt.title(\"Labeled parcels (1 - yes, 0 - no)\", fontsize=22)\n",
    "plt.axis('off');"
   ]
  },
  {
   "cell_type": "code",
   "execution_count": null,
   "metadata": {},
   "outputs": [],
   "source": [
    "# map what labels were\n",
    "label_mapping = {0: 'no', 0.1:'no', 0.5:'unsure', 0.9:'yes', 1:'yes', np.nan:'no label'}\n",
    "parcel_labels['3_labels'] = parcel_labels['final_label'].map(label_mapping)"
   ]
  },
  {
   "cell_type": "code",
   "execution_count": null,
   "metadata": {},
   "outputs": [],
   "source": [
    "import matplotlib as mpl\n",
    "cmap = mpl.colors.ListedColormap([\"purple\", \"white\", \"darkorange\", \"green\"])\n",
    "fig, ax = plt.subplots(figsize=(20,10))\n",
    "parcel_labels.plot(ax=ax, color='white', edgecolor='grey', alpha=0.2)\n",
    "parcel_labels.plot(ax=ax, column='3_labels', alpha=0.9, legend=True, cmap=cmap)\n",
    "plt.title(\"\", fontsize=22)\n",
    "plt.axis('off');"
   ]
  },
  {
   "cell_type": "markdown",
   "metadata": {},
   "source": [
    "# Load predictions"
   ]
  },
  {
   "cell_type": "code",
   "execution_count": null,
   "metadata": {},
   "outputs": [],
   "source": [
    "calibrated_preds = pd.read_csv('../data/calibrated_driveway_predictions.csv')"
   ]
  },
  {
   "cell_type": "code",
   "execution_count": null,
   "metadata": {},
   "outputs": [],
   "source": [
    "calibrated_preds.head()"
   ]
  },
  {
   "cell_type": "markdown",
   "metadata": {},
   "source": [
    "# Aggregate by block"
   ]
  },
  {
   "cell_type": "code",
   "execution_count": null,
   "metadata": {},
   "outputs": [],
   "source": [
    "calibrated_preds['block'] = calibrated_preds['MBL'].apply(lambda x: x.split('-')[0] + x.split('-')[1])"
   ]
  },
  {
   "cell_type": "code",
   "execution_count": null,
   "metadata": {},
   "outputs": [],
   "source": [
    "block_pred_counts = calibrated_preds.groupby('block').mean()['calibrated_yes_driveway'].to_frame().reset_index()"
   ]
  },
  {
   "cell_type": "code",
   "execution_count": null,
   "metadata": {},
   "outputs": [],
   "source": [
    "block_pred_counts.columns = ['block', 'block_pred_counts']"
   ]
  },
  {
   "cell_type": "code",
   "execution_count": null,
   "metadata": {},
   "outputs": [],
   "source": [
    "calibrated_preds = calibrated_preds.merge(block_pred_counts, how='left', left_on='block', right_on='block')"
   ]
  },
  {
   "cell_type": "code",
   "execution_count": null,
   "metadata": {},
   "outputs": [],
   "source": [
    "parcel_calibrated_preds = parcels.merge(calibrated_preds, how='left', left_on='MBL', right_on='MBL')"
   ]
  },
  {
   "cell_type": "code",
   "execution_count": null,
   "metadata": {},
   "outputs": [],
   "source": [
    "fig, ax = plt.subplots(1, 1, figsize=(20,10))\n",
    "bins = [0.1,0.5,0.6,0.7,0.8,0.9,1]\n",
    "\n",
    "parcel_calibrated_preds.plot(ax=ax, color='white', edgecolor='white', alpha=0.1)\n",
    "#parcel_calibrated_preds.plot(ax=ax, column='block_pred_counts', cmap='Reds', alpha=0.7)\n",
    "parcel_calibrated_preds[parcel_calibrated_preds['block_pred_counts'].notnull()].plot(ax=ax, \n",
    "                                                                                  column='block_pred_counts', \n",
    "                                                                                  cmap='Reds', \n",
    "                                                                                  scheme='user_defined',\n",
    "                                                                                  classification_kwds={'bins':bins},\n",
    "                                                                                  legend=False)\n",
    "# DISCRETE\n",
    "cmap = plt.cm.Reds \n",
    "cmaplist = [cmap(i) for i in range(cmap.N)]\n",
    "\n",
    "# create the new map\n",
    "cmap = mpl.colors.LinearSegmentedColormap.from_list(\n",
    "    'Custom cmap', cmaplist, cmap.N)\n",
    "\n",
    "# define the bins and normalize\n",
    "norm = mpl.colors.BoundaryNorm(bins, cmap.N)\n",
    "\n",
    "# create a second axes for the colorbar\n",
    "ax_cm = fig.add_axes([0.3, 0.05, 0.4, 0.03]) #left bottom width height\n",
    "cb = mpl.colorbar.ColorbarBase(ax_cm, cmap=cmap, norm=norm, orientation='horizontal',\n",
    "    spacing='uniform', ticks=bins, boundaries=bins)\n",
    "\n",
    "\n",
    "\n",
    "# CONTINUOUS\n",
    "# # Create colorbar as a legend\n",
    "# sm = plt.cm.ScalarMappable(cmap='Reds', \n",
    "#                            norm=plt.Normalize(vmin=0, vmax=parcel_calibrated_preds['block_pred_counts'].max()))\n",
    "# # empty array for the data range\n",
    "# sm._A = []\n",
    "# # add the colorbar to the figure\n",
    "# cbar = fig.colorbar(sm, shrink=0.5, orientation='horizontal', pad=0)\n",
    "\n",
    "ax.axis('off');\n",
    "#plt.savefig('../images/block_predictions_map', dpi=450);"
   ]
  },
  {
   "cell_type": "markdown",
   "metadata": {},
   "source": [
    "# Add streets"
   ]
  },
  {
   "cell_type": "code",
   "execution_count": null,
   "metadata": {},
   "outputs": [],
   "source": [
    "streets = geopandas.read_file('Streets')"
   ]
  },
  {
   "cell_type": "code",
   "execution_count": null,
   "metadata": {},
   "outputs": [],
   "source": [
    "streets.head()"
   ]
  },
  {
   "cell_type": "code",
   "execution_count": null,
   "metadata": {},
   "outputs": [],
   "source": [
    "streets['coords'] = streets['geometry'].apply(lambda x: x.representative_point().coords[:])\n",
    "streets['coords'] = [coords[0] for coords in streets['coords']]\n",
    "streets['x'] = streets['coords'].apply(lambda x: x[0])\n",
    "streets['y'] = streets['coords'].apply(lambda x: x[1])"
   ]
  },
  {
   "cell_type": "code",
   "execution_count": null,
   "metadata": {
    "scrolled": true
   },
   "outputs": [],
   "source": [
    "for i in pd.Series(streets['Street'].unique()).sort_values():\n",
    "    print(i)"
   ]
  },
  {
   "cell_type": "code",
   "execution_count": null,
   "metadata": {},
   "outputs": [],
   "source": [
    "major = ['BROADWAY', 'HIGHLAND AVE', 'POWDER HOUSE BLVD', 'SUMMER ST', 'WASHINGTON ST']\n",
    "major_streets = streets[streets['Street'].isin(major)]\n",
    "major_streets = major_streets.groupby('Street').mean()[['x','y']].reset_index()\n",
    "major_streets['coords'] = major_streets[['x','y']].apply(tuple, axis=1)"
   ]
  },
  {
   "cell_type": "code",
   "execution_count": null,
   "metadata": {},
   "outputs": [],
   "source": [
    "major_streets"
   ]
  },
  {
   "cell_type": "code",
   "execution_count": null,
   "metadata": {},
   "outputs": [],
   "source": [
    "fig, ax = plt.subplots(figsize=(20,10))\n",
    "streets.plot(ax=ax, alpha=0.5)\n",
    "\n",
    "for idx, row in major_streets.iterrows():\n",
    "    plt.annotate(s=row['Street'], xy=row['coords']\n",
    "                 #,horizontalalignment='center'\n",
    "                )\n",
    "    \n",
    "ax.axis('off');"
   ]
  },
  {
   "cell_type": "code",
   "execution_count": null,
   "metadata": {},
   "outputs": [],
   "source": []
  }
 ],
 "metadata": {
  "kernelspec": {
   "display_name": "Python 3",
   "language": "python",
   "name": "python3"
  },
  "language_info": {
   "codemirror_mode": {
    "name": "ipython",
    "version": 3
   },
   "file_extension": ".py",
   "mimetype": "text/x-python",
   "name": "python",
   "nbconvert_exporter": "python",
   "pygments_lexer": "ipython3",
   "version": "3.6.8"
  }
 },
 "nbformat": 4,
 "nbformat_minor": 2
}
