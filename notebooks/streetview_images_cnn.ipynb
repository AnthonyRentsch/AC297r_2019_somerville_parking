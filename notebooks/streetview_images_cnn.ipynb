{
 "cells": [
  {
   "cell_type": "code",
   "execution_count": 1,
   "metadata": {
    "collapsed": true
   },
   "outputs": [],
   "source": [
    "#package imports\n",
    "from IPython.display import display\n",
    "import warnings\n",
    "warnings.filterwarnings(\"ignore\")\n",
    "import pandas as pd\n",
    "import numpy as np\n",
    "import sys\n",
    "pd.set_option('display.max_rows', 500)\n",
    "pd.set_option('display.max_columns', 500)\n",
    "pd.set_option('display.width', 1000)\n",
    "sys.path.append('../')\n",
    "from src.models import street_view_cnn\n",
    "sys.path.append('/notebook')\n",
    "from sklearn.model_selection import train_test_split\n",
    "import matplotlib.pyplot as plt\n",
    "% matplotlib inline\n",
    "from sklearn.preprocessing import MinMaxScaler\n",
    "from tensorflow import keras\n",
    "from tensorflow.keras.preprocessing.image import ImageDataGenerator\n",
    "from tensorflow.keras.models import load_model"
   ]
  },
  {
   "cell_type": "markdown",
   "metadata": {},
   "source": [
    "### Input Data Prep"
   ]
  },
  {
   "cell_type": "code",
   "execution_count": 2,
   "metadata": {
    "collapsed": true
   },
   "outputs": [],
   "source": [
    "sam1= pd.read_csv('../labels/training_labels_updated_111219.csv')\n",
    "sam2 = pd.read_csv('../labels/additional_training_labels_120319.csv')\n",
    "sample=pd.concat([sam1, sam2], axis = 0)\n",
    "assert sample.shape[0] == sam1.shape[0] + sam2.shape[0]\n",
    "\n",
    "# option to include additional labels - trained with these on a GPU\n",
    "# sample3 = pd.read_csv('../labels/new6000_training_labels_aerial.csv', index_col='Unnamed: 0') "
   ]
  },
  {
   "cell_type": "code",
   "execution_count": 3,
   "metadata": {},
   "outputs": [
    {
     "data": {
      "text/html": [
       "<div>\n",
       "<style scoped>\n",
       "    .dataframe tbody tr th:only-of-type {\n",
       "        vertical-align: middle;\n",
       "    }\n",
       "\n",
       "    .dataframe tbody tr th {\n",
       "        vertical-align: top;\n",
       "    }\n",
       "\n",
       "    .dataframe thead th {\n",
       "        text-align: right;\n",
       "    }\n",
       "</style>\n",
       "<table border=\"1\" class=\"dataframe\">\n",
       "  <thead>\n",
       "    <tr style=\"text-align: right;\">\n",
       "      <th></th>\n",
       "      <th>ADDRESS_FOR_STREET_VIEW</th>\n",
       "      <th>ADDR_NUM</th>\n",
       "      <th>AERIAL_Driveway</th>\n",
       "      <th>FULL_STR</th>\n",
       "      <th>GSV_Driveway</th>\n",
       "      <th>MBL</th>\n",
       "      <th>aerial_addr</th>\n",
       "      <th>aerial_filename</th>\n",
       "      <th>final_label</th>\n",
       "      <th>gsv_filename</th>\n",
       "      <th>sv_addr</th>\n",
       "      <th>three_class_label</th>\n",
       "    </tr>\n",
       "  </thead>\n",
       "  <tbody>\n",
       "    <tr>\n",
       "      <th>0</th>\n",
       "      <td>5  DOUGLAS AVE, SOMERVILLE, MA</td>\n",
       "      <td>5</td>\n",
       "      <td>2.0</td>\n",
       "      <td>DOUGLAS AVE</td>\n",
       "      <td>0.0</td>\n",
       "      <td>47-G-17</td>\n",
       "      <td>NaN</td>\n",
       "      <td>5_DOUGLAS_AVE_aerial.png</td>\n",
       "      <td>0.1</td>\n",
       "      <td>5_DOUGLAS_AVE.jpg</td>\n",
       "      <td>NaN</td>\n",
       "      <td>NaN</td>\n",
       "    </tr>\n",
       "    <tr>\n",
       "      <th>1</th>\n",
       "      <td>6  HILLSIDE CIR, SOMERVILLE, MA</td>\n",
       "      <td>6</td>\n",
       "      <td>1.0</td>\n",
       "      <td>HILLSIDE CIR</td>\n",
       "      <td>2.0</td>\n",
       "      <td>38-A-47</td>\n",
       "      <td>NaN</td>\n",
       "      <td>6_HILLSIDE_CIR_aerial.png</td>\n",
       "      <td>0.9</td>\n",
       "      <td>6_HILLSIDE_CIR.jpg</td>\n",
       "      <td>NaN</td>\n",
       "      <td>NaN</td>\n",
       "    </tr>\n",
       "    <tr>\n",
       "      <th>2</th>\n",
       "      <td>8  BELMONT PL, SOMERVILLE, MA</td>\n",
       "      <td>8</td>\n",
       "      <td>2.0</td>\n",
       "      <td>BELMONT PL</td>\n",
       "      <td>2.0</td>\n",
       "      <td>44-A-48</td>\n",
       "      <td>NaN</td>\n",
       "      <td>8_BELMONT_PL_aerial.png</td>\n",
       "      <td>0.5</td>\n",
       "      <td>8_BELMONT_PL.jpg</td>\n",
       "      <td>NaN</td>\n",
       "      <td>NaN</td>\n",
       "    </tr>\n",
       "    <tr>\n",
       "      <th>3</th>\n",
       "      <td>8  DRESDEN CIR, SOMERVILLE, MA</td>\n",
       "      <td>8</td>\n",
       "      <td>2.0</td>\n",
       "      <td>DRESDEN CIR</td>\n",
       "      <td>2.0</td>\n",
       "      <td>25-A-13</td>\n",
       "      <td>NaN</td>\n",
       "      <td>8_DRESDEN_CIR_aerial.png</td>\n",
       "      <td>0.5</td>\n",
       "      <td>8_DRESDEN_CIR.jpg</td>\n",
       "      <td>NaN</td>\n",
       "      <td>NaN</td>\n",
       "    </tr>\n",
       "    <tr>\n",
       "      <th>4</th>\n",
       "      <td>8  HAWTHORNE ST, SOMERVILLE, MA</td>\n",
       "      <td>8</td>\n",
       "      <td>0.0</td>\n",
       "      <td>HAWTHORNE ST</td>\n",
       "      <td>2.0</td>\n",
       "      <td>25-D-16</td>\n",
       "      <td>NaN</td>\n",
       "      <td>8_HAWTHORNE_ST_aerial.png</td>\n",
       "      <td>0.1</td>\n",
       "      <td>8_HAWTHORNE_ST.jpg</td>\n",
       "      <td>NaN</td>\n",
       "      <td>NaN</td>\n",
       "    </tr>\n",
       "  </tbody>\n",
       "</table>\n",
       "</div>"
      ],
      "text/plain": [
       "           ADDRESS_FOR_STREET_VIEW ADDR_NUM  AERIAL_Driveway      FULL_STR  GSV_Driveway      MBL aerial_addr            aerial_filename  final_label        gsv_filename sv_addr  three_class_label\n",
       "0   5  DOUGLAS AVE, SOMERVILLE, MA        5              2.0   DOUGLAS AVE           0.0  47-G-17         NaN   5_DOUGLAS_AVE_aerial.png          0.1   5_DOUGLAS_AVE.jpg     NaN                NaN\n",
       "1  6  HILLSIDE CIR, SOMERVILLE, MA        6              1.0  HILLSIDE CIR           2.0  38-A-47         NaN  6_HILLSIDE_CIR_aerial.png          0.9  6_HILLSIDE_CIR.jpg     NaN                NaN\n",
       "2    8  BELMONT PL, SOMERVILLE, MA        8              2.0    BELMONT PL           2.0  44-A-48         NaN    8_BELMONT_PL_aerial.png          0.5    8_BELMONT_PL.jpg     NaN                NaN\n",
       "3   8  DRESDEN CIR, SOMERVILLE, MA        8              2.0   DRESDEN CIR           2.0  25-A-13         NaN   8_DRESDEN_CIR_aerial.png          0.5   8_DRESDEN_CIR.jpg     NaN                NaN\n",
       "4  8  HAWTHORNE ST, SOMERVILLE, MA        8              0.0  HAWTHORNE ST           2.0  25-D-16         NaN  8_HAWTHORNE_ST_aerial.png          0.1  8_HAWTHORNE_ST.jpg     NaN                NaN"
      ]
     },
     "execution_count": 3,
     "metadata": {},
     "output_type": "execute_result"
    }
   ],
   "source": [
    "# take a look at the top\n",
    "sample.head()"
   ]
  },
  {
   "cell_type": "code",
   "execution_count": 4,
   "metadata": {
    "collapsed": true
   },
   "outputs": [],
   "source": [
    "# This is the street view model - train on steet view driveway labels\n",
    "sample['GSV_Driveway'] = sample['GSV_Driveway'].astype('int').astype('str')\n",
    "sample.loc[sample['GSV_Driveway'] == '2', 'GSV_Driveway'] = '0' #<- this is to make sure we only have two labels"
   ]
  },
  {
   "cell_type": "code",
   "execution_count": 6,
   "metadata": {
    "collapsed": true
   },
   "outputs": [],
   "source": [
    "# now split into train and validation (calling it test here)\n",
    "train_data, test_data = train_test_split(sample, test_size = 0.2, random_state = 100)\n",
    "y_column = 'GSV_Driveway'"
   ]
  },
  {
   "cell_type": "markdown",
   "metadata": {},
   "source": [
    "For street view driveways, we have three labelled classes (0: no driveway; 1: driveway; 2: unsure)  \n",
    "We tried two variants of models:\n",
    "1. Learn these three classes\n",
    "2. Set 0 and 2 to be the same class - we want to be able to predict the driveways accurately\n",
    "\n",
    "This notebook shows option 2."
   ]
  },
  {
   "cell_type": "markdown",
   "metadata": {},
   "source": [
    "### Minority class oversampling"
   ]
  },
  {
   "cell_type": "code",
   "execution_count": 7,
   "metadata": {},
   "outputs": [
    {
     "data": {
      "text/html": [
       "<div>\n",
       "<style scoped>\n",
       "    .dataframe tbody tr th:only-of-type {\n",
       "        vertical-align: middle;\n",
       "    }\n",
       "\n",
       "    .dataframe tbody tr th {\n",
       "        vertical-align: top;\n",
       "    }\n",
       "\n",
       "    .dataframe thead th {\n",
       "        text-align: right;\n",
       "    }\n",
       "</style>\n",
       "<table border=\"1\" class=\"dataframe\">\n",
       "  <thead>\n",
       "    <tr style=\"text-align: right;\">\n",
       "      <th></th>\n",
       "      <th>MBL</th>\n",
       "    </tr>\n",
       "    <tr>\n",
       "      <th>GSV_Driveway</th>\n",
       "      <th></th>\n",
       "    </tr>\n",
       "  </thead>\n",
       "  <tbody>\n",
       "    <tr>\n",
       "      <th>0</th>\n",
       "      <td>192</td>\n",
       "    </tr>\n",
       "    <tr>\n",
       "      <th>1</th>\n",
       "      <td>328</td>\n",
       "    </tr>\n",
       "  </tbody>\n",
       "</table>\n",
       "</div>"
      ],
      "text/plain": [
       "              MBL\n",
       "GSV_Driveway     \n",
       "0             192\n",
       "1             328"
      ]
     },
     "metadata": {},
     "output_type": "display_data"
    },
    {
     "data": {
      "text/html": [
       "<div>\n",
       "<style scoped>\n",
       "    .dataframe tbody tr th:only-of-type {\n",
       "        vertical-align: middle;\n",
       "    }\n",
       "\n",
       "    .dataframe tbody tr th {\n",
       "        vertical-align: top;\n",
       "    }\n",
       "\n",
       "    .dataframe thead th {\n",
       "        text-align: right;\n",
       "    }\n",
       "</style>\n",
       "<table border=\"1\" class=\"dataframe\">\n",
       "  <thead>\n",
       "    <tr style=\"text-align: right;\">\n",
       "      <th></th>\n",
       "      <th>MBL</th>\n",
       "    </tr>\n",
       "    <tr>\n",
       "      <th>GSV_Driveway</th>\n",
       "      <th></th>\n",
       "    </tr>\n",
       "  </thead>\n",
       "  <tbody>\n",
       "    <tr>\n",
       "      <th>0</th>\n",
       "      <td>43</td>\n",
       "    </tr>\n",
       "    <tr>\n",
       "      <th>1</th>\n",
       "      <td>87</td>\n",
       "    </tr>\n",
       "  </tbody>\n",
       "</table>\n",
       "</div>"
      ],
      "text/plain": [
       "              MBL\n",
       "GSV_Driveway     \n",
       "0              43\n",
       "1              87"
      ]
     },
     "metadata": {},
     "output_type": "display_data"
    }
   ],
   "source": [
    "display(train_data.groupby(y_column).aggregate({'MBL':len}))\n",
    "display(test_data.groupby(y_column).aggregate({'MBL':len}))"
   ]
  },
  {
   "cell_type": "code",
   "execution_count": 8,
   "metadata": {
    "collapsed": true
   },
   "outputs": [],
   "source": [
    "# artificially oversample the minority class - TRAINING\n",
    "zero_class = train_data[train_data[y_column] == '0']\n",
    "one_class = train_data[train_data[y_column] == '1']\n",
    "\n",
    "train_data = one_class.append(zero_class)\n",
    "for i in range(one_class.shape[0]//zero_class.shape[0]-1):\n",
    "    train_data = train_data.append(zero_class)"
   ]
  },
  {
   "cell_type": "code",
   "execution_count": 9,
   "metadata": {
    "collapsed": true
   },
   "outputs": [],
   "source": [
    "# artificially oversample the minority class - TEST\n",
    "zero_class = test_data[test_data[y_column] == '0']\n",
    "one_class = test_data[test_data[y_column] == '1']\n",
    "\n",
    "test_data = one_class.append(zero_class)\n",
    "for i in range(one_class.shape[0]//zero_class.shape[0]-1):\n",
    "    test_data = test_data.append(zero_class)"
   ]
  },
  {
   "cell_type": "code",
   "execution_count": 10,
   "metadata": {},
   "outputs": [],
   "source": [
    "# display(train_data.groupby(y_column).aggregate({'MBL':len}))\n",
    "# display(test_data.groupby(y_column).aggregate({'MBL':len}))"
   ]
  },
  {
   "cell_type": "markdown",
   "metadata": {},
   "source": [
    "### Modelling"
   ]
  },
  {
   "cell_type": "code",
   "execution_count": 8,
   "metadata": {
    "collapsed": true
   },
   "outputs": [],
   "source": [
    "# set input params\n",
    "sv_image_dim = (128, 128, 3)\n",
    "lr = 1e-4\n",
    "batch_size = 256\n",
    "val_batch_size = 256"
   ]
  },
  {
   "cell_type": "code",
   "execution_count": 9,
   "metadata": {
    "collapsed": true
   },
   "outputs": [],
   "source": [
    "# define optimizer - adam \n",
    "optimizer = keras.optimizers.Adam(lr=lr)\n",
    "\n",
    "# define learning rate decay method - two options\n",
    "# lr_decay = tensorflow.keras.callbacks.LearningRateScheduler(schedule=lambda epoch: lr * (0.9 ** epoch)) \n",
    "lr_decay = keras.callbacks.ReduceLROnPlateau(monitor='val_loss', \n",
    "                                                        factor=0.1, \n",
    "                                                        patience=2, \n",
    "                                                        verbose=True, \n",
    "                                                        mode='auto',\n",
    "                                                        min_delta=0.0001, \n",
    "                                                        cooldown=1, \n",
    "                                                        min_lr=1e-9)\n",
    "\n",
    "early_stopping = keras.callbacks.EarlyStopping(monitor='val_loss', \n",
    "                                               min_delta=0.001,\n",
    "                                               patience=5, \n",
    "                                               verbose=True,\n",
    "                                               mode='auto', \n",
    "                                               baseline=None, \n",
    "                                               restore_best_weights=True)\n",
    "\n",
    "# define loss - cat xentropy\n",
    "loss = keras.losses.BinaryCrossentropy(label_smoothing=0.1) #smoothed labels"
   ]
  },
  {
   "cell_type": "code",
   "execution_count": 10,
   "metadata": {},
   "outputs": [
    {
     "name": "stderr",
     "output_type": "stream",
     "text": [
      "/home/ubuntu/anaconda3/envs/tensorflow_p36/lib/python3.6/site-packages/keras_applications/resnet50.py:265: UserWarning: The output shape of `ResNet50(include_top=False)` has been changed since Keras 2.2.0.\n",
      "  warnings.warn('The output shape of `ResNet50(include_top=False)` '\n"
     ]
    },
    {
     "name": "stdout",
     "output_type": "stream",
     "text": [
      "number of layers in pretrained model:  175\n"
     ]
    }
   ],
   "source": [
    "# define pretrained model \n",
    "pretrained_model = keras.applications.resnet50.ResNet50(include_top=False, input_shape=sv_image_dim)\n",
    "print('number of layers in pretrained model: ', len(pretrained_model.layers))\n",
    "\n",
    "# I tried unfreezing none to some - more fine tuning required here but not sure it makes much of a diff atm\n",
    "for layer in pretrained_model.layers[:-80]:\n",
    "    layer.trainable = False"
   ]
  },
  {
   "cell_type": "code",
   "execution_count": 11,
   "metadata": {},
   "outputs": [
    {
     "name": "stdout",
     "output_type": "stream",
     "text": [
      "WARNING:tensorflow:From /home/ubuntu/anaconda3/envs/tensorflow_p36/lib/python3.6/site-packages/tensorflow/python/ops/init_ops.py:1251: calling VarianceScaling.__init__ (from tensorflow.python.ops.init_ops) with dtype is deprecated and will be removed in a future version.\n",
      "Instructions for updating:\n",
      "Call initializer instance with the dtype argument instead of passing it to the constructor\n",
      "WARNING:tensorflow:From /home/ubuntu/anaconda3/envs/tensorflow_p36/lib/python3.6/site-packages/tensorflow/python/ops/nn_impl.py:180: add_dispatch_support.<locals>.wrapper (from tensorflow.python.ops.array_ops) is deprecated and will be removed in a future version.\n",
      "Instructions for updating:\n",
      "Use tf.where in 2.0, which has the same broadcast rule as np.where\n",
      "Model: \"model\"\n",
      "_________________________________________________________________\n",
      "Layer (type)                 Output Shape              Param #   \n",
      "=================================================================\n",
      "streetview_image_input (Inpu [(None, 128, 128, 3)]     0         \n",
      "_________________________________________________________________\n",
      "resnet50 (Model)             (None, 4, 4, 2048)        23587712  \n",
      "_________________________________________________________________\n",
      "flatten (Flatten)            (None, 32768)             0         \n",
      "_________________________________________________________________\n",
      "dense (Dense)                (None, 100)               3276900   \n",
      "_________________________________________________________________\n",
      "batch_normalization (BatchNo (None, 100)               400       \n",
      "_________________________________________________________________\n",
      "leaky_re_lu (LeakyReLU)      (None, 100)               0         \n",
      "_________________________________________________________________\n",
      "dropout (Dropout)            (None, 100)               0         \n",
      "_________________________________________________________________\n",
      "dense_1 (Dense)              (None, 50)                5050      \n",
      "_________________________________________________________________\n",
      "batch_normalization_1 (Batch (None, 50)                200       \n",
      "_________________________________________________________________\n",
      "leaky_re_lu_1 (LeakyReLU)    (None, 50)                0         \n",
      "_________________________________________________________________\n",
      "dropout_1 (Dropout)          (None, 50)                0         \n",
      "_________________________________________________________________\n",
      "dense_2 (Dense)              (None, 2)                 102       \n",
      "=================================================================\n",
      "Total params: 26,870,364\n",
      "Trainable params: 23,589,040\n",
      "Non-trainable params: 3,281,324\n",
      "_________________________________________________________________\n"
     ]
    }
   ],
   "source": [
    "# build model using function from models.py\n",
    "model = street_view_cnn(pretrained_model, \n",
    "                        image_dim = sv_image_dim, \n",
    "                        optimizer = optimizer,\n",
    "                        loss = loss,\n",
    "                        n_classes=2,\n",
    "                        activation = 'sigmoid',\n",
    "                        metrics=['accuracy'], \n",
    "                       )\n",
    "\n",
    "model.summary()"
   ]
  },
  {
   "cell_type": "markdown",
   "metadata": {},
   "source": [
    "### Generator"
   ]
  },
  {
   "cell_type": "code",
   "execution_count": 12,
   "metadata": {
    "collapsed": true
   },
   "outputs": [],
   "source": [
    "# inputs to generator\n",
    "image_dir = '../data/training/sv_images/'\n",
    "x_column = 'gsv_filename'\n",
    "color_mode = 'rgb'"
   ]
  },
  {
   "cell_type": "code",
   "execution_count": 13,
   "metadata": {},
   "outputs": [
    {
     "name": "stdout",
     "output_type": "stream",
     "text": [
      "Found 880 validated image filenames belonging to 2 classes.\n",
      "Found 212 validated image filenames belonging to 2 classes.\n"
     ]
    },
    {
     "name": "stderr",
     "output_type": "stream",
     "text": [
      "/home/ubuntu/anaconda3/envs/tensorflow_p36/lib/python3.6/site-packages/keras_preprocessing/image/dataframe_iterator.py:273: UserWarning: Found 3523 invalid image filename(s) in x_col=\"gsv_filename\". These filename(s) will be ignored.\n",
      "  .format(n_invalid, x_col)\n",
      "/home/ubuntu/anaconda3/envs/tensorflow_p36/lib/python3.6/site-packages/keras_preprocessing/image/dataframe_iterator.py:273: UserWarning: Found 889 invalid image filename(s) in x_col=\"gsv_filename\". These filename(s) will be ignored.\n",
      "  .format(n_invalid, x_col)\n"
     ]
    }
   ],
   "source": [
    "gen_obj = ImageDataGenerator(rescale=1.0/255.0, \n",
    "                             zoom_range = 0.2 #adding zoom range as some images are super zoomed in/out\n",
    "                            ) \n",
    "\n",
    "## train\n",
    "train_generator = gen_obj.flow_from_dataframe(train_data, \n",
    "                                            directory = image_dir, \n",
    "                                            x_col= x_column, \n",
    "                                            y_col= y_column, \n",
    "                                            target_size=(sv_image_dim[0], sv_image_dim[1]), \n",
    "                                            color_mode=color_mode, \n",
    "                                            class_mode='categorical',\n",
    "                                            batch_size=batch_size, \n",
    "                                            shuffle=True,\n",
    "                                            seed=10)\n",
    "\n",
    "## test (i.e. validation)\n",
    "test_gen_obj = ImageDataGenerator(rescale=1.0/255.0)\n",
    "test_generator = test_gen_obj.flow_from_dataframe(test_data, \n",
    "                                            directory = image_dir, \n",
    "                                            x_col= x_column, \n",
    "                                            y_col= y_column, \n",
    "                                            target_size=(sv_image_dim[0], sv_image_dim[1]), \n",
    "                                            color_mode=color_mode, \n",
    "                                            class_mode='categorical',\n",
    "                                            batch_size=val_batch_size, \n",
    "                                            shuffle=True,\n",
    "                                            seed=10)"
   ]
  },
  {
   "cell_type": "code",
   "execution_count": 15,
   "metadata": {},
   "outputs": [
    {
     "data": {
      "image/png": "[encoded data removed]",
      "text/plain": [
       "<Figure size 432x288 with 1 Axes>"
      ]
     },
     "metadata": {},
     "output_type": "display_data"
    }
   ],
   "source": [
    "# check thaat the generator works\n",
    "store = next(train_generator)\n",
    "plt.imshow(store[0][2]);"
   ]
  },
  {
   "cell_type": "code",
   "execution_count": 17,
   "metadata": {},
   "outputs": [
    {
     "name": "stdout",
     "output_type": "stream",
     "text": [
      "Epoch 1/30\n",
      "17/17 [==============================] - 44s 3s/step - loss: 2.6306 - acc: 0.9359 - val_loss: 2.6895 - val_acc: 0.9198\n",
      "Epoch 2/30\n",
      "17/17 [==============================] - 36s 2s/step - loss: 2.4396 - acc: 0.9708 - val_loss: 2.5027 - val_acc: 0.9198\n",
      "Epoch 3/30\n",
      "17/17 [==============================] - 38s 2s/step - loss: 2.2759 - acc: 0.9846 - val_loss: 2.3406 - val_acc: 0.9198\n",
      "Epoch 4/30\n",
      "17/17 [==============================] - 40s 2s/step - loss: 2.1176 - acc: 0.9898 - val_loss: 2.1796 - val_acc: 0.9198\n",
      "Epoch 5/30\n",
      "17/17 [==============================] - 37s 2s/step - loss: 1.9762 - acc: 0.9909 - val_loss: 2.0535 - val_acc: 0.9198\n",
      "Epoch 6/30\n",
      "17/17 [==============================] - 36s 2s/step - loss: 1.8391 - acc: 0.9955 - val_loss: 1.9311 - val_acc: 0.9198\n",
      "Epoch 7/30\n",
      "17/17 [==============================] - 39s 2s/step - loss: 1.7194 - acc: 0.9944 - val_loss: 1.8151 - val_acc: 0.9198\n",
      "Epoch 8/30\n",
      "17/17 [==============================] - 41s 2s/step - loss: 1.6084 - acc: 0.9940 - val_loss: 1.6990 - val_acc: 0.9198\n",
      "Epoch 9/30\n",
      "17/17 [==============================] - 38s 2s/step - loss: 1.5007 - acc: 0.9962 - val_loss: 1.5933 - val_acc: 0.9198\n",
      "Epoch 10/30\n",
      "17/17 [==============================] - 36s 2s/step - loss: 1.4110 - acc: 0.9961 - val_loss: 1.5058 - val_acc: 0.9198\n",
      "Epoch 11/30\n",
      "17/17 [==============================] - 38s 2s/step - loss: 1.3241 - acc: 0.9960 - val_loss: 1.4297 - val_acc: 0.9198\n",
      "Epoch 12/30\n",
      "17/17 [==============================] - 40s 2s/step - loss: 1.2456 - acc: 0.9971 - val_loss: 1.3518 - val_acc: 0.9198\n",
      "Epoch 13/30\n",
      "17/17 [==============================] - 37s 2s/step - loss: 1.1773 - acc: 0.9970 - val_loss: 1.2812 - val_acc: 0.9198\n",
      "Epoch 14/30\n",
      "17/17 [==============================] - 36s 2s/step - loss: 1.1124 - acc: 0.9977 - val_loss: 1.2192 - val_acc: 0.9198\n",
      "Epoch 15/30\n",
      "17/17 [==============================] - 38s 2s/step - loss: 1.0535 - acc: 0.9967 - val_loss: 1.1628 - val_acc: 0.9198\n",
      "Epoch 16/30\n",
      "17/17 [==============================] - 40s 2s/step - loss: 1.0073 - acc: 0.9964 - val_loss: 1.1158 - val_acc: 0.9198\n",
      "Epoch 17/30\n",
      "17/17 [==============================] - 37s 2s/step - loss: 0.9555 - acc: 0.9977 - val_loss: 1.0998 - val_acc: 0.9198\n",
      "Epoch 18/30\n",
      "17/17 [==============================] - 36s 2s/step - loss: 0.9164 - acc: 0.9953 - val_loss: 1.0366 - val_acc: 0.9198\n",
      "Epoch 19/30\n",
      "17/17 [==============================] - 38s 2s/step - loss: 0.8748 - acc: 0.9970 - val_loss: 0.9902 - val_acc: 0.9198\n",
      "Epoch 20/30\n",
      "17/17 [==============================] - 40s 2s/step - loss: 0.8388 - acc: 0.9975 - val_loss: 0.9525 - val_acc: 0.9198\n",
      "Epoch 21/30\n",
      "17/17 [==============================] - 37s 2s/step - loss: 0.8077 - acc: 0.9968 - val_loss: 0.9191 - val_acc: 0.9198\n",
      "Epoch 22/30\n",
      "17/17 [==============================] - 37s 2s/step - loss: 0.7770 - acc: 0.9972 - val_loss: 0.8896 - val_acc: 0.9198\n",
      "Epoch 23/30\n",
      "17/17 [==============================] - 38s 2s/step - loss: 0.7523 - acc: 0.9971 - val_loss: 0.8663 - val_acc: 0.9198\n",
      "Epoch 24/30\n",
      "17/17 [==============================] - 40s 2s/step - loss: 0.7267 - acc: 0.9968 - val_loss: 0.8441 - val_acc: 0.9198\n",
      "Epoch 25/30\n",
      "17/17 [==============================] - 37s 2s/step - loss: 0.7034 - acc: 0.9962 - val_loss: 0.8221 - val_acc: 0.9198\n",
      "Epoch 26/30\n",
      "17/17 [==============================] - 36s 2s/step - loss: 0.6807 - acc: 0.9975 - val_loss: 0.8055 - val_acc: 0.9198\n",
      "Epoch 27/30\n",
      "17/17 [==============================] - 39s 2s/step - loss: 0.6626 - acc: 0.9971 - val_loss: 0.7855 - val_acc: 0.9198\n",
      "Epoch 28/30\n",
      "17/17 [==============================] - 40s 2s/step - loss: 0.6455 - acc: 0.9970 - val_loss: 0.7683 - val_acc: 0.9198\n",
      "Epoch 29/30\n",
      "17/17 [==============================] - 37s 2s/step - loss: 0.6282 - acc: 0.9972 - val_loss: 0.7527 - val_acc: 0.9198\n",
      "Epoch 30/30\n",
      "17/17 [==============================] - 37s 2s/step - loss: 0.6118 - acc: 0.9977 - val_loss: 0.7391 - val_acc: 0.9198\n"
     ]
    }
   ],
   "source": [
    "# training parameters\n",
    "epochs = 30\n",
    "val_steps = test_data.shape[0]//val_batch_size\n",
    "\n",
    "# train model\n",
    "history = model.fit_generator(generator=train_generator, \n",
    "                              validation_data=test_generator, \n",
    "                              validation_steps=val_steps,\n",
    "                              epochs=epochs,\n",
    "                              steps_per_epoch=np.ceil(train_data.shape[0]//batch_size),\n",
    "                              verbose=1,\n",
    "                              callbacks=[lr_decay]\n",
    "#                               callbacks=[lr_decay, early_stopping]\n",
    "                             )"
   ]
  },
  {
   "cell_type": "code",
   "execution_count": 20,
   "metadata": {},
   "outputs": [
    {
     "name": "stdout",
     "output_type": "stream",
     "text": [
      "Epoch 1/30\n",
      "17/17 [==============================] - 43s 3s/step - loss: 0.5992 - acc: 0.9972 - val_loss: 0.7269 - val_acc: 0.9198\n",
      "Epoch 2/30\n",
      "17/17 [==============================] - 37s 2s/step - loss: 0.5844 - acc: 0.9976 - val_loss: 0.7165 - val_acc: 0.9198\n",
      "Epoch 3/30\n",
      "17/17 [==============================] - 38s 2s/step - loss: 0.5707 - acc: 0.9971 - val_loss: 0.7041 - val_acc: 0.9198\n",
      "Epoch 4/30\n",
      "17/17 [==============================] - 40s 2s/step - loss: 0.5578 - acc: 0.9977 - val_loss: 0.6905 - val_acc: 0.9198\n",
      "Epoch 5/30\n",
      "17/17 [==============================] - 37s 2s/step - loss: 0.5462 - acc: 0.9983 - val_loss: 0.6815 - val_acc: 0.9198\n",
      "Epoch 6/30\n",
      "17/17 [==============================] - 36s 2s/step - loss: 0.5358 - acc: 0.9974 - val_loss: 0.6794 - val_acc: 0.9198\n",
      "Epoch 7/30\n",
      "17/17 [==============================] - 38s 2s/step - loss: 0.5256 - acc: 0.9968 - val_loss: 0.6680 - val_acc: 0.9198\n",
      "Epoch 8/30\n",
      "17/17 [==============================] - 41s 2s/step - loss: 0.5173 - acc: 0.9972 - val_loss: 0.6645 - val_acc: 0.9198\n",
      "Epoch 9/30\n",
      "17/17 [==============================] - 38s 2s/step - loss: 0.5058 - acc: 0.9976 - val_loss: 0.6550 - val_acc: 0.9198\n",
      "Epoch 10/30\n",
      "17/17 [==============================] - 37s 2s/step - loss: 0.4979 - acc: 0.9979 - val_loss: 0.6397 - val_acc: 0.9198\n",
      "Epoch 11/30\n",
      "17/17 [==============================] - 38s 2s/step - loss: 0.4883 - acc: 0.9977 - val_loss: 0.6335 - val_acc: 0.9198\n",
      "Epoch 12/30\n",
      "17/17 [==============================] - 40s 2s/step - loss: 0.4808 - acc: 0.9971 - val_loss: 0.6321 - val_acc: 0.9198\n",
      "Epoch 13/30\n",
      "17/17 [==============================] - 38s 2s/step - loss: 0.4724 - acc: 0.9970 - val_loss: 0.6267 - val_acc: 0.9198\n",
      "Epoch 14/30\n",
      "17/17 [==============================] - 37s 2s/step - loss: 0.4629 - acc: 0.9968 - val_loss: 0.6111 - val_acc: 0.9198\n",
      "Epoch 15/30\n",
      "17/17 [==============================] - 38s 2s/step - loss: 0.4560 - acc: 0.9977 - val_loss: 0.6033 - val_acc: 0.9198\n",
      "Epoch 16/30\n",
      "17/17 [==============================] - 41s 2s/step - loss: 0.4483 - acc: 0.9975 - val_loss: 0.5955 - val_acc: 0.9198\n",
      "Epoch 17/30\n",
      "17/17 [==============================] - 37s 2s/step - loss: 0.4416 - acc: 0.9970 - val_loss: 0.5900 - val_acc: 0.9198\n",
      "Epoch 18/30\n",
      "17/17 [==============================] - 37s 2s/step - loss: 0.4364 - acc: 0.9963 - val_loss: 0.5858 - val_acc: 0.9198\n",
      "Epoch 19/30\n",
      "17/17 [==============================] - 40s 2s/step - loss: 0.4293 - acc: 0.9971 - val_loss: 0.5785 - val_acc: 0.9198\n",
      "Epoch 20/30\n",
      "17/17 [==============================] - 41s 2s/step - loss: 0.4224 - acc: 0.9977 - val_loss: 0.5720 - val_acc: 0.9198\n",
      "Epoch 21/30\n",
      "17/17 [==============================] - 37s 2s/step - loss: 0.4155 - acc: 0.9971 - val_loss: 0.5651 - val_acc: 0.9198\n",
      "Epoch 22/30\n",
      "17/17 [==============================] - 38s 2s/step - loss: 0.4093 - acc: 0.9974 - val_loss: 0.5578 - val_acc: 0.9198\n",
      "Epoch 23/30\n",
      "17/17 [==============================] - 40s 2s/step - loss: 0.4047 - acc: 0.9972 - val_loss: 0.5527 - val_acc: 0.9198\n",
      "Epoch 24/30\n",
      "17/17 [==============================] - 40s 2s/step - loss: 0.3999 - acc: 0.9971 - val_loss: 0.5467 - val_acc: 0.9198\n",
      "Epoch 25/30\n",
      "17/17 [==============================] - 38s 2s/step - loss: 0.3927 - acc: 0.9971 - val_loss: 0.5426 - val_acc: 0.9198\n",
      "Epoch 26/30\n",
      "17/17 [==============================] - 37s 2s/step - loss: 0.3896 - acc: 0.9968 - val_loss: 0.5386 - val_acc: 0.9198\n",
      "Epoch 27/30\n",
      "17/17 [==============================] - 38s 2s/step - loss: 0.3838 - acc: 0.9970 - val_loss: 0.5341 - val_acc: 0.9198\n",
      "Epoch 28/30\n",
      "17/17 [==============================] - 40s 2s/step - loss: 0.3788 - acc: 0.9976 - val_loss: 0.5303 - val_acc: 0.9198\n",
      "Epoch 29/30\n",
      "17/17 [==============================] - 38s 2s/step - loss: 0.3726 - acc: 0.9968 - val_loss: 0.5241 - val_acc: 0.9198\n",
      "Epoch 30/30\n",
      "17/17 [==============================] - 37s 2s/step - loss: 0.3669 - acc: 0.9977 - val_loss: 0.5180 - val_acc: 0.9198\n"
     ]
    }
   ],
   "source": [
    "# # train model\n",
    "history1 = model.fit_generator(generator=train_generator, \n",
    "                              validation_data=test_generator, \n",
    "                              validation_steps=val_steps,\n",
    "                              epochs=epochs,\n",
    "                              steps_per_epoch=np.ceil(train_data.shape[0]//batch_size),\n",
    "                              verbose=1,\n",
    "                              callbacks=[lr_decay, early_stopping])"
   ]
  },
  {
   "cell_type": "code",
   "execution_count": 21,
   "metadata": {
    "collapsed": true
   },
   "outputs": [],
   "source": [
    "hist = {}\n",
    "for key in history.history.keys():\n",
    "    hist[key] = history.history[key] + history1.history[key] #+ history2.history[key]  + history3.history[key] "
   ]
  },
  {
   "cell_type": "code",
   "execution_count": 22,
   "metadata": {
    "scrolled": false
   },
   "outputs": [
    {
     "data": {
      "image/png": "[encoded data removed]",
      "text/plain": [
       "<Figure size 1440x432 with 2 Axes>"
      ]
     },
     "metadata": {},
     "output_type": "display_data"
    }
   ],
   "source": [
    "plt.figure(figsize = (20,6))\n",
    "plt.subplot(1,2,1)\n",
    "plt.plot(hist['acc'], label = 'acc')\n",
    "plt.plot(hist['val_acc'], label = 'val acc')\n",
    "plt.title('Accuracy by epoch', fontsize = 20)\n",
    "plt.xticks(np.arange(0,len(hist['acc'])), rotation = 90);plt.xlabel('epoch')\n",
    "plt.legend();\n",
    "\n",
    "plt.subplot(1,2,2)\n",
    "plt.plot(hist['loss'], label = 'Training Loss')\n",
    "plt.plot(hist['val_loss'], label = 'Val Loss')\n",
    "plt.title('Loss by epoch', fontsize = 20)\n",
    "plt.xticks(np.arange(0,len(hist['acc'])), rotation = 90); plt.xlabel('epoch')\n",
    "plt.legend();"
   ]
  },
  {
   "cell_type": "markdown",
   "metadata": {},
   "source": [
    "### Make predictions"
   ]
  },
  {
   "cell_type": "code",
   "execution_count": 21,
   "metadata": {},
   "outputs": [
    {
     "name": "stdout",
     "output_type": "stream",
     "text": [
      "Found 705 validated image filenames belonging to 3 classes.\n"
     ]
    },
    {
     "data": {
      "text/plain": [
       "0.4326241134751773"
      ]
     },
     "execution_count": 21,
     "metadata": {},
     "output_type": "execute_result"
    }
   ],
   "source": [
    "## TRAIN ACCURACY\n",
    "gen_obj = ImageDataGenerator(rescale=1.0/255.0)\n",
    "train_generator = gen_obj.flow_from_dataframe(train_data, \n",
    "                                            directory = image_dir,  \n",
    "                                            x_col= x_column, \n",
    "                                            y_col= y_column, \n",
    "                                            target_size=(sv_image_dim[0], sv_image_dim[1]), \n",
    "                                            color_mode=color_mode, \n",
    "                                            class_mode='categorical',\n",
    "                                            batch_size=train_data.shape[0], \n",
    "                                            shuffle=False, \n",
    "                                            seed=10)\n",
    "\n",
    "train_preds = model.predict_generator(train_generator, steps = 1)\n",
    "train_data['predicted_label'] = np.argmax(train_preds, axis = 1)\n",
    "sum(train_data[y_column].astype('int') == train_data.predicted_label.astype('int'))/len(train_data)"
   ]
  },
  {
   "cell_type": "code",
   "execution_count": 22,
   "metadata": {},
   "outputs": [
    {
     "name": "stdout",
     "output_type": "stream",
     "text": [
      "Found 401 validated image filenames belonging to 3 classes.\n"
     ]
    },
    {
     "data": {
      "text/plain": [
       "0.47381546134663344"
      ]
     },
     "execution_count": 22,
     "metadata": {},
     "output_type": "execute_result"
    }
   ],
   "source": [
    "## TEST ACCURACY\n",
    "test_gen_obj = ImageDataGenerator(rescale=1.0/255.0)\n",
    "test_generator = test_gen_obj.flow_from_dataframe(test_data, \n",
    "                                            directory = image_dir, \n",
    "                                            x_col= x_column, \n",
    "                                            y_col= y_column, \n",
    "                                            target_size=(sv_image_dim[0], sv_image_dim[1]), \n",
    "                                            color_mode=color_mode, \n",
    "                                            class_mode='categorical',\n",
    "                                            batch_size=test_data.shape[0], \n",
    "                                            shuffle=False,\n",
    "                                            seed=10)\n",
    "\n",
    "test_preds = model.predict_generator(test_generator, steps = 1)\n",
    "test_data['predicted_label'] = np.argmax(test_preds, axis = 1)\n",
    "sum(test_data.three_class_label.astype('int') == test_data.predicted_label.astype('int'))/len(test_data)"
   ]
  },
  {
   "cell_type": "markdown",
   "metadata": {},
   "source": [
    "### Visualization of results - 3 class model\n",
    "\n",
    "Unfortunately, due to saving issues, we did not have the 2 class model. Instead, we visualize what happened while training the three class model. The model is having a hard time differentiating bw the three classes."
   ]
  },
  {
   "cell_type": "code",
   "execution_count": 23,
   "metadata": {},
   "outputs": [
    {
     "data": {
      "image/png": "[encoded data removed]",
      "text/plain": [
       "<Figure size 1440x432 with 3 Axes>"
      ]
     },
     "metadata": {},
     "output_type": "display_data"
    }
   ],
   "source": [
    "# binary prediction\n",
    "if len(train_preds.shape) == 1:\n",
    "    fig, ax = plt.subplots(1, 1, figsize=(20,10))\n",
    "\n",
    "    ax.hist(train_preds, color='darkblue', alpha=0.5, label='train scores')\n",
    "    ax.hist(test_preds, color='darkred', alpha=0.5, label='test scores')\n",
    "    ax.legend()\n",
    "    ax.set_xlabel('Score')\n",
    "    ax.set_title('Distribution of model scores');\n",
    "    \n",
    "elif len(train_preds.shape) > 1:\n",
    "    label_map = {0: 'Predicted no driveway', 1: 'Predicted yes driveway', 2: 'Predicted unsure'}\n",
    "    fig, ax = plt.subplots(1, train_preds.shape[1], sharex=True, figsize=(20,6))\n",
    "    \n",
    "    for i in range(train_preds.shape[1]):\n",
    "        ax[i].hist(train_preds[:,i], color='darkblue', alpha=0.5, label='train scores')\n",
    "        ax[i].hist(test_preds[:,i], color='darkred', alpha=0.5, label='test scores')\n",
    "        ax[i].legend()\n",
    "        ax[i].set_xlabel('Score')\n",
    "        ax[i].set_title(label_map[i])\n",
    "    fig.suptitle('Distribution of model scores');"
   ]
  },
  {
   "cell_type": "code",
   "execution_count": 29,
   "metadata": {
    "collapsed": true
   },
   "outputs": [],
   "source": [
    "# (train_data['three_class_label'] == train_data['predicted_label'])"
   ]
  },
  {
   "cell_type": "code",
   "execution_count": 24,
   "metadata": {},
   "outputs": [
    {
     "data": {
      "image/png": "[encoded data removed]",
      "text/plain": [
       "<Figure size 1440x432 with 3 Axes>"
      ]
     },
     "metadata": {},
     "output_type": "display_data"
    }
   ],
   "source": [
    "fig, ax = plt.subplots(1, 3, sharex=True, figsize=(20,6))\n",
    "for i in range(train_preds.shape[1]):\n",
    "    for lab in ['0','1','2']:\n",
    "        ax[i].hist(train_preds[train_data[y_column]==lab,i], alpha=0.3, density=True, label=lab)\n",
    "    ax[i].legend(title='True label');\n",
    "    ax[i].set_title('Predicted label ' + str(i))"
   ]
  },
  {
   "cell_type": "markdown",
   "metadata": {},
   "source": [
    "### Save Models"
   ]
  },
  {
   "cell_type": "code",
   "execution_count": 25,
   "metadata": {
    "collapsed": true
   },
   "outputs": [],
   "source": [
    "model.save('../models/sv_transfer_model_learningratescheduler_es.h5')"
   ]
  },
  {
   "cell_type": "code",
   "execution_count": 26,
   "metadata": {
    "collapsed": true
   },
   "outputs": [],
   "source": [
    "model.save_weights('../models/sv_transfer_model_weights_learningratescheduler_es.h5')"
   ]
  },
  {
   "cell_type": "code",
   "execution_count": null,
   "metadata": {
    "collapsed": true
   },
   "outputs": [],
   "source": [
    "chk = load_model('../models/sv_transfer_model_learningratescheduler.h5')"
   ]
  }
 ],
 "metadata": {
  "kernelspec": {
   "display_name": "Python 3",
   "language": "python",
   "name": "python3"
  },
  "language_info": {
   "codemirror_mode": {
    "name": "ipython",
    "version": 3
   },
   "file_extension": ".py",
   "mimetype": "text/x-python",
   "name": "python",
   "nbconvert_exporter": "python",
   "pygments_lexer": "ipython3",
   "version": "3.6.1"
  }
 },
 "nbformat": 4,
 "nbformat_minor": 2
}
