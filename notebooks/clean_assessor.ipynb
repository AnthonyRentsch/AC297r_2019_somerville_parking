{
 "cells": [
  {
   "cell_type": "code",
   "execution_count": null,
   "metadata": {},
   "outputs": [],
   "source": [
    "import pandas as pd\n",
    "pd.set_option('display.max_rows', 500)\n",
    "pd.set_option('display.max_columns', 500)"
   ]
  },
  {
   "cell_type": "code",
   "execution_count": null,
   "metadata": {},
   "outputs": [],
   "source": [
    "assessor = pd.read_csv('../data/Assessor_s_Property_Database_FY14-FY18.csv')"
   ]
  },
  {
   "cell_type": "markdown",
   "metadata": {},
   "source": [
    "# Create Garage Labels"
   ]
  },
  {
   "cell_type": "code",
   "execution_count": null,
   "metadata": {},
   "outputs": [],
   "source": [
    "assessor['MBL'] = assessor.MAP.astype(str) +\"-\"+ assessor.BLOCK.astype(str) +\"-\"+  assessor.LOT.astype(str) "
   ]
  },
  {
   "cell_type": "code",
   "execution_count": null,
   "metadata": {},
   "outputs": [],
   "source": [
    "garage_df = (\n",
    "    assessor\n",
    "    .groupby('MBL')['HAS GARAGE']\n",
    "    .apply(list)\n",
    "    .apply(lambda l: 1 if 'Y' in l else 0)\n",
    "    .reset_index()\n",
    "    .rename({'HAS GARAGE':'HAS_GARAGE'}, axis =1)\n",
    ")\n",
    "\n",
    "garage_df = garage_df[garage_df.HAS_GARAGE == 1]"
   ]
  },
  {
   "cell_type": "code",
   "execution_count": null,
   "metadata": {},
   "outputs": [],
   "source": [
    "garage_df.to_csv('../data/garage.csv')"
   ]
  },
  {
   "cell_type": "markdown",
   "metadata": {},
   "source": [
    "# Clean Assessor "
   ]
  },
  {
   "cell_type": "code",
   "execution_count": null,
   "metadata": {},
   "outputs": [],
   "source": [
    "assessor = assessor[assessor.FISCAL_YEAR == 2018]"
   ]
  },
  {
   "cell_type": "code",
   "execution_count": null,
   "metadata": {},
   "outputs": [],
   "source": [
    "unit_addr = assessor['STREET'].apply(lambda x: x.strip().lower())\n",
    "owner_addr = assessor['OWNER ADD'].apply(lambda x: ' '.join(str(x).split(' ')[1:]).strip().lower())\n",
    "assessor['OWNER_IS_TENANT'] = unit_addr == owner_addr"
   ]
  },
  {
   "cell_type": "code",
   "execution_count": null,
   "metadata": {},
   "outputs": [],
   "source": [
    "feature_clms = [\n",
    "    'EXEMPT AMT', \n",
    "    'TAX VALUE', \n",
    "    'ROOF STRUCTURE DESCRIP',\n",
    "    'ROOF COVER DESCRIP', \n",
    "    'INT WALL 1 DESCRIP',\n",
    "    'HEAT TYPE',\n",
    "    'FUEL TYPE',\n",
    "    'AC TYPE',\n",
    "    'GRADE DESCRIP',\n",
    "    'IMPROVE VAL',\n",
    "    'MBL'\n",
    "]\n",
    "feature_clms_clean = [clm.replace(' ', '_') for clm in  feature_clms]"
   ]
  },
  {
   "cell_type": "code",
   "execution_count": null,
   "metadata": {},
   "outputs": [],
   "source": [
    "replacement_clms = dict(zip(feature_clms, feature_clms_clean))"
   ]
  },
  {
   "cell_type": "code",
   "execution_count": null,
   "metadata": {},
   "outputs": [],
   "source": [
    "assessor = (\n",
    "    assessor\n",
    "    .rename(replacement_clms, axis = 1)\n",
    "    [feature_clms_clean]\n",
    ")"
   ]
  },
  {
   "cell_type": "code",
   "execution_count": null,
   "metadata": {},
   "outputs": [],
   "source": [
    "vc = assessor.INT_WALL_1_DESCRIP.value_counts()\n",
    "assessor.INT_WALL_1_DESCRIP.apply(lambda x: vc.loc[x] if type(x) == str else np.NaN)"
   ]
  },
  {
   "cell_type": "code",
   "execution_count": null,
   "metadata": {},
   "outputs": [],
   "source": [
    "assessor.sort_values('IMPROVE_VAL', ascending=False).drop_duplicates(subset = ['MBL'])"
   ]
  },
  {
   "cell_type": "code",
   "execution_count": null,
   "metadata": {},
   "outputs": [],
   "source": [
    "assessor.to_csv('../data/assessor_clean.csv')"
   ]
  }
 ],
 "metadata": {
  "kernelspec": {
   "display_name": "Python 3",
   "language": "python",
   "name": "python3"
  },
  "language_info": {
   "codemirror_mode": {
    "name": "ipython",
    "version": 3
   },
   "file_extension": ".py",
   "mimetype": "text/x-python",
   "name": "python",
   "nbconvert_exporter": "python",
   "pygments_lexer": "ipython3",
   "version": "3.6.6"
  }
 },
 "nbformat": 4,
 "nbformat_minor": 2
}
