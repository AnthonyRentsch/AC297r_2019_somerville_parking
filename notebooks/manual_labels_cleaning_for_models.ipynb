{
 "cells": [
  {
   "cell_type": "code",
   "execution_count": 1,
   "metadata": {
    "collapsed": true
   },
   "outputs": [],
   "source": [
    "import pandas as pd\n",
    "import matplotlib.pyplot as plt"
   ]
  },
  {
   "cell_type": "code",
   "execution_count": 2,
   "metadata": {},
   "outputs": [],
   "source": [
    "# read in the file downloaded from google drive where we manually labelled\n",
    "sample = pd.read_csv('../data/training/new_sample_111219.csv', index_col= 0)\n",
    "# get rid of commas\n",
    "sample['ADDR_NUM'] = sample['ADDR_NUM'].replace(',', '', regex=True)\n",
    "# one off fix for this crazy address\n",
    "sample.loc[sample.ADDR_NUM == '43717', 'ADDR_NUM'] = '9-9'"
   ]
  },
  {
   "cell_type": "code",
   "execution_count": 3,
   "metadata": {},
   "outputs": [],
   "source": [
    "## removing this one bc it exists in gsv not in aerial\n",
    "sample.drop(sample[sample.ADDR_NUM == '429'].index, inplace = True)"
   ]
  },
  {
   "cell_type": "code",
   "execution_count": 4,
   "metadata": {},
   "outputs": [
    {
     "data": {
      "text/html": [
       "<div>\n",
       "<style scoped>\n",
       "    .dataframe tbody tr th:only-of-type {\n",
       "        vertical-align: middle;\n",
       "    }\n",
       "\n",
       "    .dataframe tbody tr th {\n",
       "        vertical-align: top;\n",
       "    }\n",
       "\n",
       "    .dataframe thead th {\n",
       "        text-align: right;\n",
       "    }\n",
       "</style>\n",
       "<table border=\"1\" class=\"dataframe\">\n",
       "  <thead>\n",
       "    <tr style=\"text-align: right;\">\n",
       "      <th></th>\n",
       "      <th>ADDR_NUM</th>\n",
       "      <th>FULL_STR</th>\n",
       "      <th>MBL</th>\n",
       "      <th>ADDRESS_FOR_STREET_VIEW</th>\n",
       "      <th>AERIAL_Driveway</th>\n",
       "      <th>GSV_Driveway</th>\n",
       "    </tr>\n",
       "  </thead>\n",
       "  <tbody>\n",
       "    <tr>\n",
       "      <th>8041</th>\n",
       "      <td>5</td>\n",
       "      <td>DOUGLAS AVE</td>\n",
       "      <td>47-G-17</td>\n",
       "      <td>5  DOUGLAS AVE, SOMERVILLE, MA</td>\n",
       "      <td>2.0</td>\n",
       "      <td>0.0</td>\n",
       "    </tr>\n",
       "    <tr>\n",
       "      <th>6488</th>\n",
       "      <td>6</td>\n",
       "      <td>HILLSIDE CIR</td>\n",
       "      <td>38-A-47</td>\n",
       "      <td>6  HILLSIDE CIR, SOMERVILLE, MA</td>\n",
       "      <td>1.0</td>\n",
       "      <td>2.0</td>\n",
       "    </tr>\n",
       "    <tr>\n",
       "      <th>7629</th>\n",
       "      <td>8</td>\n",
       "      <td>BELMONT PL</td>\n",
       "      <td>44-A-48</td>\n",
       "      <td>8  BELMONT PL, SOMERVILLE, MA</td>\n",
       "      <td>2.0</td>\n",
       "      <td>2.0</td>\n",
       "    </tr>\n",
       "    <tr>\n",
       "      <th>7669</th>\n",
       "      <td>8</td>\n",
       "      <td>DRESDEN CIR</td>\n",
       "      <td>25-A-13</td>\n",
       "      <td>8  DRESDEN CIR, SOMERVILLE, MA</td>\n",
       "      <td>2.0</td>\n",
       "      <td>2.0</td>\n",
       "    </tr>\n",
       "    <tr>\n",
       "      <th>7706</th>\n",
       "      <td>8</td>\n",
       "      <td>HAWTHORNE ST</td>\n",
       "      <td>25-D-16</td>\n",
       "      <td>8  HAWTHORNE ST, SOMERVILLE, MA</td>\n",
       "      <td>0.0</td>\n",
       "      <td>2.0</td>\n",
       "    </tr>\n",
       "  </tbody>\n",
       "</table>\n",
       "</div>"
      ],
      "text/plain": [
       "     ADDR_NUM      FULL_STR      MBL          ADDRESS_FOR_STREET_VIEW  \\\n",
       "8041        5   DOUGLAS AVE  47-G-17   5  DOUGLAS AVE, SOMERVILLE, MA   \n",
       "6488        6  HILLSIDE CIR  38-A-47  6  HILLSIDE CIR, SOMERVILLE, MA   \n",
       "7629        8    BELMONT PL  44-A-48    8  BELMONT PL, SOMERVILLE, MA   \n",
       "7669        8   DRESDEN CIR  25-A-13   8  DRESDEN CIR, SOMERVILLE, MA   \n",
       "7706        8  HAWTHORNE ST  25-D-16  8  HAWTHORNE ST, SOMERVILLE, MA   \n",
       "\n",
       "      AERIAL_Driveway  GSV_Driveway  \n",
       "8041              2.0           0.0  \n",
       "6488              1.0           2.0  \n",
       "7629              2.0           2.0  \n",
       "7669              2.0           2.0  \n",
       "7706              0.0           2.0  "
      ]
     },
     "execution_count": 4,
     "metadata": {},
     "output_type": "execute_result"
    }
   ],
   "source": [
    "sample.head()"
   ]
  },
  {
   "cell_type": "code",
   "execution_count": 5,
   "metadata": {
    "collapsed": true
   },
   "outputs": [],
   "source": [
    "sample = sample[~sample.AERIAL_Driveway.isna()]\n",
    "sample = sample[~sample.GSV_Driveway.isna()]"
   ]
  },
  {
   "cell_type": "markdown",
   "metadata": {},
   "source": [
    "### labels\n",
    "- 0 = no driveway \n",
    "- 1 = driveway \n",
    "- 2 = unsure"
   ]
  },
  {
   "cell_type": "code",
   "execution_count": 6,
   "metadata": {
    "collapsed": true
   },
   "outputs": [],
   "source": [
    "def overall_labelling(y):\n",
    "    y1, y2= y[0], y[1]\n",
    "    \n",
    "    ### ALL CERTAIN ###\n",
    "    # both have driveways\n",
    "    if y1 ==1.0 and y2 == 1.0:\n",
    "        return 1.0\n",
    "    # both don't have driveways\n",
    "    if y1 == 0.0 and y2 == 0.0:\n",
    "        return 0.0\n",
    "    # aerial has driveway, streetview doesn't have driveway\n",
    "    if y1 ==1.0 and y2 == 0.0:\n",
    "        return 0.9\n",
    "    # aerial doesn't have driveway, streetview has driveway\n",
    "    if y1 == 0.0 and y2 == 1.0:\n",
    "        return 0.9\n",
    "    \n",
    "    ### ALL UNCERTAIN ###\n",
    "    if y1 == 2.0 and y2 == 2.0:\n",
    "        return 0.5\n",
    "    \n",
    "    ### ONE UNCERTAIN ###\n",
    "\n",
    "    if y1 == 2.0 and y2 != 2.0:\n",
    "        if y2 == 1.0:\n",
    "            return 0.9\n",
    "        if y2 == 0.0:\n",
    "            return 0.1\n",
    "    \n",
    "    if y1 != 2.0 and y2 == 2.0:\n",
    "        if y1 == 1.0:\n",
    "            return 0.9\n",
    "        if y1 == 0.0:\n",
    "            return 0.1"
   ]
  },
  {
   "cell_type": "code",
   "execution_count": 7,
   "metadata": {
    "collapsed": true
   },
   "outputs": [],
   "source": [
    "sample['final_label'] = sample[['AERIAL_Driveway','GSV_Driveway']].apply(overall_labelling, axis = 1)"
   ]
  },
  {
   "cell_type": "code",
   "execution_count": 8,
   "metadata": {
    "collapsed": true
   },
   "outputs": [],
   "source": [
    "sample['aerial_filename'] = sample['ADDR_NUM'] + '_' + sample['FULL_STR'].str.replace(' ', '_') + '_aerial.png'\n",
    "sample['gsv_filename'] = sample['ADDR_NUM'] + '_' + sample['FULL_STR'].str.replace(' ', '_') + '.jpg'"
   ]
  },
  {
   "cell_type": "code",
   "execution_count": 9,
   "metadata": {},
   "outputs": [
    {
     "data": {
      "text/html": [
       "<div>\n",
       "<style scoped>\n",
       "    .dataframe tbody tr th:only-of-type {\n",
       "        vertical-align: middle;\n",
       "    }\n",
       "\n",
       "    .dataframe tbody tr th {\n",
       "        vertical-align: top;\n",
       "    }\n",
       "\n",
       "    .dataframe thead th {\n",
       "        text-align: right;\n",
       "    }\n",
       "</style>\n",
       "<table border=\"1\" class=\"dataframe\">\n",
       "  <thead>\n",
       "    <tr style=\"text-align: right;\">\n",
       "      <th></th>\n",
       "      <th>ADDR_NUM</th>\n",
       "      <th>FULL_STR</th>\n",
       "      <th>MBL</th>\n",
       "      <th>ADDRESS_FOR_STREET_VIEW</th>\n",
       "      <th>AERIAL_Driveway</th>\n",
       "      <th>GSV_Driveway</th>\n",
       "      <th>final_label</th>\n",
       "      <th>aerial_filename</th>\n",
       "      <th>gsv_filename</th>\n",
       "    </tr>\n",
       "  </thead>\n",
       "  <tbody>\n",
       "    <tr>\n",
       "      <th>8041</th>\n",
       "      <td>5</td>\n",
       "      <td>DOUGLAS AVE</td>\n",
       "      <td>47-G-17</td>\n",
       "      <td>5  DOUGLAS AVE, SOMERVILLE, MA</td>\n",
       "      <td>2.0</td>\n",
       "      <td>0.0</td>\n",
       "      <td>0.1</td>\n",
       "      <td>5_DOUGLAS_AVE_aerial.png</td>\n",
       "      <td>5_DOUGLAS_AVE.jpg</td>\n",
       "    </tr>\n",
       "    <tr>\n",
       "      <th>6488</th>\n",
       "      <td>6</td>\n",
       "      <td>HILLSIDE CIR</td>\n",
       "      <td>38-A-47</td>\n",
       "      <td>6  HILLSIDE CIR, SOMERVILLE, MA</td>\n",
       "      <td>1.0</td>\n",
       "      <td>2.0</td>\n",
       "      <td>0.9</td>\n",
       "      <td>6_HILLSIDE_CIR_aerial.png</td>\n",
       "      <td>6_HILLSIDE_CIR.jpg</td>\n",
       "    </tr>\n",
       "    <tr>\n",
       "      <th>7629</th>\n",
       "      <td>8</td>\n",
       "      <td>BELMONT PL</td>\n",
       "      <td>44-A-48</td>\n",
       "      <td>8  BELMONT PL, SOMERVILLE, MA</td>\n",
       "      <td>2.0</td>\n",
       "      <td>2.0</td>\n",
       "      <td>0.5</td>\n",
       "      <td>8_BELMONT_PL_aerial.png</td>\n",
       "      <td>8_BELMONT_PL.jpg</td>\n",
       "    </tr>\n",
       "    <tr>\n",
       "      <th>7669</th>\n",
       "      <td>8</td>\n",
       "      <td>DRESDEN CIR</td>\n",
       "      <td>25-A-13</td>\n",
       "      <td>8  DRESDEN CIR, SOMERVILLE, MA</td>\n",
       "      <td>2.0</td>\n",
       "      <td>2.0</td>\n",
       "      <td>0.5</td>\n",
       "      <td>8_DRESDEN_CIR_aerial.png</td>\n",
       "      <td>8_DRESDEN_CIR.jpg</td>\n",
       "    </tr>\n",
       "    <tr>\n",
       "      <th>7706</th>\n",
       "      <td>8</td>\n",
       "      <td>HAWTHORNE ST</td>\n",
       "      <td>25-D-16</td>\n",
       "      <td>8  HAWTHORNE ST, SOMERVILLE, MA</td>\n",
       "      <td>0.0</td>\n",
       "      <td>2.0</td>\n",
       "      <td>0.1</td>\n",
       "      <td>8_HAWTHORNE_ST_aerial.png</td>\n",
       "      <td>8_HAWTHORNE_ST.jpg</td>\n",
       "    </tr>\n",
       "  </tbody>\n",
       "</table>\n",
       "</div>"
      ],
      "text/plain": [
       "     ADDR_NUM      FULL_STR      MBL          ADDRESS_FOR_STREET_VIEW  \\\n",
       "8041        5   DOUGLAS AVE  47-G-17   5  DOUGLAS AVE, SOMERVILLE, MA   \n",
       "6488        6  HILLSIDE CIR  38-A-47  6  HILLSIDE CIR, SOMERVILLE, MA   \n",
       "7629        8    BELMONT PL  44-A-48    8  BELMONT PL, SOMERVILLE, MA   \n",
       "7669        8   DRESDEN CIR  25-A-13   8  DRESDEN CIR, SOMERVILLE, MA   \n",
       "7706        8  HAWTHORNE ST  25-D-16  8  HAWTHORNE ST, SOMERVILLE, MA   \n",
       "\n",
       "      AERIAL_Driveway  GSV_Driveway  final_label            aerial_filename  \\\n",
       "8041              2.0           0.0          0.1   5_DOUGLAS_AVE_aerial.png   \n",
       "6488              1.0           2.0          0.9  6_HILLSIDE_CIR_aerial.png   \n",
       "7629              2.0           2.0          0.5    8_BELMONT_PL_aerial.png   \n",
       "7669              2.0           2.0          0.5   8_DRESDEN_CIR_aerial.png   \n",
       "7706              0.0           2.0          0.1  8_HAWTHORNE_ST_aerial.png   \n",
       "\n",
       "            gsv_filename  \n",
       "8041   5_DOUGLAS_AVE.jpg  \n",
       "6488  6_HILLSIDE_CIR.jpg  \n",
       "7629    8_BELMONT_PL.jpg  \n",
       "7669   8_DRESDEN_CIR.jpg  \n",
       "7706  8_HAWTHORNE_ST.jpg  "
      ]
     },
     "execution_count": 9,
     "metadata": {},
     "output_type": "execute_result"
    }
   ],
   "source": [
    "sample.head()"
   ]
  },
  {
   "cell_type": "code",
   "execution_count": 10,
   "metadata": {
    "collapsed": true
   },
   "outputs": [],
   "source": [
    "sample.to_csv('../labels/training_labels_updated_111219.csv', index=False)"
   ]
  },
  {
   "cell_type": "markdown",
   "metadata": {},
   "source": [
    "---"
   ]
  }
 ],
 "metadata": {
  "kernelspec": {
   "display_name": "Python 3",
   "language": "python",
   "name": "python3"
  },
  "language_info": {
   "codemirror_mode": {
    "name": "ipython",
    "version": 3
   },
   "file_extension": ".py",
   "mimetype": "text/x-python",
   "name": "python",
   "nbconvert_exporter": "python",
   "pygments_lexer": "ipython3",
   "version": "3.6.1"
  }
 },
 "nbformat": 4,
 "nbformat_minor": 2
}
