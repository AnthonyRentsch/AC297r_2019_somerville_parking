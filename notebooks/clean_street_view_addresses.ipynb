{
 "cells": [
  {
   "cell_type": "code",
   "execution_count": null,
   "metadata": {},
   "outputs": [],
   "source": [
    "import sys\n",
    "sys.path.append('../')\n",
    "from src.streetview import save_streetview_image, KEY\n",
    "import pandas as pd\n",
    "import numpy as np\n",
    "import re\n",
    "import time\n",
    "from django.utils import text\n",
    "from os import listdir\n",
    "from os.path import isfile, join"
   ]
  },
  {
   "cell_type": "code",
   "execution_count": null,
   "metadata": {},
   "outputs": [],
   "source": [
    "# df = pd.read_csv('../data/street_view_sample/sample_residences_102219.csv')"
   ]
  },
  {
   "cell_type": "code",
   "execution_count": null,
   "metadata": {},
   "outputs": [],
   "source": [
    "def clean_address(adr, slugify = True):\n",
    "    street_adr = adr.split(',')[0]\n",
    "    fn = re.sub(' +','_',street_adr)\n",
    "    if slugify:\n",
    "        fn = text.slugify(fn)\n",
    "    return fn + '.jpg'"
   ]
  },
  {
   "cell_type": "code",
   "execution_count": null,
   "metadata": {},
   "outputs": [],
   "source": [
    "# for address in df.ADDRESS_FOR_STREET_VIEW:\n",
    "#     filename = f\"../data/street_view_sample/{clean_address(address)}.jpg\"\n",
    "#     save_streetview_image(address, filename)"
   ]
  },
  {
   "cell_type": "markdown",
   "metadata": {},
   "source": [
    "# Clean Data"
   ]
  },
  {
   "cell_type": "code",
   "execution_count": null,
   "metadata": {},
   "outputs": [],
   "source": [
    "df = pd.read_excel('../data/residence_addresses_googlestreetview.xlsx', sheet_name = 3)\n",
    "\n",
    "print(len(df))\n",
    "df = df[['MBL','SITE_ADDR']]\n",
    "\n",
    "df.SITE_ADDR = df.SITE_ADDR.apply(lambda x: x.split('#')[0].strip().replace('  ',' '))\n",
    "\n",
    "df = df.drop_duplicates()\n",
    "\n",
    "print(len(df))\n",
    "\n",
    "address_list = df.groupby('MBL')['SITE_ADDR'].apply(list).reset_index()\n",
    "\n",
    "print(len(address_list))\n",
    "\n",
    "def clean_addr(addr_list):\n",
    "    if len(addr_list) == 0:\n",
    "        return np.nan\n",
    "    elif len(addr_list) == 1:\n",
    "        return addr_list[0]\n",
    "    else:\n",
    "        for addr in addr_list:\n",
    "            if '-' in addr:\n",
    "                return addr\n",
    "            if re.search('\\d \\d', addr):\n",
    "                return re.sub('\\d \\d', lambda x: x.group(0).replace(' ','-'), addr)\n",
    "            else:\n",
    "                return addr_list[0]\n",
    "\n",
    "address_list.SITE_ADDR = (\n",
    "    address_list.SITE_ADDR\n",
    "    .apply(clean_addr)\n",
    "    .apply(lambda x: x + ', Somerville, MA')\n",
    ")\n",
    "\n",
    "print(len(address_list))\n",
    "\n",
    "address_list.to_csv('../data/address_MBL.csv')"
   ]
  },
  {
   "cell_type": "markdown",
   "metadata": {},
   "source": [
    "# get list of addresses to download"
   ]
  },
  {
   "cell_type": "code",
   "execution_count": null,
   "metadata": {},
   "outputs": [],
   "source": [
    "files_already_dowloaded = [f for f in listdir(\"../data/street_view_all/\") \n",
    "                           if isfile(join(\"../data/street_view_all/\", f))]\n",
    "\n",
    "files_already_dowloaded[0]\n",
    "\n",
    "is_row_downloaded_new_names = (\n",
    "    address_list.SITE_ADDR\n",
    "    .apply(clean_address)\n",
    "    .apply(lambda x: x in files_already_dowloaded)\n",
    ")\n",
    "print(sum(is_row_downloaded_new_names))\n",
    "\n",
    "is_row_downloaded_old_names = (\n",
    "    address_list.SITE_ADDR\n",
    "    .apply(lambda x: clean_address(x, slugify = False))\n",
    "    .apply(lambda x: x in files_already_dowloaded)\n",
    ")\n",
    "print(sum(is_row_downloaded_old_names))\n",
    "\n",
    "address_list = address_list[\n",
    "    ~ is_row_downloaded_old_names & ~ is_row_downloaded_new_names\n",
    "]\n",
    "\n",
    "address_list"
   ]
  },
  {
   "cell_type": "markdown",
   "metadata": {},
   "source": [
    "# Download Images"
   ]
  },
  {
   "cell_type": "code",
   "execution_count": null,
   "metadata": {},
   "outputs": [],
   "source": [
    "def check_for_file(dir_path, image_name):\n",
    "    files_already_dowloaded = [f for f in listdir(dir_path) if isfile(join(dir_path, f))]\n",
    "    return image_name in files_already_dowloaded"
   ]
  },
  {
   "cell_type": "code",
   "execution_count": null,
   "metadata": {},
   "outputs": [],
   "source": [
    "for idx, address in enumerate(address_list.SITE_ADDR):\n",
    "    street_view_all = \"../data/street_view_all/\"\n",
    "    image_name = clean_address(address)\n",
    "    filename = street_view_all + image_name\n",
    "    save_streetview_image(address, filename)\n",
    "    \n",
    "    file_exists = (\n",
    "        check_for_file(street_view_all, clean_address(address)) \n",
    "        or check_for_file(street_view_all, clean_address(address, slugify = False))\n",
    "    )\n",
    "    if not file_exists:\n",
    "        break\n",
    "        \n",
    "    if idx % 10 == 0:\n",
    "        print(f\"{idx+1}/{len(address_list)} images downloaded\")"
   ]
  }
 ],
 "metadata": {
  "kernelspec": {
   "display_name": "Python 3",
   "language": "python",
   "name": "python3"
  },
  "language_info": {
   "codemirror_mode": {
    "name": "ipython",
    "version": 3
   },
   "file_extension": ".py",
   "mimetype": "text/x-python",
   "name": "python",
   "nbconvert_exporter": "python",
   "pygments_lexer": "ipython3",
   "version": "3.6.6"
  }
 },
 "nbformat": 4,
 "nbformat_minor": 2
}
