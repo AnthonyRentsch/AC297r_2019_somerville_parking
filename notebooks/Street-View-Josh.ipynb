{
 "cells": [
  {
   "cell_type": "code",
   "execution_count": 7,
   "metadata": {},
   "outputs": [],
   "source": [
    "from src.streetview import save_streetview_image\n",
    "import pandas as pd\n",
    "import re"
   ]
  },
  {
   "cell_type": "code",
   "execution_count": 11,
   "metadata": {},
   "outputs": [],
   "source": [
    "df = pd.read_csv('../data/street_view_sample/sample_residences_102219.csv')\n"
   ]
  },
  {
   "cell_type": "code",
   "execution_count": 18,
   "metadata": {},
   "outputs": [],
   "source": [
    "def clean_address(adr):\n",
    "    street_adr = adr.split(',')[0]\n",
    "    return re.sub(' +','_',street_adr)"
   ]
  },
  {
   "cell_type": "code",
   "execution_count": 21,
   "metadata": {},
   "outputs": [],
   "source": [
    "for address in df.ADDRESS_FOR_STREET_VIEW:\n",
    "    filename = f\"../data/street_view_sample/{clean_address(address)}.jpg\"\n",
    "    save_streetview_image(address, filename)"
   ]
  }
 ],
 "metadata": {
  "kernelspec": {
   "display_name": "somerville",
   "language": "python",
   "name": "somerville"
  },
  "language_info": {
   "codemirror_mode": {
    "name": "ipython",
    "version": 3
   },
   "file_extension": ".py",
   "mimetype": "text/x-python",
   "name": "python",
   "nbconvert_exporter": "python",
   "pygments_lexer": "ipython3",
   "version": "3.6.5"
  }
 },
 "nbformat": 4,
 "nbformat_minor": 2
}
